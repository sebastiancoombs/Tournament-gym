{
 "cells": [
  {
   "cell_type": "code",
   "execution_count": 1,
   "metadata": {},
   "outputs": [
    {
     "name": "stderr",
     "output_type": "stream",
     "text": [
      "/var/folders/jc/lq6pqgbn3dlfs9v5g5x4jc_80000gn/T/ipykernel_12328/2810803039.py:4: TqdmWarning: IProgress not found. Please update jupyter and ipywidgets. See https://ipywidgets.readthedocs.io/en/stable/user_install.html\n",
      "  from tqdm.autonotebook import tqdm\n"
     ]
    }
   ],
   "source": [
    "import pandas as pd\n",
    "import numpy as np\n",
    "import matplotlib.pyplot as plt\n",
    "from tqdm.autonotebook import tqdm\n",
    "from bracketology_rl import Bracket\n",
    "from bracketgym1game import TournamentEnv\n",
    "import warnings\n",
    "import gym\n",
    "import numpy as np\n",
    "from tourney_tools import * \n",
    "warnings.filterwarnings('ignore')\n",
    "from IPython.display import display,clear_output"
   ]
  },
  {
   "cell_type": "code",
   "execution_count": 2,
   "metadata": {},
   "outputs": [],
   "source": [
    "\n",
    "from stable_baselines3 import DQN,DDPG\n",
    "from stable_baselines3.common.noise import NormalActionNoise\n",
    "from stable_baselines3.common.callbacks import ProgressBarCallback\n",
    "from stable_baselines3.common.evaluation import evaluate_policy\n",
    "from stable_baselines3.common.callbacks import StopTrainingOnNoModelImprovement\n",
    "from stable_baselines3.common.monitor import Monitor"
   ]
  },
  {
   "cell_type": "code",
   "execution_count": 3,
   "metadata": {},
   "outputs": [],
   "source": [
    "import tensorboard"
   ]
  },
  {
   "cell_type": "code",
   "execution_count": 4,
   "metadata": {},
   "outputs": [],
   "source": [
    "from pkg_resources import resource_filename\n",
    "filepath = resource_filename('bracketology_rl', 'data/brackets_2022.json')\n",
    "with open(filepath, 'r') as f:\n",
    "    brackets_dict = json.load(f)"
   ]
  },
  {
   "cell_type": "code",
   "execution_count": 5,
   "metadata": {},
   "outputs": [],
   "source": [
    "years = list(range(2003,2019))\n",
    "year=np.random.choice(years)\n",
    "\n",
    "bracket = Bracket(2022)\n",
    "results=bracket.result\n",
    "\n",
    "\n",
    "team_data=pd.read_csv('Process_data/pm_w_names.csv')\n"
   ]
  },
  {
   "cell_type": "code",
   "execution_count": 6,
   "metadata": {},
   "outputs": [
    {
     "name": "stderr",
     "output_type": "stream",
     "text": [
      "Reset! Sim 0 Bracket for year 2022:   0%|          | 0/120000 [00:00<?, ?it/s]"
     ]
    }
   ],
   "source": [
    "env=TournamentEnv(team_data=team_data,verbose=False,season=2022)\n"
   ]
  },
  {
   "cell_type": "code",
   "execution_count": 7,
   "metadata": {},
   "outputs": [
    {
     "name": "stderr",
     "output_type": "stream",
     "text": [
      "Reset! Sim 1 Bracket for year 2011:   0%|          | 1/120000 [00:00<2:26:44, 13.63it/s]"
     ]
    },
    {
     "name": "stdout",
     "output_type": "stream",
     "text": [
      "game: 0\n"
     ]
    },
    {
     "data": {
      "text/plain": [
       "array([ 0.        ,  1.3396323 , -0.2986242 , -0.64434147, -0.44361085,\n",
       "        0.59799117,  0.32564294,  0.08042216, -0.22302395, -1.055259  ,\n",
       "        0.36562905, -0.78026706, -0.7562189 , -0.6178707 , -1.2510682 ,\n",
       "       -0.38069344,  0.        ,  0.17031893,  1.1564311 ,  1.1063443 ,\n",
       "        0.1369939 ,  0.16413718, -0.5944668 ,  0.55392975,  0.79436874,\n",
       "        0.09476367, -0.58890307,  0.25802216, -0.4634057 ,  1.2411865 ,\n",
       "       -0.3804118 , -1.5884998 ,  0.        ,  0.        ,  0.        ,\n",
       "        0.        ,  0.        ,  0.        ,  0.        ,  0.        ,\n",
       "        0.        ,  0.        ,  0.        ,  0.        ,  0.        ,\n",
       "        0.        ,  0.        ,  0.        ,  0.        ,  0.        ,\n",
       "        0.        ,  0.        ,  0.        ,  0.        ,  0.        ,\n",
       "        0.        ,  0.        ,  0.        ,  0.        ,  0.        ,\n",
       "        1.        ,  0.        ,  0.        ,  0.        ,  0.        ,\n",
       "        1.        ,  0.        ,  0.        ,  0.        ,  0.        ,\n",
       "        0.        ,  0.        ,  0.        ,  0.        ,  0.        ,\n",
       "        0.        ,  0.        ,  0.        ,  0.        ,  0.        ,\n",
       "        1.        ,  0.        ,  0.        ,  0.        ,  0.        ,\n",
       "        0.        ,  0.        ,  0.        ,  0.        ,  0.        ,\n",
       "        0.        ,  0.        ,  0.        ,  0.        ,  0.        ,\n",
       "        0.        ,  0.        ,  1.        ,  0.        ,  0.        ,\n",
       "        0.        ,  0.        ,  0.        ,  0.        ,  0.        ,\n",
       "        0.        ,  0.        ,  0.        ,  0.        ,  0.        ,\n",
       "        0.        ,  0.        ,  0.        ], dtype=float32)"
      ]
     },
     "execution_count": 7,
     "metadata": {},
     "output_type": "execute_result"
    }
   ],
   "source": [
    "done=False\n",
    "obs=env.reset()\n",
    "obs"
   ]
  },
  {
   "cell_type": "code",
   "execution_count": 8,
   "metadata": {},
   "outputs": [
    {
     "name": "stderr",
     "output_type": "stream",
     "text": [
      "Reset! Sim 1 Bracket for year 2011:   0%|          | 34/120000 [00:00<11:07, 179.82it/s]"
     ]
    },
    {
     "name": "stdout",
     "output_type": "stream",
     "text": [
      "{'round': 1, 'game_num': 1, 'score': 1, 'total_score': 1}\n",
      "{'round': 1, 'game_num': 2, 'score': 1, 'total_score': 2}\n",
      "{'round': 1, 'game_num': 3, 'score': 1, 'total_score': 3}\n",
      "{'round': 1, 'game_num': 4, 'score': 1, 'total_score': 4}\n",
      "{'round': 1, 'game_num': 5, 'score': 1, 'total_score': 5}\n",
      "{'round': 1, 'game_num': 6, 'score': 1, 'total_score': 6}\n",
      "{'round': 1, 'game_num': 7, 'score': 1, 'total_score': 7}\n",
      "{'round': 1, 'game_num': 8, 'score': 1, 'total_score': 8}\n",
      "{'round': 1, 'game_num': 9, 'score': 1, 'total_score': 9}\n",
      "{'round': 1, 'game_num': 10, 'score': 1, 'total_score': 10}\n",
      "{'round': 1, 'game_num': 11, 'score': 1, 'total_score': 11}\n",
      "{'round': 1, 'game_num': 12, 'score': 1, 'total_score': 12}\n",
      "{'round': 1, 'game_num': 13, 'score': 1, 'total_score': 13}\n",
      "{'round': 1, 'game_num': 14, 'score': 1, 'total_score': 14}\n",
      "{'round': 1, 'game_num': 15, 'score': 1, 'total_score': 15}\n",
      "{'round': 1, 'game_num': 16, 'score': 1, 'total_score': 16}\n",
      "{'round': 1, 'game_num': 17, 'score': 1, 'total_score': 17}\n",
      "{'round': 1, 'game_num': 18, 'score': 1, 'total_score': 18}\n",
      "{'round': 1, 'game_num': 19, 'score': 1, 'total_score': 19}\n",
      "{'round': 1, 'game_num': 20, 'score': 1, 'total_score': 20}\n",
      "{'round': 1, 'game_num': 21, 'score': 1, 'total_score': 21}\n",
      "{'round': 1, 'game_num': 22, 'score': 1, 'total_score': 22}\n",
      "{'round': 1, 'game_num': 23, 'score': 1, 'total_score': 23}\n",
      "{'round': 1, 'game_num': 24, 'score': 1, 'total_score': 24}\n",
      "{'round': 1, 'game_num': 25, 'score': 1, 'total_score': 25}\n",
      "{'round': 1, 'game_num': 26, 'score': 1, 'total_score': 26}\n",
      "{'round': 1, 'game_num': 27, 'score': 1, 'total_score': 27}\n",
      "{'round': 1, 'game_num': 28, 'score': 1, 'total_score': 28}\n",
      "{'round': 1, 'game_num': 29, 'score': 1, 'total_score': 29}\n",
      "{'round': 1, 'game_num': 30, 'score': 1, 'total_score': 30}\n",
      "{'round': 1, 'game_num': 31, 'score': 1, 'total_score': 31}\n",
      "{'round': 2, 'game_num': 32, 'score': 1, 'total_score': 32}\n",
      "{'round': 2, 'game_num': 33, 'score': 2, 'total_score': 34}\n",
      "{'round': 2, 'game_num': 34, 'score': 2, 'total_score': 36}\n",
      "{'round': 2, 'game_num': 35, 'score': 0, 'total_score': 36}\n",
      "{'round': 2, 'game_num': 36, 'score': 0, 'total_score': 36}\n",
      "{'round': 2, 'game_num': 37, 'score': 0, 'total_score': 36}\n",
      "{'round': 2, 'game_num': 38, 'score': 0, 'total_score': 36}\n",
      "{'round': 2, 'game_num': 39, 'score': 0, 'total_score': 36}\n",
      "{'round': 2, 'game_num': 40, 'score': 2, 'total_score': 38}\n",
      "{'round': 2, 'game_num': 41, 'score': 0, 'total_score': 38}\n",
      "{'round': 2, 'game_num': 42, 'score': 0, 'total_score': 38}\n",
      "{'round': 2, 'game_num': 43, 'score': 0, 'total_score': 38}\n",
      "{'round': 2, 'game_num': 44, 'score': 0, 'total_score': 38}\n",
      "{'round': 2, 'game_num': 45, 'score': 0, 'total_score': 38}\n",
      "{'round': 2, 'game_num': 46, 'score': 2, 'total_score': 40}\n",
      "{'round': 2, 'game_num': 47, 'score': 0, 'total_score': 40}\n",
      "{'round': 3, 'game_num': 48, 'score': 0, 'total_score': 40}\n",
      "{'round': 3, 'game_num': 49, 'score': 0, 'total_score': 40}\n",
      "{'round': 3, 'game_num': 50, 'score': 0, 'total_score': 40}\n",
      "{'round': 3, 'game_num': 51, 'score': 0, 'total_score': 40}\n",
      "{'round': 3, 'game_num': 52, 'score': 0, 'total_score': 40}\n",
      "{'round': 3, 'game_num': 53, 'score': 0, 'total_score': 40}\n",
      "{'round': 3, 'game_num': 54, 'score': 0, 'total_score': 40}\n",
      "{'round': 3, 'game_num': 55, 'score': 0, 'total_score': 40}\n",
      "{'round': 4, 'game_num': 56, 'score': 0, 'total_score': 40}\n",
      "{'round': 4, 'game_num': 57, 'score': 0, 'total_score': 40}\n",
      "{'round': 4, 'game_num': 58, 'score': 0, 'total_score': 40}\n",
      "{'round': 4, 'game_num': 59, 'score': 0, 'total_score': 40}\n"
     ]
    },
    {
     "name": "stderr",
     "output_type": "stream",
     "text": [
      "Reset! Sim 1 Bracket for year 2011:   0%|          | 64/120000 [00:00<08:51, 225.76it/s]"
     ]
    },
    {
     "name": "stdout",
     "output_type": "stream",
     "text": [
      "{'round': 5, 'game_num': 60, 'score': 0, 'total_score': 40}\n",
      "{'round': 5, 'game_num': 61, 'score': 0, 'total_score': 40}\n",
      "{'round': 6, 'game_num': 62, 'score': 0, 'total_score': 40}\n",
      "{'round': 7, 'game_num': 63, 'score': 0, 'total_score': 40}\n"
     ]
    },
    {
     "name": "stderr",
     "output_type": "stream",
     "text": [
      "Reset! Sim 1 Bracket for year 2011:   0%|          | 64/120000 [00:20<08:51, 225.76it/s]"
     ]
    }
   ],
   "source": [
    "while not done:\n",
    "\n",
    "    action=np.random.rand(env.action_space.shape[0])\n",
    "    obs,score,done,info=env.step(action)\n",
    "    print(info)\n"
   ]
  },
  {
   "cell_type": "code",
   "execution_count": null,
   "metadata": {},
   "outputs": [],
   "source": [
    "## tensor board_log\n",
    "tensorboard_log = \"Logs/\"\n",
    "# The noise objects for DDPG\n",
    "n_actions = env.action_space.shape[-1]\n",
    "action_noise = NormalActionNoise(mean=np.zeros(n_actions), sigma=0.1 * np.ones(n_actions))\n",
    "# callback=ProgressBarCallback()\n",
    "model = DDPG(\"MlpPolicy\", env, \n",
    "                        action_noise=action_noise,\n",
    "                        gamma=.99,\n",
    "                        learning_rate=.01,\n",
    "                        gradient_steps=-1, \n",
    "                        verbose=0,\n",
    "                        tensorboard_log=tensorboard_log,\n",
    "                        )\n",
    "# model.predict(observation)"
   ]
  },
  {
   "cell_type": "code",
   "execution_count": null,
   "metadata": {},
   "outputs": [],
   "source": [
    "obs=env.reset()\n",
    "done=False\n",
    "while not done:\n",
    "    action=model.predict(obs)[0]\n",
    "\n",
    "    obs,score, done,info=env.step(action)\n",
    "    print(info)"
   ]
  },
  {
   "cell_type": "code",
   "execution_count": null,
   "metadata": {},
   "outputs": [],
   "source": [
    "timesteps=50000000\n",
    "try:\n",
    "    model.learn(total_timesteps=timesteps, log_interval=10,reset_num_timesteps=True,tb_log_name='Tourney_bot',)\n",
    "except KeyboardInterrupt:\n",
    "    pass"
   ]
  },
  {
   "cell_type": "code",
   "execution_count": null,
   "metadata": {},
   "outputs": [],
   "source": [
    "mean_reward, std_reward = evaluate_policy(model, model.get_env(), deterministic=False, n_eval_episodes=100)\n",
    "print(f\"mean_reward:{mean_reward:.2f} +/- {std_reward:.2f}\")"
   ]
  },
  {
   "cell_type": "code",
   "execution_count": null,
   "metadata": {},
   "outputs": [],
   "source": [
    "273/6"
   ]
  },
  {
   "cell_type": "code",
   "execution_count": null,
   "metadata": {},
   "outputs": [],
   "source": []
  }
 ],
 "metadata": {
  "kernelspec": {
   "display_name": "Python 3.9.13",
   "language": "python",
   "name": "python3"
  },
  "language_info": {
   "codemirror_mode": {
    "name": "ipython",
    "version": 3
   },
   "file_extension": ".py",
   "mimetype": "text/x-python",
   "name": "python",
   "nbconvert_exporter": "python",
   "pygments_lexer": "ipython3",
   "version": "3.9.13"
  },
  "orig_nbformat": 4,
  "vscode": {
   "interpreter": {
    "hash": "c02ce77fc9854b14bbf737e9ff58b840b53c17f549f3baecfcf54a3b4065de24"
   }
  }
 },
 "nbformat": 4,
 "nbformat_minor": 2
}
