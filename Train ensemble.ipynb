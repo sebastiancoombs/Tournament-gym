{
 "cells": [
  {
   "cell_type": "code",
   "execution_count": 15,
   "metadata": {},
   "outputs": [],
   "source": [
    "import pandas as pd\n",
    "import numpy as np\n",
    "import matplotlib.pyplot as plt\n",
    "\n",
    "from bracketology_rl import Bracket\n",
    "from bracketgym1game import TournamentEnv\n",
    "import warnings\n",
    "import gym\n",
    "import numpy as np\n",
    "from tourney_tools import * \n",
    "warnings.filterwarnings('ignore')\n",
    "import multiprocessing as mp\n",
    "import traceback\n",
    "from imitation.data.rollout import TrajectoryAccumulator\n",
    "from imitation.data import serialize\n",
    "from imitation.data.rollout import rollout_stats\n"
   ]
  },
  {
   "cell_type": "code",
   "execution_count": 16,
   "metadata": {},
   "outputs": [],
   "source": [
    "from stable_baselines3 import PPO,A2C,SAC,DQN,DDPG\n",
    "from sb3_contrib import RecurrentPPO,ARS,QRDQN\n",
    "from stable_baselines3.common.noise import NormalActionNoise\n",
    "from stable_baselines3.common.vec_env import DummyVecEnv, SubprocVecEnv\n",
    "from stable_baselines3.common.evaluation import evaluate_policy\n",
    "from stable_baselines3.common.monitor import Monitor\n",
    "from stable_baselines3.common.callbacks import EvalCallback, StopTrainingOnNoModelImprovement\n",
    "from stable_baselines3.common.env_util import make_vec_env\n",
    "import torch\n",
    "from torch.utils.data import DataLoader, Dataset\n"
   ]
  },
  {
   "cell_type": "code",
   "execution_count": 17,
   "metadata": {},
   "outputs": [],
   "source": [
    "import tensorboard\n",
    "## tensor board_log\n",
    "tensorboard_log = \"Logs/\""
   ]
  },
  {
   "cell_type": "code",
   "execution_count": 18,
   "metadata": {},
   "outputs": [
    {
     "data": {
      "text/plain": [
       "[{'Seed': 1, 'Team': 'Kansas'}]"
      ]
     },
     "execution_count": 18,
     "metadata": {},
     "output_type": "execute_result"
    }
   ],
   "source": [
    "results[round]"
   ]
  },
  {
   "cell_type": "code",
   "execution_count": 19,
   "metadata": {},
   "outputs": [
    {
     "data": {
      "application/vnd.jupyter.widget-view+json": {
       "model_id": "4978c26286cd4867bd56fde971fa76db",
       "version_major": 2,
       "version_minor": 0
      },
      "text/plain": [
       "  0%|          | 0/100000 [00:00<?, ?it/s]"
      ]
     },
     "metadata": {},
     "output_type": "display_data"
    },
    {
     "ename": "TypeError",
     "evalue": "list indices must be integers or slices, not str",
     "output_type": "error",
     "traceback": [
      "\u001b[1;31m---------------------------------------------------------------------------\u001b[0m",
      "\u001b[1;31mTypeError\u001b[0m                                 Traceback (most recent call last)",
      "Cell \u001b[1;32mIn[19], line 7\u001b[0m\n\u001b[0;32m      4\u001b[0m bracket \u001b[38;5;241m=\u001b[39m Bracket(\u001b[38;5;241m2022\u001b[39m)\n\u001b[0;32m      6\u001b[0m team_data\u001b[38;5;241m=\u001b[39mpd\u001b[38;5;241m.\u001b[39mread_csv(\u001b[38;5;124m'\u001b[39m\u001b[38;5;124mProcess_data/pm_w_names.csv\u001b[39m\u001b[38;5;124m'\u001b[39m)\n\u001b[1;32m----> 7\u001b[0m env\u001b[38;5;241m=\u001b[39mTournamentEnv(team_data\u001b[38;5;241m=\u001b[39mteam_data,weight_scores\u001b[38;5;241m=\u001b[39m\u001b[38;5;28;01mTrue\u001b[39;00m,discrete\u001b[38;5;241m=\u001b[39m\u001b[38;5;28;01mFalse\u001b[39;00m,loading_bar\u001b[38;5;241m=\u001b[39m\u001b[38;5;28;01mTrue\u001b[39;00m)\n",
      "File \u001b[1;32mc:\\Users\\sebas\\IDrive-Sync\\MetaLocalLLC\\RL-Bots\\Tournament-gym\\bracketgym1game.py:80\u001b[0m, in \u001b[0;36mTournamentEnv.__init__\u001b[1;34m(self, team_data, season, discrete, loading_bar, weight_scores, verbose, bust_stop, num_simulations)\u001b[0m\n\u001b[0;32m     78\u001b[0m \u001b[38;5;28mself\u001b[39m\u001b[38;5;241m.\u001b[39mloading_bar\u001b[38;5;241m=\u001b[39mloading_bar\n\u001b[0;32m     79\u001b[0m \u001b[38;5;66;03m## get mappings for the step-> round, step->score, and round-> data frame index\u001b[39;00m\n\u001b[1;32m---> 80\u001b[0m result_dict,round_step_dir,round_index\u001b[38;5;241m=\u001b[39m\u001b[38;5;28mself\u001b[39m\u001b[38;5;241m.\u001b[39mget_step_dict(\u001b[38;5;28mself\u001b[39m\u001b[38;5;241m.\u001b[39mbracket)\n\u001b[0;32m     81\u001b[0m score_dict\u001b[38;5;241m=\u001b[39m\u001b[38;5;28mself\u001b[39m\u001b[38;5;241m.\u001b[39mget_scoring_dict(\u001b[38;5;28mself\u001b[39m\u001b[38;5;241m.\u001b[39mbracket)\n\u001b[0;32m     83\u001b[0m \u001b[38;5;28mself\u001b[39m\u001b[38;5;241m.\u001b[39mscore_dict\u001b[38;5;241m=\u001b[39mscore_dict\n",
      "File \u001b[1;32mc:\\Users\\sebas\\IDrive-Sync\\MetaLocalLLC\\RL-Bots\\Tournament-gym\\bracketgym1game.py:179\u001b[0m, in \u001b[0;36mTournamentEnv.get_step_dict\u001b[1;34m(self, bracket)\u001b[0m\n\u001b[0;32m    176\u001b[0m last_i\u001b[38;5;241m+\u001b[39m\u001b[38;5;241m=\u001b[39mn_games\n\u001b[0;32m    178\u001b[0m \u001b[38;5;28;01mif\u001b[39;00m \u001b[38;5;28mround\u001b[39m\u001b[38;5;241m==\u001b[39m\u001b[38;5;124m'\u001b[39m\u001b[38;5;124mwinner\u001b[39m\u001b[38;5;124m'\u001b[39m:\n\u001b[1;32m--> 179\u001b[0m     step_dir[last_i]\u001b[38;5;241m=\u001b[39m[results[\u001b[38;5;28mround\u001b[39m][\u001b[38;5;124m'\u001b[39m\u001b[38;5;124mTeam\u001b[39m\u001b[38;5;124m'\u001b[39m]]\n\u001b[0;32m    180\u001b[0m     round_step_dir[last_i]\u001b[38;5;241m=\u001b[39mr\n\u001b[0;32m    182\u001b[0m \u001b[38;5;28;01melse\u001b[39;00m:\n",
      "\u001b[1;31mTypeError\u001b[0m: list indices must be integers or slices, not str"
     ]
    }
   ],
   "source": [
    "years = list(range(2003,2019))\n",
    "year=years[1]\n",
    "\n",
    "bracket = Bracket(2022)\n",
    "\n",
    "team_data=pd.read_csv('Process_data/pm_w_names.csv')\n",
    "env=TournamentEnv(team_data=team_data,weight_scores=True,discrete=False,loading_bar=True)\n"
   ]
  },
  {
   "cell_type": "code",
   "execution_count": 20,
   "metadata": {},
   "outputs": [
    {
     "data": {
      "text/plain": [
       "{'first': [{'Seed': 1, 'Team': 'Arizona'},\n",
       "  {'Seed': 1, 'Team': 'Baylor'},\n",
       "  {'Seed': 1, 'Team': 'Gonzaga'},\n",
       "  {'Seed': 1, 'Team': 'Kansas'},\n",
       "  {'Seed': 2, 'Team': 'Auburn'},\n",
       "  {'Seed': 2, 'Team': 'Duke'},\n",
       "  {'Seed': 2, 'Team': 'Kentucky'},\n",
       "  {'Seed': 2, 'Team': 'Villanova'},\n",
       "  {'Seed': 3, 'Team': 'Purdue'},\n",
       "  {'Seed': 3, 'Team': 'Tennessee'},\n",
       "  {'Seed': 3, 'Team': 'Texas Tech'},\n",
       "  {'Seed': 3, 'Team': 'Wisconsin'},\n",
       "  {'Seed': 4, 'Team': 'Arkansas'},\n",
       "  {'Seed': 4, 'Team': 'Illinois'},\n",
       "  {'Seed': 4, 'Team': 'Providence'},\n",
       "  {'Seed': 4, 'Team': 'UCLA'},\n",
       "  {'Seed': 5, 'Team': 'Connecticut'},\n",
       "  {'Seed': 5, 'Team': 'Houston'},\n",
       "  {'Seed': 5, 'Team': 'Iowa'},\n",
       "  {'Seed': 5, 'Team': \"St Mary's CA\"},\n",
       "  {'Seed': 6, 'Team': 'Alabama'},\n",
       "  {'Seed': 6, 'Team': 'Colorado St'},\n",
       "  {'Seed': 6, 'Team': 'LSU'},\n",
       "  {'Seed': 6, 'Team': 'Texas'},\n",
       "  {'Seed': 7, 'Team': 'Michigan St'},\n",
       "  {'Seed': 7, 'Team': 'Murray St'},\n",
       "  {'Seed': 7, 'Team': 'Ohio St'},\n",
       "  {'Seed': 7, 'Team': 'USC'},\n",
       "  {'Seed': 8, 'Team': 'Boise St'},\n",
       "  {'Seed': 8, 'Team': 'North Carolina'},\n",
       "  {'Seed': 8, 'Team': 'San Diego St'},\n",
       "  {'Seed': 8, 'Team': 'Seton Hall'},\n",
       "  {'Seed': 9, 'Team': 'Creighton'},\n",
       "  {'Seed': 9, 'Team': 'Marquette'},\n",
       "  {'Seed': 9, 'Team': 'Memphis'},\n",
       "  {'Seed': 9, 'Team': 'TCU'},\n",
       "  {'Seed': 10, 'Team': 'Davidson'},\n",
       "  {'Seed': 10, 'Team': 'Loyola-Chicago'},\n",
       "  {'Seed': 10, 'Team': 'Miami FL'},\n",
       "  {'Seed': 10, 'Team': 'San Francisco'},\n",
       "  {'Seed': 11, 'Team': 'Iowa St'},\n",
       "  {'Seed': 11, 'Team': 'Michigan'},\n",
       "  {'Seed': 11, 'Team': 'Notre Dame'},\n",
       "  {'Seed': 11, 'Team': 'Virginia Tech'},\n",
       "  {'Seed': 12, 'Team': 'Indiana'},\n",
       "  {'Seed': 12, 'Team': 'New Mexico St'},\n",
       "  {'Seed': 12, 'Team': 'Richmond'},\n",
       "  {'Seed': 12, 'Team': 'UAB'},\n",
       "  {'Seed': 13, 'Team': 'Akron'},\n",
       "  {'Seed': 13, 'Team': 'Chattanooga'},\n",
       "  {'Seed': 13, 'Team': 'S Dakota St'},\n",
       "  {'Seed': 13, 'Team': 'Vermont'},\n",
       "  {'Seed': 14, 'Team': 'Colgate'},\n",
       "  {'Seed': 14, 'Team': 'Longwood'},\n",
       "  {'Seed': 14, 'Team': 'Montana St'},\n",
       "  {'Seed': 14, 'Team': 'Yale'},\n",
       "  {'Seed': 15, 'Team': 'CS Fullerton'},\n",
       "  {'Seed': 15, 'Team': 'Delaware'},\n",
       "  {'Seed': 15, 'Team': 'Jacksonville St'},\n",
       "  {'Seed': 15, 'Team': \"St Peter's\"},\n",
       "  {'Seed': 16, 'Team': 'Georgia St'},\n",
       "  {'Seed': 16, 'Team': 'Norfolk St'},\n",
       "  {'Seed': 16, 'Team': 'TX Southern'},\n",
       "  {'Seed': 16, 'Team': 'Wright St'}],\n",
       " 'second': [{'Seed': 1, 'Team': 'Arizona'},\n",
       "  {'Seed': 1, 'Team': 'Baylor'},\n",
       "  {'Seed': 1, 'Team': 'Gonzaga'},\n",
       "  {'Seed': 1, 'Team': 'Kansas'},\n",
       "  {'Seed': 2, 'Team': 'Auburn'},\n",
       "  {'Seed': 2, 'Team': 'Duke'},\n",
       "  {'Seed': 2, 'Team': 'Villanova'},\n",
       "  {'Seed': 3, 'Team': 'Purdue'},\n",
       "  {'Seed': 3, 'Team': 'Tennessee'},\n",
       "  {'Seed': 3, 'Team': 'Texas Tech'},\n",
       "  {'Seed': 3, 'Team': 'Wisconsin'},\n",
       "  {'Seed': 4, 'Team': 'Arkansas'},\n",
       "  {'Seed': 4, 'Team': 'Illinois'},\n",
       "  {'Seed': 4, 'Team': 'Providence'},\n",
       "  {'Seed': 4, 'Team': 'UCLA'},\n",
       "  {'Seed': 5, 'Team': 'Houston'},\n",
       "  {'Seed': 5, 'Team': \"St Mary's CA\"},\n",
       "  {'Seed': 6, 'Team': 'Texas'},\n",
       "  {'Seed': 7, 'Team': 'Michigan St'},\n",
       "  {'Seed': 7, 'Team': 'Murray St'},\n",
       "  {'Seed': 7, 'Team': 'Ohio St'},\n",
       "  {'Seed': 8, 'Team': 'North Carolina'},\n",
       "  {'Seed': 9, 'Team': 'Creighton'},\n",
       "  {'Seed': 9, 'Team': 'Memphis'},\n",
       "  {'Seed': 9, 'Team': 'TCU'},\n",
       "  {'Seed': 10, 'Team': 'Miami FL'},\n",
       "  {'Seed': 11, 'Team': 'Iowa St'},\n",
       "  {'Seed': 11, 'Team': 'Michigan'},\n",
       "  {'Seed': 11, 'Team': 'Notre Dame'},\n",
       "  {'Seed': 12, 'Team': 'New Mexico St'},\n",
       "  {'Seed': 12, 'Team': 'Richmond'},\n",
       "  {'Seed': 15, 'Team': \"St Peter's\"}],\n",
       " 'sweet16': [{'Seed': 1, 'Team': 'Arizona'},\n",
       "  {'Seed': 1, 'Team': 'Gonzaga'},\n",
       "  {'Seed': 1, 'Team': 'Kansas'},\n",
       "  {'Seed': 2, 'Team': 'Duke'},\n",
       "  {'Seed': 2, 'Team': 'Villanova'},\n",
       "  {'Seed': 3, 'Team': 'Purdue'},\n",
       "  {'Seed': 3, 'Team': 'Texas Tech'},\n",
       "  {'Seed': 4, 'Team': 'Arkansas'},\n",
       "  {'Seed': 4, 'Team': 'Providence'},\n",
       "  {'Seed': 4, 'Team': 'UCLA'},\n",
       "  {'Seed': 5, 'Team': 'Houston'},\n",
       "  {'Seed': 8, 'Team': 'North Carolina'},\n",
       "  {'Seed': 10, 'Team': 'Miami FL'},\n",
       "  {'Seed': 11, 'Team': 'Iowa St'},\n",
       "  {'Seed': 11, 'Team': 'Michigan'},\n",
       "  {'Seed': 15, 'Team': \"St Peter's\"}],\n",
       " 'elite8': [{'Seed': 1, 'Team': 'Kansas'},\n",
       "  {'Seed': 2, 'Team': 'Duke'},\n",
       "  {'Seed': 2, 'Team': 'Villanova'},\n",
       "  {'Seed': 4, 'Team': 'Arkansas'},\n",
       "  {'Seed': 5, 'Team': 'Houston'},\n",
       "  {'Seed': 8, 'Team': 'North Carolina'},\n",
       "  {'Seed': 10, 'Team': 'Miami FL'},\n",
       "  {'Seed': 15, 'Team': \"St Peter's\"}],\n",
       " 'final4': [{'Seed': 1, 'Team': 'Kansas'},\n",
       "  {'Seed': 2, 'Team': 'Duke'},\n",
       "  {'Seed': 2, 'Team': 'Villanova'},\n",
       "  {'Seed': 8, 'Team': 'North Carolina'}],\n",
       " 'championship': [{'Seed': 1, 'Team': 'Kansas'},\n",
       "  {'Seed': 8, 'Team': 'North Carolina'}],\n",
       " 'winner': [{'Seed': 1, 'Team': 'Kansas'}]}"
      ]
     },
     "execution_count": 20,
     "metadata": {},
     "output_type": "execute_result"
    }
   ],
   "source": [
    "bracket.result"
   ]
  },
  {
   "cell_type": "code",
   "execution_count": null,
   "metadata": {},
   "outputs": [
    {
     "data": {
      "application/vnd.jupyter.widget-view+json": {
       "model_id": "1b5c02da5eec4622bc88aab51ad63db3",
       "version_major": 2,
       "version_minor": 0
      },
      "text/plain": [
       "  0%|          | 0/100000 [00:00<?, ?it/s]"
      ]
     },
     "metadata": {},
     "output_type": "display_data"
    }
   ],
   "source": [
    "env=TournamentEnv(team_data=team_data,weight_scores=True,discrete=False,loading_bar=True)\n",
    "ensemble=[DQN,ARS,PPO]\n"
   ]
  },
  {
   "cell_type": "code",
   "execution_count": null,
   "metadata": {},
   "outputs": [],
   "source": [
    "\n",
    "def make_ars_model(model,env):\n",
    "    policies=[p for p in model.policy_aliases]\n",
    "    pol=policies[0]\n",
    "    print(policies,policies[0])\n",
    "    model = model(policy=pol, env=env, verbose=0,\n",
    "    learning_rate= .001,\n",
    "    # gamma=  0.99,\n",
    "\n",
    "    # exploration_fraction=1,\n",
    "    tensorboard_log='Logs/')\n",
    "\n",
    "    return model\n",
    "\n"
   ]
  },
  {
   "cell_type": "code",
   "execution_count": null,
   "metadata": {},
   "outputs": [],
   "source": [
    "env=TournamentEnv(team_data=team_data,weight_scores=True,discrete=True,loading_bar=True)\n",
    "models=[]\n",
    "# for model in ensembleQs:\n",
    "#     models.append(make_Q_model(model,env) )\n",
    "for model in ensemble:\n",
    "    models.append(make_ars_model(model,env) )\n",
    "\n"
   ]
  },
  {
   "cell_type": "markdown",
   "metadata": {},
   "source": [
    "## Train the Models ->2019"
   ]
  },
  {
   "cell_type": "code",
   "execution_count": null,
   "metadata": {},
   "outputs": [],
   "source": [
    "best_params=[]\n",
    "bar=tqdm(range(len(models)))\n",
    "\n",
    "for i,model in enumerate(models):\n",
    "    bar.update(1)\n",
    "    try:\n",
    "        stop_train_callback = StopTrainingOnNoModelImprovement(max_no_improvement_evals=100, min_evals=100, verbose=0)\n",
    "        eval_callback = EvalCallback(model.env, eval_freq=20, callback_after_eval=stop_train_callback, verbose=0)\n",
    "        model.learn(5000,callback=eval_callback)\n",
    "        \n",
    "    except KeyboardInterrupt:\n",
    "\n",
    "        continue"
   ]
  },
  {
   "cell_type": "markdown",
   "metadata": {},
   "source": []
  },
  {
   "cell_type": "markdown",
   "metadata": {},
   "source": [
    "## test the ensembled models on 2022"
   ]
  },
  {
   "cell_type": "code",
   "execution_count": null,
   "metadata": {},
   "outputs": [],
   "source": [
    "# models[0]dir\n",
    "models[0].collect_rollouts()\n",
    "# models[0]"
   ]
  },
  {
   "cell_type": "code",
   "execution_count": null,
   "metadata": {},
   "outputs": [],
   "source": [
    "env=TournamentEnv(team_data=team_data,discrete=False,weight_scores=False,loading_bar=True,bust_stop=False)\n",
    "## test as an ensemble\n",
    "scores=[]\n",
    "\n",
    "for model in models:\n",
    "    model.set_env(env)\n"
   ]
  },
  {
   "cell_type": "code",
   "execution_count": null,
   "metadata": {},
   "outputs": [],
   "source": [
    "## test one 2022\n",
    "obs = env.reset(season=2022,weight_scores=False,track_wins=True)\n",
    "done = False\n",
    "while not done:\n",
    "    actions = [model.predict(obs,deterministic =True)[0] for model in models]\n",
    "    action=np.mean(actions, axis=0)\n",
    "\n",
    "    obs, reward, done, info = env.step(action)\n",
    "display(info['total_score'],info['num_correct'])    \n",
    "env.render(score=f\"Ensembled ARS Correct:{info['num_correct']} {info['total_score']}\")\n",
    "\n"
   ]
  },
  {
   "cell_type": "code",
   "execution_count": null,
   "metadata": {},
   "outputs": [],
   "source": [
    "## test individually\n",
    "scores=[]\n",
    "max_scores=[]\n",
    "model_scores={}\n",
    "dfs={}\n",
    "for i,model in enumerate(models):\n",
    "\n",
    "    obs = env.reset(season=2022,weight_scores=False,track_wins=False)\n",
    "    done = False\n",
    "    while not done:\n",
    "        action = model.predict(obs,deterministic=False)[0]\n",
    "\n",
    "        obs, reward, done, info = env.step(action)\n",
    "    total_score=info['total_score']\n",
    "    num_correct=info['num_correct']\n",
    "    scores.append(total_score) \n",
    "    dfs[total_score]=env.action_data\n",
    "    model_scores[total_score]=model\n",
    "    name=model.__repr__().split(' ')[0].split('.')[-1]\n",
    "    env.render(score=f'{name} {i} Correct:{num_correct} Score:{total_score}')\n",
    "display(info['total_score'],info['num_correct'])    \n"
   ]
  },
  {
   "cell_type": "code",
   "execution_count": null,
   "metadata": {},
   "outputs": [],
   "source": [
    "## pick out the best Models\n",
    "scores=sorted(scores)\n",
    "topscore=scores[-1]\n",
    "secondscore=scores[-3]\n",
    "print(scores)\n",
    "top_model=model_scores[topscore]\n",
    "second_model=model_scores[secondscore]\n"
   ]
  },
  {
   "cell_type": "markdown",
   "metadata": {},
   "source": [
    "## predict This year"
   ]
  },
  {
   "cell_type": "code",
   "execution_count": null,
   "metadata": {},
   "outputs": [],
   "source": [
    "\n",
    "obs = env.reset(season=2023,weight_scores=False,track_wins=True)\n",
    "done = False\n",
    "while not done:\n",
    "    actions = [model.predict(obs,deterministic =False)[0] for model in models]\n",
    "    action=np.mean(actions, axis=0)\n",
    "\n",
    "    obs, reward, done, info = env.step(action)\n",
    "\n",
    "env.render(score=f\"Ensembled ARS Prediction\")"
   ]
  },
  {
   "cell_type": "code",
   "execution_count": null,
   "metadata": {},
   "outputs": [],
   "source": [
    "\n",
    "obs = env.reset(season=2023,weight_scores=False,track_wins=False)\n",
    "done = False\n",
    "while not done:\n",
    "    action = top_model.predict(obs,deterministic=False)[0]\n",
    "    obs, reward, done, info = env.step(action)\n",
    "name=top_model.__repr__().split(' ')[0].split('.')[-1]\n",
    "env.render(score=f'Top {name}  Pred')"
   ]
  },
  {
   "cell_type": "code",
   "execution_count": null,
   "metadata": {},
   "outputs": [],
   "source": [
    "obs = env.reset(season=2023,weight_scores=False,track_wins=False)\n",
    "done = False\n",
    "while not done:\n",
    "    action = second_model.predict(obs,deterministic=False)[0]\n",
    "    obs, reward, done, info = env.step(action)\n",
    "name=second_model.__repr__().split(' ')[0].split('.')[-1]\n",
    "env.render(score=f'Second Best {name} Pred')"
   ]
  },
  {
   "cell_type": "code",
   "execution_count": null,
   "metadata": {},
   "outputs": [],
   "source": [
    "# for i,model in enumerate(models):\n",
    "\n",
    "#     obs = env.reset(season=2023,weight_scores=False,track_wins=False)\n",
    "#     done = False\n",
    "#     while not done:\n",
    "#         action = model.predict(obs,deterministic=True)[0]\n",
    "\n",
    "#         obs, reward, done, info = env.step(action)\n",
    "#     env.render(score=f'Model {i} Pred')\n"
   ]
  },
  {
   "cell_type": "markdown",
   "metadata": {},
   "source": [
    "jgfulfgu"
   ]
  }
 ],
 "metadata": {
  "kernelspec": {
   "display_name": "Python 3.9.13",
   "language": "python",
   "name": "python3"
  },
  "language_info": {
   "codemirror_mode": {
    "name": "ipython",
    "version": 3
   },
   "file_extension": ".py",
   "mimetype": "text/x-python",
   "name": "python",
   "nbconvert_exporter": "python",
   "pygments_lexer": "ipython3",
   "version": "3.11.5"
  },
  "orig_nbformat": 4,
  "vscode": {
   "interpreter": {
    "hash": "c02ce77fc9854b14bbf737e9ff58b840b53c17f549f3baecfcf54a3b4065de24"
   }
  }
 },
 "nbformat": 4,
 "nbformat_minor": 2
}
