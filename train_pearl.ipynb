{
 "cells": [
  {
   "cell_type": "code",
   "execution_count": 1,
   "metadata": {},
   "outputs": [],
   "source": [
    "from datasets import load_dataset\n",
    "\n",
    "import torch\n",
    "import numpy as np\n",
    "import pandas as pd\n",
    "import random\n",
    "\n",
    "import matplotlib.pyplot as plt\n",
    "from pprint import pprint\n",
    "from tournamentgym import TournamentEnv"
   ]
  },
  {
   "cell_type": "code",
   "execution_count": 2,
   "metadata": {},
   "outputs": [],
   "source": [
    "from Pearl.pearl.pearl_agent import PearlAgent\n",
    "from Pearl.pearl.action_representation_modules.one_hot_action_representation_module import (\n",
    "    OneHotActionTensorRepresentationModule,\n",
    ")\n",
    "from Pearl.pearl.policy_learners.sequential_decision_making.deep_q_learning import (\n",
    "    DeepQLearning,\n",
    ")\n",
    "from Pearl.pearl.replay_buffers.sequential_decision_making.fifo_off_policy_replay_buffer import (\n",
    "    FIFOOffPolicyReplayBuffer,\n",
    ")\n",
    "from Pearl.pearl.utils.instantiations.environments.gym_environment import GymEnvironment\n"
   ]
  },
  {
   "cell_type": "code",
   "execution_count": null,
   "metadata": {},
   "outputs": [],
   "source": []
  },
  {
   "cell_type": "code",
   "execution_count": 3,
   "metadata": {},
   "outputs": [],
   "source": [
    "from Pearl.pearl.neural_networks.sequential_decision_making.q_value_networks import VanillaQValueNetwork\n",
    "from Pearl.pearl.utils.functional_utils.experimentation.set_seed import set_seed\n",
    "from Pearl.pearl.policy_learners.sequential_decision_making.deep_q_learning import DeepQLearning\n",
    "from Pearl.pearl.policy_learners.sequential_decision_making.double_dqn import DoubleDQN\n",
    "from Pearl.pearl.replay_buffers.sequential_decision_making.fifo_off_policy_replay_buffer import FIFOOffPolicyReplayBuffer\n",
    "from Pearl.pearl.utils.functional_utils.train_and_eval.online_learning import online_learning\n",
    "from Pearl.pearl.pearl_agent import PearlAgent\n",
    "from Pearl.pearl.utils.instantiations.environments.gym_environment import GymEnvironment\n",
    "from Pearl.pearl.action_representation_modules.one_hot_action_representation_module import (\n",
    "    OneHotActionTensorRepresentationModule,\n",
    ")"
   ]
  },
  {
   "cell_type": "code",
   "execution_count": 4,
   "metadata": {},
   "outputs": [
    {
     "data": {
      "text/plain": [
       "<pearl.utils.instantiations.spaces.discrete_action.DiscreteActionSpace at 0x2a30b92a810>"
      ]
     },
     "execution_count": 4,
     "metadata": {},
     "output_type": "execute_result"
    }
   ],
   "source": [
    "\n",
    "team_data=pd.read_csv('Process_data/W_pm_w_names.csv')\n",
    "env=TournamentEnv(season=2022,team_stats=team_data,discrete=True,shuffle=False,exclude_seasons=[2024],reward_on_round_end=True,loading_bar=False)\n",
    "env=GymEnvironment(env)\n",
    "num_actions = env.action_space.n\n",
    "# VanillaQValueNetwork class uses a simple mlp for approximating the Q values.\n",
    "#  - Input dimension of the mlp = (state_dim + action_dim)\n",
    "#  - Size of the intermediate layers are specified as list of `hidden_dims`.\n",
    "hidden_dims = [64, 64]\n",
    "env.action_space"
   ]
  },
  {
   "cell_type": "code",
   "execution_count": 5,
   "metadata": {},
   "outputs": [],
   "source": [
    "# Example 2: Set up a simple Double DQN agent\n",
    "# Set up a different instance of a Q value network.\n",
    "\n",
    "# We will be using a one hot representation for representing actions. So take action_dim = num_actions.\n",
    "\n",
    "Q_value_network = VanillaQValueNetwork(state_dim=env.observation_space.shape[0],  # dimension of the state representation\n",
    "                                       action_dim=num_actions,                    # dimension of the action representation\n",
    "                                       hidden_dims=hidden_dims,                   # dimensions of the intermediate layers\n",
    "                                       output_dim=1)         "
   ]
  },
  {
   "cell_type": "code",
   "execution_count": 6,
   "metadata": {},
   "outputs": [],
   "source": [
    "# Instead of using the 'network_type' argument, use the 'network_instance' argument.\n",
    "# Pass Q_value_network as the `network_instance` to the `DeepQLearning` policy learner.\n",
    "DQNagent = PearlAgent(\n",
    "    policy_learner=DeepQLearning(\n",
    "        state_dim=env.observation_space.shape[0],\n",
    "        action_space=env.action_space,\n",
    "        batch_size=64,\n",
    "        training_rounds=10,\n",
    "        soft_update_tau=0.0001,\n",
    "\n",
    "        network_instance=Q_value_network, # pass an instance of Q value network to the policy learner.\n",
    "        action_representation_module=OneHotActionTensorRepresentationModule(\n",
    "            max_number_actions=num_actions\n",
    "        ),\n",
    "    ),\n",
    "    replay_buffer=FIFOOffPolicyReplayBuffer(10_000),\n",
    ")"
   ]
  },
  {
   "cell_type": "code",
   "execution_count": 7,
   "metadata": {},
   "outputs": [
    {
     "ename": "RuntimeError",
     "evalue": "mat1 and mat2 shapes cannot be multiplied (2x2 and 36x64)",
     "output_type": "error",
     "traceback": [
      "\u001b[1;31m---------------------------------------------------------------------------\u001b[0m",
      "\u001b[1;31mRuntimeError\u001b[0m                              Traceback (most recent call last)",
      "Cell \u001b[1;32mIn[7], line 1\u001b[0m\n\u001b[1;32m----> 1\u001b[0m info \u001b[38;5;241m=\u001b[39m online_learning(\n\u001b[0;32m      2\u001b[0m     agent\u001b[38;5;241m=\u001b[39mDQNagent,\n\u001b[0;32m      3\u001b[0m     env\u001b[38;5;241m=\u001b[39menv,\n\u001b[0;32m      4\u001b[0m     number_of_episodes\u001b[38;5;241m=\u001b[39m\u001b[38;5;241m200\u001b[39m,\n\u001b[0;32m      5\u001b[0m     print_every_x_episodes\u001b[38;5;241m=\u001b[39m\u001b[38;5;241m10\u001b[39m,   \u001b[38;5;66;03m# print returns after every 10 episdoes\u001b[39;00m\n\u001b[0;32m      6\u001b[0m     learn_after_episode\u001b[38;5;241m=\u001b[39m\u001b[38;5;28;01mTrue\u001b[39;00m,    \u001b[38;5;66;03m# instead of updating after every environment interaction, Q networks are updates at the end of each episode\u001b[39;00m\n\u001b[0;32m      7\u001b[0m     seed\u001b[38;5;241m=\u001b[39m\u001b[38;5;241m0\u001b[39m\n\u001b[0;32m      8\u001b[0m )\n\u001b[0;32m     10\u001b[0m torch\u001b[38;5;241m.\u001b[39msave(info[\u001b[38;5;124m\"\u001b[39m\u001b[38;5;124mreturn\u001b[39m\u001b[38;5;124m\"\u001b[39m], \u001b[38;5;124m\"\u001b[39m\u001b[38;5;124mDQN-return.pt\u001b[39m\u001b[38;5;124m\"\u001b[39m)   \u001b[38;5;66;03m# info[\"return\"] refers to the episodic returns\u001b[39;00m\n\u001b[0;32m     11\u001b[0m plt\u001b[38;5;241m.\u001b[39mplot(np\u001b[38;5;241m.\u001b[39marange(\u001b[38;5;28mlen\u001b[39m(info[\u001b[38;5;124m\"\u001b[39m\u001b[38;5;124mreturn\u001b[39m\u001b[38;5;124m\"\u001b[39m])), info[\u001b[38;5;124m\"\u001b[39m\u001b[38;5;124mreturn\u001b[39m\u001b[38;5;124m\"\u001b[39m], label\u001b[38;5;241m=\u001b[39m\u001b[38;5;124m\"\u001b[39m\u001b[38;5;124mDQN\u001b[39m\u001b[38;5;124m\"\u001b[39m)\n",
      "File \u001b[1;32mc:\\Users\\sebas\\IDrive-Sync\\MetaLocalLLC\\RL-Bots\\Tournament-gym\\Pearl\\pearl\\utils\\functional_utils\\train_and_eval\\online_learning.py:113\u001b[0m, in \u001b[0;36monline_learning\u001b[1;34m(agent, env, number_of_episodes, number_of_steps, learn_after_episode, learn_every_k_steps, print_every_x_episodes, print_every_x_steps, seed, record_period)\u001b[0m\n\u001b[0;32m    111\u001b[0m     \u001b[38;5;28;01mbreak\u001b[39;00m\n\u001b[0;32m    112\u001b[0m old_total_steps \u001b[38;5;241m=\u001b[39m total_steps\n\u001b[1;32m--> 113\u001b[0m episode_info, episode_total_steps \u001b[38;5;241m=\u001b[39m run_episode(\n\u001b[0;32m    114\u001b[0m     agent,\n\u001b[0;32m    115\u001b[0m     env,\n\u001b[0;32m    116\u001b[0m     learn\u001b[38;5;241m=\u001b[39m\u001b[38;5;28;01mTrue\u001b[39;00m,\n\u001b[0;32m    117\u001b[0m     exploit\u001b[38;5;241m=\u001b[39m\u001b[38;5;28;01mFalse\u001b[39;00m,\n\u001b[0;32m    118\u001b[0m     learn_after_episode\u001b[38;5;241m=\u001b[39mlearn_after_episode,\n\u001b[0;32m    119\u001b[0m     learn_every_k_steps\u001b[38;5;241m=\u001b[39mlearn_every_k_steps,\n\u001b[0;32m    120\u001b[0m     total_steps\u001b[38;5;241m=\u001b[39mold_total_steps,\n\u001b[0;32m    121\u001b[0m     seed\u001b[38;5;241m=\u001b[39mseed,\n\u001b[0;32m    122\u001b[0m )\n\u001b[0;32m    123\u001b[0m \u001b[38;5;28;01mif\u001b[39;00m number_of_steps \u001b[38;5;129;01mis\u001b[39;00m \u001b[38;5;129;01mnot\u001b[39;00m \u001b[38;5;28;01mNone\u001b[39;00m \u001b[38;5;129;01mand\u001b[39;00m episode_total_steps \u001b[38;5;241m>\u001b[39m record_period:\n\u001b[0;32m    124\u001b[0m     \u001b[38;5;28mprint\u001b[39m(\n\u001b[0;32m    125\u001b[0m         \u001b[38;5;124mf\u001b[39m\u001b[38;5;124m\"\u001b[39m\u001b[38;5;124mAn episode is longer than the record_period: episode length \u001b[39m\u001b[38;5;132;01m{\u001b[39;00mepisode_total_steps\u001b[38;5;132;01m}\u001b[39;00m\u001b[38;5;124m\"\u001b[39m\n\u001b[0;32m    126\u001b[0m         \u001b[38;5;124mf\u001b[39m\u001b[38;5;124m\"\u001b[39m\u001b[38;5;124m, record_period \u001b[39m\u001b[38;5;132;01m{\u001b[39;00mrecord_period\u001b[38;5;132;01m}\u001b[39;00m\u001b[38;5;124m. Try using a larger record_period.\u001b[39m\u001b[38;5;124m\"\u001b[39m\n\u001b[0;32m    127\u001b[0m     )\n",
      "File \u001b[1;32mc:\\Users\\sebas\\IDrive-Sync\\MetaLocalLLC\\RL-Bots\\Tournament-gym\\Pearl\\pearl\\utils\\functional_utils\\train_and_eval\\online_learning.py:265\u001b[0m, in \u001b[0;36mrun_episode\u001b[1;34m(agent, env, learn, exploit, learn_after_episode, learn_every_k_steps, total_steps, seed)\u001b[0m\n\u001b[0;32m    263\u001b[0m num_risky_sa \u001b[38;5;241m=\u001b[39m \u001b[38;5;241m0\u001b[39m\n\u001b[0;32m    264\u001b[0m \u001b[38;5;28;01mwhile\u001b[39;00m \u001b[38;5;129;01mnot\u001b[39;00m done:\n\u001b[1;32m--> 265\u001b[0m     action \u001b[38;5;241m=\u001b[39m agent\u001b[38;5;241m.\u001b[39mact(exploit\u001b[38;5;241m=\u001b[39mexploit)\n\u001b[0;32m    266\u001b[0m     action \u001b[38;5;241m=\u001b[39m (\n\u001b[0;32m    267\u001b[0m         action\u001b[38;5;241m.\u001b[39mcpu() \u001b[38;5;28;01mif\u001b[39;00m \u001b[38;5;28misinstance\u001b[39m(action, torch\u001b[38;5;241m.\u001b[39mTensor) \u001b[38;5;28;01melse\u001b[39;00m action\n\u001b[0;32m    268\u001b[0m     )  \u001b[38;5;66;03m# action can be int sometimes\u001b[39;00m\n\u001b[0;32m    269\u001b[0m     action_result \u001b[38;5;241m=\u001b[39m env\u001b[38;5;241m.\u001b[39mstep(action)\n",
      "File \u001b[1;32mc:\\Users\\sebas\\IDrive-Sync\\MetaLocalLLC\\RL-Bots\\Tournament-gym\\Pearl\\pearl\\pearl_agent.py:157\u001b[0m, in \u001b[0;36mPearlAgent.act\u001b[1;34m(self, exploit)\u001b[0m\n\u001b[0;32m    154\u001b[0m     \u001b[38;5;28;01massert\u001b[39;00m \u001b[38;5;28misinstance\u001b[39m(safe_action_space, DiscreteActionSpace)\n\u001b[0;32m    155\u001b[0m     safe_action_space\u001b[38;5;241m.\u001b[39mto(\u001b[38;5;28mself\u001b[39m\u001b[38;5;241m.\u001b[39mdevice)\n\u001b[1;32m--> 157\u001b[0m action \u001b[38;5;241m=\u001b[39m \u001b[38;5;28mself\u001b[39m\u001b[38;5;241m.\u001b[39mpolicy_learner\u001b[38;5;241m.\u001b[39mact(\n\u001b[0;32m    158\u001b[0m     subjective_state_to_be_used, safe_action_space, exploit\u001b[38;5;241m=\u001b[39mexploit  \u001b[38;5;66;03m# pyre-fixme[6]\u001b[39;00m\n\u001b[0;32m    159\u001b[0m )\n\u001b[0;32m    161\u001b[0m \u001b[38;5;28;01mif\u001b[39;00m \u001b[38;5;28misinstance\u001b[39m(safe_action_space, DiscreteActionSpace):\n\u001b[0;32m    162\u001b[0m     \u001b[38;5;28mself\u001b[39m\u001b[38;5;241m.\u001b[39m_latest_action \u001b[38;5;241m=\u001b[39m safe_action_space\u001b[38;5;241m.\u001b[39mactions_batch[\u001b[38;5;28mint\u001b[39m(action\u001b[38;5;241m.\u001b[39mitem())]\n",
      "File \u001b[1;32m~\\IDrive-Sync\\MetaLocalLLC\\RL-Bots\\Tournament-gym\\Pearl\\pearl\\policy_learners\\sequential_decision_making\\deep_td_learning.py:220\u001b[0m, in \u001b[0;36mDeepTDLearning.act\u001b[1;34m(self, subjective_state, available_action_space, exploit)\u001b[0m\n\u001b[0;32m    215\u001b[0m actions \u001b[38;5;241m=\u001b[39m \u001b[38;5;28mself\u001b[39m\u001b[38;5;241m.\u001b[39m_action_representation_module(\n\u001b[0;32m    216\u001b[0m     available_action_space\u001b[38;5;241m.\u001b[39mactions_batch\u001b[38;5;241m.\u001b[39mto(states_repeated)\n\u001b[0;32m    217\u001b[0m )\n\u001b[0;32m    218\u001b[0m \u001b[38;5;66;03m# (action_space_size, action_dim)\u001b[39;00m\n\u001b[1;32m--> 220\u001b[0m q_values \u001b[38;5;241m=\u001b[39m \u001b[38;5;28mself\u001b[39m\u001b[38;5;241m.\u001b[39m_Q\u001b[38;5;241m.\u001b[39mget_q_values(states_repeated, actions)\n\u001b[0;32m    221\u001b[0m \u001b[38;5;66;03m# this does a forward pass since all avaialble\u001b[39;00m\n\u001b[0;32m    222\u001b[0m \u001b[38;5;66;03m# actions are already stacked together\u001b[39;00m\n\u001b[0;32m    224\u001b[0m exploit_action \u001b[38;5;241m=\u001b[39m torch\u001b[38;5;241m.\u001b[39margmax(q_values)\u001b[38;5;241m.\u001b[39mview((\u001b[38;5;241m-\u001b[39m\u001b[38;5;241m1\u001b[39m))\n",
      "File \u001b[1;32mc:\\Users\\sebas\\IDrive-Sync\\MetaLocalLLC\\RL-Bots\\Tournament-gym\\Pearl\\pearl\\neural_networks\\sequential_decision_making\\q_value_networks.py:155\u001b[0m, in \u001b[0;36mVanillaQValueNetwork.get_q_values\u001b[1;34m(self, state_batch, action_batch, curr_available_actions_batch)\u001b[0m\n\u001b[0;32m    148\u001b[0m \u001b[38;5;28;01mdef\u001b[39;00m \u001b[38;5;21mget_q_values\u001b[39m(\n\u001b[0;32m    149\u001b[0m     \u001b[38;5;28mself\u001b[39m,\n\u001b[0;32m    150\u001b[0m     state_batch: Tensor,\n\u001b[0;32m    151\u001b[0m     action_batch: Tensor,\n\u001b[0;32m    152\u001b[0m     curr_available_actions_batch: Optional[Tensor] \u001b[38;5;241m=\u001b[39m \u001b[38;5;28;01mNone\u001b[39;00m,\n\u001b[0;32m    153\u001b[0m ) \u001b[38;5;241m-\u001b[39m\u001b[38;5;241m>\u001b[39m Tensor:\n\u001b[0;32m    154\u001b[0m     x \u001b[38;5;241m=\u001b[39m torch\u001b[38;5;241m.\u001b[39mcat([state_batch, action_batch], dim\u001b[38;5;241m=\u001b[39m\u001b[38;5;241m-\u001b[39m\u001b[38;5;241m1\u001b[39m)\n\u001b[1;32m--> 155\u001b[0m     \u001b[38;5;28;01mreturn\u001b[39;00m \u001b[38;5;28mself\u001b[39m\u001b[38;5;241m.\u001b[39mforward(x)\u001b[38;5;241m.\u001b[39mview(\u001b[38;5;241m-\u001b[39m\u001b[38;5;241m1\u001b[39m)\n",
      "File \u001b[1;32mc:\\Users\\sebas\\IDrive-Sync\\MetaLocalLLC\\RL-Bots\\Tournament-gym\\Pearl\\pearl\\neural_networks\\sequential_decision_making\\q_value_networks.py:146\u001b[0m, in \u001b[0;36mVanillaQValueNetwork.forward\u001b[1;34m(self, x)\u001b[0m\n\u001b[0;32m    145\u001b[0m \u001b[38;5;28;01mdef\u001b[39;00m \u001b[38;5;21mforward\u001b[39m(\u001b[38;5;28mself\u001b[39m, x: Tensor) \u001b[38;5;241m-\u001b[39m\u001b[38;5;241m>\u001b[39m Tensor:\n\u001b[1;32m--> 146\u001b[0m     \u001b[38;5;28;01mreturn\u001b[39;00m \u001b[38;5;28mself\u001b[39m\u001b[38;5;241m.\u001b[39m_model(x)\n",
      "File \u001b[1;32mc:\\Users\\sebas\\anaconda3\\Lib\\site-packages\\torch\\nn\\modules\\module.py:1511\u001b[0m, in \u001b[0;36mModule._wrapped_call_impl\u001b[1;34m(self, *args, **kwargs)\u001b[0m\n\u001b[0;32m   1509\u001b[0m     \u001b[38;5;28;01mreturn\u001b[39;00m \u001b[38;5;28mself\u001b[39m\u001b[38;5;241m.\u001b[39m_compiled_call_impl(\u001b[38;5;241m*\u001b[39margs, \u001b[38;5;241m*\u001b[39m\u001b[38;5;241m*\u001b[39mkwargs)  \u001b[38;5;66;03m# type: ignore[misc]\u001b[39;00m\n\u001b[0;32m   1510\u001b[0m \u001b[38;5;28;01melse\u001b[39;00m:\n\u001b[1;32m-> 1511\u001b[0m     \u001b[38;5;28;01mreturn\u001b[39;00m \u001b[38;5;28mself\u001b[39m\u001b[38;5;241m.\u001b[39m_call_impl(\u001b[38;5;241m*\u001b[39margs, \u001b[38;5;241m*\u001b[39m\u001b[38;5;241m*\u001b[39mkwargs)\n",
      "File \u001b[1;32mc:\\Users\\sebas\\anaconda3\\Lib\\site-packages\\torch\\nn\\modules\\module.py:1520\u001b[0m, in \u001b[0;36mModule._call_impl\u001b[1;34m(self, *args, **kwargs)\u001b[0m\n\u001b[0;32m   1515\u001b[0m \u001b[38;5;66;03m# If we don't have any hooks, we want to skip the rest of the logic in\u001b[39;00m\n\u001b[0;32m   1516\u001b[0m \u001b[38;5;66;03m# this function, and just call forward.\u001b[39;00m\n\u001b[0;32m   1517\u001b[0m \u001b[38;5;28;01mif\u001b[39;00m \u001b[38;5;129;01mnot\u001b[39;00m (\u001b[38;5;28mself\u001b[39m\u001b[38;5;241m.\u001b[39m_backward_hooks \u001b[38;5;129;01mor\u001b[39;00m \u001b[38;5;28mself\u001b[39m\u001b[38;5;241m.\u001b[39m_backward_pre_hooks \u001b[38;5;129;01mor\u001b[39;00m \u001b[38;5;28mself\u001b[39m\u001b[38;5;241m.\u001b[39m_forward_hooks \u001b[38;5;129;01mor\u001b[39;00m \u001b[38;5;28mself\u001b[39m\u001b[38;5;241m.\u001b[39m_forward_pre_hooks\n\u001b[0;32m   1518\u001b[0m         \u001b[38;5;129;01mor\u001b[39;00m _global_backward_pre_hooks \u001b[38;5;129;01mor\u001b[39;00m _global_backward_hooks\n\u001b[0;32m   1519\u001b[0m         \u001b[38;5;129;01mor\u001b[39;00m _global_forward_hooks \u001b[38;5;129;01mor\u001b[39;00m _global_forward_pre_hooks):\n\u001b[1;32m-> 1520\u001b[0m     \u001b[38;5;28;01mreturn\u001b[39;00m forward_call(\u001b[38;5;241m*\u001b[39margs, \u001b[38;5;241m*\u001b[39m\u001b[38;5;241m*\u001b[39mkwargs)\n\u001b[0;32m   1522\u001b[0m \u001b[38;5;28;01mtry\u001b[39;00m:\n\u001b[0;32m   1523\u001b[0m     result \u001b[38;5;241m=\u001b[39m \u001b[38;5;28;01mNone\u001b[39;00m\n",
      "File \u001b[1;32mc:\\Users\\sebas\\anaconda3\\Lib\\site-packages\\torch\\nn\\modules\\container.py:217\u001b[0m, in \u001b[0;36mSequential.forward\u001b[1;34m(self, input)\u001b[0m\n\u001b[0;32m    215\u001b[0m \u001b[38;5;28;01mdef\u001b[39;00m \u001b[38;5;21mforward\u001b[39m(\u001b[38;5;28mself\u001b[39m, \u001b[38;5;28minput\u001b[39m):\n\u001b[0;32m    216\u001b[0m     \u001b[38;5;28;01mfor\u001b[39;00m module \u001b[38;5;129;01min\u001b[39;00m \u001b[38;5;28mself\u001b[39m:\n\u001b[1;32m--> 217\u001b[0m         \u001b[38;5;28minput\u001b[39m \u001b[38;5;241m=\u001b[39m module(\u001b[38;5;28minput\u001b[39m)\n\u001b[0;32m    218\u001b[0m     \u001b[38;5;28;01mreturn\u001b[39;00m \u001b[38;5;28minput\u001b[39m\n",
      "File \u001b[1;32mc:\\Users\\sebas\\anaconda3\\Lib\\site-packages\\torch\\nn\\modules\\module.py:1511\u001b[0m, in \u001b[0;36mModule._wrapped_call_impl\u001b[1;34m(self, *args, **kwargs)\u001b[0m\n\u001b[0;32m   1509\u001b[0m     \u001b[38;5;28;01mreturn\u001b[39;00m \u001b[38;5;28mself\u001b[39m\u001b[38;5;241m.\u001b[39m_compiled_call_impl(\u001b[38;5;241m*\u001b[39margs, \u001b[38;5;241m*\u001b[39m\u001b[38;5;241m*\u001b[39mkwargs)  \u001b[38;5;66;03m# type: ignore[misc]\u001b[39;00m\n\u001b[0;32m   1510\u001b[0m \u001b[38;5;28;01melse\u001b[39;00m:\n\u001b[1;32m-> 1511\u001b[0m     \u001b[38;5;28;01mreturn\u001b[39;00m \u001b[38;5;28mself\u001b[39m\u001b[38;5;241m.\u001b[39m_call_impl(\u001b[38;5;241m*\u001b[39margs, \u001b[38;5;241m*\u001b[39m\u001b[38;5;241m*\u001b[39mkwargs)\n",
      "File \u001b[1;32mc:\\Users\\sebas\\anaconda3\\Lib\\site-packages\\torch\\nn\\modules\\module.py:1520\u001b[0m, in \u001b[0;36mModule._call_impl\u001b[1;34m(self, *args, **kwargs)\u001b[0m\n\u001b[0;32m   1515\u001b[0m \u001b[38;5;66;03m# If we don't have any hooks, we want to skip the rest of the logic in\u001b[39;00m\n\u001b[0;32m   1516\u001b[0m \u001b[38;5;66;03m# this function, and just call forward.\u001b[39;00m\n\u001b[0;32m   1517\u001b[0m \u001b[38;5;28;01mif\u001b[39;00m \u001b[38;5;129;01mnot\u001b[39;00m (\u001b[38;5;28mself\u001b[39m\u001b[38;5;241m.\u001b[39m_backward_hooks \u001b[38;5;129;01mor\u001b[39;00m \u001b[38;5;28mself\u001b[39m\u001b[38;5;241m.\u001b[39m_backward_pre_hooks \u001b[38;5;129;01mor\u001b[39;00m \u001b[38;5;28mself\u001b[39m\u001b[38;5;241m.\u001b[39m_forward_hooks \u001b[38;5;129;01mor\u001b[39;00m \u001b[38;5;28mself\u001b[39m\u001b[38;5;241m.\u001b[39m_forward_pre_hooks\n\u001b[0;32m   1518\u001b[0m         \u001b[38;5;129;01mor\u001b[39;00m _global_backward_pre_hooks \u001b[38;5;129;01mor\u001b[39;00m _global_backward_hooks\n\u001b[0;32m   1519\u001b[0m         \u001b[38;5;129;01mor\u001b[39;00m _global_forward_hooks \u001b[38;5;129;01mor\u001b[39;00m _global_forward_pre_hooks):\n\u001b[1;32m-> 1520\u001b[0m     \u001b[38;5;28;01mreturn\u001b[39;00m forward_call(\u001b[38;5;241m*\u001b[39margs, \u001b[38;5;241m*\u001b[39m\u001b[38;5;241m*\u001b[39mkwargs)\n\u001b[0;32m   1522\u001b[0m \u001b[38;5;28;01mtry\u001b[39;00m:\n\u001b[0;32m   1523\u001b[0m     result \u001b[38;5;241m=\u001b[39m \u001b[38;5;28;01mNone\u001b[39;00m\n",
      "File \u001b[1;32mc:\\Users\\sebas\\anaconda3\\Lib\\site-packages\\torch\\nn\\modules\\container.py:217\u001b[0m, in \u001b[0;36mSequential.forward\u001b[1;34m(self, input)\u001b[0m\n\u001b[0;32m    215\u001b[0m \u001b[38;5;28;01mdef\u001b[39;00m \u001b[38;5;21mforward\u001b[39m(\u001b[38;5;28mself\u001b[39m, \u001b[38;5;28minput\u001b[39m):\n\u001b[0;32m    216\u001b[0m     \u001b[38;5;28;01mfor\u001b[39;00m module \u001b[38;5;129;01min\u001b[39;00m \u001b[38;5;28mself\u001b[39m:\n\u001b[1;32m--> 217\u001b[0m         \u001b[38;5;28minput\u001b[39m \u001b[38;5;241m=\u001b[39m module(\u001b[38;5;28minput\u001b[39m)\n\u001b[0;32m    218\u001b[0m     \u001b[38;5;28;01mreturn\u001b[39;00m \u001b[38;5;28minput\u001b[39m\n",
      "File \u001b[1;32mc:\\Users\\sebas\\anaconda3\\Lib\\site-packages\\torch\\nn\\modules\\module.py:1511\u001b[0m, in \u001b[0;36mModule._wrapped_call_impl\u001b[1;34m(self, *args, **kwargs)\u001b[0m\n\u001b[0;32m   1509\u001b[0m     \u001b[38;5;28;01mreturn\u001b[39;00m \u001b[38;5;28mself\u001b[39m\u001b[38;5;241m.\u001b[39m_compiled_call_impl(\u001b[38;5;241m*\u001b[39margs, \u001b[38;5;241m*\u001b[39m\u001b[38;5;241m*\u001b[39mkwargs)  \u001b[38;5;66;03m# type: ignore[misc]\u001b[39;00m\n\u001b[0;32m   1510\u001b[0m \u001b[38;5;28;01melse\u001b[39;00m:\n\u001b[1;32m-> 1511\u001b[0m     \u001b[38;5;28;01mreturn\u001b[39;00m \u001b[38;5;28mself\u001b[39m\u001b[38;5;241m.\u001b[39m_call_impl(\u001b[38;5;241m*\u001b[39margs, \u001b[38;5;241m*\u001b[39m\u001b[38;5;241m*\u001b[39mkwargs)\n",
      "File \u001b[1;32mc:\\Users\\sebas\\anaconda3\\Lib\\site-packages\\torch\\nn\\modules\\module.py:1520\u001b[0m, in \u001b[0;36mModule._call_impl\u001b[1;34m(self, *args, **kwargs)\u001b[0m\n\u001b[0;32m   1515\u001b[0m \u001b[38;5;66;03m# If we don't have any hooks, we want to skip the rest of the logic in\u001b[39;00m\n\u001b[0;32m   1516\u001b[0m \u001b[38;5;66;03m# this function, and just call forward.\u001b[39;00m\n\u001b[0;32m   1517\u001b[0m \u001b[38;5;28;01mif\u001b[39;00m \u001b[38;5;129;01mnot\u001b[39;00m (\u001b[38;5;28mself\u001b[39m\u001b[38;5;241m.\u001b[39m_backward_hooks \u001b[38;5;129;01mor\u001b[39;00m \u001b[38;5;28mself\u001b[39m\u001b[38;5;241m.\u001b[39m_backward_pre_hooks \u001b[38;5;129;01mor\u001b[39;00m \u001b[38;5;28mself\u001b[39m\u001b[38;5;241m.\u001b[39m_forward_hooks \u001b[38;5;129;01mor\u001b[39;00m \u001b[38;5;28mself\u001b[39m\u001b[38;5;241m.\u001b[39m_forward_pre_hooks\n\u001b[0;32m   1518\u001b[0m         \u001b[38;5;129;01mor\u001b[39;00m _global_backward_pre_hooks \u001b[38;5;129;01mor\u001b[39;00m _global_backward_hooks\n\u001b[0;32m   1519\u001b[0m         \u001b[38;5;129;01mor\u001b[39;00m _global_forward_hooks \u001b[38;5;129;01mor\u001b[39;00m _global_forward_pre_hooks):\n\u001b[1;32m-> 1520\u001b[0m     \u001b[38;5;28;01mreturn\u001b[39;00m forward_call(\u001b[38;5;241m*\u001b[39margs, \u001b[38;5;241m*\u001b[39m\u001b[38;5;241m*\u001b[39mkwargs)\n\u001b[0;32m   1522\u001b[0m \u001b[38;5;28;01mtry\u001b[39;00m:\n\u001b[0;32m   1523\u001b[0m     result \u001b[38;5;241m=\u001b[39m \u001b[38;5;28;01mNone\u001b[39;00m\n",
      "File \u001b[1;32mc:\\Users\\sebas\\anaconda3\\Lib\\site-packages\\torch\\nn\\modules\\linear.py:116\u001b[0m, in \u001b[0;36mLinear.forward\u001b[1;34m(self, input)\u001b[0m\n\u001b[0;32m    115\u001b[0m \u001b[38;5;28;01mdef\u001b[39;00m \u001b[38;5;21mforward\u001b[39m(\u001b[38;5;28mself\u001b[39m, \u001b[38;5;28minput\u001b[39m: Tensor) \u001b[38;5;241m-\u001b[39m\u001b[38;5;241m>\u001b[39m Tensor:\n\u001b[1;32m--> 116\u001b[0m     \u001b[38;5;28;01mreturn\u001b[39;00m F\u001b[38;5;241m.\u001b[39mlinear(\u001b[38;5;28minput\u001b[39m, \u001b[38;5;28mself\u001b[39m\u001b[38;5;241m.\u001b[39mweight, \u001b[38;5;28mself\u001b[39m\u001b[38;5;241m.\u001b[39mbias)\n",
      "\u001b[1;31mRuntimeError\u001b[0m: mat1 and mat2 shapes cannot be multiplied (2x2 and 36x64)"
     ]
    }
   ],
   "source": [
    "info = online_learning(\n",
    "    agent=DQNagent,\n",
    "    env=env,\n",
    "    number_of_episodes=200,\n",
    "    print_every_x_episodes=10,   # print returns after every 10 episdoes\n",
    "    learn_after_episode=True,    # instead of updating after every environment interaction, Q networks are updates at the end of each episode\n",
    "    seed=0\n",
    ")\n",
    "\n",
    "torch.save(info[\"return\"], \"DQN-return.pt\")   # info[\"return\"] refers to the episodic returns\n",
    "plt.plot(np.arange(len(info[\"return\"])), info[\"return\"], label=\"DQN\")\n",
    "plt.title(\"Episodic returns\")\n",
    "plt.xlabel(\"Episode\")\n",
    "plt.ylabel(\"Return\")\n",
    "plt.legend()\n",
    "plt.show()"
   ]
  },
  {
   "cell_type": "code",
   "execution_count": null,
   "metadata": {},
   "outputs": [],
   "source": [
    "test_env=TournamentEnv(season=2024,\n",
    "                  exclude_seasons=[c for c in range(2003,2024)],\n",
    "                  team_stats=team_data,\n",
    "                  shuffle=False,\n",
    "                  discrete=True,\n",
    "                  reward_on_round_end=True,\n",
    "                  loading_bar=False\n",
    "                  )\n",
    "test_env=GymEnvironment(test_env)"
   ]
  },
  {
   "cell_type": "code",
   "execution_count": null,
   "metadata": {},
   "outputs": [],
   "source": [
    "agent=DQNagent\n",
    "observation, action_space = test_env.reset()\n",
    "agent.reset(observation, action_space)\n",
    "done = False\n",
    "while not done:\n",
    "    action = agent.act(exploit=True)\n",
    "    action_result = test_env.step(action)\n",
    "    agent.observe(action_result)\n",
    "    agent.learn()\n",
    "    done = action_result.done"
   ]
  },
  {
   "cell_type": "code",
   "execution_count": null,
   "metadata": {},
   "outputs": [],
   "source": [
    "test_env.render()"
   ]
  },
  {
   "cell_type": "code",
   "execution_count": null,
   "metadata": {},
   "outputs": [],
   "source": [
    "# Set up a different instance of a Q value network.\n",
    "\n",
    "# We will be using a one hot representation for representing actions. So take action_dim = num_actions.\n",
    "Q_network_DoubleDQN = VanillaQValueNetwork(state_dim=env.observation_space.shape[0],  # dimension of the state representation\n",
    "                                       action_dim=num_actions,                        # dimension of the action representation\n",
    "                                       hidden_dims=hidden_dims,                       # dimensions of the intermediate layers\n",
    "                                       output_dim=1)  \n",
    "# Instead of using the 'network_type' argument, use the 'network_instance' argument.\n",
    "# Pass Q_value_network as the `network_instance` to the `DoubleDQN` policy learner.\n",
    "DoubleDQNagent = PearlAgent(\n",
    "    policy_learner=DoubleDQN(\n",
    "        state_dim=env.observation_space.shape[0],\n",
    "        action_space=env.action_space,\n",
    "        batch_size=64,\n",
    "        training_rounds=10,\n",
    "        soft_update_tau=0.001,\n",
    "        network_instance=Q_network_DoubleDQN,   # pass an instance of Q value network to the policy learner.\n",
    "        action_representation_module=OneHotActionTensorRepresentationModule(\n",
    "            max_number_actions=num_actions\n",
    "        ),\n",
    "    ),\n",
    "    replay_buffer=FIFOOffPolicyReplayBuffer(10_000),\n",
    ")  "
   ]
  },
  {
   "cell_type": "code",
   "execution_count": null,
   "metadata": {},
   "outputs": [],
   "source": [
    "# The online learning function in Pearl implements environment interaction and learning\n",
    "# and returns a dictionary with episodic returns\n",
    "\n",
    "info_DoubleDQN = online_learning(\n",
    "    agent=DoubleDQNagent,\n",
    "    env=env,\n",
    "    number_of_episodes=200,\n",
    "    print_every_x_episodes=30,   #  print returns after every 10 episdoes\n",
    "    learn_after_episode=True,    # instead of updating after every environment interaction, Q networks are updates at the end of each episode\n",
    "    seed=0\n",
    ")\n",
    "\n",
    "torch.save(info_DoubleDQN[\"return\"], \"DoubleDQN-return.pt\")   # info[\"return\"] refers to the episodic returns\n",
    "plt.plot(np.arange(len(info_DoubleDQN[\"return\"])), info_DoubleDQN[\"return\"], label=\"DoubleDQN\")\n",
    "plt.title(\"Episodic returns\")\n",
    "plt.xlabel(\"Episode\")\n",
    "plt.ylabel(\"Return\")\n",
    "plt.legend()\n",
    "plt.show()"
   ]
  },
  {
   "cell_type": "code",
   "execution_count": null,
   "metadata": {},
   "outputs": [],
   "source": [
    "agent=DoubleDQNagent\n",
    "observation, action_space = test_env.reset()\n",
    "agent.reset(observation, action_space)\n",
    "done = False\n",
    "while not done:\n",
    "    \n",
    "    action = agent.act(exploit=True)\n",
    "    action_result = test_env.step(action)\n",
    "    agent.observe(action_result)\n",
    "    agent.learn()\n",
    "    done = action_result.done"
   ]
  },
  {
   "cell_type": "code",
   "execution_count": null,
   "metadata": {},
   "outputs": [],
   "source": [
    "test_env.render()"
   ]
  },
  {
   "cell_type": "code",
   "execution_count": null,
   "metadata": {},
   "outputs": [],
   "source": []
  },
  {
   "cell_type": "code",
   "execution_count": null,
   "metadata": {},
   "outputs": [],
   "source": []
  },
  {
   "cell_type": "code",
   "execution_count": null,
   "metadata": {},
   "outputs": [],
   "source": []
  }
 ],
 "metadata": {
  "kernelspec": {
   "display_name": "base",
   "language": "python",
   "name": "python3"
  },
  "language_info": {
   "codemirror_mode": {
    "name": "ipython",
    "version": 3
   },
   "file_extension": ".py",
   "mimetype": "text/x-python",
   "name": "python",
   "nbconvert_exporter": "python",
   "pygments_lexer": "ipython3",
   "version": "3.11.5"
  }
 },
 "nbformat": 4,
 "nbformat_minor": 2
}
