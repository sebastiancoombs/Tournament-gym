{
 "cells": [
  {
   "cell_type": "code",
   "execution_count": 39,
   "metadata": {},
   "outputs": [],
   "source": [
    "\n",
    "import pandas as pd\n",
    "import json\n",
    "from pkg_resources import resource_filename\n",
    "import numpy as np"
   ]
  },
  {
   "cell_type": "code",
   "execution_count": 40,
   "metadata": {},
   "outputs": [],
   "source": [
    "tounament=pd.read_csv('/Users/sebas/IDrive-Sync/MetaLocalLLC/RL-Bots/Tournament-gym/Data/WNCAATourneyCompactResults.csv')\n",
    "seed=pd.read_csv('/Users/sebas/IDrive-Sync/MetaLocalLLC/RL-Bots/Tournament-gym/Data/WNCAATourneySeeds.csv')\n",
    "rounds=pd.read_csv('/Users/sebas/IDrive-Sync/MetaLocalLLC/RL-Bots/Tournament-gym/Data/MNCAATourneySeedRoundSlots.csv')\n",
    "slots=pd.read_csv('/Users/sebas/IDrive-Sync/MetaLocalLLC/RL-Bots/Tournament-gym/Data/WNCAATourneySlots.csv')\n",
    "teams=pd.read_csv('/Users/sebas/IDrive-Sync/MetaLocalLLC/RL-Bots/Tournament-gym/Data/WTeams.csv')\n",
    "regions=pd.read_csv('/Users/sebas/IDrive-Sync/MetaLocalLLC/RL-Bots/Tournament-gym/Data/WSeasons.csv')\n",
    "teams=teams[['TeamID','TeamName']]"
   ]
  },
  {
   "cell_type": "code",
   "execution_count": 41,
   "metadata": {},
   "outputs": [
    {
     "data": {
      "text/html": [
       "<div>\n",
       "<style scoped>\n",
       "    .dataframe tbody tr th:only-of-type {\n",
       "        vertical-align: middle;\n",
       "    }\n",
       "\n",
       "    .dataframe tbody tr th {\n",
       "        vertical-align: top;\n",
       "    }\n",
       "\n",
       "    .dataframe thead th {\n",
       "        text-align: right;\n",
       "    }\n",
       "</style>\n",
       "<table border=\"1\" class=\"dataframe\">\n",
       "  <thead>\n",
       "    <tr style=\"text-align: right;\">\n",
       "      <th></th>\n",
       "      <th>Season</th>\n",
       "      <th>DayNum</th>\n",
       "      <th>WTeamID</th>\n",
       "      <th>WScore</th>\n",
       "      <th>LTeamID</th>\n",
       "      <th>LScore</th>\n",
       "      <th>WLoc</th>\n",
       "      <th>NumOT</th>\n",
       "    </tr>\n",
       "  </thead>\n",
       "  <tbody>\n",
       "    <tr>\n",
       "      <th>0</th>\n",
       "      <td>1998</td>\n",
       "      <td>137</td>\n",
       "      <td>3104</td>\n",
       "      <td>94</td>\n",
       "      <td>3422</td>\n",
       "      <td>46</td>\n",
       "      <td>H</td>\n",
       "      <td>0</td>\n",
       "    </tr>\n",
       "    <tr>\n",
       "      <th>1</th>\n",
       "      <td>1998</td>\n",
       "      <td>137</td>\n",
       "      <td>3112</td>\n",
       "      <td>75</td>\n",
       "      <td>3365</td>\n",
       "      <td>63</td>\n",
       "      <td>H</td>\n",
       "      <td>0</td>\n",
       "    </tr>\n",
       "    <tr>\n",
       "      <th>2</th>\n",
       "      <td>1998</td>\n",
       "      <td>137</td>\n",
       "      <td>3163</td>\n",
       "      <td>93</td>\n",
       "      <td>3193</td>\n",
       "      <td>52</td>\n",
       "      <td>H</td>\n",
       "      <td>0</td>\n",
       "    </tr>\n",
       "    <tr>\n",
       "      <th>3</th>\n",
       "      <td>1998</td>\n",
       "      <td>137</td>\n",
       "      <td>3198</td>\n",
       "      <td>59</td>\n",
       "      <td>3266</td>\n",
       "      <td>45</td>\n",
       "      <td>H</td>\n",
       "      <td>0</td>\n",
       "    </tr>\n",
       "    <tr>\n",
       "      <th>4</th>\n",
       "      <td>1998</td>\n",
       "      <td>137</td>\n",
       "      <td>3203</td>\n",
       "      <td>74</td>\n",
       "      <td>3208</td>\n",
       "      <td>72</td>\n",
       "      <td>A</td>\n",
       "      <td>0</td>\n",
       "    </tr>\n",
       "    <tr>\n",
       "      <th>...</th>\n",
       "      <td>...</td>\n",
       "      <td>...</td>\n",
       "      <td>...</td>\n",
       "      <td>...</td>\n",
       "      <td>...</td>\n",
       "      <td>...</td>\n",
       "      <td>...</td>\n",
       "      <td>...</td>\n",
       "    </tr>\n",
       "    <tr>\n",
       "      <th>1578</th>\n",
       "      <td>2023</td>\n",
       "      <td>147</td>\n",
       "      <td>3376</td>\n",
       "      <td>86</td>\n",
       "      <td>3268</td>\n",
       "      <td>75</td>\n",
       "      <td>H</td>\n",
       "      <td>0</td>\n",
       "    </tr>\n",
       "    <tr>\n",
       "      <th>1579</th>\n",
       "      <td>2023</td>\n",
       "      <td>147</td>\n",
       "      <td>3439</td>\n",
       "      <td>84</td>\n",
       "      <td>3326</td>\n",
       "      <td>74</td>\n",
       "      <td>N</td>\n",
       "      <td>0</td>\n",
       "    </tr>\n",
       "    <tr>\n",
       "      <th>1580</th>\n",
       "      <td>2023</td>\n",
       "      <td>151</td>\n",
       "      <td>3234</td>\n",
       "      <td>77</td>\n",
       "      <td>3376</td>\n",
       "      <td>73</td>\n",
       "      <td>N</td>\n",
       "      <td>0</td>\n",
       "    </tr>\n",
       "    <tr>\n",
       "      <th>1581</th>\n",
       "      <td>2023</td>\n",
       "      <td>151</td>\n",
       "      <td>3261</td>\n",
       "      <td>79</td>\n",
       "      <td>3439</td>\n",
       "      <td>72</td>\n",
       "      <td>N</td>\n",
       "      <td>0</td>\n",
       "    </tr>\n",
       "    <tr>\n",
       "      <th>1582</th>\n",
       "      <td>2023</td>\n",
       "      <td>153</td>\n",
       "      <td>3261</td>\n",
       "      <td>102</td>\n",
       "      <td>3234</td>\n",
       "      <td>85</td>\n",
       "      <td>N</td>\n",
       "      <td>0</td>\n",
       "    </tr>\n",
       "  </tbody>\n",
       "</table>\n",
       "<p>1583 rows × 8 columns</p>\n",
       "</div>"
      ],
      "text/plain": [
       "      Season  DayNum  WTeamID  WScore  LTeamID  LScore WLoc  NumOT\n",
       "0       1998     137     3104      94     3422      46    H      0\n",
       "1       1998     137     3112      75     3365      63    H      0\n",
       "2       1998     137     3163      93     3193      52    H      0\n",
       "3       1998     137     3198      59     3266      45    H      0\n",
       "4       1998     137     3203      74     3208      72    A      0\n",
       "...      ...     ...      ...     ...      ...     ...  ...    ...\n",
       "1578    2023     147     3376      86     3268      75    H      0\n",
       "1579    2023     147     3439      84     3326      74    N      0\n",
       "1580    2023     151     3234      77     3376      73    N      0\n",
       "1581    2023     151     3261      79     3439      72    N      0\n",
       "1582    2023     153     3261     102     3234      85    N      0\n",
       "\n",
       "[1583 rows x 8 columns]"
      ]
     },
     "execution_count": 41,
     "metadata": {},
     "output_type": "execute_result"
    }
   ],
   "source": [
    "tounament"
   ]
  },
  {
   "cell_type": "code",
   "execution_count": 42,
   "metadata": {},
   "outputs": [
    {
     "data": {
      "text/html": [
       "<div>\n",
       "<style scoped>\n",
       "    .dataframe tbody tr th:only-of-type {\n",
       "        vertical-align: middle;\n",
       "    }\n",
       "\n",
       "    .dataframe tbody tr th {\n",
       "        vertical-align: top;\n",
       "    }\n",
       "\n",
       "    .dataframe thead th {\n",
       "        text-align: right;\n",
       "    }\n",
       "</style>\n",
       "<table border=\"1\" class=\"dataframe\">\n",
       "  <thead>\n",
       "    <tr style=\"text-align: right;\">\n",
       "      <th></th>\n",
       "      <th>Seed</th>\n",
       "      <th>GameRound</th>\n",
       "      <th>GameSlot</th>\n",
       "      <th>Daynum</th>\n",
       "      <th>LateDayNum</th>\n",
       "      <th>EarlyDayNum</th>\n",
       "    </tr>\n",
       "  </thead>\n",
       "  <tbody>\n",
       "    <tr>\n",
       "      <th>0</th>\n",
       "      <td>W01</td>\n",
       "      <td>1</td>\n",
       "      <td>R1W1</td>\n",
       "      <td>136</td>\n",
       "      <td>137.0</td>\n",
       "      <td>NaN</td>\n",
       "    </tr>\n",
       "    <tr>\n",
       "      <th>1</th>\n",
       "      <td>W01</td>\n",
       "      <td>2</td>\n",
       "      <td>R2W1</td>\n",
       "      <td>138</td>\n",
       "      <td>139.0</td>\n",
       "      <td>NaN</td>\n",
       "    </tr>\n",
       "    <tr>\n",
       "      <th>2</th>\n",
       "      <td>W01</td>\n",
       "      <td>3</td>\n",
       "      <td>R3W1</td>\n",
       "      <td>143</td>\n",
       "      <td>144.0</td>\n",
       "      <td>NaN</td>\n",
       "    </tr>\n",
       "    <tr>\n",
       "      <th>3</th>\n",
       "      <td>W01</td>\n",
       "      <td>4</td>\n",
       "      <td>R4W1</td>\n",
       "      <td>145</td>\n",
       "      <td>146.0</td>\n",
       "      <td>NaN</td>\n",
       "    </tr>\n",
       "    <tr>\n",
       "      <th>4</th>\n",
       "      <td>W01</td>\n",
       "      <td>5</td>\n",
       "      <td>R5WX</td>\n",
       "      <td>152</td>\n",
       "      <td>152.0</td>\n",
       "      <td>NaN</td>\n",
       "    </tr>\n",
       "    <tr>\n",
       "      <th>...</th>\n",
       "      <td>...</td>\n",
       "      <td>...</td>\n",
       "      <td>...</td>\n",
       "      <td>...</td>\n",
       "      <td>...</td>\n",
       "      <td>...</td>\n",
       "    </tr>\n",
       "    <tr>\n",
       "      <th>715</th>\n",
       "      <td>Z16b</td>\n",
       "      <td>2</td>\n",
       "      <td>R2Z1</td>\n",
       "      <td>139</td>\n",
       "      <td>NaN</td>\n",
       "      <td>138.0</td>\n",
       "    </tr>\n",
       "    <tr>\n",
       "      <th>716</th>\n",
       "      <td>Z16b</td>\n",
       "      <td>3</td>\n",
       "      <td>R3Z1</td>\n",
       "      <td>144</td>\n",
       "      <td>NaN</td>\n",
       "      <td>143.0</td>\n",
       "    </tr>\n",
       "    <tr>\n",
       "      <th>717</th>\n",
       "      <td>Z16b</td>\n",
       "      <td>4</td>\n",
       "      <td>R4Z1</td>\n",
       "      <td>146</td>\n",
       "      <td>NaN</td>\n",
       "      <td>145.0</td>\n",
       "    </tr>\n",
       "    <tr>\n",
       "      <th>718</th>\n",
       "      <td>Z16b</td>\n",
       "      <td>5</td>\n",
       "      <td>R5YZ</td>\n",
       "      <td>152</td>\n",
       "      <td>NaN</td>\n",
       "      <td>152.0</td>\n",
       "    </tr>\n",
       "    <tr>\n",
       "      <th>719</th>\n",
       "      <td>Z16b</td>\n",
       "      <td>6</td>\n",
       "      <td>R6CH</td>\n",
       "      <td>154</td>\n",
       "      <td>NaN</td>\n",
       "      <td>154.0</td>\n",
       "    </tr>\n",
       "  </tbody>\n",
       "</table>\n",
       "<p>1440 rows × 6 columns</p>\n",
       "</div>"
      ],
      "text/plain": [
       "     Seed  GameRound GameSlot  Daynum  LateDayNum  EarlyDayNum\n",
       "0     W01          1     R1W1     136       137.0          NaN\n",
       "1     W01          2     R2W1     138       139.0          NaN\n",
       "2     W01          3     R3W1     143       144.0          NaN\n",
       "3     W01          4     R4W1     145       146.0          NaN\n",
       "4     W01          5     R5WX     152       152.0          NaN\n",
       "..    ...        ...      ...     ...         ...          ...\n",
       "715  Z16b          2     R2Z1     139         NaN        138.0\n",
       "716  Z16b          3     R3Z1     144         NaN        143.0\n",
       "717  Z16b          4     R4Z1     146         NaN        145.0\n",
       "718  Z16b          5     R5YZ     152         NaN        152.0\n",
       "719  Z16b          6     R6CH     154         NaN        154.0\n",
       "\n",
       "[1440 rows x 6 columns]"
      ]
     },
     "execution_count": 42,
     "metadata": {},
     "output_type": "execute_result"
    }
   ],
   "source": [
    "r1=rounds.rename(columns={'EarlyDayNum':'Daynum'})\n",
    "r2=rounds.rename(columns={'LateDayNum':'Daynum'})\n",
    "double_rounds=pd.concat([r1,r2],axis=0)\n",
    "double_rounds"
   ]
  },
  {
   "cell_type": "code",
   "execution_count": 43,
   "metadata": {},
   "outputs": [
    {
     "data": {
      "text/html": [
       "<div>\n",
       "<style scoped>\n",
       "    .dataframe tbody tr th:only-of-type {\n",
       "        vertical-align: middle;\n",
       "    }\n",
       "\n",
       "    .dataframe tbody tr th {\n",
       "        vertical-align: top;\n",
       "    }\n",
       "\n",
       "    .dataframe thead th {\n",
       "        text-align: right;\n",
       "    }\n",
       "</style>\n",
       "<table border=\"1\" class=\"dataframe\">\n",
       "  <thead>\n",
       "    <tr style=\"text-align: right;\">\n",
       "      <th></th>\n",
       "      <th>Season</th>\n",
       "      <th>Seed</th>\n",
       "      <th>TeamID</th>\n",
       "    </tr>\n",
       "  </thead>\n",
       "  <tbody>\n",
       "    <tr>\n",
       "      <th>0</th>\n",
       "      <td>1998</td>\n",
       "      <td>W01</td>\n",
       "      <td>3330</td>\n",
       "    </tr>\n",
       "    <tr>\n",
       "      <th>1</th>\n",
       "      <td>1998</td>\n",
       "      <td>W02</td>\n",
       "      <td>3163</td>\n",
       "    </tr>\n",
       "    <tr>\n",
       "      <th>2</th>\n",
       "      <td>1998</td>\n",
       "      <td>W03</td>\n",
       "      <td>3112</td>\n",
       "    </tr>\n",
       "    <tr>\n",
       "      <th>3</th>\n",
       "      <td>1998</td>\n",
       "      <td>W04</td>\n",
       "      <td>3301</td>\n",
       "    </tr>\n",
       "    <tr>\n",
       "      <th>4</th>\n",
       "      <td>1998</td>\n",
       "      <td>W05</td>\n",
       "      <td>3272</td>\n",
       "    </tr>\n",
       "    <tr>\n",
       "      <th>...</th>\n",
       "      <td>...</td>\n",
       "      <td>...</td>\n",
       "      <td>...</td>\n",
       "    </tr>\n",
       "    <tr>\n",
       "      <th>1603</th>\n",
       "      <td>2023</td>\n",
       "      <td>Z12</td>\n",
       "      <td>3405</td>\n",
       "    </tr>\n",
       "    <tr>\n",
       "      <th>1604</th>\n",
       "      <td>2023</td>\n",
       "      <td>Z13</td>\n",
       "      <td>3387</td>\n",
       "    </tr>\n",
       "    <tr>\n",
       "      <th>1605</th>\n",
       "      <td>2023</td>\n",
       "      <td>Z14</td>\n",
       "      <td>3241</td>\n",
       "    </tr>\n",
       "    <tr>\n",
       "      <th>1606</th>\n",
       "      <td>2023</td>\n",
       "      <td>Z15</td>\n",
       "      <td>3436</td>\n",
       "    </tr>\n",
       "    <tr>\n",
       "      <th>1607</th>\n",
       "      <td>2023</td>\n",
       "      <td>Z16</td>\n",
       "      <td>3151</td>\n",
       "    </tr>\n",
       "  </tbody>\n",
       "</table>\n",
       "<p>1608 rows × 3 columns</p>\n",
       "</div>"
      ],
      "text/plain": [
       "      Season Seed  TeamID\n",
       "0       1998  W01    3330\n",
       "1       1998  W02    3163\n",
       "2       1998  W03    3112\n",
       "3       1998  W04    3301\n",
       "4       1998  W05    3272\n",
       "...      ...  ...     ...\n",
       "1603    2023  Z12    3405\n",
       "1604    2023  Z13    3387\n",
       "1605    2023  Z14    3241\n",
       "1606    2023  Z15    3436\n",
       "1607    2023  Z16    3151\n",
       "\n",
       "[1608 rows x 3 columns]"
      ]
     },
     "metadata": {},
     "output_type": "display_data"
    },
    {
     "data": {
      "text/html": [
       "<div>\n",
       "<style scoped>\n",
       "    .dataframe tbody tr th:only-of-type {\n",
       "        vertical-align: middle;\n",
       "    }\n",
       "\n",
       "    .dataframe tbody tr th {\n",
       "        vertical-align: top;\n",
       "    }\n",
       "\n",
       "    .dataframe thead th {\n",
       "        text-align: right;\n",
       "    }\n",
       "</style>\n",
       "<table border=\"1\" class=\"dataframe\">\n",
       "  <thead>\n",
       "    <tr style=\"text-align: right;\">\n",
       "      <th></th>\n",
       "      <th>Seed</th>\n",
       "      <th>GameRound</th>\n",
       "      <th>GameSlot</th>\n",
       "      <th>EarlyDayNum</th>\n",
       "      <th>LateDayNum</th>\n",
       "    </tr>\n",
       "  </thead>\n",
       "  <tbody>\n",
       "    <tr>\n",
       "      <th>0</th>\n",
       "      <td>W01</td>\n",
       "      <td>1</td>\n",
       "      <td>R1W1</td>\n",
       "      <td>136</td>\n",
       "      <td>137</td>\n",
       "    </tr>\n",
       "    <tr>\n",
       "      <th>1</th>\n",
       "      <td>W01</td>\n",
       "      <td>2</td>\n",
       "      <td>R2W1</td>\n",
       "      <td>138</td>\n",
       "      <td>139</td>\n",
       "    </tr>\n",
       "    <tr>\n",
       "      <th>2</th>\n",
       "      <td>W01</td>\n",
       "      <td>3</td>\n",
       "      <td>R3W1</td>\n",
       "      <td>143</td>\n",
       "      <td>144</td>\n",
       "    </tr>\n",
       "    <tr>\n",
       "      <th>3</th>\n",
       "      <td>W01</td>\n",
       "      <td>4</td>\n",
       "      <td>R4W1</td>\n",
       "      <td>145</td>\n",
       "      <td>146</td>\n",
       "    </tr>\n",
       "    <tr>\n",
       "      <th>4</th>\n",
       "      <td>W01</td>\n",
       "      <td>5</td>\n",
       "      <td>R5WX</td>\n",
       "      <td>152</td>\n",
       "      <td>152</td>\n",
       "    </tr>\n",
       "    <tr>\n",
       "      <th>...</th>\n",
       "      <td>...</td>\n",
       "      <td>...</td>\n",
       "      <td>...</td>\n",
       "      <td>...</td>\n",
       "      <td>...</td>\n",
       "    </tr>\n",
       "    <tr>\n",
       "      <th>715</th>\n",
       "      <td>Z16b</td>\n",
       "      <td>2</td>\n",
       "      <td>R2Z1</td>\n",
       "      <td>138</td>\n",
       "      <td>139</td>\n",
       "    </tr>\n",
       "    <tr>\n",
       "      <th>716</th>\n",
       "      <td>Z16b</td>\n",
       "      <td>3</td>\n",
       "      <td>R3Z1</td>\n",
       "      <td>143</td>\n",
       "      <td>144</td>\n",
       "    </tr>\n",
       "    <tr>\n",
       "      <th>717</th>\n",
       "      <td>Z16b</td>\n",
       "      <td>4</td>\n",
       "      <td>R4Z1</td>\n",
       "      <td>145</td>\n",
       "      <td>146</td>\n",
       "    </tr>\n",
       "    <tr>\n",
       "      <th>718</th>\n",
       "      <td>Z16b</td>\n",
       "      <td>5</td>\n",
       "      <td>R5YZ</td>\n",
       "      <td>152</td>\n",
       "      <td>152</td>\n",
       "    </tr>\n",
       "    <tr>\n",
       "      <th>719</th>\n",
       "      <td>Z16b</td>\n",
       "      <td>6</td>\n",
       "      <td>R6CH</td>\n",
       "      <td>154</td>\n",
       "      <td>154</td>\n",
       "    </tr>\n",
       "  </tbody>\n",
       "</table>\n",
       "<p>720 rows × 5 columns</p>\n",
       "</div>"
      ],
      "text/plain": [
       "     Seed  GameRound GameSlot  EarlyDayNum  LateDayNum\n",
       "0     W01          1     R1W1          136         137\n",
       "1     W01          2     R2W1          138         139\n",
       "2     W01          3     R3W1          143         144\n",
       "3     W01          4     R4W1          145         146\n",
       "4     W01          5     R5WX          152         152\n",
       "..    ...        ...      ...          ...         ...\n",
       "715  Z16b          2     R2Z1          138         139\n",
       "716  Z16b          3     R3Z1          143         144\n",
       "717  Z16b          4     R4Z1          145         146\n",
       "718  Z16b          5     R5YZ          152         152\n",
       "719  Z16b          6     R6CH          154         154\n",
       "\n",
       "[720 rows x 5 columns]"
      ]
     },
     "metadata": {},
     "output_type": "display_data"
    },
    {
     "data": {
      "text/html": [
       "<div>\n",
       "<style scoped>\n",
       "    .dataframe tbody tr th:only-of-type {\n",
       "        vertical-align: middle;\n",
       "    }\n",
       "\n",
       "    .dataframe tbody tr th {\n",
       "        vertical-align: top;\n",
       "    }\n",
       "\n",
       "    .dataframe thead th {\n",
       "        text-align: right;\n",
       "    }\n",
       "</style>\n",
       "<table border=\"1\" class=\"dataframe\">\n",
       "  <thead>\n",
       "    <tr style=\"text-align: right;\">\n",
       "      <th></th>\n",
       "      <th>Season</th>\n",
       "      <th>DayNum</th>\n",
       "      <th>WTeamID</th>\n",
       "      <th>WScore</th>\n",
       "      <th>LTeamID</th>\n",
       "      <th>LScore</th>\n",
       "      <th>WLoc</th>\n",
       "      <th>NumOT</th>\n",
       "    </tr>\n",
       "  </thead>\n",
       "  <tbody>\n",
       "    <tr>\n",
       "      <th>0</th>\n",
       "      <td>1998</td>\n",
       "      <td>137</td>\n",
       "      <td>3104</td>\n",
       "      <td>94</td>\n",
       "      <td>3422</td>\n",
       "      <td>46</td>\n",
       "      <td>H</td>\n",
       "      <td>0</td>\n",
       "    </tr>\n",
       "    <tr>\n",
       "      <th>1</th>\n",
       "      <td>1998</td>\n",
       "      <td>137</td>\n",
       "      <td>3112</td>\n",
       "      <td>75</td>\n",
       "      <td>3365</td>\n",
       "      <td>63</td>\n",
       "      <td>H</td>\n",
       "      <td>0</td>\n",
       "    </tr>\n",
       "    <tr>\n",
       "      <th>2</th>\n",
       "      <td>1998</td>\n",
       "      <td>137</td>\n",
       "      <td>3163</td>\n",
       "      <td>93</td>\n",
       "      <td>3193</td>\n",
       "      <td>52</td>\n",
       "      <td>H</td>\n",
       "      <td>0</td>\n",
       "    </tr>\n",
       "    <tr>\n",
       "      <th>3</th>\n",
       "      <td>1998</td>\n",
       "      <td>137</td>\n",
       "      <td>3198</td>\n",
       "      <td>59</td>\n",
       "      <td>3266</td>\n",
       "      <td>45</td>\n",
       "      <td>H</td>\n",
       "      <td>0</td>\n",
       "    </tr>\n",
       "    <tr>\n",
       "      <th>4</th>\n",
       "      <td>1998</td>\n",
       "      <td>137</td>\n",
       "      <td>3203</td>\n",
       "      <td>74</td>\n",
       "      <td>3208</td>\n",
       "      <td>72</td>\n",
       "      <td>A</td>\n",
       "      <td>0</td>\n",
       "    </tr>\n",
       "    <tr>\n",
       "      <th>...</th>\n",
       "      <td>...</td>\n",
       "      <td>...</td>\n",
       "      <td>...</td>\n",
       "      <td>...</td>\n",
       "      <td>...</td>\n",
       "      <td>...</td>\n",
       "      <td>...</td>\n",
       "      <td>...</td>\n",
       "    </tr>\n",
       "    <tr>\n",
       "      <th>1578</th>\n",
       "      <td>2023</td>\n",
       "      <td>147</td>\n",
       "      <td>3376</td>\n",
       "      <td>86</td>\n",
       "      <td>3268</td>\n",
       "      <td>75</td>\n",
       "      <td>H</td>\n",
       "      <td>0</td>\n",
       "    </tr>\n",
       "    <tr>\n",
       "      <th>1579</th>\n",
       "      <td>2023</td>\n",
       "      <td>147</td>\n",
       "      <td>3439</td>\n",
       "      <td>84</td>\n",
       "      <td>3326</td>\n",
       "      <td>74</td>\n",
       "      <td>N</td>\n",
       "      <td>0</td>\n",
       "    </tr>\n",
       "    <tr>\n",
       "      <th>1580</th>\n",
       "      <td>2023</td>\n",
       "      <td>151</td>\n",
       "      <td>3234</td>\n",
       "      <td>77</td>\n",
       "      <td>3376</td>\n",
       "      <td>73</td>\n",
       "      <td>N</td>\n",
       "      <td>0</td>\n",
       "    </tr>\n",
       "    <tr>\n",
       "      <th>1581</th>\n",
       "      <td>2023</td>\n",
       "      <td>151</td>\n",
       "      <td>3261</td>\n",
       "      <td>79</td>\n",
       "      <td>3439</td>\n",
       "      <td>72</td>\n",
       "      <td>N</td>\n",
       "      <td>0</td>\n",
       "    </tr>\n",
       "    <tr>\n",
       "      <th>1582</th>\n",
       "      <td>2023</td>\n",
       "      <td>153</td>\n",
       "      <td>3261</td>\n",
       "      <td>102</td>\n",
       "      <td>3234</td>\n",
       "      <td>85</td>\n",
       "      <td>N</td>\n",
       "      <td>0</td>\n",
       "    </tr>\n",
       "  </tbody>\n",
       "</table>\n",
       "<p>1583 rows × 8 columns</p>\n",
       "</div>"
      ],
      "text/plain": [
       "      Season  DayNum  WTeamID  WScore  LTeamID  LScore WLoc  NumOT\n",
       "0       1998     137     3104      94     3422      46    H      0\n",
       "1       1998     137     3112      75     3365      63    H      0\n",
       "2       1998     137     3163      93     3193      52    H      0\n",
       "3       1998     137     3198      59     3266      45    H      0\n",
       "4       1998     137     3203      74     3208      72    A      0\n",
       "...      ...     ...      ...     ...      ...     ...  ...    ...\n",
       "1578    2023     147     3376      86     3268      75    H      0\n",
       "1579    2023     147     3439      84     3326      74    N      0\n",
       "1580    2023     151     3234      77     3376      73    N      0\n",
       "1581    2023     151     3261      79     3439      72    N      0\n",
       "1582    2023     153     3261     102     3234      85    N      0\n",
       "\n",
       "[1583 rows x 8 columns]"
      ]
     },
     "metadata": {},
     "output_type": "display_data"
    },
    {
     "data": {
      "text/html": [
       "<div>\n",
       "<style scoped>\n",
       "    .dataframe tbody tr th:only-of-type {\n",
       "        vertical-align: middle;\n",
       "    }\n",
       "\n",
       "    .dataframe tbody tr th {\n",
       "        vertical-align: top;\n",
       "    }\n",
       "\n",
       "    .dataframe thead th {\n",
       "        text-align: right;\n",
       "    }\n",
       "</style>\n",
       "<table border=\"1\" class=\"dataframe\">\n",
       "  <thead>\n",
       "    <tr style=\"text-align: right;\">\n",
       "      <th></th>\n",
       "      <th>TeamID</th>\n",
       "      <th>TeamName</th>\n",
       "    </tr>\n",
       "  </thead>\n",
       "  <tbody>\n",
       "    <tr>\n",
       "      <th>0</th>\n",
       "      <td>3101</td>\n",
       "      <td>Abilene Chr</td>\n",
       "    </tr>\n",
       "    <tr>\n",
       "      <th>1</th>\n",
       "      <td>3102</td>\n",
       "      <td>Air Force</td>\n",
       "    </tr>\n",
       "    <tr>\n",
       "      <th>2</th>\n",
       "      <td>3103</td>\n",
       "      <td>Akron</td>\n",
       "    </tr>\n",
       "    <tr>\n",
       "      <th>3</th>\n",
       "      <td>3104</td>\n",
       "      <td>Alabama</td>\n",
       "    </tr>\n",
       "    <tr>\n",
       "      <th>4</th>\n",
       "      <td>3105</td>\n",
       "      <td>Alabama A&amp;M</td>\n",
       "    </tr>\n",
       "    <tr>\n",
       "      <th>...</th>\n",
       "      <td>...</td>\n",
       "      <td>...</td>\n",
       "    </tr>\n",
       "    <tr>\n",
       "      <th>371</th>\n",
       "      <td>3474</td>\n",
       "      <td>Queens NC</td>\n",
       "    </tr>\n",
       "    <tr>\n",
       "      <th>372</th>\n",
       "      <td>3475</td>\n",
       "      <td>Southern Indiana</td>\n",
       "    </tr>\n",
       "    <tr>\n",
       "      <th>373</th>\n",
       "      <td>3476</td>\n",
       "      <td>Stonehill</td>\n",
       "    </tr>\n",
       "    <tr>\n",
       "      <th>374</th>\n",
       "      <td>3477</td>\n",
       "      <td>TX A&amp;M Commerce</td>\n",
       "    </tr>\n",
       "    <tr>\n",
       "      <th>375</th>\n",
       "      <td>3478</td>\n",
       "      <td>Le Moyne</td>\n",
       "    </tr>\n",
       "  </tbody>\n",
       "</table>\n",
       "<p>376 rows × 2 columns</p>\n",
       "</div>"
      ],
      "text/plain": [
       "     TeamID          TeamName\n",
       "0      3101       Abilene Chr\n",
       "1      3102         Air Force\n",
       "2      3103             Akron\n",
       "3      3104           Alabama\n",
       "4      3105       Alabama A&M\n",
       "..      ...               ...\n",
       "371    3474         Queens NC\n",
       "372    3475  Southern Indiana\n",
       "373    3476         Stonehill\n",
       "374    3477   TX A&M Commerce\n",
       "375    3478          Le Moyne\n",
       "\n",
       "[376 rows x 2 columns]"
      ]
     },
     "metadata": {},
     "output_type": "display_data"
    },
    {
     "data": {
      "text/plain": [
       "(None, None, None, None)"
      ]
     },
     "execution_count": 43,
     "metadata": {},
     "output_type": "execute_result"
    }
   ],
   "source": [
    "display(seed),display(rounds),display(tounament),display(teams)"
   ]
  },
  {
   "cell_type": "code",
   "execution_count": 44,
   "metadata": {},
   "outputs": [],
   "source": [
    "#change the day num to round\n",
    "round_map={134:0,\n",
    "          135:0,\n",
    "\n",
    "          136:1,\n",
    "          137:1,\n",
    "        #   140:1,\n",
    "\n",
    "          138:2,\n",
    "          139:2,\n",
    "\n",
    "          143:3,\n",
    "          144:3,\n",
    "\n",
    "          145:4,\n",
    "          146:4,          \n",
    "        #   147:4,\n",
    "        #   148:4,            \n",
    "\n",
    "          152:5,\n",
    "          \n",
    "          154:6}"
   ]
  },
  {
   "cell_type": "code",
   "execution_count": 45,
   "metadata": {},
   "outputs": [],
   "source": [
    "#Standardize the Regions\n",
    "region_map={'South':'South',\n",
    " 'MidWest':'Midwest',\n",
    " 'East':'East',\n",
    " 'West':'West',\n",
    " \n",
    " 'Southeast':'South',\n",
    " 'Southwest':'Midwest',\n",
    "\n",
    " 'Albuquerque':'West',\n",
    " 'Chicago':'Midwest',\n",
    " 'Austin':'South',\n",
    " 'Syracuse':'East',\n",
    "\n",
    " 'NA1':'East',\n",
    " 'NA2':'Midwest',\n",
    " 'NA4':'West',\n",
    " 'NA3':'South',\n",
    "\n",
    " 'Oakland':'West',\n",
    " 'Atlanta':'South',\n",
    " 'WashingtonDC':'East',\n",
    " 'Minneapolis':'Midwest',\n",
    " 'EastRutherford':'East',\n",
    "\n",
    " 'StLouis':'Midwest',\n",
    " 'Atlanta':'South',\n",
    " 'Phoenix':'West',\n",
    "}"
   ]
  },
  {
   "cell_type": "code",
   "execution_count": 46,
   "metadata": {},
   "outputs": [],
   "source": [
    "region_to_num={'W':1,\n",
    "               'X':2,\n",
    "               'Y':3,\n",
    "               'Z':4}\n"
   ]
  },
  {
   "cell_type": "code",
   "execution_count": 47,
   "metadata": {},
   "outputs": [],
   "source": [
    "regions.filter(like='Region').columns\n",
    "all_regions=[]\n",
    "\n",
    "regions.columns=[c.replace('Region','') for c in regions.columns]\n",
    "seed_region_map=regions.set_index('Season')[['W','X','Y','Z']].T.to_dict()\n",
    "for season in seed_region_map:\n",
    "    seed_region_map[season]={i:a for a,i in seed_region_map[season].items()}\n"
   ]
  },
  {
   "cell_type": "code",
   "execution_count": 48,
   "metadata": {},
   "outputs": [],
   "source": [
    "seeds=pd.merge(seed,teams,left_on='TeamID',right_on='TeamID',how='left')\n",
    "\n",
    "seeds['Region']=seeds['Seed'].str[0]\n"
   ]
  },
  {
   "cell_type": "code",
   "execution_count": 49,
   "metadata": {},
   "outputs": [],
   "source": [
    "region_to_region={'W':'East',\n",
    "               'X':'Midwest',\n",
    "               'Y':'South',\n",
    "               'Z':'West'}"
   ]
  },
  {
   "cell_type": "code",
   "execution_count": 50,
   "metadata": {},
   "outputs": [
    {
     "data": {
      "text/html": [
       "<div>\n",
       "<style scoped>\n",
       "    .dataframe tbody tr th:only-of-type {\n",
       "        vertical-align: middle;\n",
       "    }\n",
       "\n",
       "    .dataframe tbody tr th {\n",
       "        vertical-align: top;\n",
       "    }\n",
       "\n",
       "    .dataframe thead th {\n",
       "        text-align: right;\n",
       "    }\n",
       "</style>\n",
       "<table border=\"1\" class=\"dataframe\">\n",
       "  <thead>\n",
       "    <tr style=\"text-align: right;\">\n",
       "      <th></th>\n",
       "      <th>Season</th>\n",
       "      <th>Seed</th>\n",
       "      <th>TeamID</th>\n",
       "      <th>TeamName</th>\n",
       "      <th>Region</th>\n",
       "      <th>Region_</th>\n",
       "      <th>RegionNum</th>\n",
       "    </tr>\n",
       "  </thead>\n",
       "  <tbody>\n",
       "    <tr>\n",
       "      <th>0</th>\n",
       "      <td>1998</td>\n",
       "      <td>W01</td>\n",
       "      <td>3330</td>\n",
       "      <td>Old Dominion</td>\n",
       "      <td>W</td>\n",
       "      <td>W</td>\n",
       "      <td>1</td>\n",
       "    </tr>\n",
       "    <tr>\n",
       "      <th>1</th>\n",
       "      <td>1998</td>\n",
       "      <td>W02</td>\n",
       "      <td>3163</td>\n",
       "      <td>Connecticut</td>\n",
       "      <td>W</td>\n",
       "      <td>W</td>\n",
       "      <td>1</td>\n",
       "    </tr>\n",
       "    <tr>\n",
       "      <th>2</th>\n",
       "      <td>1998</td>\n",
       "      <td>W03</td>\n",
       "      <td>3112</td>\n",
       "      <td>Arizona</td>\n",
       "      <td>W</td>\n",
       "      <td>W</td>\n",
       "      <td>1</td>\n",
       "    </tr>\n",
       "    <tr>\n",
       "      <th>3</th>\n",
       "      <td>1998</td>\n",
       "      <td>W04</td>\n",
       "      <td>3301</td>\n",
       "      <td>NC State</td>\n",
       "      <td>W</td>\n",
       "      <td>W</td>\n",
       "      <td>1</td>\n",
       "    </tr>\n",
       "    <tr>\n",
       "      <th>4</th>\n",
       "      <td>1998</td>\n",
       "      <td>W05</td>\n",
       "      <td>3272</td>\n",
       "      <td>Memphis</td>\n",
       "      <td>W</td>\n",
       "      <td>W</td>\n",
       "      <td>1</td>\n",
       "    </tr>\n",
       "    <tr>\n",
       "      <th>...</th>\n",
       "      <td>...</td>\n",
       "      <td>...</td>\n",
       "      <td>...</td>\n",
       "      <td>...</td>\n",
       "      <td>...</td>\n",
       "      <td>...</td>\n",
       "      <td>...</td>\n",
       "    </tr>\n",
       "    <tr>\n",
       "      <th>1603</th>\n",
       "      <td>2023</td>\n",
       "      <td>Z12</td>\n",
       "      <td>3405</td>\n",
       "      <td>Toledo</td>\n",
       "      <td>Z</td>\n",
       "      <td>Z</td>\n",
       "      <td>4</td>\n",
       "    </tr>\n",
       "    <tr>\n",
       "      <th>1604</th>\n",
       "      <td>2023</td>\n",
       "      <td>Z13</td>\n",
       "      <td>3387</td>\n",
       "      <td>St Louis</td>\n",
       "      <td>Z</td>\n",
       "      <td>Z</td>\n",
       "      <td>4</td>\n",
       "    </tr>\n",
       "    <tr>\n",
       "      <th>1605</th>\n",
       "      <td>2023</td>\n",
       "      <td>Z14</td>\n",
       "      <td>3241</td>\n",
       "      <td>James Madison</td>\n",
       "      <td>Z</td>\n",
       "      <td>Z</td>\n",
       "      <td>4</td>\n",
       "    </tr>\n",
       "    <tr>\n",
       "      <th>1606</th>\n",
       "      <td>2023</td>\n",
       "      <td>Z15</td>\n",
       "      <td>3436</td>\n",
       "      <td>Vermont</td>\n",
       "      <td>Z</td>\n",
       "      <td>Z</td>\n",
       "      <td>4</td>\n",
       "    </tr>\n",
       "    <tr>\n",
       "      <th>1607</th>\n",
       "      <td>2023</td>\n",
       "      <td>Z16</td>\n",
       "      <td>3151</td>\n",
       "      <td>Chattanooga</td>\n",
       "      <td>Z</td>\n",
       "      <td>Z</td>\n",
       "      <td>4</td>\n",
       "    </tr>\n",
       "  </tbody>\n",
       "</table>\n",
       "<p>1608 rows × 7 columns</p>\n",
       "</div>"
      ],
      "text/plain": [
       "      Season Seed  TeamID       TeamName Region Region_  RegionNum\n",
       "0       1998  W01    3330   Old Dominion      W       W          1\n",
       "1       1998  W02    3163    Connecticut      W       W          1\n",
       "2       1998  W03    3112        Arizona      W       W          1\n",
       "3       1998  W04    3301       NC State      W       W          1\n",
       "4       1998  W05    3272        Memphis      W       W          1\n",
       "...      ...  ...     ...            ...    ...     ...        ...\n",
       "1603    2023  Z12    3405         Toledo      Z       Z          4\n",
       "1604    2023  Z13    3387       St Louis      Z       Z          4\n",
       "1605    2023  Z14    3241  James Madison      Z       Z          4\n",
       "1606    2023  Z15    3436        Vermont      Z       Z          4\n",
       "1607    2023  Z16    3151    Chattanooga      Z       Z          4\n",
       "\n",
       "[1608 rows x 7 columns]"
      ]
     },
     "execution_count": 50,
     "metadata": {},
     "output_type": "execute_result"
    }
   ],
   "source": [
    "seasons=seeds.Season.unique()\n",
    "for season in seasons:\n",
    "    seeds.loc[seeds.Season==season,'Region_']=seeds.loc[seeds.Season==season,'Region'].replace(seed_region_map[season])\n",
    "seeds['RegionNum']=seeds['Region'].replace(region_to_num)\n",
    "\n",
    "\n",
    "seed_df=seeds\n",
    "seed_df"
   ]
  },
  {
   "cell_type": "code",
   "execution_count": 51,
   "metadata": {},
   "outputs": [],
   "source": [
    "kaggle_names=sorted(teams['TeamName'].to_list())\n"
   ]
  },
  {
   "cell_type": "code",
   "execution_count": 52,
   "metadata": {},
   "outputs": [],
   "source": [
    "tournament_df=pd.merge(tounament,teams,left_on=['WTeamID'],right_on=['TeamID'],how='left')\n",
    "tournament_df=tournament_df.rename(columns={'TeamName':'WTeam'})\n",
    "tournament_df=tournament_df.drop('TeamID',axis=1)\n",
    "########\n",
    "tournament_df=pd.merge(tournament_df,teams,left_on=['LTeamID'],right_on=['TeamID'],how='left')\n",
    "tournament_df=tournament_df.rename(columns={'TeamName':'LTeam'})\n",
    "tournament_df['Round']=tournament_df['DayNum'].replace(round_map)\n",
    "########\n",
    "tournament_df=tournament_df.drop(['TeamID'],axis=1)\n",
    "tournament_df.columns=[C.title() for C in tournament_df.columns]\n"
   ]
  },
  {
   "cell_type": "code",
   "execution_count": 53,
   "metadata": {},
   "outputs": [],
   "source": [
    "#change the day num to round\n",
    "round_map_2021={\n",
    "140:3}\n",
    "tournament_df.loc[tournament_df.Season==2021,'Round']=tournament_df.loc[tournament_df.Season==2021,'Daynum'].replace(round_map_2021)"
   ]
  },
  {
   "cell_type": "code",
   "execution_count": 54,
   "metadata": {},
   "outputs": [],
   "source": [
    "## merge Seeds with the teams\n",
    "tourn_region=pd.merge(tournament_df,seeds[['TeamName','Seed','Season','Region','RegionNum']],\n",
    "left_on=['Season','Wteam'],\n",
    "right_on=['Season','TeamName'],\n",
    "how='left'\n",
    ")\n",
    "tourn_region=tourn_region.drop(['TeamName','Wloc','Numot'],axis=1)\n",
    "tourn_region=tourn_region.rename(columns={'Seed':'Wseed'})\n",
    "\n",
    "\n",
    "tourn_region=pd.merge(tourn_region,seeds[['Season','TeamName','Seed']],\n",
    "left_on=['Season','Lteam'],\n",
    "right_on=['Season','TeamName'],\n",
    "how='left'\n",
    ")\n",
    "\n",
    "tourn_region=tourn_region.rename(columns={'Seed':'Lseed'})\n",
    "tourn_region=tourn_region.drop('TeamName',axis=1)\n"
   ]
  },
  {
   "cell_type": "code",
   "execution_count": 55,
   "metadata": {},
   "outputs": [
    {
     "name": "stdout",
     "output_type": "stream",
     "text": [
      "63\n"
     ]
    },
    {
     "data": {
      "text/plain": [
       "(      Season  Daynum  Wteamid  Wscore  Lteamid  Lscore          Wteam  \\\n",
       " 0       1998     137     3104      94     3422      46        Alabama   \n",
       " 1       1998     137     3112      75     3365      63        Arizona   \n",
       " 2       1998     137     3163      93     3193      52    Connecticut   \n",
       " 3       1998     137     3198      59     3266      45   Florida Intl   \n",
       " 4       1998     137     3203      74     3208      72   G Washington   \n",
       " ...      ...     ...      ...     ...      ...     ...            ...   \n",
       " 1579    2023     147     3439      84     3326      74  Virginia Tech   \n",
       " 1580    2023     151     3234      77     3376      73           Iowa   \n",
       " 1581    2023     151     3261      79     3439      72            LSU   \n",
       " 1582    2023     153     3261     102     3234      85            LSU   \n",
       " 1583    2021     138     3124       1     3238       0         Oregon   \n",
       " \n",
       "                Lteam  Round Wseed Region  RegionNum Lseed  \n",
       " 0     UNC Greensboro      1   X02      X          2   X15  \n",
       " 1        Santa Clara      1   W03      W          1   W14  \n",
       " 2          Fairfield      1   W02      W          1   W15  \n",
       " 3          Marquette      1   Y07      Y          3   Y10  \n",
       " 4            Georgia      1   W10      W          1   W07  \n",
       " ...              ...    ...   ...    ...        ...   ...  \n",
       " 1579         Ohio St    147   Z01      Z          4   Z03  \n",
       " 1580  South Carolina    151   X02      X          2   W01  \n",
       " 1581   Virginia Tech    151   Y03      Y          3   Z01  \n",
       " 1582            Iowa    153   Y03      Y          3   X02  \n",
       " 1583             VCU      1   X07      X          2   X10  \n",
       " \n",
       " [1584 rows x 13 columns],\n",
       "       Season  Daynum  Wteamid  Wscore  Lteamid  Lscore   Wteam Lteam  Round  \\\n",
       " 1386    2021     138     3124       1     3238       0  Oregon   VCU      1   \n",
       " \n",
       "      Wseed Region  RegionNum Lseed  \n",
       " 1386   X07      X          2   X10  )"
      ]
     },
     "execution_count": 55,
     "metadata": {},
     "output_type": "execute_result"
    }
   ],
   "source": [
    "r=1\n",
    "print(tourn_region[(tourn_region.Season==2021)].shape[0])\n",
    "\n",
    "tourn2021=tourn_region[(tourn_region.Season==2021)]\n",
    "add_game=tourn2021.loc[[tourn2021.index[0]]].copy()\n",
    "\n",
    "add_game.Season=2021\n",
    "add_game.Daynum=138\n",
    "add_game.Wteam='Oregon'\n",
    "add_game.Wseed='X07'\n",
    "add_game.Wscore=1\n",
    "\n",
    "add_game.Lteam='VCU'\n",
    "add_game.Lseed='X10'\n",
    "add_game.Lscore=0\n",
    "\n",
    "add_game.Region='X'\n",
    "add_game.RegionNum=2\n",
    "add_game.Round=1\n",
    "\n",
    "tourn_region=pd.concat([tourn_region,add_game],axis=0,ignore_index=True)\n",
    "tourn_region,add_game"
   ]
  },
  {
   "cell_type": "code",
   "execution_count": 56,
   "metadata": {},
   "outputs": [
    {
     "name": "stdout",
     "output_type": "stream",
     "text": [
      "139\n"
     ]
    },
    {
     "data": {
      "text/plain": [
       "(16, 13)"
      ]
     },
     "metadata": {},
     "output_type": "display_data"
    },
    {
     "name": "stdout",
     "output_type": "stream",
     "text": [
      "3\n"
     ]
    },
    {
     "data": {
      "text/plain": [
       "(16, 13)"
      ]
     },
     "metadata": {},
     "output_type": "display_data"
    },
    {
     "name": "stdout",
     "output_type": "stream",
     "text": [
      "141\n"
     ]
    },
    {
     "data": {
      "text/plain": [
       "(8, 13)"
      ]
     },
     "metadata": {},
     "output_type": "display_data"
    },
    {
     "name": "stdout",
     "output_type": "stream",
     "text": [
      "142\n"
     ]
    },
    {
     "data": {
      "text/plain": [
       "(8, 13)"
      ]
     },
     "metadata": {},
     "output_type": "display_data"
    },
    {
     "name": "stdout",
     "output_type": "stream",
     "text": [
      "145\n"
     ]
    },
    {
     "data": {
      "text/plain": [
       "(4, 13)"
      ]
     },
     "metadata": {},
     "output_type": "display_data"
    },
    {
     "name": "stdout",
     "output_type": "stream",
     "text": [
      "146\n"
     ]
    },
    {
     "data": {
      "text/plain": [
       "(4, 13)"
      ]
     },
     "metadata": {},
     "output_type": "display_data"
    },
    {
     "name": "stdout",
     "output_type": "stream",
     "text": [
      "147\n"
     ]
    },
    {
     "data": {
      "text/plain": [
       "(2, 13)"
      ]
     },
     "metadata": {},
     "output_type": "display_data"
    },
    {
     "name": "stdout",
     "output_type": "stream",
     "text": [
      "148\n"
     ]
    },
    {
     "data": {
      "text/plain": [
       "(2, 13)"
      ]
     },
     "metadata": {},
     "output_type": "display_data"
    },
    {
     "name": "stdout",
     "output_type": "stream",
     "text": [
      "151\n"
     ]
    },
    {
     "data": {
      "text/plain": [
       "(2, 13)"
      ]
     },
     "metadata": {},
     "output_type": "display_data"
    },
    {
     "name": "stdout",
     "output_type": "stream",
     "text": [
      "153\n"
     ]
    },
    {
     "data": {
      "text/plain": [
       "(1, 13)"
      ]
     },
     "metadata": {},
     "output_type": "display_data"
    },
    {
     "name": "stdout",
     "output_type": "stream",
     "text": [
      "1\n"
     ]
    },
    {
     "data": {
      "text/plain": [
       "(1, 13)"
      ]
     },
     "metadata": {},
     "output_type": "display_data"
    }
   ],
   "source": [
    "## there was a no contest in 2022 so we have to add vcu and Oregon into the teams\n",
    "tourn2021=tourn_region[(tourn_region.Season==2021)]\n",
    "tourn2021=tourn_region[(tourn_region.Season==2021)]\n",
    "for i in tourn2021.Round.unique():\n",
    "    print(i)\n",
    "    display(tourn2021[tourn2021.Round==i].shape)\n"
   ]
  },
  {
   "cell_type": "code",
   "execution_count": 57,
   "metadata": {},
   "outputs": [
    {
     "data": {
      "text/plain": [
       "0        2\n",
       "1        3\n",
       "2        2\n",
       "3        7\n",
       "4       10\n",
       "        ..\n",
       "1579     1\n",
       "1580     2\n",
       "1581     3\n",
       "1582     3\n",
       "1583     7\n",
       "Name: Wseed, Length: 1584, dtype: int32"
      ]
     },
     "execution_count": 57,
     "metadata": {},
     "output_type": "execute_result"
    }
   ],
   "source": [
    "\n",
    "tourn_region['RegionNum']=tourn_region['RegionNum'].astype(int)\n",
    "\n",
    "tourn_region['Wseed'].str.replace(\"[a-zA-Z]\",\"\",regex=True).astype(int)"
   ]
  },
  {
   "cell_type": "code",
   "execution_count": 58,
   "metadata": {},
   "outputs": [],
   "source": [
    "\n",
    "tourn_region['RegionNum']=tourn_region['RegionNum'].astype(int)\n",
    "Wseed=(tourn_region['Wseed'].str.replace(\"[a-zA-Z]\",\"\",regex=True)).astype(int)\n",
    "Lseed=(tourn_region['Lseed'].str.replace(\"[a-zA-Z]\",\"\",regex=True)).astype(int)\n",
    "real_seeds=tourn_region[['Wseed','Lseed']].values\n",
    "choose_seeds=np.concatenate([Wseed.values.reshape(-1,1),Lseed.values.reshape(-1,1)],axis=1)\n"
   ]
  },
  {
   "cell_type": "code",
   "execution_count": 59,
   "metadata": {},
   "outputs": [],
   "source": [
    "teams=tourn_region[['Wteam','Lteam']].values\n",
    "\n",
    "\n",
    "for i in range(len(choose_seeds)):\n",
    "    g=choose_seeds[i,:]\n",
    "    if g[0]==g[1]:\n",
    "        choose_seeds[i,0]+=1\n",
    "        \n",
    "high_arg=np.argmax(choose_seeds,1).reshape(-1,1)\n",
    "low_arg=np.argmin(choose_seeds,1).reshape(-1,1)\n",
    "tourn_region['high_team']=''\n",
    "tourn_region['high_seed']=np.nan\n",
    "tourn_region['low_team']=''\n",
    "\n",
    "tourn_region['low_seed']=np.nan\n",
    "\n",
    "tourn_region.loc[tourn_region.index,'high_team']=np.take_along_axis(teams,high_arg,1)\n",
    "tourn_region.loc[tourn_region.index,'high_seed']=np.take_along_axis(real_seeds,high_arg,1)\n",
    "tourn_region.loc[tourn_region.index,'low_team']=np.take_along_axis(teams,low_arg,1)\n",
    "tourn_region.loc[tourn_region.index,'low_seed']=np.take_along_axis(real_seeds,low_arg,1)\n",
    "tourn_region=tourn_region.rename(columns={'Season':'Year'})\n",
    "tourn_region['Region']=tourn_region['Region'].replace(region_to_region)\n"
   ]
  },
  {
   "cell_type": "code",
   "execution_count": 60,
   "metadata": {},
   "outputs": [
    {
     "data": {
      "text/html": [
       "<div>\n",
       "<style scoped>\n",
       "    .dataframe tbody tr th:only-of-type {\n",
       "        vertical-align: middle;\n",
       "    }\n",
       "\n",
       "    .dataframe tbody tr th {\n",
       "        vertical-align: top;\n",
       "    }\n",
       "\n",
       "    .dataframe thead th {\n",
       "        text-align: right;\n",
       "    }\n",
       "</style>\n",
       "<table border=\"1\" class=\"dataframe\">\n",
       "  <thead>\n",
       "    <tr style=\"text-align: right;\">\n",
       "      <th></th>\n",
       "      <th>Year</th>\n",
       "      <th>Daynum</th>\n",
       "      <th>Wteamid</th>\n",
       "      <th>Wscore</th>\n",
       "      <th>Lteamid</th>\n",
       "      <th>Lscore</th>\n",
       "      <th>Wteam</th>\n",
       "      <th>Lteam</th>\n",
       "      <th>Round</th>\n",
       "      <th>Wseed</th>\n",
       "      <th>Region</th>\n",
       "      <th>RegionNum</th>\n",
       "      <th>Lseed</th>\n",
       "      <th>high_team</th>\n",
       "      <th>high_seed</th>\n",
       "      <th>low_team</th>\n",
       "      <th>low_seed</th>\n",
       "    </tr>\n",
       "  </thead>\n",
       "  <tbody>\n",
       "    <tr>\n",
       "      <th>0</th>\n",
       "      <td>1998</td>\n",
       "      <td>137</td>\n",
       "      <td>3104</td>\n",
       "      <td>94</td>\n",
       "      <td>3422</td>\n",
       "      <td>46</td>\n",
       "      <td>Alabama</td>\n",
       "      <td>UNC Greensboro</td>\n",
       "      <td>1</td>\n",
       "      <td>X02</td>\n",
       "      <td>Midwest</td>\n",
       "      <td>2</td>\n",
       "      <td>X15</td>\n",
       "      <td>UNC Greensboro</td>\n",
       "      <td>X15</td>\n",
       "      <td>Alabama</td>\n",
       "      <td>X02</td>\n",
       "    </tr>\n",
       "    <tr>\n",
       "      <th>1</th>\n",
       "      <td>1998</td>\n",
       "      <td>137</td>\n",
       "      <td>3112</td>\n",
       "      <td>75</td>\n",
       "      <td>3365</td>\n",
       "      <td>63</td>\n",
       "      <td>Arizona</td>\n",
       "      <td>Santa Clara</td>\n",
       "      <td>1</td>\n",
       "      <td>W03</td>\n",
       "      <td>East</td>\n",
       "      <td>1</td>\n",
       "      <td>W14</td>\n",
       "      <td>Santa Clara</td>\n",
       "      <td>W14</td>\n",
       "      <td>Arizona</td>\n",
       "      <td>W03</td>\n",
       "    </tr>\n",
       "    <tr>\n",
       "      <th>2</th>\n",
       "      <td>1998</td>\n",
       "      <td>137</td>\n",
       "      <td>3163</td>\n",
       "      <td>93</td>\n",
       "      <td>3193</td>\n",
       "      <td>52</td>\n",
       "      <td>Connecticut</td>\n",
       "      <td>Fairfield</td>\n",
       "      <td>1</td>\n",
       "      <td>W02</td>\n",
       "      <td>East</td>\n",
       "      <td>1</td>\n",
       "      <td>W15</td>\n",
       "      <td>Fairfield</td>\n",
       "      <td>W15</td>\n",
       "      <td>Connecticut</td>\n",
       "      <td>W02</td>\n",
       "    </tr>\n",
       "    <tr>\n",
       "      <th>3</th>\n",
       "      <td>1998</td>\n",
       "      <td>137</td>\n",
       "      <td>3198</td>\n",
       "      <td>59</td>\n",
       "      <td>3266</td>\n",
       "      <td>45</td>\n",
       "      <td>Florida Intl</td>\n",
       "      <td>Marquette</td>\n",
       "      <td>1</td>\n",
       "      <td>Y07</td>\n",
       "      <td>South</td>\n",
       "      <td>3</td>\n",
       "      <td>Y10</td>\n",
       "      <td>Marquette</td>\n",
       "      <td>Y10</td>\n",
       "      <td>Florida Intl</td>\n",
       "      <td>Y07</td>\n",
       "    </tr>\n",
       "    <tr>\n",
       "      <th>4</th>\n",
       "      <td>1998</td>\n",
       "      <td>137</td>\n",
       "      <td>3203</td>\n",
       "      <td>74</td>\n",
       "      <td>3208</td>\n",
       "      <td>72</td>\n",
       "      <td>G Washington</td>\n",
       "      <td>Georgia</td>\n",
       "      <td>1</td>\n",
       "      <td>W10</td>\n",
       "      <td>East</td>\n",
       "      <td>1</td>\n",
       "      <td>W07</td>\n",
       "      <td>G Washington</td>\n",
       "      <td>W10</td>\n",
       "      <td>Georgia</td>\n",
       "      <td>W07</td>\n",
       "    </tr>\n",
       "    <tr>\n",
       "      <th>...</th>\n",
       "      <td>...</td>\n",
       "      <td>...</td>\n",
       "      <td>...</td>\n",
       "      <td>...</td>\n",
       "      <td>...</td>\n",
       "      <td>...</td>\n",
       "      <td>...</td>\n",
       "      <td>...</td>\n",
       "      <td>...</td>\n",
       "      <td>...</td>\n",
       "      <td>...</td>\n",
       "      <td>...</td>\n",
       "      <td>...</td>\n",
       "      <td>...</td>\n",
       "      <td>...</td>\n",
       "      <td>...</td>\n",
       "      <td>...</td>\n",
       "    </tr>\n",
       "    <tr>\n",
       "      <th>1579</th>\n",
       "      <td>2023</td>\n",
       "      <td>147</td>\n",
       "      <td>3439</td>\n",
       "      <td>84</td>\n",
       "      <td>3326</td>\n",
       "      <td>74</td>\n",
       "      <td>Virginia Tech</td>\n",
       "      <td>Ohio St</td>\n",
       "      <td>147</td>\n",
       "      <td>Z01</td>\n",
       "      <td>West</td>\n",
       "      <td>4</td>\n",
       "      <td>Z03</td>\n",
       "      <td>Ohio St</td>\n",
       "      <td>Z03</td>\n",
       "      <td>Virginia Tech</td>\n",
       "      <td>Z01</td>\n",
       "    </tr>\n",
       "    <tr>\n",
       "      <th>1580</th>\n",
       "      <td>2023</td>\n",
       "      <td>151</td>\n",
       "      <td>3234</td>\n",
       "      <td>77</td>\n",
       "      <td>3376</td>\n",
       "      <td>73</td>\n",
       "      <td>Iowa</td>\n",
       "      <td>South Carolina</td>\n",
       "      <td>151</td>\n",
       "      <td>X02</td>\n",
       "      <td>Midwest</td>\n",
       "      <td>2</td>\n",
       "      <td>W01</td>\n",
       "      <td>Iowa</td>\n",
       "      <td>X02</td>\n",
       "      <td>South Carolina</td>\n",
       "      <td>W01</td>\n",
       "    </tr>\n",
       "    <tr>\n",
       "      <th>1581</th>\n",
       "      <td>2023</td>\n",
       "      <td>151</td>\n",
       "      <td>3261</td>\n",
       "      <td>79</td>\n",
       "      <td>3439</td>\n",
       "      <td>72</td>\n",
       "      <td>LSU</td>\n",
       "      <td>Virginia Tech</td>\n",
       "      <td>151</td>\n",
       "      <td>Y03</td>\n",
       "      <td>South</td>\n",
       "      <td>3</td>\n",
       "      <td>Z01</td>\n",
       "      <td>LSU</td>\n",
       "      <td>Y03</td>\n",
       "      <td>Virginia Tech</td>\n",
       "      <td>Z01</td>\n",
       "    </tr>\n",
       "    <tr>\n",
       "      <th>1582</th>\n",
       "      <td>2023</td>\n",
       "      <td>153</td>\n",
       "      <td>3261</td>\n",
       "      <td>102</td>\n",
       "      <td>3234</td>\n",
       "      <td>85</td>\n",
       "      <td>LSU</td>\n",
       "      <td>Iowa</td>\n",
       "      <td>153</td>\n",
       "      <td>Y03</td>\n",
       "      <td>South</td>\n",
       "      <td>3</td>\n",
       "      <td>X02</td>\n",
       "      <td>LSU</td>\n",
       "      <td>Y03</td>\n",
       "      <td>Iowa</td>\n",
       "      <td>X02</td>\n",
       "    </tr>\n",
       "    <tr>\n",
       "      <th>1583</th>\n",
       "      <td>2021</td>\n",
       "      <td>138</td>\n",
       "      <td>3124</td>\n",
       "      <td>1</td>\n",
       "      <td>3238</td>\n",
       "      <td>0</td>\n",
       "      <td>Oregon</td>\n",
       "      <td>VCU</td>\n",
       "      <td>1</td>\n",
       "      <td>X07</td>\n",
       "      <td>Midwest</td>\n",
       "      <td>2</td>\n",
       "      <td>X10</td>\n",
       "      <td>VCU</td>\n",
       "      <td>X10</td>\n",
       "      <td>Oregon</td>\n",
       "      <td>X07</td>\n",
       "    </tr>\n",
       "  </tbody>\n",
       "</table>\n",
       "<p>1584 rows × 17 columns</p>\n",
       "</div>"
      ],
      "text/plain": [
       "      Year  Daynum  Wteamid  Wscore  Lteamid  Lscore          Wteam  \\\n",
       "0     1998     137     3104      94     3422      46        Alabama   \n",
       "1     1998     137     3112      75     3365      63        Arizona   \n",
       "2     1998     137     3163      93     3193      52    Connecticut   \n",
       "3     1998     137     3198      59     3266      45   Florida Intl   \n",
       "4     1998     137     3203      74     3208      72   G Washington   \n",
       "...    ...     ...      ...     ...      ...     ...            ...   \n",
       "1579  2023     147     3439      84     3326      74  Virginia Tech   \n",
       "1580  2023     151     3234      77     3376      73           Iowa   \n",
       "1581  2023     151     3261      79     3439      72            LSU   \n",
       "1582  2023     153     3261     102     3234      85            LSU   \n",
       "1583  2021     138     3124       1     3238       0         Oregon   \n",
       "\n",
       "               Lteam  Round Wseed   Region  RegionNum Lseed       high_team  \\\n",
       "0     UNC Greensboro      1   X02  Midwest          2   X15  UNC Greensboro   \n",
       "1        Santa Clara      1   W03     East          1   W14     Santa Clara   \n",
       "2          Fairfield      1   W02     East          1   W15       Fairfield   \n",
       "3          Marquette      1   Y07    South          3   Y10       Marquette   \n",
       "4            Georgia      1   W10     East          1   W07    G Washington   \n",
       "...              ...    ...   ...      ...        ...   ...             ...   \n",
       "1579         Ohio St    147   Z01     West          4   Z03         Ohio St   \n",
       "1580  South Carolina    151   X02  Midwest          2   W01            Iowa   \n",
       "1581   Virginia Tech    151   Y03    South          3   Z01             LSU   \n",
       "1582            Iowa    153   Y03    South          3   X02             LSU   \n",
       "1583             VCU      1   X07  Midwest          2   X10             VCU   \n",
       "\n",
       "     high_seed        low_team low_seed  \n",
       "0          X15         Alabama      X02  \n",
       "1          W14         Arizona      W03  \n",
       "2          W15     Connecticut      W02  \n",
       "3          Y10    Florida Intl      Y07  \n",
       "4          W10         Georgia      W07  \n",
       "...        ...             ...      ...  \n",
       "1579       Z03   Virginia Tech      Z01  \n",
       "1580       X02  South Carolina      W01  \n",
       "1581       Y03   Virginia Tech      Z01  \n",
       "1582       Y03            Iowa      X02  \n",
       "1583       X10          Oregon      X07  \n",
       "\n",
       "[1584 rows x 17 columns]"
      ]
     },
     "execution_count": 60,
     "metadata": {},
     "output_type": "execute_result"
    }
   ],
   "source": [
    "tourn_region"
   ]
  },
  {
   "cell_type": "code",
   "execution_count": 61,
   "metadata": {},
   "outputs": [],
   "source": [
    "base_columns = ['Year','Round','Daynum','Region','RegionNum']\n",
    "team0_columns = ['high_team','high_seed']\n",
    "team1_columns = ['low_team','low_seed']\n",
    "rename_columns=['Team','Seed']"
   ]
  },
  {
   "cell_type": "code",
   "execution_count": 62,
   "metadata": {},
   "outputs": [
    {
     "data": {
      "text/html": [
       "<div>\n",
       "<style scoped>\n",
       "    .dataframe tbody tr th:only-of-type {\n",
       "        vertical-align: middle;\n",
       "    }\n",
       "\n",
       "    .dataframe tbody tr th {\n",
       "        vertical-align: top;\n",
       "    }\n",
       "\n",
       "    .dataframe thead th {\n",
       "        text-align: right;\n",
       "    }\n",
       "</style>\n",
       "<table border=\"1\" class=\"dataframe\">\n",
       "  <thead>\n",
       "    <tr style=\"text-align: right;\">\n",
       "      <th></th>\n",
       "      <th>Seed</th>\n",
       "      <th>GameRound</th>\n",
       "      <th>GameSlot</th>\n",
       "      <th>Daynum</th>\n",
       "      <th>LateDayNum</th>\n",
       "      <th>EarlyDayNum</th>\n",
       "    </tr>\n",
       "  </thead>\n",
       "  <tbody>\n",
       "    <tr>\n",
       "      <th>0</th>\n",
       "      <td>W01</td>\n",
       "      <td>1</td>\n",
       "      <td>R1W1</td>\n",
       "      <td>136</td>\n",
       "      <td>137.0</td>\n",
       "      <td>NaN</td>\n",
       "    </tr>\n",
       "    <tr>\n",
       "      <th>1</th>\n",
       "      <td>W01</td>\n",
       "      <td>2</td>\n",
       "      <td>R2W1</td>\n",
       "      <td>138</td>\n",
       "      <td>139.0</td>\n",
       "      <td>NaN</td>\n",
       "    </tr>\n",
       "    <tr>\n",
       "      <th>2</th>\n",
       "      <td>W01</td>\n",
       "      <td>3</td>\n",
       "      <td>R3W1</td>\n",
       "      <td>143</td>\n",
       "      <td>144.0</td>\n",
       "      <td>NaN</td>\n",
       "    </tr>\n",
       "    <tr>\n",
       "      <th>3</th>\n",
       "      <td>W01</td>\n",
       "      <td>4</td>\n",
       "      <td>R4W1</td>\n",
       "      <td>145</td>\n",
       "      <td>146.0</td>\n",
       "      <td>NaN</td>\n",
       "    </tr>\n",
       "    <tr>\n",
       "      <th>4</th>\n",
       "      <td>W01</td>\n",
       "      <td>5</td>\n",
       "      <td>R5WX</td>\n",
       "      <td>152</td>\n",
       "      <td>152.0</td>\n",
       "      <td>NaN</td>\n",
       "    </tr>\n",
       "    <tr>\n",
       "      <th>...</th>\n",
       "      <td>...</td>\n",
       "      <td>...</td>\n",
       "      <td>...</td>\n",
       "      <td>...</td>\n",
       "      <td>...</td>\n",
       "      <td>...</td>\n",
       "    </tr>\n",
       "    <tr>\n",
       "      <th>715</th>\n",
       "      <td>Z16b</td>\n",
       "      <td>2</td>\n",
       "      <td>R2Z1</td>\n",
       "      <td>139</td>\n",
       "      <td>NaN</td>\n",
       "      <td>138.0</td>\n",
       "    </tr>\n",
       "    <tr>\n",
       "      <th>716</th>\n",
       "      <td>Z16b</td>\n",
       "      <td>3</td>\n",
       "      <td>R3Z1</td>\n",
       "      <td>144</td>\n",
       "      <td>NaN</td>\n",
       "      <td>143.0</td>\n",
       "    </tr>\n",
       "    <tr>\n",
       "      <th>717</th>\n",
       "      <td>Z16b</td>\n",
       "      <td>4</td>\n",
       "      <td>R4Z1</td>\n",
       "      <td>146</td>\n",
       "      <td>NaN</td>\n",
       "      <td>145.0</td>\n",
       "    </tr>\n",
       "    <tr>\n",
       "      <th>718</th>\n",
       "      <td>Z16b</td>\n",
       "      <td>5</td>\n",
       "      <td>R5YZ</td>\n",
       "      <td>152</td>\n",
       "      <td>NaN</td>\n",
       "      <td>152.0</td>\n",
       "    </tr>\n",
       "    <tr>\n",
       "      <th>719</th>\n",
       "      <td>Z16b</td>\n",
       "      <td>6</td>\n",
       "      <td>R6CH</td>\n",
       "      <td>154</td>\n",
       "      <td>NaN</td>\n",
       "      <td>154.0</td>\n",
       "    </tr>\n",
       "  </tbody>\n",
       "</table>\n",
       "<p>1440 rows × 6 columns</p>\n",
       "</div>"
      ],
      "text/plain": [
       "     Seed  GameRound GameSlot  Daynum  LateDayNum  EarlyDayNum\n",
       "0     W01          1     R1W1     136       137.0          NaN\n",
       "1     W01          2     R2W1     138       139.0          NaN\n",
       "2     W01          3     R3W1     143       144.0          NaN\n",
       "3     W01          4     R4W1     145       146.0          NaN\n",
       "4     W01          5     R5WX     152       152.0          NaN\n",
       "..    ...        ...      ...     ...         ...          ...\n",
       "715  Z16b          2     R2Z1     139         NaN        138.0\n",
       "716  Z16b          3     R3Z1     144         NaN        143.0\n",
       "717  Z16b          4     R4Z1     146         NaN        145.0\n",
       "718  Z16b          5     R5YZ     152         NaN        152.0\n",
       "719  Z16b          6     R6CH     154         NaN        154.0\n",
       "\n",
       "[1440 rows x 6 columns]"
      ]
     },
     "metadata": {},
     "output_type": "display_data"
    },
    {
     "data": {
      "text/html": [
       "<div>\n",
       "<style scoped>\n",
       "    .dataframe tbody tr th:only-of-type {\n",
       "        vertical-align: middle;\n",
       "    }\n",
       "\n",
       "    .dataframe tbody tr th {\n",
       "        vertical-align: top;\n",
       "    }\n",
       "\n",
       "    .dataframe thead th {\n",
       "        text-align: right;\n",
       "    }\n",
       "</style>\n",
       "<table border=\"1\" class=\"dataframe\">\n",
       "  <thead>\n",
       "    <tr style=\"text-align: right;\">\n",
       "      <th></th>\n",
       "      <th>Year</th>\n",
       "      <th>Daynum</th>\n",
       "      <th>Region</th>\n",
       "      <th>RegionNum</th>\n",
       "      <th>Team</th>\n",
       "      <th>Seed</th>\n",
       "      <th>Team_Position</th>\n",
       "      <th>Mapped_Round</th>\n",
       "    </tr>\n",
       "  </thead>\n",
       "  <tbody>\n",
       "    <tr>\n",
       "      <th>0</th>\n",
       "      <td>1998</td>\n",
       "      <td>137</td>\n",
       "      <td>Midwest</td>\n",
       "      <td>2</td>\n",
       "      <td>UNC Greensboro</td>\n",
       "      <td>X15</td>\n",
       "      <td>high</td>\n",
       "      <td>1</td>\n",
       "    </tr>\n",
       "    <tr>\n",
       "      <th>1</th>\n",
       "      <td>1998</td>\n",
       "      <td>137</td>\n",
       "      <td>East</td>\n",
       "      <td>1</td>\n",
       "      <td>Santa Clara</td>\n",
       "      <td>W14</td>\n",
       "      <td>high</td>\n",
       "      <td>1</td>\n",
       "    </tr>\n",
       "    <tr>\n",
       "      <th>2</th>\n",
       "      <td>1998</td>\n",
       "      <td>137</td>\n",
       "      <td>East</td>\n",
       "      <td>1</td>\n",
       "      <td>Fairfield</td>\n",
       "      <td>W15</td>\n",
       "      <td>high</td>\n",
       "      <td>1</td>\n",
       "    </tr>\n",
       "    <tr>\n",
       "      <th>3</th>\n",
       "      <td>1998</td>\n",
       "      <td>137</td>\n",
       "      <td>South</td>\n",
       "      <td>3</td>\n",
       "      <td>Marquette</td>\n",
       "      <td>Y10</td>\n",
       "      <td>high</td>\n",
       "      <td>1</td>\n",
       "    </tr>\n",
       "    <tr>\n",
       "      <th>4</th>\n",
       "      <td>1998</td>\n",
       "      <td>137</td>\n",
       "      <td>East</td>\n",
       "      <td>1</td>\n",
       "      <td>G Washington</td>\n",
       "      <td>W10</td>\n",
       "      <td>high</td>\n",
       "      <td>1</td>\n",
       "    </tr>\n",
       "    <tr>\n",
       "      <th>...</th>\n",
       "      <td>...</td>\n",
       "      <td>...</td>\n",
       "      <td>...</td>\n",
       "      <td>...</td>\n",
       "      <td>...</td>\n",
       "      <td>...</td>\n",
       "      <td>...</td>\n",
       "      <td>...</td>\n",
       "    </tr>\n",
       "    <tr>\n",
       "      <th>1579</th>\n",
       "      <td>2023</td>\n",
       "      <td>147</td>\n",
       "      <td>West</td>\n",
       "      <td>4</td>\n",
       "      <td>Virginia Tech</td>\n",
       "      <td>Z01</td>\n",
       "      <td>low</td>\n",
       "      <td>147</td>\n",
       "    </tr>\n",
       "    <tr>\n",
       "      <th>1580</th>\n",
       "      <td>2023</td>\n",
       "      <td>151</td>\n",
       "      <td>Midwest</td>\n",
       "      <td>2</td>\n",
       "      <td>South Carolina</td>\n",
       "      <td>W01</td>\n",
       "      <td>low</td>\n",
       "      <td>151</td>\n",
       "    </tr>\n",
       "    <tr>\n",
       "      <th>1581</th>\n",
       "      <td>2023</td>\n",
       "      <td>151</td>\n",
       "      <td>South</td>\n",
       "      <td>3</td>\n",
       "      <td>Virginia Tech</td>\n",
       "      <td>Z01</td>\n",
       "      <td>low</td>\n",
       "      <td>151</td>\n",
       "    </tr>\n",
       "    <tr>\n",
       "      <th>1582</th>\n",
       "      <td>2023</td>\n",
       "      <td>153</td>\n",
       "      <td>South</td>\n",
       "      <td>3</td>\n",
       "      <td>Iowa</td>\n",
       "      <td>X02</td>\n",
       "      <td>low</td>\n",
       "      <td>153</td>\n",
       "    </tr>\n",
       "    <tr>\n",
       "      <th>1583</th>\n",
       "      <td>2021</td>\n",
       "      <td>138</td>\n",
       "      <td>Midwest</td>\n",
       "      <td>2</td>\n",
       "      <td>Oregon</td>\n",
       "      <td>X07</td>\n",
       "      <td>low</td>\n",
       "      <td>1</td>\n",
       "    </tr>\n",
       "  </tbody>\n",
       "</table>\n",
       "<p>3168 rows × 8 columns</p>\n",
       "</div>"
      ],
      "text/plain": [
       "      Year  Daynum   Region  RegionNum            Team Seed Team_Position  \\\n",
       "0     1998     137  Midwest          2  UNC Greensboro  X15          high   \n",
       "1     1998     137     East          1     Santa Clara  W14          high   \n",
       "2     1998     137     East          1       Fairfield  W15          high   \n",
       "3     1998     137    South          3       Marquette  Y10          high   \n",
       "4     1998     137     East          1    G Washington  W10          high   \n",
       "...    ...     ...      ...        ...             ...  ...           ...   \n",
       "1579  2023     147     West          4   Virginia Tech  Z01           low   \n",
       "1580  2023     151  Midwest          2  South Carolina  W01           low   \n",
       "1581  2023     151    South          3   Virginia Tech  Z01           low   \n",
       "1582  2023     153    South          3            Iowa  X02           low   \n",
       "1583  2021     138  Midwest          2          Oregon  X07           low   \n",
       "\n",
       "      Mapped_Round  \n",
       "0                1  \n",
       "1                1  \n",
       "2                1  \n",
       "3                1  \n",
       "4                1  \n",
       "...            ...  \n",
       "1579           147  \n",
       "1580           151  \n",
       "1581           151  \n",
       "1582           153  \n",
       "1583             1  \n",
       "\n",
       "[3168 rows x 8 columns]"
      ]
     },
     "execution_count": 62,
     "metadata": {},
     "output_type": "execute_result"
    }
   ],
   "source": [
    "high_seed_df = tourn_region[base_columns + team0_columns].rename(columns=dict(zip(team0_columns,rename_columns))).copy()\n",
    "low_seed_df  = tourn_region[base_columns + team1_columns].rename(columns=dict(zip(team1_columns,rename_columns))).copy()\n",
    "\n",
    "high_seed_df['Team_Position'] = 'high'\n",
    "low_seed_df['Team_Position'] = 'low'\n",
    "raw_long_df = pd.concat([high_seed_df, low_seed_df],axis=0)\n",
    "raw_long_df ['Mapped_Round']=raw_long_df ['Round']\n",
    "raw_long_df=raw_long_df.drop('Round',axis=1)\n",
    "display(double_rounds)\n",
    "raw_long_df\n"
   ]
  },
  {
   "cell_type": "code",
   "execution_count": 63,
   "metadata": {},
   "outputs": [
    {
     "data": {
      "text/plain": [
       "0"
      ]
     },
     "execution_count": 63,
     "metadata": {},
     "output_type": "execute_result"
    }
   ],
   "source": [
    "tourn_with_rounds=pd.merge(raw_long_df,double_rounds,left_on=['Daynum','Seed'],right_on=['Daynum','Seed'])\n",
    "tourn_with_rounds.Seed.isna().sum()"
   ]
  },
  {
   "cell_type": "code",
   "execution_count": 64,
   "metadata": {},
   "outputs": [],
   "source": [
    "new_year=seed_df[seed_df.Season==2023]\n",
    "new_year=new_year.rename(columns={'TeamName':'Team','Season':'Year'})\n",
    "new_year['Seed']=new_year['Seed']#.str.replace(\"[a-zA-Z]\",\"\",regex=True).astype(int)\n",
    "new_year['GameRound']=1\n"
   ]
  },
  {
   "cell_type": "code",
   "execution_count": 65,
   "metadata": {},
   "outputs": [
    {
     "data": {
      "text/plain": [
       "(Daynum  GameRound\n",
       " 137     1            32\n",
       " 138     2            32\n",
       " 139     2            16\n",
       " 144     3             8\n",
       " 145     4             8\n",
       " 146     4             4\n",
       " Name: count, dtype: int64,\n",
       " (100, 2),\n",
       " 100)"
      ]
     },
     "execution_count": 65,
     "metadata": {},
     "output_type": "execute_result"
    }
   ],
   "source": [
    "long_tourn =tourn_with_rounds.reset_index().copy()\n",
    "y2021idx=long_tourn[(long_tourn.Year==2019)].index\n",
    "# long_tourn .loc[y2021idx,'GameRound']=long_tourn .loc[y2021idx,'Mapped_Round']\n",
    "\n",
    "y2022=long_tourn .loc[y2021idx,['Daynum','GameRound']]\n",
    "y2022.value_counts().sort_index(),y2022.shape,y2022.value_counts().sum()\n",
    "# long_tourn.loc[y2021idx]"
   ]
  },
  {
   "cell_type": "code",
   "execution_count": 66,
   "metadata": {},
   "outputs": [
    {
     "data": {
      "text/plain": [
       "(Daynum  GameRound\n",
       " 135     0             4\n",
       " 136     1             4\n",
       " 137     1            32\n",
       " 138     2            32\n",
       " 139     2            16\n",
       " 144     3             8\n",
       " 145     4             8\n",
       " 146     4             4\n",
       " Name: count, dtype: int64,\n",
       " (108, 2),\n",
       " 108)"
      ]
     },
     "execution_count": 66,
     "metadata": {},
     "output_type": "execute_result"
    }
   ],
   "source": [
    "\n",
    "\n",
    "long_tourn =tourn_with_rounds.reset_index().copy()\n",
    "y2021idx=long_tourn[(long_tourn.Year==2022)].index\n",
    "# long_tourn .loc[y2021idx,'GameRound']=long_tourn .loc[y2021idx,'Mapped_Round']\n",
    "\n",
    "y2022=long_tourn .loc[y2021idx,['Daynum','GameRound']]\n",
    "y2022.value_counts().sort_index(),y2022.shape,y2022.value_counts().sum()\n",
    "# long_tourn.loc[y2021idx]"
   ]
  },
  {
   "cell_type": "code",
   "execution_count": 67,
   "metadata": {},
   "outputs": [
    {
     "data": {
      "text/plain": [
       "(Daynum  GameRound\n",
       " 138     2             2\n",
       " 139     2            32\n",
       " 145     4             8\n",
       " 146     4             8\n",
       " Name: count, dtype: int64,\n",
       " (50, 2),\n",
       " 50)"
      ]
     },
     "execution_count": 67,
     "metadata": {},
     "output_type": "execute_result"
    }
   ],
   "source": [
    "\n",
    "long_tourn =tourn_with_rounds.reset_index().copy()\n",
    "y2021idx=long_tourn[(long_tourn.Year==2021)].index\n",
    "# long_tourn .loc[y2021idx,'GameRound']=long_tourn .loc[y2021idx,'Mapped_Round']\n",
    "\n",
    "y2021=long_tourn .loc[y2021idx,['Daynum','GameRound']]\n",
    "y2021.value_counts().sort_index(),y2021.shape,y2021.value_counts().sum()"
   ]
  },
  {
   "cell_type": "code",
   "execution_count": 68,
   "metadata": {},
   "outputs": [],
   "source": [
    "#change the day num to round\n",
    "round_map_2021={\n",
    "         ## first 4\n",
    "          136:0,## first 4\n",
    "\n",
    "          ## first round\n",
    "          137:1,\n",
    "          138:1,\n",
    "\n",
    "          # # second round\n",
    "\n",
    "          139:2,\n",
    "          \n",
    "          # # sweet 16\n",
    "          145:3,\n",
    "          146:3,\n",
    "\n",
    "          # # elite 8        \n",
    "          147:4,\n",
    "          148:4,            \n",
    "          # # final 4  \n",
    "          152:5,\n",
    "          # # chamionship \n",
    "          154:6}"
   ]
  },
  {
   "cell_type": "code",
   "execution_count": 69,
   "metadata": {},
   "outputs": [
    {
     "data": {
      "text/html": [
       "<div>\n",
       "<style scoped>\n",
       "    .dataframe tbody tr th:only-of-type {\n",
       "        vertical-align: middle;\n",
       "    }\n",
       "\n",
       "    .dataframe tbody tr th {\n",
       "        vertical-align: top;\n",
       "    }\n",
       "\n",
       "    .dataframe thead th {\n",
       "        text-align: right;\n",
       "    }\n",
       "</style>\n",
       "<table border=\"1\" class=\"dataframe\">\n",
       "  <thead>\n",
       "    <tr style=\"text-align: right;\">\n",
       "      <th></th>\n",
       "      <th>index</th>\n",
       "      <th>Year</th>\n",
       "      <th>Daynum</th>\n",
       "      <th>Region</th>\n",
       "      <th>RegionNum</th>\n",
       "      <th>Team</th>\n",
       "      <th>Seed</th>\n",
       "      <th>Team_Position</th>\n",
       "      <th>Mapped_Round</th>\n",
       "      <th>Round</th>\n",
       "      <th>GameSlot</th>\n",
       "    </tr>\n",
       "  </thead>\n",
       "  <tbody>\n",
       "    <tr>\n",
       "      <th>1318</th>\n",
       "      <td>1318.0</td>\n",
       "      <td>1998</td>\n",
       "      <td>137.0</td>\n",
       "      <td>East</td>\n",
       "      <td>1</td>\n",
       "      <td>Old Dominion</td>\n",
       "      <td>1</td>\n",
       "      <td>low</td>\n",
       "      <td>1.0</td>\n",
       "      <td>1</td>\n",
       "      <td>R1W1</td>\n",
       "    </tr>\n",
       "    <tr>\n",
       "      <th>1323</th>\n",
       "      <td>1323.0</td>\n",
       "      <td>1998</td>\n",
       "      <td>137.0</td>\n",
       "      <td>Midwest</td>\n",
       "      <td>2</td>\n",
       "      <td>Texas Tech</td>\n",
       "      <td>1</td>\n",
       "      <td>low</td>\n",
       "      <td>1.0</td>\n",
       "      <td>1</td>\n",
       "      <td>R1X1</td>\n",
       "    </tr>\n",
       "    <tr>\n",
       "      <th>1255</th>\n",
       "      <td>1255.0</td>\n",
       "      <td>1998</td>\n",
       "      <td>137.0</td>\n",
       "      <td>Midwest</td>\n",
       "      <td>2</td>\n",
       "      <td>Alabama</td>\n",
       "      <td>2</td>\n",
       "      <td>low</td>\n",
       "      <td>1.0</td>\n",
       "      <td>1</td>\n",
       "      <td>R1X2</td>\n",
       "    </tr>\n",
       "    <tr>\n",
       "      <th>1268</th>\n",
       "      <td>1268.0</td>\n",
       "      <td>1998</td>\n",
       "      <td>137.0</td>\n",
       "      <td>East</td>\n",
       "      <td>1</td>\n",
       "      <td>Connecticut</td>\n",
       "      <td>2</td>\n",
       "      <td>low</td>\n",
       "      <td>1.0</td>\n",
       "      <td>1</td>\n",
       "      <td>R1W2</td>\n",
       "    </tr>\n",
       "    <tr>\n",
       "      <th>1306</th>\n",
       "      <td>1306.0</td>\n",
       "      <td>1998</td>\n",
       "      <td>137.0</td>\n",
       "      <td>South</td>\n",
       "      <td>3</td>\n",
       "      <td>North Carolina</td>\n",
       "      <td>2</td>\n",
       "      <td>low</td>\n",
       "      <td>1.0</td>\n",
       "      <td>1</td>\n",
       "      <td>R1Y2</td>\n",
       "    </tr>\n",
       "    <tr>\n",
       "      <th>...</th>\n",
       "      <td>...</td>\n",
       "      <td>...</td>\n",
       "      <td>...</td>\n",
       "      <td>...</td>\n",
       "      <td>...</td>\n",
       "      <td>...</td>\n",
       "      <td>...</td>\n",
       "      <td>...</td>\n",
       "      <td>...</td>\n",
       "      <td>...</td>\n",
       "      <td>...</td>\n",
       "    </tr>\n",
       "    <tr>\n",
       "      <th>2319</th>\n",
       "      <td>1658.0</td>\n",
       "      <td>2023</td>\n",
       "      <td>145.0</td>\n",
       "      <td>East</td>\n",
       "      <td>1</td>\n",
       "      <td>TBD</td>\n",
       "      <td>64</td>\n",
       "      <td>low</td>\n",
       "      <td>4.0</td>\n",
       "      <td>4</td>\n",
       "      <td>R4W1</td>\n",
       "    </tr>\n",
       "    <tr>\n",
       "      <th>2320</th>\n",
       "      <td>1701.0</td>\n",
       "      <td>2023</td>\n",
       "      <td>145.0</td>\n",
       "      <td>East</td>\n",
       "      <td>1</td>\n",
       "      <td>TBD</td>\n",
       "      <td>64</td>\n",
       "      <td>low</td>\n",
       "      <td>4.0</td>\n",
       "      <td>4</td>\n",
       "      <td>R4W1</td>\n",
       "    </tr>\n",
       "    <tr>\n",
       "      <th>2333</th>\n",
       "      <td>2019.0</td>\n",
       "      <td>2023</td>\n",
       "      <td>145.0</td>\n",
       "      <td>West</td>\n",
       "      <td>4</td>\n",
       "      <td>TBD</td>\n",
       "      <td>64</td>\n",
       "      <td>low</td>\n",
       "      <td>4.0</td>\n",
       "      <td>4</td>\n",
       "      <td>R4Z1</td>\n",
       "    </tr>\n",
       "    <tr>\n",
       "      <th>2337</th>\n",
       "      <td>2153.0</td>\n",
       "      <td>2023</td>\n",
       "      <td>146.0</td>\n",
       "      <td>Midwest</td>\n",
       "      <td>2</td>\n",
       "      <td>TBD</td>\n",
       "      <td>64</td>\n",
       "      <td>low</td>\n",
       "      <td>4.0</td>\n",
       "      <td>4</td>\n",
       "      <td>R4X1</td>\n",
       "    </tr>\n",
       "    <tr>\n",
       "      <th>2338</th>\n",
       "      <td>2165.0</td>\n",
       "      <td>2023</td>\n",
       "      <td>146.0</td>\n",
       "      <td>South</td>\n",
       "      <td>3</td>\n",
       "      <td>TBD</td>\n",
       "      <td>64</td>\n",
       "      <td>low</td>\n",
       "      <td>4.0</td>\n",
       "      <td>4</td>\n",
       "      <td>R4Y1</td>\n",
       "    </tr>\n",
       "  </tbody>\n",
       "</table>\n",
       "<p>2342 rows × 11 columns</p>\n",
       "</div>"
      ],
      "text/plain": [
       "       index  Year  Daynum   Region  RegionNum            Team  Seed  \\\n",
       "1318  1318.0  1998   137.0     East          1    Old Dominion     1   \n",
       "1323  1323.0  1998   137.0  Midwest          2      Texas Tech     1   \n",
       "1255  1255.0  1998   137.0  Midwest          2         Alabama     2   \n",
       "1268  1268.0  1998   137.0     East          1     Connecticut     2   \n",
       "1306  1306.0  1998   137.0    South          3  North Carolina     2   \n",
       "...      ...   ...     ...      ...        ...             ...   ...   \n",
       "2319  1658.0  2023   145.0     East          1             TBD    64   \n",
       "2320  1701.0  2023   145.0     East          1             TBD    64   \n",
       "2333  2019.0  2023   145.0     West          4             TBD    64   \n",
       "2337  2153.0  2023   146.0  Midwest          2             TBD    64   \n",
       "2338  2165.0  2023   146.0    South          3             TBD    64   \n",
       "\n",
       "     Team_Position  Mapped_Round  Round GameSlot  \n",
       "1318           low           1.0      1     R1W1  \n",
       "1323           low           1.0      1     R1X1  \n",
       "1255           low           1.0      1     R1X2  \n",
       "1268           low           1.0      1     R1W2  \n",
       "1306           low           1.0      1     R1Y2  \n",
       "...            ...           ...    ...      ...  \n",
       "2319           low           4.0      4     R4W1  \n",
       "2320           low           4.0      4     R4W1  \n",
       "2333           low           4.0      4     R4Z1  \n",
       "2337           low           4.0      4     R4X1  \n",
       "2338           low           4.0      4     R4Y1  \n",
       "\n",
       "[2342 rows x 11 columns]"
      ]
     },
     "execution_count": 69,
     "metadata": {},
     "output_type": "execute_result"
    }
   ],
   "source": [
    "last_year=long_tourn[long_tourn.Year==2022].copy()\n",
    "last_year\n",
    "\n",
    "last_year.loc[last_year.index,'Team']=['TBD' for c in range(len(last_year))]\n",
    "last_year.loc[last_year.index,'Seed']=['64' for c in range(len(last_year))]\n",
    "last_year.loc[last_year.index,'Year']=[2023 for c in range(len(last_year))]\n",
    "\n",
    "\n",
    "last_year=last_year[last_year.GameRound>1]\n",
    "last_year\n",
    "long_tourn=pd.concat([long_tourn,new_year,last_year],axis=0,ignore_index=True)\n",
    "long_tourn=long_tourn.rename(columns={'GameRound':'Round'})\n",
    "\n",
    "long_tourn['Seed']=(long_tourn['Seed'].str.replace(\"[a-zA-Z]\",\"\",regex=True)).astype(int)\n",
    "tourn_region['Seed']=(tourn_region['Wseed'].str.replace(\"[a-zA-Z]\",\"\",regex=True)).astype(int)\n",
    "long_tourn=long_tourn.drop(\n",
    "  ['LateDayNum','EarlyDayNum','TeamID','Region_'],axis=1\n",
    ").sort_values(['Year','Round','Seed'])\n",
    "long_tourn"
   ]
  },
  {
   "cell_type": "code",
   "execution_count": 70,
   "metadata": {},
   "outputs": [],
   "source": [
    "final_four_games = \\\n",
    "long_tourn[long_tourn['Round'] == 4] \\\n",
    "    .assign(game_num = lambda x: (x['RegionNum'] <= 2)+1) \\\n",
    "    .groupby(['Year','game_num']) \\\n",
    "    .agg({'Region' : lambda x: dict(zip(['team1','team2'],x))}) \\\n",
    "    .groupby('Year') \\\n",
    "    .agg({'Region' : lambda x: dict(zip(['game1','game2'],x))}) \\\n",
    "    .to_dict().get('Region')"
   ]
  },
  {
   "cell_type": "markdown",
   "metadata": {},
   "source": []
  },
  {
   "cell_type": "code",
   "execution_count": 71,
   "metadata": {},
   "outputs": [
    {
     "name": "stdout",
     "output_type": "stream",
     "text": [
      "[1 2 4]\n",
      "1998 32\n",
      "['East' 'Midwest' 'South' 'West']\n"
     ]
    },
    {
     "data": {
      "text/plain": [
       "'W'"
      ]
     },
     "metadata": {},
     "output_type": "display_data"
    },
    {
     "data": {
      "text/html": [
       "<div>\n",
       "<style scoped>\n",
       "    .dataframe tbody tr th:only-of-type {\n",
       "        vertical-align: middle;\n",
       "    }\n",
       "\n",
       "    .dataframe tbody tr th {\n",
       "        vertical-align: top;\n",
       "    }\n",
       "\n",
       "    .dataframe thead th {\n",
       "        text-align: right;\n",
       "    }\n",
       "</style>\n",
       "<table border=\"1\" class=\"dataframe\">\n",
       "  <thead>\n",
       "    <tr style=\"text-align: right;\">\n",
       "      <th></th>\n",
       "      <th>index</th>\n",
       "      <th>Year</th>\n",
       "      <th>Daynum</th>\n",
       "      <th>Region</th>\n",
       "      <th>RegionNum</th>\n",
       "      <th>Team</th>\n",
       "      <th>Seed</th>\n",
       "      <th>Team_Position</th>\n",
       "      <th>Mapped_Round</th>\n",
       "      <th>Round</th>\n",
       "      <th>GameSlot</th>\n",
       "    </tr>\n",
       "  </thead>\n",
       "  <tbody>\n",
       "  </tbody>\n",
       "</table>\n",
       "</div>"
      ],
      "text/plain": [
       "Empty DataFrame\n",
       "Columns: [index, Year, Daynum, Region, RegionNum, Team, Seed, Team_Position, Mapped_Round, Round, GameSlot]\n",
       "Index: []"
      ]
     },
     "metadata": {},
     "output_type": "display_data"
    },
    {
     "data": {
      "text/plain": [
       "'W'"
      ]
     },
     "metadata": {},
     "output_type": "display_data"
    },
    {
     "data": {
      "text/html": [
       "<div>\n",
       "<style scoped>\n",
       "    .dataframe tbody tr th:only-of-type {\n",
       "        vertical-align: middle;\n",
       "    }\n",
       "\n",
       "    .dataframe tbody tr th {\n",
       "        vertical-align: top;\n",
       "    }\n",
       "\n",
       "    .dataframe thead th {\n",
       "        text-align: right;\n",
       "    }\n",
       "</style>\n",
       "<table border=\"1\" class=\"dataframe\">\n",
       "  <thead>\n",
       "    <tr style=\"text-align: right;\">\n",
       "      <th></th>\n",
       "      <th>index</th>\n",
       "      <th>Year</th>\n",
       "      <th>Daynum</th>\n",
       "      <th>Region</th>\n",
       "      <th>RegionNum</th>\n",
       "      <th>Team</th>\n",
       "      <th>Seed</th>\n",
       "      <th>Team_Position</th>\n",
       "      <th>Mapped_Round</th>\n",
       "      <th>Round</th>\n",
       "      <th>GameSlot</th>\n",
       "    </tr>\n",
       "  </thead>\n",
       "  <tbody>\n",
       "  </tbody>\n",
       "</table>\n",
       "</div>"
      ],
      "text/plain": [
       "Empty DataFrame\n",
       "Columns: [index, Year, Daynum, Region, RegionNum, Team, Seed, Team_Position, Mapped_Round, Round, GameSlot]\n",
       "Index: []"
      ]
     },
     "metadata": {},
     "output_type": "display_data"
    },
    {
     "name": "stdout",
     "output_type": "stream",
     "text": [
      "['East' 'Midwest' 'South' 'West']\n"
     ]
    },
    {
     "data": {
      "text/plain": [
       "'X'"
      ]
     },
     "metadata": {},
     "output_type": "display_data"
    },
    {
     "data": {
      "text/html": [
       "<div>\n",
       "<style scoped>\n",
       "    .dataframe tbody tr th:only-of-type {\n",
       "        vertical-align: middle;\n",
       "    }\n",
       "\n",
       "    .dataframe tbody tr th {\n",
       "        vertical-align: top;\n",
       "    }\n",
       "\n",
       "    .dataframe thead th {\n",
       "        text-align: right;\n",
       "    }\n",
       "</style>\n",
       "<table border=\"1\" class=\"dataframe\">\n",
       "  <thead>\n",
       "    <tr style=\"text-align: right;\">\n",
       "      <th></th>\n",
       "      <th>index</th>\n",
       "      <th>Year</th>\n",
       "      <th>Daynum</th>\n",
       "      <th>Region</th>\n",
       "      <th>RegionNum</th>\n",
       "      <th>Team</th>\n",
       "      <th>Seed</th>\n",
       "      <th>Team_Position</th>\n",
       "      <th>Mapped_Round</th>\n",
       "      <th>Round</th>\n",
       "      <th>GameSlot</th>\n",
       "    </tr>\n",
       "  </thead>\n",
       "  <tbody>\n",
       "  </tbody>\n",
       "</table>\n",
       "</div>"
      ],
      "text/plain": [
       "Empty DataFrame\n",
       "Columns: [index, Year, Daynum, Region, RegionNum, Team, Seed, Team_Position, Mapped_Round, Round, GameSlot]\n",
       "Index: []"
      ]
     },
     "metadata": {},
     "output_type": "display_data"
    },
    {
     "data": {
      "text/plain": [
       "'X'"
      ]
     },
     "metadata": {},
     "output_type": "display_data"
    },
    {
     "data": {
      "text/html": [
       "<div>\n",
       "<style scoped>\n",
       "    .dataframe tbody tr th:only-of-type {\n",
       "        vertical-align: middle;\n",
       "    }\n",
       "\n",
       "    .dataframe tbody tr th {\n",
       "        vertical-align: top;\n",
       "    }\n",
       "\n",
       "    .dataframe thead th {\n",
       "        text-align: right;\n",
       "    }\n",
       "</style>\n",
       "<table border=\"1\" class=\"dataframe\">\n",
       "  <thead>\n",
       "    <tr style=\"text-align: right;\">\n",
       "      <th></th>\n",
       "      <th>index</th>\n",
       "      <th>Year</th>\n",
       "      <th>Daynum</th>\n",
       "      <th>Region</th>\n",
       "      <th>RegionNum</th>\n",
       "      <th>Team</th>\n",
       "      <th>Seed</th>\n",
       "      <th>Team_Position</th>\n",
       "      <th>Mapped_Round</th>\n",
       "      <th>Round</th>\n",
       "      <th>GameSlot</th>\n",
       "    </tr>\n",
       "  </thead>\n",
       "  <tbody>\n",
       "  </tbody>\n",
       "</table>\n",
       "</div>"
      ],
      "text/plain": [
       "Empty DataFrame\n",
       "Columns: [index, Year, Daynum, Region, RegionNum, Team, Seed, Team_Position, Mapped_Round, Round, GameSlot]\n",
       "Index: []"
      ]
     },
     "metadata": {},
     "output_type": "display_data"
    },
    {
     "name": "stdout",
     "output_type": "stream",
     "text": [
      "['East' 'Midwest' 'South' 'West']\n"
     ]
    },
    {
     "data": {
      "text/plain": [
       "'Y'"
      ]
     },
     "metadata": {},
     "output_type": "display_data"
    },
    {
     "data": {
      "text/html": [
       "<div>\n",
       "<style scoped>\n",
       "    .dataframe tbody tr th:only-of-type {\n",
       "        vertical-align: middle;\n",
       "    }\n",
       "\n",
       "    .dataframe tbody tr th {\n",
       "        vertical-align: top;\n",
       "    }\n",
       "\n",
       "    .dataframe thead th {\n",
       "        text-align: right;\n",
       "    }\n",
       "</style>\n",
       "<table border=\"1\" class=\"dataframe\">\n",
       "  <thead>\n",
       "    <tr style=\"text-align: right;\">\n",
       "      <th></th>\n",
       "      <th>index</th>\n",
       "      <th>Year</th>\n",
       "      <th>Daynum</th>\n",
       "      <th>Region</th>\n",
       "      <th>RegionNum</th>\n",
       "      <th>Team</th>\n",
       "      <th>Seed</th>\n",
       "      <th>Team_Position</th>\n",
       "      <th>Mapped_Round</th>\n",
       "      <th>Round</th>\n",
       "      <th>GameSlot</th>\n",
       "    </tr>\n",
       "  </thead>\n",
       "  <tbody>\n",
       "  </tbody>\n",
       "</table>\n",
       "</div>"
      ],
      "text/plain": [
       "Empty DataFrame\n",
       "Columns: [index, Year, Daynum, Region, RegionNum, Team, Seed, Team_Position, Mapped_Round, Round, GameSlot]\n",
       "Index: []"
      ]
     },
     "metadata": {},
     "output_type": "display_data"
    },
    {
     "data": {
      "text/plain": [
       "'Y'"
      ]
     },
     "metadata": {},
     "output_type": "display_data"
    },
    {
     "data": {
      "text/html": [
       "<div>\n",
       "<style scoped>\n",
       "    .dataframe tbody tr th:only-of-type {\n",
       "        vertical-align: middle;\n",
       "    }\n",
       "\n",
       "    .dataframe tbody tr th {\n",
       "        vertical-align: top;\n",
       "    }\n",
       "\n",
       "    .dataframe thead th {\n",
       "        text-align: right;\n",
       "    }\n",
       "</style>\n",
       "<table border=\"1\" class=\"dataframe\">\n",
       "  <thead>\n",
       "    <tr style=\"text-align: right;\">\n",
       "      <th></th>\n",
       "      <th>index</th>\n",
       "      <th>Year</th>\n",
       "      <th>Daynum</th>\n",
       "      <th>Region</th>\n",
       "      <th>RegionNum</th>\n",
       "      <th>Team</th>\n",
       "      <th>Seed</th>\n",
       "      <th>Team_Position</th>\n",
       "      <th>Mapped_Round</th>\n",
       "      <th>Round</th>\n",
       "      <th>GameSlot</th>\n",
       "    </tr>\n",
       "  </thead>\n",
       "  <tbody>\n",
       "  </tbody>\n",
       "</table>\n",
       "</div>"
      ],
      "text/plain": [
       "Empty DataFrame\n",
       "Columns: [index, Year, Daynum, Region, RegionNum, Team, Seed, Team_Position, Mapped_Round, Round, GameSlot]\n",
       "Index: []"
      ]
     },
     "metadata": {},
     "output_type": "display_data"
    },
    {
     "name": "stdout",
     "output_type": "stream",
     "text": [
      "['East' 'Midwest' 'South' 'West']\n"
     ]
    },
    {
     "data": {
      "text/plain": [
       "'Z'"
      ]
     },
     "metadata": {},
     "output_type": "display_data"
    },
    {
     "data": {
      "text/html": [
       "<div>\n",
       "<style scoped>\n",
       "    .dataframe tbody tr th:only-of-type {\n",
       "        vertical-align: middle;\n",
       "    }\n",
       "\n",
       "    .dataframe tbody tr th {\n",
       "        vertical-align: top;\n",
       "    }\n",
       "\n",
       "    .dataframe thead th {\n",
       "        text-align: right;\n",
       "    }\n",
       "</style>\n",
       "<table border=\"1\" class=\"dataframe\">\n",
       "  <thead>\n",
       "    <tr style=\"text-align: right;\">\n",
       "      <th></th>\n",
       "      <th>index</th>\n",
       "      <th>Year</th>\n",
       "      <th>Daynum</th>\n",
       "      <th>Region</th>\n",
       "      <th>RegionNum</th>\n",
       "      <th>Team</th>\n",
       "      <th>Seed</th>\n",
       "      <th>Team_Position</th>\n",
       "      <th>Mapped_Round</th>\n",
       "      <th>Round</th>\n",
       "      <th>GameSlot</th>\n",
       "    </tr>\n",
       "  </thead>\n",
       "  <tbody>\n",
       "  </tbody>\n",
       "</table>\n",
       "</div>"
      ],
      "text/plain": [
       "Empty DataFrame\n",
       "Columns: [index, Year, Daynum, Region, RegionNum, Team, Seed, Team_Position, Mapped_Round, Round, GameSlot]\n",
       "Index: []"
      ]
     },
     "metadata": {},
     "output_type": "display_data"
    },
    {
     "data": {
      "text/plain": [
       "'Z'"
      ]
     },
     "metadata": {},
     "output_type": "display_data"
    },
    {
     "data": {
      "text/html": [
       "<div>\n",
       "<style scoped>\n",
       "    .dataframe tbody tr th:only-of-type {\n",
       "        vertical-align: middle;\n",
       "    }\n",
       "\n",
       "    .dataframe tbody tr th {\n",
       "        vertical-align: top;\n",
       "    }\n",
       "\n",
       "    .dataframe thead th {\n",
       "        text-align: right;\n",
       "    }\n",
       "</style>\n",
       "<table border=\"1\" class=\"dataframe\">\n",
       "  <thead>\n",
       "    <tr style=\"text-align: right;\">\n",
       "      <th></th>\n",
       "      <th>index</th>\n",
       "      <th>Year</th>\n",
       "      <th>Daynum</th>\n",
       "      <th>Region</th>\n",
       "      <th>RegionNum</th>\n",
       "      <th>Team</th>\n",
       "      <th>Seed</th>\n",
       "      <th>Team_Position</th>\n",
       "      <th>Mapped_Round</th>\n",
       "      <th>Round</th>\n",
       "      <th>GameSlot</th>\n",
       "    </tr>\n",
       "  </thead>\n",
       "  <tbody>\n",
       "  </tbody>\n",
       "</table>\n",
       "</div>"
      ],
      "text/plain": [
       "Empty DataFrame\n",
       "Columns: [index, Year, Daynum, Region, RegionNum, Team, Seed, Team_Position, Mapped_Round, Round, GameSlot]\n",
       "Index: []"
      ]
     },
     "metadata": {},
     "output_type": "display_data"
    },
    {
     "name": "stdout",
     "output_type": "stream",
     "text": [
      "[1 2 4]\n",
      "1999 32\n",
      "['Midwest' 'West' 'East' 'South']\n"
     ]
    },
    {
     "data": {
      "text/plain": [
       "'W'"
      ]
     },
     "metadata": {},
     "output_type": "display_data"
    },
    {
     "data": {
      "text/html": [
       "<div>\n",
       "<style scoped>\n",
       "    .dataframe tbody tr th:only-of-type {\n",
       "        vertical-align: middle;\n",
       "    }\n",
       "\n",
       "    .dataframe tbody tr th {\n",
       "        vertical-align: top;\n",
       "    }\n",
       "\n",
       "    .dataframe thead th {\n",
       "        text-align: right;\n",
       "    }\n",
       "</style>\n",
       "<table border=\"1\" class=\"dataframe\">\n",
       "  <thead>\n",
       "    <tr style=\"text-align: right;\">\n",
       "      <th></th>\n",
       "      <th>index</th>\n",
       "      <th>Year</th>\n",
       "      <th>Daynum</th>\n",
       "      <th>Region</th>\n",
       "      <th>RegionNum</th>\n",
       "      <th>Team</th>\n",
       "      <th>Seed</th>\n",
       "      <th>Team_Position</th>\n",
       "      <th>Mapped_Round</th>\n",
       "      <th>Round</th>\n",
       "      <th>GameSlot</th>\n",
       "    </tr>\n",
       "  </thead>\n",
       "  <tbody>\n",
       "  </tbody>\n",
       "</table>\n",
       "</div>"
      ],
      "text/plain": [
       "Empty DataFrame\n",
       "Columns: [index, Year, Daynum, Region, RegionNum, Team, Seed, Team_Position, Mapped_Round, Round, GameSlot]\n",
       "Index: []"
      ]
     },
     "metadata": {},
     "output_type": "display_data"
    },
    {
     "data": {
      "text/plain": [
       "'W'"
      ]
     },
     "metadata": {},
     "output_type": "display_data"
    },
    {
     "data": {
      "text/html": [
       "<div>\n",
       "<style scoped>\n",
       "    .dataframe tbody tr th:only-of-type {\n",
       "        vertical-align: middle;\n",
       "    }\n",
       "\n",
       "    .dataframe tbody tr th {\n",
       "        vertical-align: top;\n",
       "    }\n",
       "\n",
       "    .dataframe thead th {\n",
       "        text-align: right;\n",
       "    }\n",
       "</style>\n",
       "<table border=\"1\" class=\"dataframe\">\n",
       "  <thead>\n",
       "    <tr style=\"text-align: right;\">\n",
       "      <th></th>\n",
       "      <th>index</th>\n",
       "      <th>Year</th>\n",
       "      <th>Daynum</th>\n",
       "      <th>Region</th>\n",
       "      <th>RegionNum</th>\n",
       "      <th>Team</th>\n",
       "      <th>Seed</th>\n",
       "      <th>Team_Position</th>\n",
       "      <th>Mapped_Round</th>\n",
       "      <th>Round</th>\n",
       "      <th>GameSlot</th>\n",
       "    </tr>\n",
       "  </thead>\n",
       "  <tbody>\n",
       "  </tbody>\n",
       "</table>\n",
       "</div>"
      ],
      "text/plain": [
       "Empty DataFrame\n",
       "Columns: [index, Year, Daynum, Region, RegionNum, Team, Seed, Team_Position, Mapped_Round, Round, GameSlot]\n",
       "Index: []"
      ]
     },
     "metadata": {},
     "output_type": "display_data"
    },
    {
     "name": "stdout",
     "output_type": "stream",
     "text": [
      "['Midwest' 'West' 'East' 'South']\n"
     ]
    },
    {
     "data": {
      "text/plain": [
       "'X'"
      ]
     },
     "metadata": {},
     "output_type": "display_data"
    },
    {
     "data": {
      "text/html": [
       "<div>\n",
       "<style scoped>\n",
       "    .dataframe tbody tr th:only-of-type {\n",
       "        vertical-align: middle;\n",
       "    }\n",
       "\n",
       "    .dataframe tbody tr th {\n",
       "        vertical-align: top;\n",
       "    }\n",
       "\n",
       "    .dataframe thead th {\n",
       "        text-align: right;\n",
       "    }\n",
       "</style>\n",
       "<table border=\"1\" class=\"dataframe\">\n",
       "  <thead>\n",
       "    <tr style=\"text-align: right;\">\n",
       "      <th></th>\n",
       "      <th>index</th>\n",
       "      <th>Year</th>\n",
       "      <th>Daynum</th>\n",
       "      <th>Region</th>\n",
       "      <th>RegionNum</th>\n",
       "      <th>Team</th>\n",
       "      <th>Seed</th>\n",
       "      <th>Team_Position</th>\n",
       "      <th>Mapped_Round</th>\n",
       "      <th>Round</th>\n",
       "      <th>GameSlot</th>\n",
       "    </tr>\n",
       "  </thead>\n",
       "  <tbody>\n",
       "  </tbody>\n",
       "</table>\n",
       "</div>"
      ],
      "text/plain": [
       "Empty DataFrame\n",
       "Columns: [index, Year, Daynum, Region, RegionNum, Team, Seed, Team_Position, Mapped_Round, Round, GameSlot]\n",
       "Index: []"
      ]
     },
     "metadata": {},
     "output_type": "display_data"
    },
    {
     "data": {
      "text/plain": [
       "'X'"
      ]
     },
     "metadata": {},
     "output_type": "display_data"
    },
    {
     "data": {
      "text/html": [
       "<div>\n",
       "<style scoped>\n",
       "    .dataframe tbody tr th:only-of-type {\n",
       "        vertical-align: middle;\n",
       "    }\n",
       "\n",
       "    .dataframe tbody tr th {\n",
       "        vertical-align: top;\n",
       "    }\n",
       "\n",
       "    .dataframe thead th {\n",
       "        text-align: right;\n",
       "    }\n",
       "</style>\n",
       "<table border=\"1\" class=\"dataframe\">\n",
       "  <thead>\n",
       "    <tr style=\"text-align: right;\">\n",
       "      <th></th>\n",
       "      <th>index</th>\n",
       "      <th>Year</th>\n",
       "      <th>Daynum</th>\n",
       "      <th>Region</th>\n",
       "      <th>RegionNum</th>\n",
       "      <th>Team</th>\n",
       "      <th>Seed</th>\n",
       "      <th>Team_Position</th>\n",
       "      <th>Mapped_Round</th>\n",
       "      <th>Round</th>\n",
       "      <th>GameSlot</th>\n",
       "    </tr>\n",
       "  </thead>\n",
       "  <tbody>\n",
       "  </tbody>\n",
       "</table>\n",
       "</div>"
      ],
      "text/plain": [
       "Empty DataFrame\n",
       "Columns: [index, Year, Daynum, Region, RegionNum, Team, Seed, Team_Position, Mapped_Round, Round, GameSlot]\n",
       "Index: []"
      ]
     },
     "metadata": {},
     "output_type": "display_data"
    },
    {
     "name": "stdout",
     "output_type": "stream",
     "text": [
      "['Midwest' 'West' 'East' 'South']\n"
     ]
    },
    {
     "data": {
      "text/plain": [
       "'Y'"
      ]
     },
     "metadata": {},
     "output_type": "display_data"
    },
    {
     "data": {
      "text/html": [
       "<div>\n",
       "<style scoped>\n",
       "    .dataframe tbody tr th:only-of-type {\n",
       "        vertical-align: middle;\n",
       "    }\n",
       "\n",
       "    .dataframe tbody tr th {\n",
       "        vertical-align: top;\n",
       "    }\n",
       "\n",
       "    .dataframe thead th {\n",
       "        text-align: right;\n",
       "    }\n",
       "</style>\n",
       "<table border=\"1\" class=\"dataframe\">\n",
       "  <thead>\n",
       "    <tr style=\"text-align: right;\">\n",
       "      <th></th>\n",
       "      <th>index</th>\n",
       "      <th>Year</th>\n",
       "      <th>Daynum</th>\n",
       "      <th>Region</th>\n",
       "      <th>RegionNum</th>\n",
       "      <th>Team</th>\n",
       "      <th>Seed</th>\n",
       "      <th>Team_Position</th>\n",
       "      <th>Mapped_Round</th>\n",
       "      <th>Round</th>\n",
       "      <th>GameSlot</th>\n",
       "    </tr>\n",
       "  </thead>\n",
       "  <tbody>\n",
       "  </tbody>\n",
       "</table>\n",
       "</div>"
      ],
      "text/plain": [
       "Empty DataFrame\n",
       "Columns: [index, Year, Daynum, Region, RegionNum, Team, Seed, Team_Position, Mapped_Round, Round, GameSlot]\n",
       "Index: []"
      ]
     },
     "metadata": {},
     "output_type": "display_data"
    },
    {
     "data": {
      "text/plain": [
       "'Y'"
      ]
     },
     "metadata": {},
     "output_type": "display_data"
    },
    {
     "data": {
      "text/html": [
       "<div>\n",
       "<style scoped>\n",
       "    .dataframe tbody tr th:only-of-type {\n",
       "        vertical-align: middle;\n",
       "    }\n",
       "\n",
       "    .dataframe tbody tr th {\n",
       "        vertical-align: top;\n",
       "    }\n",
       "\n",
       "    .dataframe thead th {\n",
       "        text-align: right;\n",
       "    }\n",
       "</style>\n",
       "<table border=\"1\" class=\"dataframe\">\n",
       "  <thead>\n",
       "    <tr style=\"text-align: right;\">\n",
       "      <th></th>\n",
       "      <th>index</th>\n",
       "      <th>Year</th>\n",
       "      <th>Daynum</th>\n",
       "      <th>Region</th>\n",
       "      <th>RegionNum</th>\n",
       "      <th>Team</th>\n",
       "      <th>Seed</th>\n",
       "      <th>Team_Position</th>\n",
       "      <th>Mapped_Round</th>\n",
       "      <th>Round</th>\n",
       "      <th>GameSlot</th>\n",
       "    </tr>\n",
       "  </thead>\n",
       "  <tbody>\n",
       "  </tbody>\n",
       "</table>\n",
       "</div>"
      ],
      "text/plain": [
       "Empty DataFrame\n",
       "Columns: [index, Year, Daynum, Region, RegionNum, Team, Seed, Team_Position, Mapped_Round, Round, GameSlot]\n",
       "Index: []"
      ]
     },
     "metadata": {},
     "output_type": "display_data"
    },
    {
     "name": "stdout",
     "output_type": "stream",
     "text": [
      "['Midwest' 'West' 'East' 'South']\n"
     ]
    },
    {
     "data": {
      "text/plain": [
       "'Z'"
      ]
     },
     "metadata": {},
     "output_type": "display_data"
    },
    {
     "data": {
      "text/html": [
       "<div>\n",
       "<style scoped>\n",
       "    .dataframe tbody tr th:only-of-type {\n",
       "        vertical-align: middle;\n",
       "    }\n",
       "\n",
       "    .dataframe tbody tr th {\n",
       "        vertical-align: top;\n",
       "    }\n",
       "\n",
       "    .dataframe thead th {\n",
       "        text-align: right;\n",
       "    }\n",
       "</style>\n",
       "<table border=\"1\" class=\"dataframe\">\n",
       "  <thead>\n",
       "    <tr style=\"text-align: right;\">\n",
       "      <th></th>\n",
       "      <th>index</th>\n",
       "      <th>Year</th>\n",
       "      <th>Daynum</th>\n",
       "      <th>Region</th>\n",
       "      <th>RegionNum</th>\n",
       "      <th>Team</th>\n",
       "      <th>Seed</th>\n",
       "      <th>Team_Position</th>\n",
       "      <th>Mapped_Round</th>\n",
       "      <th>Round</th>\n",
       "      <th>GameSlot</th>\n",
       "    </tr>\n",
       "  </thead>\n",
       "  <tbody>\n",
       "  </tbody>\n",
       "</table>\n",
       "</div>"
      ],
      "text/plain": [
       "Empty DataFrame\n",
       "Columns: [index, Year, Daynum, Region, RegionNum, Team, Seed, Team_Position, Mapped_Round, Round, GameSlot]\n",
       "Index: []"
      ]
     },
     "metadata": {},
     "output_type": "display_data"
    },
    {
     "data": {
      "text/plain": [
       "'Z'"
      ]
     },
     "metadata": {},
     "output_type": "display_data"
    },
    {
     "data": {
      "text/html": [
       "<div>\n",
       "<style scoped>\n",
       "    .dataframe tbody tr th:only-of-type {\n",
       "        vertical-align: middle;\n",
       "    }\n",
       "\n",
       "    .dataframe tbody tr th {\n",
       "        vertical-align: top;\n",
       "    }\n",
       "\n",
       "    .dataframe thead th {\n",
       "        text-align: right;\n",
       "    }\n",
       "</style>\n",
       "<table border=\"1\" class=\"dataframe\">\n",
       "  <thead>\n",
       "    <tr style=\"text-align: right;\">\n",
       "      <th></th>\n",
       "      <th>index</th>\n",
       "      <th>Year</th>\n",
       "      <th>Daynum</th>\n",
       "      <th>Region</th>\n",
       "      <th>RegionNum</th>\n",
       "      <th>Team</th>\n",
       "      <th>Seed</th>\n",
       "      <th>Team_Position</th>\n",
       "      <th>Mapped_Round</th>\n",
       "      <th>Round</th>\n",
       "      <th>GameSlot</th>\n",
       "    </tr>\n",
       "  </thead>\n",
       "  <tbody>\n",
       "  </tbody>\n",
       "</table>\n",
       "</div>"
      ],
      "text/plain": [
       "Empty DataFrame\n",
       "Columns: [index, Year, Daynum, Region, RegionNum, Team, Seed, Team_Position, Mapped_Round, Round, GameSlot]\n",
       "Index: []"
      ]
     },
     "metadata": {},
     "output_type": "display_data"
    },
    {
     "name": "stdout",
     "output_type": "stream",
     "text": [
      "[1 2 4]\n",
      "2000 32\n",
      "['East' 'Midwest' 'South' 'West']\n"
     ]
    },
    {
     "data": {
      "text/plain": [
       "'W'"
      ]
     },
     "metadata": {},
     "output_type": "display_data"
    },
    {
     "data": {
      "text/html": [
       "<div>\n",
       "<style scoped>\n",
       "    .dataframe tbody tr th:only-of-type {\n",
       "        vertical-align: middle;\n",
       "    }\n",
       "\n",
       "    .dataframe tbody tr th {\n",
       "        vertical-align: top;\n",
       "    }\n",
       "\n",
       "    .dataframe thead th {\n",
       "        text-align: right;\n",
       "    }\n",
       "</style>\n",
       "<table border=\"1\" class=\"dataframe\">\n",
       "  <thead>\n",
       "    <tr style=\"text-align: right;\">\n",
       "      <th></th>\n",
       "      <th>index</th>\n",
       "      <th>Year</th>\n",
       "      <th>Daynum</th>\n",
       "      <th>Region</th>\n",
       "      <th>RegionNum</th>\n",
       "      <th>Team</th>\n",
       "      <th>Seed</th>\n",
       "      <th>Team_Position</th>\n",
       "      <th>Mapped_Round</th>\n",
       "      <th>Round</th>\n",
       "      <th>GameSlot</th>\n",
       "    </tr>\n",
       "  </thead>\n",
       "  <tbody>\n",
       "  </tbody>\n",
       "</table>\n",
       "</div>"
      ],
      "text/plain": [
       "Empty DataFrame\n",
       "Columns: [index, Year, Daynum, Region, RegionNum, Team, Seed, Team_Position, Mapped_Round, Round, GameSlot]\n",
       "Index: []"
      ]
     },
     "metadata": {},
     "output_type": "display_data"
    },
    {
     "data": {
      "text/plain": [
       "'W'"
      ]
     },
     "metadata": {},
     "output_type": "display_data"
    },
    {
     "data": {
      "text/html": [
       "<div>\n",
       "<style scoped>\n",
       "    .dataframe tbody tr th:only-of-type {\n",
       "        vertical-align: middle;\n",
       "    }\n",
       "\n",
       "    .dataframe tbody tr th {\n",
       "        vertical-align: top;\n",
       "    }\n",
       "\n",
       "    .dataframe thead th {\n",
       "        text-align: right;\n",
       "    }\n",
       "</style>\n",
       "<table border=\"1\" class=\"dataframe\">\n",
       "  <thead>\n",
       "    <tr style=\"text-align: right;\">\n",
       "      <th></th>\n",
       "      <th>index</th>\n",
       "      <th>Year</th>\n",
       "      <th>Daynum</th>\n",
       "      <th>Region</th>\n",
       "      <th>RegionNum</th>\n",
       "      <th>Team</th>\n",
       "      <th>Seed</th>\n",
       "      <th>Team_Position</th>\n",
       "      <th>Mapped_Round</th>\n",
       "      <th>Round</th>\n",
       "      <th>GameSlot</th>\n",
       "    </tr>\n",
       "  </thead>\n",
       "  <tbody>\n",
       "  </tbody>\n",
       "</table>\n",
       "</div>"
      ],
      "text/plain": [
       "Empty DataFrame\n",
       "Columns: [index, Year, Daynum, Region, RegionNum, Team, Seed, Team_Position, Mapped_Round, Round, GameSlot]\n",
       "Index: []"
      ]
     },
     "metadata": {},
     "output_type": "display_data"
    },
    {
     "name": "stdout",
     "output_type": "stream",
     "text": [
      "['East' 'Midwest' 'South' 'West']\n"
     ]
    },
    {
     "data": {
      "text/plain": [
       "'X'"
      ]
     },
     "metadata": {},
     "output_type": "display_data"
    },
    {
     "data": {
      "text/html": [
       "<div>\n",
       "<style scoped>\n",
       "    .dataframe tbody tr th:only-of-type {\n",
       "        vertical-align: middle;\n",
       "    }\n",
       "\n",
       "    .dataframe tbody tr th {\n",
       "        vertical-align: top;\n",
       "    }\n",
       "\n",
       "    .dataframe thead th {\n",
       "        text-align: right;\n",
       "    }\n",
       "</style>\n",
       "<table border=\"1\" class=\"dataframe\">\n",
       "  <thead>\n",
       "    <tr style=\"text-align: right;\">\n",
       "      <th></th>\n",
       "      <th>index</th>\n",
       "      <th>Year</th>\n",
       "      <th>Daynum</th>\n",
       "      <th>Region</th>\n",
       "      <th>RegionNum</th>\n",
       "      <th>Team</th>\n",
       "      <th>Seed</th>\n",
       "      <th>Team_Position</th>\n",
       "      <th>Mapped_Round</th>\n",
       "      <th>Round</th>\n",
       "      <th>GameSlot</th>\n",
       "    </tr>\n",
       "  </thead>\n",
       "  <tbody>\n",
       "  </tbody>\n",
       "</table>\n",
       "</div>"
      ],
      "text/plain": [
       "Empty DataFrame\n",
       "Columns: [index, Year, Daynum, Region, RegionNum, Team, Seed, Team_Position, Mapped_Round, Round, GameSlot]\n",
       "Index: []"
      ]
     },
     "metadata": {},
     "output_type": "display_data"
    },
    {
     "data": {
      "text/plain": [
       "'X'"
      ]
     },
     "metadata": {},
     "output_type": "display_data"
    },
    {
     "data": {
      "text/html": [
       "<div>\n",
       "<style scoped>\n",
       "    .dataframe tbody tr th:only-of-type {\n",
       "        vertical-align: middle;\n",
       "    }\n",
       "\n",
       "    .dataframe tbody tr th {\n",
       "        vertical-align: top;\n",
       "    }\n",
       "\n",
       "    .dataframe thead th {\n",
       "        text-align: right;\n",
       "    }\n",
       "</style>\n",
       "<table border=\"1\" class=\"dataframe\">\n",
       "  <thead>\n",
       "    <tr style=\"text-align: right;\">\n",
       "      <th></th>\n",
       "      <th>index</th>\n",
       "      <th>Year</th>\n",
       "      <th>Daynum</th>\n",
       "      <th>Region</th>\n",
       "      <th>RegionNum</th>\n",
       "      <th>Team</th>\n",
       "      <th>Seed</th>\n",
       "      <th>Team_Position</th>\n",
       "      <th>Mapped_Round</th>\n",
       "      <th>Round</th>\n",
       "      <th>GameSlot</th>\n",
       "    </tr>\n",
       "  </thead>\n",
       "  <tbody>\n",
       "  </tbody>\n",
       "</table>\n",
       "</div>"
      ],
      "text/plain": [
       "Empty DataFrame\n",
       "Columns: [index, Year, Daynum, Region, RegionNum, Team, Seed, Team_Position, Mapped_Round, Round, GameSlot]\n",
       "Index: []"
      ]
     },
     "metadata": {},
     "output_type": "display_data"
    },
    {
     "name": "stdout",
     "output_type": "stream",
     "text": [
      "['East' 'Midwest' 'South' 'West']\n"
     ]
    },
    {
     "data": {
      "text/plain": [
       "'Y'"
      ]
     },
     "metadata": {},
     "output_type": "display_data"
    },
    {
     "data": {
      "text/html": [
       "<div>\n",
       "<style scoped>\n",
       "    .dataframe tbody tr th:only-of-type {\n",
       "        vertical-align: middle;\n",
       "    }\n",
       "\n",
       "    .dataframe tbody tr th {\n",
       "        vertical-align: top;\n",
       "    }\n",
       "\n",
       "    .dataframe thead th {\n",
       "        text-align: right;\n",
       "    }\n",
       "</style>\n",
       "<table border=\"1\" class=\"dataframe\">\n",
       "  <thead>\n",
       "    <tr style=\"text-align: right;\">\n",
       "      <th></th>\n",
       "      <th>index</th>\n",
       "      <th>Year</th>\n",
       "      <th>Daynum</th>\n",
       "      <th>Region</th>\n",
       "      <th>RegionNum</th>\n",
       "      <th>Team</th>\n",
       "      <th>Seed</th>\n",
       "      <th>Team_Position</th>\n",
       "      <th>Mapped_Round</th>\n",
       "      <th>Round</th>\n",
       "      <th>GameSlot</th>\n",
       "    </tr>\n",
       "  </thead>\n",
       "  <tbody>\n",
       "  </tbody>\n",
       "</table>\n",
       "</div>"
      ],
      "text/plain": [
       "Empty DataFrame\n",
       "Columns: [index, Year, Daynum, Region, RegionNum, Team, Seed, Team_Position, Mapped_Round, Round, GameSlot]\n",
       "Index: []"
      ]
     },
     "metadata": {},
     "output_type": "display_data"
    },
    {
     "data": {
      "text/plain": [
       "'Y'"
      ]
     },
     "metadata": {},
     "output_type": "display_data"
    },
    {
     "data": {
      "text/html": [
       "<div>\n",
       "<style scoped>\n",
       "    .dataframe tbody tr th:only-of-type {\n",
       "        vertical-align: middle;\n",
       "    }\n",
       "\n",
       "    .dataframe tbody tr th {\n",
       "        vertical-align: top;\n",
       "    }\n",
       "\n",
       "    .dataframe thead th {\n",
       "        text-align: right;\n",
       "    }\n",
       "</style>\n",
       "<table border=\"1\" class=\"dataframe\">\n",
       "  <thead>\n",
       "    <tr style=\"text-align: right;\">\n",
       "      <th></th>\n",
       "      <th>index</th>\n",
       "      <th>Year</th>\n",
       "      <th>Daynum</th>\n",
       "      <th>Region</th>\n",
       "      <th>RegionNum</th>\n",
       "      <th>Team</th>\n",
       "      <th>Seed</th>\n",
       "      <th>Team_Position</th>\n",
       "      <th>Mapped_Round</th>\n",
       "      <th>Round</th>\n",
       "      <th>GameSlot</th>\n",
       "    </tr>\n",
       "  </thead>\n",
       "  <tbody>\n",
       "  </tbody>\n",
       "</table>\n",
       "</div>"
      ],
      "text/plain": [
       "Empty DataFrame\n",
       "Columns: [index, Year, Daynum, Region, RegionNum, Team, Seed, Team_Position, Mapped_Round, Round, GameSlot]\n",
       "Index: []"
      ]
     },
     "metadata": {},
     "output_type": "display_data"
    },
    {
     "name": "stdout",
     "output_type": "stream",
     "text": [
      "['East' 'Midwest' 'South' 'West']\n"
     ]
    },
    {
     "data": {
      "text/plain": [
       "'Z'"
      ]
     },
     "metadata": {},
     "output_type": "display_data"
    },
    {
     "data": {
      "text/html": [
       "<div>\n",
       "<style scoped>\n",
       "    .dataframe tbody tr th:only-of-type {\n",
       "        vertical-align: middle;\n",
       "    }\n",
       "\n",
       "    .dataframe tbody tr th {\n",
       "        vertical-align: top;\n",
       "    }\n",
       "\n",
       "    .dataframe thead th {\n",
       "        text-align: right;\n",
       "    }\n",
       "</style>\n",
       "<table border=\"1\" class=\"dataframe\">\n",
       "  <thead>\n",
       "    <tr style=\"text-align: right;\">\n",
       "      <th></th>\n",
       "      <th>index</th>\n",
       "      <th>Year</th>\n",
       "      <th>Daynum</th>\n",
       "      <th>Region</th>\n",
       "      <th>RegionNum</th>\n",
       "      <th>Team</th>\n",
       "      <th>Seed</th>\n",
       "      <th>Team_Position</th>\n",
       "      <th>Mapped_Round</th>\n",
       "      <th>Round</th>\n",
       "      <th>GameSlot</th>\n",
       "    </tr>\n",
       "  </thead>\n",
       "  <tbody>\n",
       "  </tbody>\n",
       "</table>\n",
       "</div>"
      ],
      "text/plain": [
       "Empty DataFrame\n",
       "Columns: [index, Year, Daynum, Region, RegionNum, Team, Seed, Team_Position, Mapped_Round, Round, GameSlot]\n",
       "Index: []"
      ]
     },
     "metadata": {},
     "output_type": "display_data"
    },
    {
     "data": {
      "text/plain": [
       "'Z'"
      ]
     },
     "metadata": {},
     "output_type": "display_data"
    },
    {
     "data": {
      "text/html": [
       "<div>\n",
       "<style scoped>\n",
       "    .dataframe tbody tr th:only-of-type {\n",
       "        vertical-align: middle;\n",
       "    }\n",
       "\n",
       "    .dataframe tbody tr th {\n",
       "        vertical-align: top;\n",
       "    }\n",
       "\n",
       "    .dataframe thead th {\n",
       "        text-align: right;\n",
       "    }\n",
       "</style>\n",
       "<table border=\"1\" class=\"dataframe\">\n",
       "  <thead>\n",
       "    <tr style=\"text-align: right;\">\n",
       "      <th></th>\n",
       "      <th>index</th>\n",
       "      <th>Year</th>\n",
       "      <th>Daynum</th>\n",
       "      <th>Region</th>\n",
       "      <th>RegionNum</th>\n",
       "      <th>Team</th>\n",
       "      <th>Seed</th>\n",
       "      <th>Team_Position</th>\n",
       "      <th>Mapped_Round</th>\n",
       "      <th>Round</th>\n",
       "      <th>GameSlot</th>\n",
       "    </tr>\n",
       "  </thead>\n",
       "  <tbody>\n",
       "  </tbody>\n",
       "</table>\n",
       "</div>"
      ],
      "text/plain": [
       "Empty DataFrame\n",
       "Columns: [index, Year, Daynum, Region, RegionNum, Team, Seed, Team_Position, Mapped_Round, Round, GameSlot]\n",
       "Index: []"
      ]
     },
     "metadata": {},
     "output_type": "display_data"
    },
    {
     "name": "stdout",
     "output_type": "stream",
     "text": [
      "[1 2 4]\n",
      "2001 32\n",
      "['South' 'Midwest' 'East' 'West']\n"
     ]
    },
    {
     "data": {
      "text/plain": [
       "'W'"
      ]
     },
     "metadata": {},
     "output_type": "display_data"
    },
    {
     "data": {
      "text/html": [
       "<div>\n",
       "<style scoped>\n",
       "    .dataframe tbody tr th:only-of-type {\n",
       "        vertical-align: middle;\n",
       "    }\n",
       "\n",
       "    .dataframe tbody tr th {\n",
       "        vertical-align: top;\n",
       "    }\n",
       "\n",
       "    .dataframe thead th {\n",
       "        text-align: right;\n",
       "    }\n",
       "</style>\n",
       "<table border=\"1\" class=\"dataframe\">\n",
       "  <thead>\n",
       "    <tr style=\"text-align: right;\">\n",
       "      <th></th>\n",
       "      <th>index</th>\n",
       "      <th>Year</th>\n",
       "      <th>Daynum</th>\n",
       "      <th>Region</th>\n",
       "      <th>RegionNum</th>\n",
       "      <th>Team</th>\n",
       "      <th>Seed</th>\n",
       "      <th>Team_Position</th>\n",
       "      <th>Mapped_Round</th>\n",
       "      <th>Round</th>\n",
       "      <th>GameSlot</th>\n",
       "    </tr>\n",
       "  </thead>\n",
       "  <tbody>\n",
       "  </tbody>\n",
       "</table>\n",
       "</div>"
      ],
      "text/plain": [
       "Empty DataFrame\n",
       "Columns: [index, Year, Daynum, Region, RegionNum, Team, Seed, Team_Position, Mapped_Round, Round, GameSlot]\n",
       "Index: []"
      ]
     },
     "metadata": {},
     "output_type": "display_data"
    },
    {
     "data": {
      "text/plain": [
       "'W'"
      ]
     },
     "metadata": {},
     "output_type": "display_data"
    },
    {
     "data": {
      "text/html": [
       "<div>\n",
       "<style scoped>\n",
       "    .dataframe tbody tr th:only-of-type {\n",
       "        vertical-align: middle;\n",
       "    }\n",
       "\n",
       "    .dataframe tbody tr th {\n",
       "        vertical-align: top;\n",
       "    }\n",
       "\n",
       "    .dataframe thead th {\n",
       "        text-align: right;\n",
       "    }\n",
       "</style>\n",
       "<table border=\"1\" class=\"dataframe\">\n",
       "  <thead>\n",
       "    <tr style=\"text-align: right;\">\n",
       "      <th></th>\n",
       "      <th>index</th>\n",
       "      <th>Year</th>\n",
       "      <th>Daynum</th>\n",
       "      <th>Region</th>\n",
       "      <th>RegionNum</th>\n",
       "      <th>Team</th>\n",
       "      <th>Seed</th>\n",
       "      <th>Team_Position</th>\n",
       "      <th>Mapped_Round</th>\n",
       "      <th>Round</th>\n",
       "      <th>GameSlot</th>\n",
       "    </tr>\n",
       "  </thead>\n",
       "  <tbody>\n",
       "  </tbody>\n",
       "</table>\n",
       "</div>"
      ],
      "text/plain": [
       "Empty DataFrame\n",
       "Columns: [index, Year, Daynum, Region, RegionNum, Team, Seed, Team_Position, Mapped_Round, Round, GameSlot]\n",
       "Index: []"
      ]
     },
     "metadata": {},
     "output_type": "display_data"
    },
    {
     "name": "stdout",
     "output_type": "stream",
     "text": [
      "['South' 'Midwest' 'East' 'West']\n"
     ]
    },
    {
     "data": {
      "text/plain": [
       "'X'"
      ]
     },
     "metadata": {},
     "output_type": "display_data"
    },
    {
     "data": {
      "text/html": [
       "<div>\n",
       "<style scoped>\n",
       "    .dataframe tbody tr th:only-of-type {\n",
       "        vertical-align: middle;\n",
       "    }\n",
       "\n",
       "    .dataframe tbody tr th {\n",
       "        vertical-align: top;\n",
       "    }\n",
       "\n",
       "    .dataframe thead th {\n",
       "        text-align: right;\n",
       "    }\n",
       "</style>\n",
       "<table border=\"1\" class=\"dataframe\">\n",
       "  <thead>\n",
       "    <tr style=\"text-align: right;\">\n",
       "      <th></th>\n",
       "      <th>index</th>\n",
       "      <th>Year</th>\n",
       "      <th>Daynum</th>\n",
       "      <th>Region</th>\n",
       "      <th>RegionNum</th>\n",
       "      <th>Team</th>\n",
       "      <th>Seed</th>\n",
       "      <th>Team_Position</th>\n",
       "      <th>Mapped_Round</th>\n",
       "      <th>Round</th>\n",
       "      <th>GameSlot</th>\n",
       "    </tr>\n",
       "  </thead>\n",
       "  <tbody>\n",
       "  </tbody>\n",
       "</table>\n",
       "</div>"
      ],
      "text/plain": [
       "Empty DataFrame\n",
       "Columns: [index, Year, Daynum, Region, RegionNum, Team, Seed, Team_Position, Mapped_Round, Round, GameSlot]\n",
       "Index: []"
      ]
     },
     "metadata": {},
     "output_type": "display_data"
    },
    {
     "data": {
      "text/plain": [
       "'X'"
      ]
     },
     "metadata": {},
     "output_type": "display_data"
    },
    {
     "data": {
      "text/html": [
       "<div>\n",
       "<style scoped>\n",
       "    .dataframe tbody tr th:only-of-type {\n",
       "        vertical-align: middle;\n",
       "    }\n",
       "\n",
       "    .dataframe tbody tr th {\n",
       "        vertical-align: top;\n",
       "    }\n",
       "\n",
       "    .dataframe thead th {\n",
       "        text-align: right;\n",
       "    }\n",
       "</style>\n",
       "<table border=\"1\" class=\"dataframe\">\n",
       "  <thead>\n",
       "    <tr style=\"text-align: right;\">\n",
       "      <th></th>\n",
       "      <th>index</th>\n",
       "      <th>Year</th>\n",
       "      <th>Daynum</th>\n",
       "      <th>Region</th>\n",
       "      <th>RegionNum</th>\n",
       "      <th>Team</th>\n",
       "      <th>Seed</th>\n",
       "      <th>Team_Position</th>\n",
       "      <th>Mapped_Round</th>\n",
       "      <th>Round</th>\n",
       "      <th>GameSlot</th>\n",
       "    </tr>\n",
       "  </thead>\n",
       "  <tbody>\n",
       "  </tbody>\n",
       "</table>\n",
       "</div>"
      ],
      "text/plain": [
       "Empty DataFrame\n",
       "Columns: [index, Year, Daynum, Region, RegionNum, Team, Seed, Team_Position, Mapped_Round, Round, GameSlot]\n",
       "Index: []"
      ]
     },
     "metadata": {},
     "output_type": "display_data"
    },
    {
     "name": "stdout",
     "output_type": "stream",
     "text": [
      "['South' 'Midwest' 'East' 'West']\n"
     ]
    },
    {
     "data": {
      "text/plain": [
       "'Y'"
      ]
     },
     "metadata": {},
     "output_type": "display_data"
    },
    {
     "data": {
      "text/html": [
       "<div>\n",
       "<style scoped>\n",
       "    .dataframe tbody tr th:only-of-type {\n",
       "        vertical-align: middle;\n",
       "    }\n",
       "\n",
       "    .dataframe tbody tr th {\n",
       "        vertical-align: top;\n",
       "    }\n",
       "\n",
       "    .dataframe thead th {\n",
       "        text-align: right;\n",
       "    }\n",
       "</style>\n",
       "<table border=\"1\" class=\"dataframe\">\n",
       "  <thead>\n",
       "    <tr style=\"text-align: right;\">\n",
       "      <th></th>\n",
       "      <th>index</th>\n",
       "      <th>Year</th>\n",
       "      <th>Daynum</th>\n",
       "      <th>Region</th>\n",
       "      <th>RegionNum</th>\n",
       "      <th>Team</th>\n",
       "      <th>Seed</th>\n",
       "      <th>Team_Position</th>\n",
       "      <th>Mapped_Round</th>\n",
       "      <th>Round</th>\n",
       "      <th>GameSlot</th>\n",
       "    </tr>\n",
       "  </thead>\n",
       "  <tbody>\n",
       "  </tbody>\n",
       "</table>\n",
       "</div>"
      ],
      "text/plain": [
       "Empty DataFrame\n",
       "Columns: [index, Year, Daynum, Region, RegionNum, Team, Seed, Team_Position, Mapped_Round, Round, GameSlot]\n",
       "Index: []"
      ]
     },
     "metadata": {},
     "output_type": "display_data"
    },
    {
     "data": {
      "text/plain": [
       "'Y'"
      ]
     },
     "metadata": {},
     "output_type": "display_data"
    },
    {
     "data": {
      "text/html": [
       "<div>\n",
       "<style scoped>\n",
       "    .dataframe tbody tr th:only-of-type {\n",
       "        vertical-align: middle;\n",
       "    }\n",
       "\n",
       "    .dataframe tbody tr th {\n",
       "        vertical-align: top;\n",
       "    }\n",
       "\n",
       "    .dataframe thead th {\n",
       "        text-align: right;\n",
       "    }\n",
       "</style>\n",
       "<table border=\"1\" class=\"dataframe\">\n",
       "  <thead>\n",
       "    <tr style=\"text-align: right;\">\n",
       "      <th></th>\n",
       "      <th>index</th>\n",
       "      <th>Year</th>\n",
       "      <th>Daynum</th>\n",
       "      <th>Region</th>\n",
       "      <th>RegionNum</th>\n",
       "      <th>Team</th>\n",
       "      <th>Seed</th>\n",
       "      <th>Team_Position</th>\n",
       "      <th>Mapped_Round</th>\n",
       "      <th>Round</th>\n",
       "      <th>GameSlot</th>\n",
       "    </tr>\n",
       "  </thead>\n",
       "  <tbody>\n",
       "  </tbody>\n",
       "</table>\n",
       "</div>"
      ],
      "text/plain": [
       "Empty DataFrame\n",
       "Columns: [index, Year, Daynum, Region, RegionNum, Team, Seed, Team_Position, Mapped_Round, Round, GameSlot]\n",
       "Index: []"
      ]
     },
     "metadata": {},
     "output_type": "display_data"
    },
    {
     "name": "stdout",
     "output_type": "stream",
     "text": [
      "['South' 'Midwest' 'East' 'West']\n"
     ]
    },
    {
     "data": {
      "text/plain": [
       "'Z'"
      ]
     },
     "metadata": {},
     "output_type": "display_data"
    },
    {
     "data": {
      "text/html": [
       "<div>\n",
       "<style scoped>\n",
       "    .dataframe tbody tr th:only-of-type {\n",
       "        vertical-align: middle;\n",
       "    }\n",
       "\n",
       "    .dataframe tbody tr th {\n",
       "        vertical-align: top;\n",
       "    }\n",
       "\n",
       "    .dataframe thead th {\n",
       "        text-align: right;\n",
       "    }\n",
       "</style>\n",
       "<table border=\"1\" class=\"dataframe\">\n",
       "  <thead>\n",
       "    <tr style=\"text-align: right;\">\n",
       "      <th></th>\n",
       "      <th>index</th>\n",
       "      <th>Year</th>\n",
       "      <th>Daynum</th>\n",
       "      <th>Region</th>\n",
       "      <th>RegionNum</th>\n",
       "      <th>Team</th>\n",
       "      <th>Seed</th>\n",
       "      <th>Team_Position</th>\n",
       "      <th>Mapped_Round</th>\n",
       "      <th>Round</th>\n",
       "      <th>GameSlot</th>\n",
       "    </tr>\n",
       "  </thead>\n",
       "  <tbody>\n",
       "  </tbody>\n",
       "</table>\n",
       "</div>"
      ],
      "text/plain": [
       "Empty DataFrame\n",
       "Columns: [index, Year, Daynum, Region, RegionNum, Team, Seed, Team_Position, Mapped_Round, Round, GameSlot]\n",
       "Index: []"
      ]
     },
     "metadata": {},
     "output_type": "display_data"
    },
    {
     "data": {
      "text/plain": [
       "'Z'"
      ]
     },
     "metadata": {},
     "output_type": "display_data"
    },
    {
     "data": {
      "text/html": [
       "<div>\n",
       "<style scoped>\n",
       "    .dataframe tbody tr th:only-of-type {\n",
       "        vertical-align: middle;\n",
       "    }\n",
       "\n",
       "    .dataframe tbody tr th {\n",
       "        vertical-align: top;\n",
       "    }\n",
       "\n",
       "    .dataframe thead th {\n",
       "        text-align: right;\n",
       "    }\n",
       "</style>\n",
       "<table border=\"1\" class=\"dataframe\">\n",
       "  <thead>\n",
       "    <tr style=\"text-align: right;\">\n",
       "      <th></th>\n",
       "      <th>index</th>\n",
       "      <th>Year</th>\n",
       "      <th>Daynum</th>\n",
       "      <th>Region</th>\n",
       "      <th>RegionNum</th>\n",
       "      <th>Team</th>\n",
       "      <th>Seed</th>\n",
       "      <th>Team_Position</th>\n",
       "      <th>Mapped_Round</th>\n",
       "      <th>Round</th>\n",
       "      <th>GameSlot</th>\n",
       "    </tr>\n",
       "  </thead>\n",
       "  <tbody>\n",
       "  </tbody>\n",
       "</table>\n",
       "</div>"
      ],
      "text/plain": [
       "Empty DataFrame\n",
       "Columns: [index, Year, Daynum, Region, RegionNum, Team, Seed, Team_Position, Mapped_Round, Round, GameSlot]\n",
       "Index: []"
      ]
     },
     "metadata": {},
     "output_type": "display_data"
    },
    {
     "name": "stdout",
     "output_type": "stream",
     "text": [
      "[1 2 4]\n",
      "2002 32\n",
      "['East' 'West' 'South' 'Midwest']\n"
     ]
    },
    {
     "data": {
      "text/plain": [
       "'W'"
      ]
     },
     "metadata": {},
     "output_type": "display_data"
    },
    {
     "data": {
      "text/html": [
       "<div>\n",
       "<style scoped>\n",
       "    .dataframe tbody tr th:only-of-type {\n",
       "        vertical-align: middle;\n",
       "    }\n",
       "\n",
       "    .dataframe tbody tr th {\n",
       "        vertical-align: top;\n",
       "    }\n",
       "\n",
       "    .dataframe thead th {\n",
       "        text-align: right;\n",
       "    }\n",
       "</style>\n",
       "<table border=\"1\" class=\"dataframe\">\n",
       "  <thead>\n",
       "    <tr style=\"text-align: right;\">\n",
       "      <th></th>\n",
       "      <th>index</th>\n",
       "      <th>Year</th>\n",
       "      <th>Daynum</th>\n",
       "      <th>Region</th>\n",
       "      <th>RegionNum</th>\n",
       "      <th>Team</th>\n",
       "      <th>Seed</th>\n",
       "      <th>Team_Position</th>\n",
       "      <th>Mapped_Round</th>\n",
       "      <th>Round</th>\n",
       "      <th>GameSlot</th>\n",
       "    </tr>\n",
       "  </thead>\n",
       "  <tbody>\n",
       "  </tbody>\n",
       "</table>\n",
       "</div>"
      ],
      "text/plain": [
       "Empty DataFrame\n",
       "Columns: [index, Year, Daynum, Region, RegionNum, Team, Seed, Team_Position, Mapped_Round, Round, GameSlot]\n",
       "Index: []"
      ]
     },
     "metadata": {},
     "output_type": "display_data"
    },
    {
     "data": {
      "text/plain": [
       "'W'"
      ]
     },
     "metadata": {},
     "output_type": "display_data"
    },
    {
     "data": {
      "text/html": [
       "<div>\n",
       "<style scoped>\n",
       "    .dataframe tbody tr th:only-of-type {\n",
       "        vertical-align: middle;\n",
       "    }\n",
       "\n",
       "    .dataframe tbody tr th {\n",
       "        vertical-align: top;\n",
       "    }\n",
       "\n",
       "    .dataframe thead th {\n",
       "        text-align: right;\n",
       "    }\n",
       "</style>\n",
       "<table border=\"1\" class=\"dataframe\">\n",
       "  <thead>\n",
       "    <tr style=\"text-align: right;\">\n",
       "      <th></th>\n",
       "      <th>index</th>\n",
       "      <th>Year</th>\n",
       "      <th>Daynum</th>\n",
       "      <th>Region</th>\n",
       "      <th>RegionNum</th>\n",
       "      <th>Team</th>\n",
       "      <th>Seed</th>\n",
       "      <th>Team_Position</th>\n",
       "      <th>Mapped_Round</th>\n",
       "      <th>Round</th>\n",
       "      <th>GameSlot</th>\n",
       "    </tr>\n",
       "  </thead>\n",
       "  <tbody>\n",
       "  </tbody>\n",
       "</table>\n",
       "</div>"
      ],
      "text/plain": [
       "Empty DataFrame\n",
       "Columns: [index, Year, Daynum, Region, RegionNum, Team, Seed, Team_Position, Mapped_Round, Round, GameSlot]\n",
       "Index: []"
      ]
     },
     "metadata": {},
     "output_type": "display_data"
    },
    {
     "name": "stdout",
     "output_type": "stream",
     "text": [
      "['East' 'West' 'South' 'Midwest']\n"
     ]
    },
    {
     "data": {
      "text/plain": [
       "'X'"
      ]
     },
     "metadata": {},
     "output_type": "display_data"
    },
    {
     "data": {
      "text/html": [
       "<div>\n",
       "<style scoped>\n",
       "    .dataframe tbody tr th:only-of-type {\n",
       "        vertical-align: middle;\n",
       "    }\n",
       "\n",
       "    .dataframe tbody tr th {\n",
       "        vertical-align: top;\n",
       "    }\n",
       "\n",
       "    .dataframe thead th {\n",
       "        text-align: right;\n",
       "    }\n",
       "</style>\n",
       "<table border=\"1\" class=\"dataframe\">\n",
       "  <thead>\n",
       "    <tr style=\"text-align: right;\">\n",
       "      <th></th>\n",
       "      <th>index</th>\n",
       "      <th>Year</th>\n",
       "      <th>Daynum</th>\n",
       "      <th>Region</th>\n",
       "      <th>RegionNum</th>\n",
       "      <th>Team</th>\n",
       "      <th>Seed</th>\n",
       "      <th>Team_Position</th>\n",
       "      <th>Mapped_Round</th>\n",
       "      <th>Round</th>\n",
       "      <th>GameSlot</th>\n",
       "    </tr>\n",
       "  </thead>\n",
       "  <tbody>\n",
       "  </tbody>\n",
       "</table>\n",
       "</div>"
      ],
      "text/plain": [
       "Empty DataFrame\n",
       "Columns: [index, Year, Daynum, Region, RegionNum, Team, Seed, Team_Position, Mapped_Round, Round, GameSlot]\n",
       "Index: []"
      ]
     },
     "metadata": {},
     "output_type": "display_data"
    },
    {
     "data": {
      "text/plain": [
       "'X'"
      ]
     },
     "metadata": {},
     "output_type": "display_data"
    },
    {
     "data": {
      "text/html": [
       "<div>\n",
       "<style scoped>\n",
       "    .dataframe tbody tr th:only-of-type {\n",
       "        vertical-align: middle;\n",
       "    }\n",
       "\n",
       "    .dataframe tbody tr th {\n",
       "        vertical-align: top;\n",
       "    }\n",
       "\n",
       "    .dataframe thead th {\n",
       "        text-align: right;\n",
       "    }\n",
       "</style>\n",
       "<table border=\"1\" class=\"dataframe\">\n",
       "  <thead>\n",
       "    <tr style=\"text-align: right;\">\n",
       "      <th></th>\n",
       "      <th>index</th>\n",
       "      <th>Year</th>\n",
       "      <th>Daynum</th>\n",
       "      <th>Region</th>\n",
       "      <th>RegionNum</th>\n",
       "      <th>Team</th>\n",
       "      <th>Seed</th>\n",
       "      <th>Team_Position</th>\n",
       "      <th>Mapped_Round</th>\n",
       "      <th>Round</th>\n",
       "      <th>GameSlot</th>\n",
       "    </tr>\n",
       "  </thead>\n",
       "  <tbody>\n",
       "  </tbody>\n",
       "</table>\n",
       "</div>"
      ],
      "text/plain": [
       "Empty DataFrame\n",
       "Columns: [index, Year, Daynum, Region, RegionNum, Team, Seed, Team_Position, Mapped_Round, Round, GameSlot]\n",
       "Index: []"
      ]
     },
     "metadata": {},
     "output_type": "display_data"
    },
    {
     "name": "stdout",
     "output_type": "stream",
     "text": [
      "['East' 'West' 'South' 'Midwest']\n"
     ]
    },
    {
     "data": {
      "text/plain": [
       "'Y'"
      ]
     },
     "metadata": {},
     "output_type": "display_data"
    },
    {
     "data": {
      "text/html": [
       "<div>\n",
       "<style scoped>\n",
       "    .dataframe tbody tr th:only-of-type {\n",
       "        vertical-align: middle;\n",
       "    }\n",
       "\n",
       "    .dataframe tbody tr th {\n",
       "        vertical-align: top;\n",
       "    }\n",
       "\n",
       "    .dataframe thead th {\n",
       "        text-align: right;\n",
       "    }\n",
       "</style>\n",
       "<table border=\"1\" class=\"dataframe\">\n",
       "  <thead>\n",
       "    <tr style=\"text-align: right;\">\n",
       "      <th></th>\n",
       "      <th>index</th>\n",
       "      <th>Year</th>\n",
       "      <th>Daynum</th>\n",
       "      <th>Region</th>\n",
       "      <th>RegionNum</th>\n",
       "      <th>Team</th>\n",
       "      <th>Seed</th>\n",
       "      <th>Team_Position</th>\n",
       "      <th>Mapped_Round</th>\n",
       "      <th>Round</th>\n",
       "      <th>GameSlot</th>\n",
       "    </tr>\n",
       "  </thead>\n",
       "  <tbody>\n",
       "  </tbody>\n",
       "</table>\n",
       "</div>"
      ],
      "text/plain": [
       "Empty DataFrame\n",
       "Columns: [index, Year, Daynum, Region, RegionNum, Team, Seed, Team_Position, Mapped_Round, Round, GameSlot]\n",
       "Index: []"
      ]
     },
     "metadata": {},
     "output_type": "display_data"
    },
    {
     "data": {
      "text/plain": [
       "'Y'"
      ]
     },
     "metadata": {},
     "output_type": "display_data"
    },
    {
     "data": {
      "text/html": [
       "<div>\n",
       "<style scoped>\n",
       "    .dataframe tbody tr th:only-of-type {\n",
       "        vertical-align: middle;\n",
       "    }\n",
       "\n",
       "    .dataframe tbody tr th {\n",
       "        vertical-align: top;\n",
       "    }\n",
       "\n",
       "    .dataframe thead th {\n",
       "        text-align: right;\n",
       "    }\n",
       "</style>\n",
       "<table border=\"1\" class=\"dataframe\">\n",
       "  <thead>\n",
       "    <tr style=\"text-align: right;\">\n",
       "      <th></th>\n",
       "      <th>index</th>\n",
       "      <th>Year</th>\n",
       "      <th>Daynum</th>\n",
       "      <th>Region</th>\n",
       "      <th>RegionNum</th>\n",
       "      <th>Team</th>\n",
       "      <th>Seed</th>\n",
       "      <th>Team_Position</th>\n",
       "      <th>Mapped_Round</th>\n",
       "      <th>Round</th>\n",
       "      <th>GameSlot</th>\n",
       "    </tr>\n",
       "  </thead>\n",
       "  <tbody>\n",
       "  </tbody>\n",
       "</table>\n",
       "</div>"
      ],
      "text/plain": [
       "Empty DataFrame\n",
       "Columns: [index, Year, Daynum, Region, RegionNum, Team, Seed, Team_Position, Mapped_Round, Round, GameSlot]\n",
       "Index: []"
      ]
     },
     "metadata": {},
     "output_type": "display_data"
    },
    {
     "name": "stdout",
     "output_type": "stream",
     "text": [
      "['East' 'West' 'South' 'Midwest']\n"
     ]
    },
    {
     "data": {
      "text/plain": [
       "'Z'"
      ]
     },
     "metadata": {},
     "output_type": "display_data"
    },
    {
     "data": {
      "text/html": [
       "<div>\n",
       "<style scoped>\n",
       "    .dataframe tbody tr th:only-of-type {\n",
       "        vertical-align: middle;\n",
       "    }\n",
       "\n",
       "    .dataframe tbody tr th {\n",
       "        vertical-align: top;\n",
       "    }\n",
       "\n",
       "    .dataframe thead th {\n",
       "        text-align: right;\n",
       "    }\n",
       "</style>\n",
       "<table border=\"1\" class=\"dataframe\">\n",
       "  <thead>\n",
       "    <tr style=\"text-align: right;\">\n",
       "      <th></th>\n",
       "      <th>index</th>\n",
       "      <th>Year</th>\n",
       "      <th>Daynum</th>\n",
       "      <th>Region</th>\n",
       "      <th>RegionNum</th>\n",
       "      <th>Team</th>\n",
       "      <th>Seed</th>\n",
       "      <th>Team_Position</th>\n",
       "      <th>Mapped_Round</th>\n",
       "      <th>Round</th>\n",
       "      <th>GameSlot</th>\n",
       "    </tr>\n",
       "  </thead>\n",
       "  <tbody>\n",
       "  </tbody>\n",
       "</table>\n",
       "</div>"
      ],
      "text/plain": [
       "Empty DataFrame\n",
       "Columns: [index, Year, Daynum, Region, RegionNum, Team, Seed, Team_Position, Mapped_Round, Round, GameSlot]\n",
       "Index: []"
      ]
     },
     "metadata": {},
     "output_type": "display_data"
    },
    {
     "data": {
      "text/plain": [
       "'Z'"
      ]
     },
     "metadata": {},
     "output_type": "display_data"
    },
    {
     "data": {
      "text/html": [
       "<div>\n",
       "<style scoped>\n",
       "    .dataframe tbody tr th:only-of-type {\n",
       "        vertical-align: middle;\n",
       "    }\n",
       "\n",
       "    .dataframe tbody tr th {\n",
       "        vertical-align: top;\n",
       "    }\n",
       "\n",
       "    .dataframe thead th {\n",
       "        text-align: right;\n",
       "    }\n",
       "</style>\n",
       "<table border=\"1\" class=\"dataframe\">\n",
       "  <thead>\n",
       "    <tr style=\"text-align: right;\">\n",
       "      <th></th>\n",
       "      <th>index</th>\n",
       "      <th>Year</th>\n",
       "      <th>Daynum</th>\n",
       "      <th>Region</th>\n",
       "      <th>RegionNum</th>\n",
       "      <th>Team</th>\n",
       "      <th>Seed</th>\n",
       "      <th>Team_Position</th>\n",
       "      <th>Mapped_Round</th>\n",
       "      <th>Round</th>\n",
       "      <th>GameSlot</th>\n",
       "    </tr>\n",
       "  </thead>\n",
       "  <tbody>\n",
       "  </tbody>\n",
       "</table>\n",
       "</div>"
      ],
      "text/plain": [
       "Empty DataFrame\n",
       "Columns: [index, Year, Daynum, Region, RegionNum, Team, Seed, Team_Position, Mapped_Round, Round, GameSlot]\n",
       "Index: []"
      ]
     },
     "metadata": {},
     "output_type": "display_data"
    },
    {
     "name": "stdout",
     "output_type": "stream",
     "text": [
      "[2 4]\n",
      "2003 0\n",
      "[]\n"
     ]
    },
    {
     "data": {
      "text/plain": [
       "'W'"
      ]
     },
     "metadata": {},
     "output_type": "display_data"
    },
    {
     "data": {
      "text/html": [
       "<div>\n",
       "<style scoped>\n",
       "    .dataframe tbody tr th:only-of-type {\n",
       "        vertical-align: middle;\n",
       "    }\n",
       "\n",
       "    .dataframe tbody tr th {\n",
       "        vertical-align: top;\n",
       "    }\n",
       "\n",
       "    .dataframe thead th {\n",
       "        text-align: right;\n",
       "    }\n",
       "</style>\n",
       "<table border=\"1\" class=\"dataframe\">\n",
       "  <thead>\n",
       "    <tr style=\"text-align: right;\">\n",
       "      <th></th>\n",
       "      <th>index</th>\n",
       "      <th>Year</th>\n",
       "      <th>Daynum</th>\n",
       "      <th>Region</th>\n",
       "      <th>RegionNum</th>\n",
       "      <th>Team</th>\n",
       "      <th>Seed</th>\n",
       "      <th>Team_Position</th>\n",
       "      <th>Mapped_Round</th>\n",
       "      <th>Round</th>\n",
       "      <th>GameSlot</th>\n",
       "    </tr>\n",
       "  </thead>\n",
       "  <tbody>\n",
       "  </tbody>\n",
       "</table>\n",
       "</div>"
      ],
      "text/plain": [
       "Empty DataFrame\n",
       "Columns: [index, Year, Daynum, Region, RegionNum, Team, Seed, Team_Position, Mapped_Round, Round, GameSlot]\n",
       "Index: []"
      ]
     },
     "metadata": {},
     "output_type": "display_data"
    },
    {
     "data": {
      "text/plain": [
       "'W'"
      ]
     },
     "metadata": {},
     "output_type": "display_data"
    },
    {
     "data": {
      "text/html": [
       "<div>\n",
       "<style scoped>\n",
       "    .dataframe tbody tr th:only-of-type {\n",
       "        vertical-align: middle;\n",
       "    }\n",
       "\n",
       "    .dataframe tbody tr th {\n",
       "        vertical-align: top;\n",
       "    }\n",
       "\n",
       "    .dataframe thead th {\n",
       "        text-align: right;\n",
       "    }\n",
       "</style>\n",
       "<table border=\"1\" class=\"dataframe\">\n",
       "  <thead>\n",
       "    <tr style=\"text-align: right;\">\n",
       "      <th></th>\n",
       "      <th>index</th>\n",
       "      <th>Year</th>\n",
       "      <th>Daynum</th>\n",
       "      <th>Region</th>\n",
       "      <th>RegionNum</th>\n",
       "      <th>Team</th>\n",
       "      <th>Seed</th>\n",
       "      <th>Team_Position</th>\n",
       "      <th>Mapped_Round</th>\n",
       "      <th>Round</th>\n",
       "      <th>GameSlot</th>\n",
       "    </tr>\n",
       "  </thead>\n",
       "  <tbody>\n",
       "  </tbody>\n",
       "</table>\n",
       "</div>"
      ],
      "text/plain": [
       "Empty DataFrame\n",
       "Columns: [index, Year, Daynum, Region, RegionNum, Team, Seed, Team_Position, Mapped_Round, Round, GameSlot]\n",
       "Index: []"
      ]
     },
     "metadata": {},
     "output_type": "display_data"
    },
    {
     "name": "stdout",
     "output_type": "stream",
     "text": [
      "[]\n"
     ]
    },
    {
     "data": {
      "text/plain": [
       "'X'"
      ]
     },
     "metadata": {},
     "output_type": "display_data"
    },
    {
     "data": {
      "text/html": [
       "<div>\n",
       "<style scoped>\n",
       "    .dataframe tbody tr th:only-of-type {\n",
       "        vertical-align: middle;\n",
       "    }\n",
       "\n",
       "    .dataframe tbody tr th {\n",
       "        vertical-align: top;\n",
       "    }\n",
       "\n",
       "    .dataframe thead th {\n",
       "        text-align: right;\n",
       "    }\n",
       "</style>\n",
       "<table border=\"1\" class=\"dataframe\">\n",
       "  <thead>\n",
       "    <tr style=\"text-align: right;\">\n",
       "      <th></th>\n",
       "      <th>index</th>\n",
       "      <th>Year</th>\n",
       "      <th>Daynum</th>\n",
       "      <th>Region</th>\n",
       "      <th>RegionNum</th>\n",
       "      <th>Team</th>\n",
       "      <th>Seed</th>\n",
       "      <th>Team_Position</th>\n",
       "      <th>Mapped_Round</th>\n",
       "      <th>Round</th>\n",
       "      <th>GameSlot</th>\n",
       "    </tr>\n",
       "  </thead>\n",
       "  <tbody>\n",
       "  </tbody>\n",
       "</table>\n",
       "</div>"
      ],
      "text/plain": [
       "Empty DataFrame\n",
       "Columns: [index, Year, Daynum, Region, RegionNum, Team, Seed, Team_Position, Mapped_Round, Round, GameSlot]\n",
       "Index: []"
      ]
     },
     "metadata": {},
     "output_type": "display_data"
    },
    {
     "data": {
      "text/plain": [
       "'X'"
      ]
     },
     "metadata": {},
     "output_type": "display_data"
    },
    {
     "data": {
      "text/html": [
       "<div>\n",
       "<style scoped>\n",
       "    .dataframe tbody tr th:only-of-type {\n",
       "        vertical-align: middle;\n",
       "    }\n",
       "\n",
       "    .dataframe tbody tr th {\n",
       "        vertical-align: top;\n",
       "    }\n",
       "\n",
       "    .dataframe thead th {\n",
       "        text-align: right;\n",
       "    }\n",
       "</style>\n",
       "<table border=\"1\" class=\"dataframe\">\n",
       "  <thead>\n",
       "    <tr style=\"text-align: right;\">\n",
       "      <th></th>\n",
       "      <th>index</th>\n",
       "      <th>Year</th>\n",
       "      <th>Daynum</th>\n",
       "      <th>Region</th>\n",
       "      <th>RegionNum</th>\n",
       "      <th>Team</th>\n",
       "      <th>Seed</th>\n",
       "      <th>Team_Position</th>\n",
       "      <th>Mapped_Round</th>\n",
       "      <th>Round</th>\n",
       "      <th>GameSlot</th>\n",
       "    </tr>\n",
       "  </thead>\n",
       "  <tbody>\n",
       "  </tbody>\n",
       "</table>\n",
       "</div>"
      ],
      "text/plain": [
       "Empty DataFrame\n",
       "Columns: [index, Year, Daynum, Region, RegionNum, Team, Seed, Team_Position, Mapped_Round, Round, GameSlot]\n",
       "Index: []"
      ]
     },
     "metadata": {},
     "output_type": "display_data"
    },
    {
     "name": "stdout",
     "output_type": "stream",
     "text": [
      "[]\n"
     ]
    },
    {
     "data": {
      "text/plain": [
       "'Y'"
      ]
     },
     "metadata": {},
     "output_type": "display_data"
    },
    {
     "data": {
      "text/html": [
       "<div>\n",
       "<style scoped>\n",
       "    .dataframe tbody tr th:only-of-type {\n",
       "        vertical-align: middle;\n",
       "    }\n",
       "\n",
       "    .dataframe tbody tr th {\n",
       "        vertical-align: top;\n",
       "    }\n",
       "\n",
       "    .dataframe thead th {\n",
       "        text-align: right;\n",
       "    }\n",
       "</style>\n",
       "<table border=\"1\" class=\"dataframe\">\n",
       "  <thead>\n",
       "    <tr style=\"text-align: right;\">\n",
       "      <th></th>\n",
       "      <th>index</th>\n",
       "      <th>Year</th>\n",
       "      <th>Daynum</th>\n",
       "      <th>Region</th>\n",
       "      <th>RegionNum</th>\n",
       "      <th>Team</th>\n",
       "      <th>Seed</th>\n",
       "      <th>Team_Position</th>\n",
       "      <th>Mapped_Round</th>\n",
       "      <th>Round</th>\n",
       "      <th>GameSlot</th>\n",
       "    </tr>\n",
       "  </thead>\n",
       "  <tbody>\n",
       "  </tbody>\n",
       "</table>\n",
       "</div>"
      ],
      "text/plain": [
       "Empty DataFrame\n",
       "Columns: [index, Year, Daynum, Region, RegionNum, Team, Seed, Team_Position, Mapped_Round, Round, GameSlot]\n",
       "Index: []"
      ]
     },
     "metadata": {},
     "output_type": "display_data"
    },
    {
     "data": {
      "text/plain": [
       "'Y'"
      ]
     },
     "metadata": {},
     "output_type": "display_data"
    },
    {
     "data": {
      "text/html": [
       "<div>\n",
       "<style scoped>\n",
       "    .dataframe tbody tr th:only-of-type {\n",
       "        vertical-align: middle;\n",
       "    }\n",
       "\n",
       "    .dataframe tbody tr th {\n",
       "        vertical-align: top;\n",
       "    }\n",
       "\n",
       "    .dataframe thead th {\n",
       "        text-align: right;\n",
       "    }\n",
       "</style>\n",
       "<table border=\"1\" class=\"dataframe\">\n",
       "  <thead>\n",
       "    <tr style=\"text-align: right;\">\n",
       "      <th></th>\n",
       "      <th>index</th>\n",
       "      <th>Year</th>\n",
       "      <th>Daynum</th>\n",
       "      <th>Region</th>\n",
       "      <th>RegionNum</th>\n",
       "      <th>Team</th>\n",
       "      <th>Seed</th>\n",
       "      <th>Team_Position</th>\n",
       "      <th>Mapped_Round</th>\n",
       "      <th>Round</th>\n",
       "      <th>GameSlot</th>\n",
       "    </tr>\n",
       "  </thead>\n",
       "  <tbody>\n",
       "  </tbody>\n",
       "</table>\n",
       "</div>"
      ],
      "text/plain": [
       "Empty DataFrame\n",
       "Columns: [index, Year, Daynum, Region, RegionNum, Team, Seed, Team_Position, Mapped_Round, Round, GameSlot]\n",
       "Index: []"
      ]
     },
     "metadata": {},
     "output_type": "display_data"
    },
    {
     "name": "stdout",
     "output_type": "stream",
     "text": [
      "[]\n"
     ]
    },
    {
     "data": {
      "text/plain": [
       "'Z'"
      ]
     },
     "metadata": {},
     "output_type": "display_data"
    },
    {
     "data": {
      "text/html": [
       "<div>\n",
       "<style scoped>\n",
       "    .dataframe tbody tr th:only-of-type {\n",
       "        vertical-align: middle;\n",
       "    }\n",
       "\n",
       "    .dataframe tbody tr th {\n",
       "        vertical-align: top;\n",
       "    }\n",
       "\n",
       "    .dataframe thead th {\n",
       "        text-align: right;\n",
       "    }\n",
       "</style>\n",
       "<table border=\"1\" class=\"dataframe\">\n",
       "  <thead>\n",
       "    <tr style=\"text-align: right;\">\n",
       "      <th></th>\n",
       "      <th>index</th>\n",
       "      <th>Year</th>\n",
       "      <th>Daynum</th>\n",
       "      <th>Region</th>\n",
       "      <th>RegionNum</th>\n",
       "      <th>Team</th>\n",
       "      <th>Seed</th>\n",
       "      <th>Team_Position</th>\n",
       "      <th>Mapped_Round</th>\n",
       "      <th>Round</th>\n",
       "      <th>GameSlot</th>\n",
       "    </tr>\n",
       "  </thead>\n",
       "  <tbody>\n",
       "  </tbody>\n",
       "</table>\n",
       "</div>"
      ],
      "text/plain": [
       "Empty DataFrame\n",
       "Columns: [index, Year, Daynum, Region, RegionNum, Team, Seed, Team_Position, Mapped_Round, Round, GameSlot]\n",
       "Index: []"
      ]
     },
     "metadata": {},
     "output_type": "display_data"
    },
    {
     "data": {
      "text/plain": [
       "'Z'"
      ]
     },
     "metadata": {},
     "output_type": "display_data"
    },
    {
     "data": {
      "text/html": [
       "<div>\n",
       "<style scoped>\n",
       "    .dataframe tbody tr th:only-of-type {\n",
       "        vertical-align: middle;\n",
       "    }\n",
       "\n",
       "    .dataframe tbody tr th {\n",
       "        vertical-align: top;\n",
       "    }\n",
       "\n",
       "    .dataframe thead th {\n",
       "        text-align: right;\n",
       "    }\n",
       "</style>\n",
       "<table border=\"1\" class=\"dataframe\">\n",
       "  <thead>\n",
       "    <tr style=\"text-align: right;\">\n",
       "      <th></th>\n",
       "      <th>index</th>\n",
       "      <th>Year</th>\n",
       "      <th>Daynum</th>\n",
       "      <th>Region</th>\n",
       "      <th>RegionNum</th>\n",
       "      <th>Team</th>\n",
       "      <th>Seed</th>\n",
       "      <th>Team_Position</th>\n",
       "      <th>Mapped_Round</th>\n",
       "      <th>Round</th>\n",
       "      <th>GameSlot</th>\n",
       "    </tr>\n",
       "  </thead>\n",
       "  <tbody>\n",
       "  </tbody>\n",
       "</table>\n",
       "</div>"
      ],
      "text/plain": [
       "Empty DataFrame\n",
       "Columns: [index, Year, Daynum, Region, RegionNum, Team, Seed, Team_Position, Mapped_Round, Round, GameSlot]\n",
       "Index: []"
      ]
     },
     "metadata": {},
     "output_type": "display_data"
    },
    {
     "name": "stdout",
     "output_type": "stream",
     "text": [
      "[2 4]\n",
      "2004 0\n",
      "[]\n"
     ]
    },
    {
     "data": {
      "text/plain": [
       "'W'"
      ]
     },
     "metadata": {},
     "output_type": "display_data"
    },
    {
     "data": {
      "text/html": [
       "<div>\n",
       "<style scoped>\n",
       "    .dataframe tbody tr th:only-of-type {\n",
       "        vertical-align: middle;\n",
       "    }\n",
       "\n",
       "    .dataframe tbody tr th {\n",
       "        vertical-align: top;\n",
       "    }\n",
       "\n",
       "    .dataframe thead th {\n",
       "        text-align: right;\n",
       "    }\n",
       "</style>\n",
       "<table border=\"1\" class=\"dataframe\">\n",
       "  <thead>\n",
       "    <tr style=\"text-align: right;\">\n",
       "      <th></th>\n",
       "      <th>index</th>\n",
       "      <th>Year</th>\n",
       "      <th>Daynum</th>\n",
       "      <th>Region</th>\n",
       "      <th>RegionNum</th>\n",
       "      <th>Team</th>\n",
       "      <th>Seed</th>\n",
       "      <th>Team_Position</th>\n",
       "      <th>Mapped_Round</th>\n",
       "      <th>Round</th>\n",
       "      <th>GameSlot</th>\n",
       "    </tr>\n",
       "  </thead>\n",
       "  <tbody>\n",
       "  </tbody>\n",
       "</table>\n",
       "</div>"
      ],
      "text/plain": [
       "Empty DataFrame\n",
       "Columns: [index, Year, Daynum, Region, RegionNum, Team, Seed, Team_Position, Mapped_Round, Round, GameSlot]\n",
       "Index: []"
      ]
     },
     "metadata": {},
     "output_type": "display_data"
    },
    {
     "data": {
      "text/plain": [
       "'W'"
      ]
     },
     "metadata": {},
     "output_type": "display_data"
    },
    {
     "data": {
      "text/html": [
       "<div>\n",
       "<style scoped>\n",
       "    .dataframe tbody tr th:only-of-type {\n",
       "        vertical-align: middle;\n",
       "    }\n",
       "\n",
       "    .dataframe tbody tr th {\n",
       "        vertical-align: top;\n",
       "    }\n",
       "\n",
       "    .dataframe thead th {\n",
       "        text-align: right;\n",
       "    }\n",
       "</style>\n",
       "<table border=\"1\" class=\"dataframe\">\n",
       "  <thead>\n",
       "    <tr style=\"text-align: right;\">\n",
       "      <th></th>\n",
       "      <th>index</th>\n",
       "      <th>Year</th>\n",
       "      <th>Daynum</th>\n",
       "      <th>Region</th>\n",
       "      <th>RegionNum</th>\n",
       "      <th>Team</th>\n",
       "      <th>Seed</th>\n",
       "      <th>Team_Position</th>\n",
       "      <th>Mapped_Round</th>\n",
       "      <th>Round</th>\n",
       "      <th>GameSlot</th>\n",
       "    </tr>\n",
       "  </thead>\n",
       "  <tbody>\n",
       "  </tbody>\n",
       "</table>\n",
       "</div>"
      ],
      "text/plain": [
       "Empty DataFrame\n",
       "Columns: [index, Year, Daynum, Region, RegionNum, Team, Seed, Team_Position, Mapped_Round, Round, GameSlot]\n",
       "Index: []"
      ]
     },
     "metadata": {},
     "output_type": "display_data"
    },
    {
     "name": "stdout",
     "output_type": "stream",
     "text": [
      "[]\n"
     ]
    },
    {
     "data": {
      "text/plain": [
       "'X'"
      ]
     },
     "metadata": {},
     "output_type": "display_data"
    },
    {
     "data": {
      "text/html": [
       "<div>\n",
       "<style scoped>\n",
       "    .dataframe tbody tr th:only-of-type {\n",
       "        vertical-align: middle;\n",
       "    }\n",
       "\n",
       "    .dataframe tbody tr th {\n",
       "        vertical-align: top;\n",
       "    }\n",
       "\n",
       "    .dataframe thead th {\n",
       "        text-align: right;\n",
       "    }\n",
       "</style>\n",
       "<table border=\"1\" class=\"dataframe\">\n",
       "  <thead>\n",
       "    <tr style=\"text-align: right;\">\n",
       "      <th></th>\n",
       "      <th>index</th>\n",
       "      <th>Year</th>\n",
       "      <th>Daynum</th>\n",
       "      <th>Region</th>\n",
       "      <th>RegionNum</th>\n",
       "      <th>Team</th>\n",
       "      <th>Seed</th>\n",
       "      <th>Team_Position</th>\n",
       "      <th>Mapped_Round</th>\n",
       "      <th>Round</th>\n",
       "      <th>GameSlot</th>\n",
       "    </tr>\n",
       "  </thead>\n",
       "  <tbody>\n",
       "  </tbody>\n",
       "</table>\n",
       "</div>"
      ],
      "text/plain": [
       "Empty DataFrame\n",
       "Columns: [index, Year, Daynum, Region, RegionNum, Team, Seed, Team_Position, Mapped_Round, Round, GameSlot]\n",
       "Index: []"
      ]
     },
     "metadata": {},
     "output_type": "display_data"
    },
    {
     "data": {
      "text/plain": [
       "'X'"
      ]
     },
     "metadata": {},
     "output_type": "display_data"
    },
    {
     "data": {
      "text/html": [
       "<div>\n",
       "<style scoped>\n",
       "    .dataframe tbody tr th:only-of-type {\n",
       "        vertical-align: middle;\n",
       "    }\n",
       "\n",
       "    .dataframe tbody tr th {\n",
       "        vertical-align: top;\n",
       "    }\n",
       "\n",
       "    .dataframe thead th {\n",
       "        text-align: right;\n",
       "    }\n",
       "</style>\n",
       "<table border=\"1\" class=\"dataframe\">\n",
       "  <thead>\n",
       "    <tr style=\"text-align: right;\">\n",
       "      <th></th>\n",
       "      <th>index</th>\n",
       "      <th>Year</th>\n",
       "      <th>Daynum</th>\n",
       "      <th>Region</th>\n",
       "      <th>RegionNum</th>\n",
       "      <th>Team</th>\n",
       "      <th>Seed</th>\n",
       "      <th>Team_Position</th>\n",
       "      <th>Mapped_Round</th>\n",
       "      <th>Round</th>\n",
       "      <th>GameSlot</th>\n",
       "    </tr>\n",
       "  </thead>\n",
       "  <tbody>\n",
       "  </tbody>\n",
       "</table>\n",
       "</div>"
      ],
      "text/plain": [
       "Empty DataFrame\n",
       "Columns: [index, Year, Daynum, Region, RegionNum, Team, Seed, Team_Position, Mapped_Round, Round, GameSlot]\n",
       "Index: []"
      ]
     },
     "metadata": {},
     "output_type": "display_data"
    },
    {
     "name": "stdout",
     "output_type": "stream",
     "text": [
      "[]\n"
     ]
    },
    {
     "data": {
      "text/plain": [
       "'Y'"
      ]
     },
     "metadata": {},
     "output_type": "display_data"
    },
    {
     "data": {
      "text/html": [
       "<div>\n",
       "<style scoped>\n",
       "    .dataframe tbody tr th:only-of-type {\n",
       "        vertical-align: middle;\n",
       "    }\n",
       "\n",
       "    .dataframe tbody tr th {\n",
       "        vertical-align: top;\n",
       "    }\n",
       "\n",
       "    .dataframe thead th {\n",
       "        text-align: right;\n",
       "    }\n",
       "</style>\n",
       "<table border=\"1\" class=\"dataframe\">\n",
       "  <thead>\n",
       "    <tr style=\"text-align: right;\">\n",
       "      <th></th>\n",
       "      <th>index</th>\n",
       "      <th>Year</th>\n",
       "      <th>Daynum</th>\n",
       "      <th>Region</th>\n",
       "      <th>RegionNum</th>\n",
       "      <th>Team</th>\n",
       "      <th>Seed</th>\n",
       "      <th>Team_Position</th>\n",
       "      <th>Mapped_Round</th>\n",
       "      <th>Round</th>\n",
       "      <th>GameSlot</th>\n",
       "    </tr>\n",
       "  </thead>\n",
       "  <tbody>\n",
       "  </tbody>\n",
       "</table>\n",
       "</div>"
      ],
      "text/plain": [
       "Empty DataFrame\n",
       "Columns: [index, Year, Daynum, Region, RegionNum, Team, Seed, Team_Position, Mapped_Round, Round, GameSlot]\n",
       "Index: []"
      ]
     },
     "metadata": {},
     "output_type": "display_data"
    },
    {
     "data": {
      "text/plain": [
       "'Y'"
      ]
     },
     "metadata": {},
     "output_type": "display_data"
    },
    {
     "data": {
      "text/html": [
       "<div>\n",
       "<style scoped>\n",
       "    .dataframe tbody tr th:only-of-type {\n",
       "        vertical-align: middle;\n",
       "    }\n",
       "\n",
       "    .dataframe tbody tr th {\n",
       "        vertical-align: top;\n",
       "    }\n",
       "\n",
       "    .dataframe thead th {\n",
       "        text-align: right;\n",
       "    }\n",
       "</style>\n",
       "<table border=\"1\" class=\"dataframe\">\n",
       "  <thead>\n",
       "    <tr style=\"text-align: right;\">\n",
       "      <th></th>\n",
       "      <th>index</th>\n",
       "      <th>Year</th>\n",
       "      <th>Daynum</th>\n",
       "      <th>Region</th>\n",
       "      <th>RegionNum</th>\n",
       "      <th>Team</th>\n",
       "      <th>Seed</th>\n",
       "      <th>Team_Position</th>\n",
       "      <th>Mapped_Round</th>\n",
       "      <th>Round</th>\n",
       "      <th>GameSlot</th>\n",
       "    </tr>\n",
       "  </thead>\n",
       "  <tbody>\n",
       "  </tbody>\n",
       "</table>\n",
       "</div>"
      ],
      "text/plain": [
       "Empty DataFrame\n",
       "Columns: [index, Year, Daynum, Region, RegionNum, Team, Seed, Team_Position, Mapped_Round, Round, GameSlot]\n",
       "Index: []"
      ]
     },
     "metadata": {},
     "output_type": "display_data"
    },
    {
     "name": "stdout",
     "output_type": "stream",
     "text": [
      "[]\n"
     ]
    },
    {
     "data": {
      "text/plain": [
       "'Z'"
      ]
     },
     "metadata": {},
     "output_type": "display_data"
    },
    {
     "data": {
      "text/html": [
       "<div>\n",
       "<style scoped>\n",
       "    .dataframe tbody tr th:only-of-type {\n",
       "        vertical-align: middle;\n",
       "    }\n",
       "\n",
       "    .dataframe tbody tr th {\n",
       "        vertical-align: top;\n",
       "    }\n",
       "\n",
       "    .dataframe thead th {\n",
       "        text-align: right;\n",
       "    }\n",
       "</style>\n",
       "<table border=\"1\" class=\"dataframe\">\n",
       "  <thead>\n",
       "    <tr style=\"text-align: right;\">\n",
       "      <th></th>\n",
       "      <th>index</th>\n",
       "      <th>Year</th>\n",
       "      <th>Daynum</th>\n",
       "      <th>Region</th>\n",
       "      <th>RegionNum</th>\n",
       "      <th>Team</th>\n",
       "      <th>Seed</th>\n",
       "      <th>Team_Position</th>\n",
       "      <th>Mapped_Round</th>\n",
       "      <th>Round</th>\n",
       "      <th>GameSlot</th>\n",
       "    </tr>\n",
       "  </thead>\n",
       "  <tbody>\n",
       "  </tbody>\n",
       "</table>\n",
       "</div>"
      ],
      "text/plain": [
       "Empty DataFrame\n",
       "Columns: [index, Year, Daynum, Region, RegionNum, Team, Seed, Team_Position, Mapped_Round, Round, GameSlot]\n",
       "Index: []"
      ]
     },
     "metadata": {},
     "output_type": "display_data"
    },
    {
     "data": {
      "text/plain": [
       "'Z'"
      ]
     },
     "metadata": {},
     "output_type": "display_data"
    },
    {
     "data": {
      "text/html": [
       "<div>\n",
       "<style scoped>\n",
       "    .dataframe tbody tr th:only-of-type {\n",
       "        vertical-align: middle;\n",
       "    }\n",
       "\n",
       "    .dataframe tbody tr th {\n",
       "        vertical-align: top;\n",
       "    }\n",
       "\n",
       "    .dataframe thead th {\n",
       "        text-align: right;\n",
       "    }\n",
       "</style>\n",
       "<table border=\"1\" class=\"dataframe\">\n",
       "  <thead>\n",
       "    <tr style=\"text-align: right;\">\n",
       "      <th></th>\n",
       "      <th>index</th>\n",
       "      <th>Year</th>\n",
       "      <th>Daynum</th>\n",
       "      <th>Region</th>\n",
       "      <th>RegionNum</th>\n",
       "      <th>Team</th>\n",
       "      <th>Seed</th>\n",
       "      <th>Team_Position</th>\n",
       "      <th>Mapped_Round</th>\n",
       "      <th>Round</th>\n",
       "      <th>GameSlot</th>\n",
       "    </tr>\n",
       "  </thead>\n",
       "  <tbody>\n",
       "  </tbody>\n",
       "</table>\n",
       "</div>"
      ],
      "text/plain": [
       "Empty DataFrame\n",
       "Columns: [index, Year, Daynum, Region, RegionNum, Team, Seed, Team_Position, Mapped_Round, Round, GameSlot]\n",
       "Index: []"
      ]
     },
     "metadata": {},
     "output_type": "display_data"
    },
    {
     "name": "stdout",
     "output_type": "stream",
     "text": [
      "[2 4]\n",
      "2005 0\n",
      "[]\n"
     ]
    },
    {
     "data": {
      "text/plain": [
       "'W'"
      ]
     },
     "metadata": {},
     "output_type": "display_data"
    },
    {
     "data": {
      "text/html": [
       "<div>\n",
       "<style scoped>\n",
       "    .dataframe tbody tr th:only-of-type {\n",
       "        vertical-align: middle;\n",
       "    }\n",
       "\n",
       "    .dataframe tbody tr th {\n",
       "        vertical-align: top;\n",
       "    }\n",
       "\n",
       "    .dataframe thead th {\n",
       "        text-align: right;\n",
       "    }\n",
       "</style>\n",
       "<table border=\"1\" class=\"dataframe\">\n",
       "  <thead>\n",
       "    <tr style=\"text-align: right;\">\n",
       "      <th></th>\n",
       "      <th>index</th>\n",
       "      <th>Year</th>\n",
       "      <th>Daynum</th>\n",
       "      <th>Region</th>\n",
       "      <th>RegionNum</th>\n",
       "      <th>Team</th>\n",
       "      <th>Seed</th>\n",
       "      <th>Team_Position</th>\n",
       "      <th>Mapped_Round</th>\n",
       "      <th>Round</th>\n",
       "      <th>GameSlot</th>\n",
       "    </tr>\n",
       "  </thead>\n",
       "  <tbody>\n",
       "  </tbody>\n",
       "</table>\n",
       "</div>"
      ],
      "text/plain": [
       "Empty DataFrame\n",
       "Columns: [index, Year, Daynum, Region, RegionNum, Team, Seed, Team_Position, Mapped_Round, Round, GameSlot]\n",
       "Index: []"
      ]
     },
     "metadata": {},
     "output_type": "display_data"
    },
    {
     "data": {
      "text/plain": [
       "'W'"
      ]
     },
     "metadata": {},
     "output_type": "display_data"
    },
    {
     "data": {
      "text/html": [
       "<div>\n",
       "<style scoped>\n",
       "    .dataframe tbody tr th:only-of-type {\n",
       "        vertical-align: middle;\n",
       "    }\n",
       "\n",
       "    .dataframe tbody tr th {\n",
       "        vertical-align: top;\n",
       "    }\n",
       "\n",
       "    .dataframe thead th {\n",
       "        text-align: right;\n",
       "    }\n",
       "</style>\n",
       "<table border=\"1\" class=\"dataframe\">\n",
       "  <thead>\n",
       "    <tr style=\"text-align: right;\">\n",
       "      <th></th>\n",
       "      <th>index</th>\n",
       "      <th>Year</th>\n",
       "      <th>Daynum</th>\n",
       "      <th>Region</th>\n",
       "      <th>RegionNum</th>\n",
       "      <th>Team</th>\n",
       "      <th>Seed</th>\n",
       "      <th>Team_Position</th>\n",
       "      <th>Mapped_Round</th>\n",
       "      <th>Round</th>\n",
       "      <th>GameSlot</th>\n",
       "    </tr>\n",
       "  </thead>\n",
       "  <tbody>\n",
       "  </tbody>\n",
       "</table>\n",
       "</div>"
      ],
      "text/plain": [
       "Empty DataFrame\n",
       "Columns: [index, Year, Daynum, Region, RegionNum, Team, Seed, Team_Position, Mapped_Round, Round, GameSlot]\n",
       "Index: []"
      ]
     },
     "metadata": {},
     "output_type": "display_data"
    },
    {
     "name": "stdout",
     "output_type": "stream",
     "text": [
      "[]\n"
     ]
    },
    {
     "data": {
      "text/plain": [
       "'X'"
      ]
     },
     "metadata": {},
     "output_type": "display_data"
    },
    {
     "data": {
      "text/html": [
       "<div>\n",
       "<style scoped>\n",
       "    .dataframe tbody tr th:only-of-type {\n",
       "        vertical-align: middle;\n",
       "    }\n",
       "\n",
       "    .dataframe tbody tr th {\n",
       "        vertical-align: top;\n",
       "    }\n",
       "\n",
       "    .dataframe thead th {\n",
       "        text-align: right;\n",
       "    }\n",
       "</style>\n",
       "<table border=\"1\" class=\"dataframe\">\n",
       "  <thead>\n",
       "    <tr style=\"text-align: right;\">\n",
       "      <th></th>\n",
       "      <th>index</th>\n",
       "      <th>Year</th>\n",
       "      <th>Daynum</th>\n",
       "      <th>Region</th>\n",
       "      <th>RegionNum</th>\n",
       "      <th>Team</th>\n",
       "      <th>Seed</th>\n",
       "      <th>Team_Position</th>\n",
       "      <th>Mapped_Round</th>\n",
       "      <th>Round</th>\n",
       "      <th>GameSlot</th>\n",
       "    </tr>\n",
       "  </thead>\n",
       "  <tbody>\n",
       "  </tbody>\n",
       "</table>\n",
       "</div>"
      ],
      "text/plain": [
       "Empty DataFrame\n",
       "Columns: [index, Year, Daynum, Region, RegionNum, Team, Seed, Team_Position, Mapped_Round, Round, GameSlot]\n",
       "Index: []"
      ]
     },
     "metadata": {},
     "output_type": "display_data"
    },
    {
     "data": {
      "text/plain": [
       "'X'"
      ]
     },
     "metadata": {},
     "output_type": "display_data"
    },
    {
     "data": {
      "text/html": [
       "<div>\n",
       "<style scoped>\n",
       "    .dataframe tbody tr th:only-of-type {\n",
       "        vertical-align: middle;\n",
       "    }\n",
       "\n",
       "    .dataframe tbody tr th {\n",
       "        vertical-align: top;\n",
       "    }\n",
       "\n",
       "    .dataframe thead th {\n",
       "        text-align: right;\n",
       "    }\n",
       "</style>\n",
       "<table border=\"1\" class=\"dataframe\">\n",
       "  <thead>\n",
       "    <tr style=\"text-align: right;\">\n",
       "      <th></th>\n",
       "      <th>index</th>\n",
       "      <th>Year</th>\n",
       "      <th>Daynum</th>\n",
       "      <th>Region</th>\n",
       "      <th>RegionNum</th>\n",
       "      <th>Team</th>\n",
       "      <th>Seed</th>\n",
       "      <th>Team_Position</th>\n",
       "      <th>Mapped_Round</th>\n",
       "      <th>Round</th>\n",
       "      <th>GameSlot</th>\n",
       "    </tr>\n",
       "  </thead>\n",
       "  <tbody>\n",
       "  </tbody>\n",
       "</table>\n",
       "</div>"
      ],
      "text/plain": [
       "Empty DataFrame\n",
       "Columns: [index, Year, Daynum, Region, RegionNum, Team, Seed, Team_Position, Mapped_Round, Round, GameSlot]\n",
       "Index: []"
      ]
     },
     "metadata": {},
     "output_type": "display_data"
    },
    {
     "name": "stdout",
     "output_type": "stream",
     "text": [
      "[]\n"
     ]
    },
    {
     "data": {
      "text/plain": [
       "'Y'"
      ]
     },
     "metadata": {},
     "output_type": "display_data"
    },
    {
     "data": {
      "text/html": [
       "<div>\n",
       "<style scoped>\n",
       "    .dataframe tbody tr th:only-of-type {\n",
       "        vertical-align: middle;\n",
       "    }\n",
       "\n",
       "    .dataframe tbody tr th {\n",
       "        vertical-align: top;\n",
       "    }\n",
       "\n",
       "    .dataframe thead th {\n",
       "        text-align: right;\n",
       "    }\n",
       "</style>\n",
       "<table border=\"1\" class=\"dataframe\">\n",
       "  <thead>\n",
       "    <tr style=\"text-align: right;\">\n",
       "      <th></th>\n",
       "      <th>index</th>\n",
       "      <th>Year</th>\n",
       "      <th>Daynum</th>\n",
       "      <th>Region</th>\n",
       "      <th>RegionNum</th>\n",
       "      <th>Team</th>\n",
       "      <th>Seed</th>\n",
       "      <th>Team_Position</th>\n",
       "      <th>Mapped_Round</th>\n",
       "      <th>Round</th>\n",
       "      <th>GameSlot</th>\n",
       "    </tr>\n",
       "  </thead>\n",
       "  <tbody>\n",
       "  </tbody>\n",
       "</table>\n",
       "</div>"
      ],
      "text/plain": [
       "Empty DataFrame\n",
       "Columns: [index, Year, Daynum, Region, RegionNum, Team, Seed, Team_Position, Mapped_Round, Round, GameSlot]\n",
       "Index: []"
      ]
     },
     "metadata": {},
     "output_type": "display_data"
    },
    {
     "data": {
      "text/plain": [
       "'Y'"
      ]
     },
     "metadata": {},
     "output_type": "display_data"
    },
    {
     "data": {
      "text/html": [
       "<div>\n",
       "<style scoped>\n",
       "    .dataframe tbody tr th:only-of-type {\n",
       "        vertical-align: middle;\n",
       "    }\n",
       "\n",
       "    .dataframe tbody tr th {\n",
       "        vertical-align: top;\n",
       "    }\n",
       "\n",
       "    .dataframe thead th {\n",
       "        text-align: right;\n",
       "    }\n",
       "</style>\n",
       "<table border=\"1\" class=\"dataframe\">\n",
       "  <thead>\n",
       "    <tr style=\"text-align: right;\">\n",
       "      <th></th>\n",
       "      <th>index</th>\n",
       "      <th>Year</th>\n",
       "      <th>Daynum</th>\n",
       "      <th>Region</th>\n",
       "      <th>RegionNum</th>\n",
       "      <th>Team</th>\n",
       "      <th>Seed</th>\n",
       "      <th>Team_Position</th>\n",
       "      <th>Mapped_Round</th>\n",
       "      <th>Round</th>\n",
       "      <th>GameSlot</th>\n",
       "    </tr>\n",
       "  </thead>\n",
       "  <tbody>\n",
       "  </tbody>\n",
       "</table>\n",
       "</div>"
      ],
      "text/plain": [
       "Empty DataFrame\n",
       "Columns: [index, Year, Daynum, Region, RegionNum, Team, Seed, Team_Position, Mapped_Round, Round, GameSlot]\n",
       "Index: []"
      ]
     },
     "metadata": {},
     "output_type": "display_data"
    },
    {
     "name": "stdout",
     "output_type": "stream",
     "text": [
      "[]\n"
     ]
    },
    {
     "data": {
      "text/plain": [
       "'Z'"
      ]
     },
     "metadata": {},
     "output_type": "display_data"
    },
    {
     "data": {
      "text/html": [
       "<div>\n",
       "<style scoped>\n",
       "    .dataframe tbody tr th:only-of-type {\n",
       "        vertical-align: middle;\n",
       "    }\n",
       "\n",
       "    .dataframe tbody tr th {\n",
       "        vertical-align: top;\n",
       "    }\n",
       "\n",
       "    .dataframe thead th {\n",
       "        text-align: right;\n",
       "    }\n",
       "</style>\n",
       "<table border=\"1\" class=\"dataframe\">\n",
       "  <thead>\n",
       "    <tr style=\"text-align: right;\">\n",
       "      <th></th>\n",
       "      <th>index</th>\n",
       "      <th>Year</th>\n",
       "      <th>Daynum</th>\n",
       "      <th>Region</th>\n",
       "      <th>RegionNum</th>\n",
       "      <th>Team</th>\n",
       "      <th>Seed</th>\n",
       "      <th>Team_Position</th>\n",
       "      <th>Mapped_Round</th>\n",
       "      <th>Round</th>\n",
       "      <th>GameSlot</th>\n",
       "    </tr>\n",
       "  </thead>\n",
       "  <tbody>\n",
       "  </tbody>\n",
       "</table>\n",
       "</div>"
      ],
      "text/plain": [
       "Empty DataFrame\n",
       "Columns: [index, Year, Daynum, Region, RegionNum, Team, Seed, Team_Position, Mapped_Round, Round, GameSlot]\n",
       "Index: []"
      ]
     },
     "metadata": {},
     "output_type": "display_data"
    },
    {
     "data": {
      "text/plain": [
       "'Z'"
      ]
     },
     "metadata": {},
     "output_type": "display_data"
    },
    {
     "data": {
      "text/html": [
       "<div>\n",
       "<style scoped>\n",
       "    .dataframe tbody tr th:only-of-type {\n",
       "        vertical-align: middle;\n",
       "    }\n",
       "\n",
       "    .dataframe tbody tr th {\n",
       "        vertical-align: top;\n",
       "    }\n",
       "\n",
       "    .dataframe thead th {\n",
       "        text-align: right;\n",
       "    }\n",
       "</style>\n",
       "<table border=\"1\" class=\"dataframe\">\n",
       "  <thead>\n",
       "    <tr style=\"text-align: right;\">\n",
       "      <th></th>\n",
       "      <th>index</th>\n",
       "      <th>Year</th>\n",
       "      <th>Daynum</th>\n",
       "      <th>Region</th>\n",
       "      <th>RegionNum</th>\n",
       "      <th>Team</th>\n",
       "      <th>Seed</th>\n",
       "      <th>Team_Position</th>\n",
       "      <th>Mapped_Round</th>\n",
       "      <th>Round</th>\n",
       "      <th>GameSlot</th>\n",
       "    </tr>\n",
       "  </thead>\n",
       "  <tbody>\n",
       "  </tbody>\n",
       "</table>\n",
       "</div>"
      ],
      "text/plain": [
       "Empty DataFrame\n",
       "Columns: [index, Year, Daynum, Region, RegionNum, Team, Seed, Team_Position, Mapped_Round, Round, GameSlot]\n",
       "Index: []"
      ]
     },
     "metadata": {},
     "output_type": "display_data"
    },
    {
     "name": "stdout",
     "output_type": "stream",
     "text": [
      "[2 4]\n",
      "2006 0\n",
      "[]\n"
     ]
    },
    {
     "data": {
      "text/plain": [
       "'W'"
      ]
     },
     "metadata": {},
     "output_type": "display_data"
    },
    {
     "data": {
      "text/html": [
       "<div>\n",
       "<style scoped>\n",
       "    .dataframe tbody tr th:only-of-type {\n",
       "        vertical-align: middle;\n",
       "    }\n",
       "\n",
       "    .dataframe tbody tr th {\n",
       "        vertical-align: top;\n",
       "    }\n",
       "\n",
       "    .dataframe thead th {\n",
       "        text-align: right;\n",
       "    }\n",
       "</style>\n",
       "<table border=\"1\" class=\"dataframe\">\n",
       "  <thead>\n",
       "    <tr style=\"text-align: right;\">\n",
       "      <th></th>\n",
       "      <th>index</th>\n",
       "      <th>Year</th>\n",
       "      <th>Daynum</th>\n",
       "      <th>Region</th>\n",
       "      <th>RegionNum</th>\n",
       "      <th>Team</th>\n",
       "      <th>Seed</th>\n",
       "      <th>Team_Position</th>\n",
       "      <th>Mapped_Round</th>\n",
       "      <th>Round</th>\n",
       "      <th>GameSlot</th>\n",
       "    </tr>\n",
       "  </thead>\n",
       "  <tbody>\n",
       "  </tbody>\n",
       "</table>\n",
       "</div>"
      ],
      "text/plain": [
       "Empty DataFrame\n",
       "Columns: [index, Year, Daynum, Region, RegionNum, Team, Seed, Team_Position, Mapped_Round, Round, GameSlot]\n",
       "Index: []"
      ]
     },
     "metadata": {},
     "output_type": "display_data"
    },
    {
     "data": {
      "text/plain": [
       "'W'"
      ]
     },
     "metadata": {},
     "output_type": "display_data"
    },
    {
     "data": {
      "text/html": [
       "<div>\n",
       "<style scoped>\n",
       "    .dataframe tbody tr th:only-of-type {\n",
       "        vertical-align: middle;\n",
       "    }\n",
       "\n",
       "    .dataframe tbody tr th {\n",
       "        vertical-align: top;\n",
       "    }\n",
       "\n",
       "    .dataframe thead th {\n",
       "        text-align: right;\n",
       "    }\n",
       "</style>\n",
       "<table border=\"1\" class=\"dataframe\">\n",
       "  <thead>\n",
       "    <tr style=\"text-align: right;\">\n",
       "      <th></th>\n",
       "      <th>index</th>\n",
       "      <th>Year</th>\n",
       "      <th>Daynum</th>\n",
       "      <th>Region</th>\n",
       "      <th>RegionNum</th>\n",
       "      <th>Team</th>\n",
       "      <th>Seed</th>\n",
       "      <th>Team_Position</th>\n",
       "      <th>Mapped_Round</th>\n",
       "      <th>Round</th>\n",
       "      <th>GameSlot</th>\n",
       "    </tr>\n",
       "  </thead>\n",
       "  <tbody>\n",
       "  </tbody>\n",
       "</table>\n",
       "</div>"
      ],
      "text/plain": [
       "Empty DataFrame\n",
       "Columns: [index, Year, Daynum, Region, RegionNum, Team, Seed, Team_Position, Mapped_Round, Round, GameSlot]\n",
       "Index: []"
      ]
     },
     "metadata": {},
     "output_type": "display_data"
    },
    {
     "name": "stdout",
     "output_type": "stream",
     "text": [
      "[]\n"
     ]
    },
    {
     "data": {
      "text/plain": [
       "'X'"
      ]
     },
     "metadata": {},
     "output_type": "display_data"
    },
    {
     "data": {
      "text/html": [
       "<div>\n",
       "<style scoped>\n",
       "    .dataframe tbody tr th:only-of-type {\n",
       "        vertical-align: middle;\n",
       "    }\n",
       "\n",
       "    .dataframe tbody tr th {\n",
       "        vertical-align: top;\n",
       "    }\n",
       "\n",
       "    .dataframe thead th {\n",
       "        text-align: right;\n",
       "    }\n",
       "</style>\n",
       "<table border=\"1\" class=\"dataframe\">\n",
       "  <thead>\n",
       "    <tr style=\"text-align: right;\">\n",
       "      <th></th>\n",
       "      <th>index</th>\n",
       "      <th>Year</th>\n",
       "      <th>Daynum</th>\n",
       "      <th>Region</th>\n",
       "      <th>RegionNum</th>\n",
       "      <th>Team</th>\n",
       "      <th>Seed</th>\n",
       "      <th>Team_Position</th>\n",
       "      <th>Mapped_Round</th>\n",
       "      <th>Round</th>\n",
       "      <th>GameSlot</th>\n",
       "    </tr>\n",
       "  </thead>\n",
       "  <tbody>\n",
       "  </tbody>\n",
       "</table>\n",
       "</div>"
      ],
      "text/plain": [
       "Empty DataFrame\n",
       "Columns: [index, Year, Daynum, Region, RegionNum, Team, Seed, Team_Position, Mapped_Round, Round, GameSlot]\n",
       "Index: []"
      ]
     },
     "metadata": {},
     "output_type": "display_data"
    },
    {
     "data": {
      "text/plain": [
       "'X'"
      ]
     },
     "metadata": {},
     "output_type": "display_data"
    },
    {
     "data": {
      "text/html": [
       "<div>\n",
       "<style scoped>\n",
       "    .dataframe tbody tr th:only-of-type {\n",
       "        vertical-align: middle;\n",
       "    }\n",
       "\n",
       "    .dataframe tbody tr th {\n",
       "        vertical-align: top;\n",
       "    }\n",
       "\n",
       "    .dataframe thead th {\n",
       "        text-align: right;\n",
       "    }\n",
       "</style>\n",
       "<table border=\"1\" class=\"dataframe\">\n",
       "  <thead>\n",
       "    <tr style=\"text-align: right;\">\n",
       "      <th></th>\n",
       "      <th>index</th>\n",
       "      <th>Year</th>\n",
       "      <th>Daynum</th>\n",
       "      <th>Region</th>\n",
       "      <th>RegionNum</th>\n",
       "      <th>Team</th>\n",
       "      <th>Seed</th>\n",
       "      <th>Team_Position</th>\n",
       "      <th>Mapped_Round</th>\n",
       "      <th>Round</th>\n",
       "      <th>GameSlot</th>\n",
       "    </tr>\n",
       "  </thead>\n",
       "  <tbody>\n",
       "  </tbody>\n",
       "</table>\n",
       "</div>"
      ],
      "text/plain": [
       "Empty DataFrame\n",
       "Columns: [index, Year, Daynum, Region, RegionNum, Team, Seed, Team_Position, Mapped_Round, Round, GameSlot]\n",
       "Index: []"
      ]
     },
     "metadata": {},
     "output_type": "display_data"
    },
    {
     "name": "stdout",
     "output_type": "stream",
     "text": [
      "[]\n"
     ]
    },
    {
     "data": {
      "text/plain": [
       "'Y'"
      ]
     },
     "metadata": {},
     "output_type": "display_data"
    },
    {
     "data": {
      "text/html": [
       "<div>\n",
       "<style scoped>\n",
       "    .dataframe tbody tr th:only-of-type {\n",
       "        vertical-align: middle;\n",
       "    }\n",
       "\n",
       "    .dataframe tbody tr th {\n",
       "        vertical-align: top;\n",
       "    }\n",
       "\n",
       "    .dataframe thead th {\n",
       "        text-align: right;\n",
       "    }\n",
       "</style>\n",
       "<table border=\"1\" class=\"dataframe\">\n",
       "  <thead>\n",
       "    <tr style=\"text-align: right;\">\n",
       "      <th></th>\n",
       "      <th>index</th>\n",
       "      <th>Year</th>\n",
       "      <th>Daynum</th>\n",
       "      <th>Region</th>\n",
       "      <th>RegionNum</th>\n",
       "      <th>Team</th>\n",
       "      <th>Seed</th>\n",
       "      <th>Team_Position</th>\n",
       "      <th>Mapped_Round</th>\n",
       "      <th>Round</th>\n",
       "      <th>GameSlot</th>\n",
       "    </tr>\n",
       "  </thead>\n",
       "  <tbody>\n",
       "  </tbody>\n",
       "</table>\n",
       "</div>"
      ],
      "text/plain": [
       "Empty DataFrame\n",
       "Columns: [index, Year, Daynum, Region, RegionNum, Team, Seed, Team_Position, Mapped_Round, Round, GameSlot]\n",
       "Index: []"
      ]
     },
     "metadata": {},
     "output_type": "display_data"
    },
    {
     "data": {
      "text/plain": [
       "'Y'"
      ]
     },
     "metadata": {},
     "output_type": "display_data"
    },
    {
     "data": {
      "text/html": [
       "<div>\n",
       "<style scoped>\n",
       "    .dataframe tbody tr th:only-of-type {\n",
       "        vertical-align: middle;\n",
       "    }\n",
       "\n",
       "    .dataframe tbody tr th {\n",
       "        vertical-align: top;\n",
       "    }\n",
       "\n",
       "    .dataframe thead th {\n",
       "        text-align: right;\n",
       "    }\n",
       "</style>\n",
       "<table border=\"1\" class=\"dataframe\">\n",
       "  <thead>\n",
       "    <tr style=\"text-align: right;\">\n",
       "      <th></th>\n",
       "      <th>index</th>\n",
       "      <th>Year</th>\n",
       "      <th>Daynum</th>\n",
       "      <th>Region</th>\n",
       "      <th>RegionNum</th>\n",
       "      <th>Team</th>\n",
       "      <th>Seed</th>\n",
       "      <th>Team_Position</th>\n",
       "      <th>Mapped_Round</th>\n",
       "      <th>Round</th>\n",
       "      <th>GameSlot</th>\n",
       "    </tr>\n",
       "  </thead>\n",
       "  <tbody>\n",
       "  </tbody>\n",
       "</table>\n",
       "</div>"
      ],
      "text/plain": [
       "Empty DataFrame\n",
       "Columns: [index, Year, Daynum, Region, RegionNum, Team, Seed, Team_Position, Mapped_Round, Round, GameSlot]\n",
       "Index: []"
      ]
     },
     "metadata": {},
     "output_type": "display_data"
    },
    {
     "name": "stdout",
     "output_type": "stream",
     "text": [
      "[]\n"
     ]
    },
    {
     "data": {
      "text/plain": [
       "'Z'"
      ]
     },
     "metadata": {},
     "output_type": "display_data"
    },
    {
     "data": {
      "text/html": [
       "<div>\n",
       "<style scoped>\n",
       "    .dataframe tbody tr th:only-of-type {\n",
       "        vertical-align: middle;\n",
       "    }\n",
       "\n",
       "    .dataframe tbody tr th {\n",
       "        vertical-align: top;\n",
       "    }\n",
       "\n",
       "    .dataframe thead th {\n",
       "        text-align: right;\n",
       "    }\n",
       "</style>\n",
       "<table border=\"1\" class=\"dataframe\">\n",
       "  <thead>\n",
       "    <tr style=\"text-align: right;\">\n",
       "      <th></th>\n",
       "      <th>index</th>\n",
       "      <th>Year</th>\n",
       "      <th>Daynum</th>\n",
       "      <th>Region</th>\n",
       "      <th>RegionNum</th>\n",
       "      <th>Team</th>\n",
       "      <th>Seed</th>\n",
       "      <th>Team_Position</th>\n",
       "      <th>Mapped_Round</th>\n",
       "      <th>Round</th>\n",
       "      <th>GameSlot</th>\n",
       "    </tr>\n",
       "  </thead>\n",
       "  <tbody>\n",
       "  </tbody>\n",
       "</table>\n",
       "</div>"
      ],
      "text/plain": [
       "Empty DataFrame\n",
       "Columns: [index, Year, Daynum, Region, RegionNum, Team, Seed, Team_Position, Mapped_Round, Round, GameSlot]\n",
       "Index: []"
      ]
     },
     "metadata": {},
     "output_type": "display_data"
    },
    {
     "data": {
      "text/plain": [
       "'Z'"
      ]
     },
     "metadata": {},
     "output_type": "display_data"
    },
    {
     "data": {
      "text/html": [
       "<div>\n",
       "<style scoped>\n",
       "    .dataframe tbody tr th:only-of-type {\n",
       "        vertical-align: middle;\n",
       "    }\n",
       "\n",
       "    .dataframe tbody tr th {\n",
       "        vertical-align: top;\n",
       "    }\n",
       "\n",
       "    .dataframe thead th {\n",
       "        text-align: right;\n",
       "    }\n",
       "</style>\n",
       "<table border=\"1\" class=\"dataframe\">\n",
       "  <thead>\n",
       "    <tr style=\"text-align: right;\">\n",
       "      <th></th>\n",
       "      <th>index</th>\n",
       "      <th>Year</th>\n",
       "      <th>Daynum</th>\n",
       "      <th>Region</th>\n",
       "      <th>RegionNum</th>\n",
       "      <th>Team</th>\n",
       "      <th>Seed</th>\n",
       "      <th>Team_Position</th>\n",
       "      <th>Mapped_Round</th>\n",
       "      <th>Round</th>\n",
       "      <th>GameSlot</th>\n",
       "    </tr>\n",
       "  </thead>\n",
       "  <tbody>\n",
       "  </tbody>\n",
       "</table>\n",
       "</div>"
      ],
      "text/plain": [
       "Empty DataFrame\n",
       "Columns: [index, Year, Daynum, Region, RegionNum, Team, Seed, Team_Position, Mapped_Round, Round, GameSlot]\n",
       "Index: []"
      ]
     },
     "metadata": {},
     "output_type": "display_data"
    },
    {
     "name": "stdout",
     "output_type": "stream",
     "text": [
      "[2 4]\n",
      "2007 0\n",
      "[]\n"
     ]
    },
    {
     "data": {
      "text/plain": [
       "'W'"
      ]
     },
     "metadata": {},
     "output_type": "display_data"
    },
    {
     "data": {
      "text/html": [
       "<div>\n",
       "<style scoped>\n",
       "    .dataframe tbody tr th:only-of-type {\n",
       "        vertical-align: middle;\n",
       "    }\n",
       "\n",
       "    .dataframe tbody tr th {\n",
       "        vertical-align: top;\n",
       "    }\n",
       "\n",
       "    .dataframe thead th {\n",
       "        text-align: right;\n",
       "    }\n",
       "</style>\n",
       "<table border=\"1\" class=\"dataframe\">\n",
       "  <thead>\n",
       "    <tr style=\"text-align: right;\">\n",
       "      <th></th>\n",
       "      <th>index</th>\n",
       "      <th>Year</th>\n",
       "      <th>Daynum</th>\n",
       "      <th>Region</th>\n",
       "      <th>RegionNum</th>\n",
       "      <th>Team</th>\n",
       "      <th>Seed</th>\n",
       "      <th>Team_Position</th>\n",
       "      <th>Mapped_Round</th>\n",
       "      <th>Round</th>\n",
       "      <th>GameSlot</th>\n",
       "    </tr>\n",
       "  </thead>\n",
       "  <tbody>\n",
       "  </tbody>\n",
       "</table>\n",
       "</div>"
      ],
      "text/plain": [
       "Empty DataFrame\n",
       "Columns: [index, Year, Daynum, Region, RegionNum, Team, Seed, Team_Position, Mapped_Round, Round, GameSlot]\n",
       "Index: []"
      ]
     },
     "metadata": {},
     "output_type": "display_data"
    },
    {
     "data": {
      "text/plain": [
       "'W'"
      ]
     },
     "metadata": {},
     "output_type": "display_data"
    },
    {
     "data": {
      "text/html": [
       "<div>\n",
       "<style scoped>\n",
       "    .dataframe tbody tr th:only-of-type {\n",
       "        vertical-align: middle;\n",
       "    }\n",
       "\n",
       "    .dataframe tbody tr th {\n",
       "        vertical-align: top;\n",
       "    }\n",
       "\n",
       "    .dataframe thead th {\n",
       "        text-align: right;\n",
       "    }\n",
       "</style>\n",
       "<table border=\"1\" class=\"dataframe\">\n",
       "  <thead>\n",
       "    <tr style=\"text-align: right;\">\n",
       "      <th></th>\n",
       "      <th>index</th>\n",
       "      <th>Year</th>\n",
       "      <th>Daynum</th>\n",
       "      <th>Region</th>\n",
       "      <th>RegionNum</th>\n",
       "      <th>Team</th>\n",
       "      <th>Seed</th>\n",
       "      <th>Team_Position</th>\n",
       "      <th>Mapped_Round</th>\n",
       "      <th>Round</th>\n",
       "      <th>GameSlot</th>\n",
       "    </tr>\n",
       "  </thead>\n",
       "  <tbody>\n",
       "  </tbody>\n",
       "</table>\n",
       "</div>"
      ],
      "text/plain": [
       "Empty DataFrame\n",
       "Columns: [index, Year, Daynum, Region, RegionNum, Team, Seed, Team_Position, Mapped_Round, Round, GameSlot]\n",
       "Index: []"
      ]
     },
     "metadata": {},
     "output_type": "display_data"
    },
    {
     "name": "stdout",
     "output_type": "stream",
     "text": [
      "[]\n"
     ]
    },
    {
     "data": {
      "text/plain": [
       "'X'"
      ]
     },
     "metadata": {},
     "output_type": "display_data"
    },
    {
     "data": {
      "text/html": [
       "<div>\n",
       "<style scoped>\n",
       "    .dataframe tbody tr th:only-of-type {\n",
       "        vertical-align: middle;\n",
       "    }\n",
       "\n",
       "    .dataframe tbody tr th {\n",
       "        vertical-align: top;\n",
       "    }\n",
       "\n",
       "    .dataframe thead th {\n",
       "        text-align: right;\n",
       "    }\n",
       "</style>\n",
       "<table border=\"1\" class=\"dataframe\">\n",
       "  <thead>\n",
       "    <tr style=\"text-align: right;\">\n",
       "      <th></th>\n",
       "      <th>index</th>\n",
       "      <th>Year</th>\n",
       "      <th>Daynum</th>\n",
       "      <th>Region</th>\n",
       "      <th>RegionNum</th>\n",
       "      <th>Team</th>\n",
       "      <th>Seed</th>\n",
       "      <th>Team_Position</th>\n",
       "      <th>Mapped_Round</th>\n",
       "      <th>Round</th>\n",
       "      <th>GameSlot</th>\n",
       "    </tr>\n",
       "  </thead>\n",
       "  <tbody>\n",
       "  </tbody>\n",
       "</table>\n",
       "</div>"
      ],
      "text/plain": [
       "Empty DataFrame\n",
       "Columns: [index, Year, Daynum, Region, RegionNum, Team, Seed, Team_Position, Mapped_Round, Round, GameSlot]\n",
       "Index: []"
      ]
     },
     "metadata": {},
     "output_type": "display_data"
    },
    {
     "data": {
      "text/plain": [
       "'X'"
      ]
     },
     "metadata": {},
     "output_type": "display_data"
    },
    {
     "data": {
      "text/html": [
       "<div>\n",
       "<style scoped>\n",
       "    .dataframe tbody tr th:only-of-type {\n",
       "        vertical-align: middle;\n",
       "    }\n",
       "\n",
       "    .dataframe tbody tr th {\n",
       "        vertical-align: top;\n",
       "    }\n",
       "\n",
       "    .dataframe thead th {\n",
       "        text-align: right;\n",
       "    }\n",
       "</style>\n",
       "<table border=\"1\" class=\"dataframe\">\n",
       "  <thead>\n",
       "    <tr style=\"text-align: right;\">\n",
       "      <th></th>\n",
       "      <th>index</th>\n",
       "      <th>Year</th>\n",
       "      <th>Daynum</th>\n",
       "      <th>Region</th>\n",
       "      <th>RegionNum</th>\n",
       "      <th>Team</th>\n",
       "      <th>Seed</th>\n",
       "      <th>Team_Position</th>\n",
       "      <th>Mapped_Round</th>\n",
       "      <th>Round</th>\n",
       "      <th>GameSlot</th>\n",
       "    </tr>\n",
       "  </thead>\n",
       "  <tbody>\n",
       "  </tbody>\n",
       "</table>\n",
       "</div>"
      ],
      "text/plain": [
       "Empty DataFrame\n",
       "Columns: [index, Year, Daynum, Region, RegionNum, Team, Seed, Team_Position, Mapped_Round, Round, GameSlot]\n",
       "Index: []"
      ]
     },
     "metadata": {},
     "output_type": "display_data"
    },
    {
     "name": "stdout",
     "output_type": "stream",
     "text": [
      "[]\n"
     ]
    },
    {
     "data": {
      "text/plain": [
       "'Y'"
      ]
     },
     "metadata": {},
     "output_type": "display_data"
    },
    {
     "data": {
      "text/html": [
       "<div>\n",
       "<style scoped>\n",
       "    .dataframe tbody tr th:only-of-type {\n",
       "        vertical-align: middle;\n",
       "    }\n",
       "\n",
       "    .dataframe tbody tr th {\n",
       "        vertical-align: top;\n",
       "    }\n",
       "\n",
       "    .dataframe thead th {\n",
       "        text-align: right;\n",
       "    }\n",
       "</style>\n",
       "<table border=\"1\" class=\"dataframe\">\n",
       "  <thead>\n",
       "    <tr style=\"text-align: right;\">\n",
       "      <th></th>\n",
       "      <th>index</th>\n",
       "      <th>Year</th>\n",
       "      <th>Daynum</th>\n",
       "      <th>Region</th>\n",
       "      <th>RegionNum</th>\n",
       "      <th>Team</th>\n",
       "      <th>Seed</th>\n",
       "      <th>Team_Position</th>\n",
       "      <th>Mapped_Round</th>\n",
       "      <th>Round</th>\n",
       "      <th>GameSlot</th>\n",
       "    </tr>\n",
       "  </thead>\n",
       "  <tbody>\n",
       "  </tbody>\n",
       "</table>\n",
       "</div>"
      ],
      "text/plain": [
       "Empty DataFrame\n",
       "Columns: [index, Year, Daynum, Region, RegionNum, Team, Seed, Team_Position, Mapped_Round, Round, GameSlot]\n",
       "Index: []"
      ]
     },
     "metadata": {},
     "output_type": "display_data"
    },
    {
     "data": {
      "text/plain": [
       "'Y'"
      ]
     },
     "metadata": {},
     "output_type": "display_data"
    },
    {
     "data": {
      "text/html": [
       "<div>\n",
       "<style scoped>\n",
       "    .dataframe tbody tr th:only-of-type {\n",
       "        vertical-align: middle;\n",
       "    }\n",
       "\n",
       "    .dataframe tbody tr th {\n",
       "        vertical-align: top;\n",
       "    }\n",
       "\n",
       "    .dataframe thead th {\n",
       "        text-align: right;\n",
       "    }\n",
       "</style>\n",
       "<table border=\"1\" class=\"dataframe\">\n",
       "  <thead>\n",
       "    <tr style=\"text-align: right;\">\n",
       "      <th></th>\n",
       "      <th>index</th>\n",
       "      <th>Year</th>\n",
       "      <th>Daynum</th>\n",
       "      <th>Region</th>\n",
       "      <th>RegionNum</th>\n",
       "      <th>Team</th>\n",
       "      <th>Seed</th>\n",
       "      <th>Team_Position</th>\n",
       "      <th>Mapped_Round</th>\n",
       "      <th>Round</th>\n",
       "      <th>GameSlot</th>\n",
       "    </tr>\n",
       "  </thead>\n",
       "  <tbody>\n",
       "  </tbody>\n",
       "</table>\n",
       "</div>"
      ],
      "text/plain": [
       "Empty DataFrame\n",
       "Columns: [index, Year, Daynum, Region, RegionNum, Team, Seed, Team_Position, Mapped_Round, Round, GameSlot]\n",
       "Index: []"
      ]
     },
     "metadata": {},
     "output_type": "display_data"
    },
    {
     "name": "stdout",
     "output_type": "stream",
     "text": [
      "[]\n"
     ]
    },
    {
     "data": {
      "text/plain": [
       "'Z'"
      ]
     },
     "metadata": {},
     "output_type": "display_data"
    },
    {
     "data": {
      "text/html": [
       "<div>\n",
       "<style scoped>\n",
       "    .dataframe tbody tr th:only-of-type {\n",
       "        vertical-align: middle;\n",
       "    }\n",
       "\n",
       "    .dataframe tbody tr th {\n",
       "        vertical-align: top;\n",
       "    }\n",
       "\n",
       "    .dataframe thead th {\n",
       "        text-align: right;\n",
       "    }\n",
       "</style>\n",
       "<table border=\"1\" class=\"dataframe\">\n",
       "  <thead>\n",
       "    <tr style=\"text-align: right;\">\n",
       "      <th></th>\n",
       "      <th>index</th>\n",
       "      <th>Year</th>\n",
       "      <th>Daynum</th>\n",
       "      <th>Region</th>\n",
       "      <th>RegionNum</th>\n",
       "      <th>Team</th>\n",
       "      <th>Seed</th>\n",
       "      <th>Team_Position</th>\n",
       "      <th>Mapped_Round</th>\n",
       "      <th>Round</th>\n",
       "      <th>GameSlot</th>\n",
       "    </tr>\n",
       "  </thead>\n",
       "  <tbody>\n",
       "  </tbody>\n",
       "</table>\n",
       "</div>"
      ],
      "text/plain": [
       "Empty DataFrame\n",
       "Columns: [index, Year, Daynum, Region, RegionNum, Team, Seed, Team_Position, Mapped_Round, Round, GameSlot]\n",
       "Index: []"
      ]
     },
     "metadata": {},
     "output_type": "display_data"
    },
    {
     "data": {
      "text/plain": [
       "'Z'"
      ]
     },
     "metadata": {},
     "output_type": "display_data"
    },
    {
     "data": {
      "text/html": [
       "<div>\n",
       "<style scoped>\n",
       "    .dataframe tbody tr th:only-of-type {\n",
       "        vertical-align: middle;\n",
       "    }\n",
       "\n",
       "    .dataframe tbody tr th {\n",
       "        vertical-align: top;\n",
       "    }\n",
       "\n",
       "    .dataframe thead th {\n",
       "        text-align: right;\n",
       "    }\n",
       "</style>\n",
       "<table border=\"1\" class=\"dataframe\">\n",
       "  <thead>\n",
       "    <tr style=\"text-align: right;\">\n",
       "      <th></th>\n",
       "      <th>index</th>\n",
       "      <th>Year</th>\n",
       "      <th>Daynum</th>\n",
       "      <th>Region</th>\n",
       "      <th>RegionNum</th>\n",
       "      <th>Team</th>\n",
       "      <th>Seed</th>\n",
       "      <th>Team_Position</th>\n",
       "      <th>Mapped_Round</th>\n",
       "      <th>Round</th>\n",
       "      <th>GameSlot</th>\n",
       "    </tr>\n",
       "  </thead>\n",
       "  <tbody>\n",
       "  </tbody>\n",
       "</table>\n",
       "</div>"
      ],
      "text/plain": [
       "Empty DataFrame\n",
       "Columns: [index, Year, Daynum, Region, RegionNum, Team, Seed, Team_Position, Mapped_Round, Round, GameSlot]\n",
       "Index: []"
      ]
     },
     "metadata": {},
     "output_type": "display_data"
    },
    {
     "name": "stdout",
     "output_type": "stream",
     "text": [
      "[2 4]\n",
      "2008 0\n",
      "[]\n"
     ]
    },
    {
     "data": {
      "text/plain": [
       "'W'"
      ]
     },
     "metadata": {},
     "output_type": "display_data"
    },
    {
     "data": {
      "text/html": [
       "<div>\n",
       "<style scoped>\n",
       "    .dataframe tbody tr th:only-of-type {\n",
       "        vertical-align: middle;\n",
       "    }\n",
       "\n",
       "    .dataframe tbody tr th {\n",
       "        vertical-align: top;\n",
       "    }\n",
       "\n",
       "    .dataframe thead th {\n",
       "        text-align: right;\n",
       "    }\n",
       "</style>\n",
       "<table border=\"1\" class=\"dataframe\">\n",
       "  <thead>\n",
       "    <tr style=\"text-align: right;\">\n",
       "      <th></th>\n",
       "      <th>index</th>\n",
       "      <th>Year</th>\n",
       "      <th>Daynum</th>\n",
       "      <th>Region</th>\n",
       "      <th>RegionNum</th>\n",
       "      <th>Team</th>\n",
       "      <th>Seed</th>\n",
       "      <th>Team_Position</th>\n",
       "      <th>Mapped_Round</th>\n",
       "      <th>Round</th>\n",
       "      <th>GameSlot</th>\n",
       "    </tr>\n",
       "  </thead>\n",
       "  <tbody>\n",
       "  </tbody>\n",
       "</table>\n",
       "</div>"
      ],
      "text/plain": [
       "Empty DataFrame\n",
       "Columns: [index, Year, Daynum, Region, RegionNum, Team, Seed, Team_Position, Mapped_Round, Round, GameSlot]\n",
       "Index: []"
      ]
     },
     "metadata": {},
     "output_type": "display_data"
    },
    {
     "data": {
      "text/plain": [
       "'W'"
      ]
     },
     "metadata": {},
     "output_type": "display_data"
    },
    {
     "data": {
      "text/html": [
       "<div>\n",
       "<style scoped>\n",
       "    .dataframe tbody tr th:only-of-type {\n",
       "        vertical-align: middle;\n",
       "    }\n",
       "\n",
       "    .dataframe tbody tr th {\n",
       "        vertical-align: top;\n",
       "    }\n",
       "\n",
       "    .dataframe thead th {\n",
       "        text-align: right;\n",
       "    }\n",
       "</style>\n",
       "<table border=\"1\" class=\"dataframe\">\n",
       "  <thead>\n",
       "    <tr style=\"text-align: right;\">\n",
       "      <th></th>\n",
       "      <th>index</th>\n",
       "      <th>Year</th>\n",
       "      <th>Daynum</th>\n",
       "      <th>Region</th>\n",
       "      <th>RegionNum</th>\n",
       "      <th>Team</th>\n",
       "      <th>Seed</th>\n",
       "      <th>Team_Position</th>\n",
       "      <th>Mapped_Round</th>\n",
       "      <th>Round</th>\n",
       "      <th>GameSlot</th>\n",
       "    </tr>\n",
       "  </thead>\n",
       "  <tbody>\n",
       "  </tbody>\n",
       "</table>\n",
       "</div>"
      ],
      "text/plain": [
       "Empty DataFrame\n",
       "Columns: [index, Year, Daynum, Region, RegionNum, Team, Seed, Team_Position, Mapped_Round, Round, GameSlot]\n",
       "Index: []"
      ]
     },
     "metadata": {},
     "output_type": "display_data"
    },
    {
     "name": "stdout",
     "output_type": "stream",
     "text": [
      "[]\n"
     ]
    },
    {
     "data": {
      "text/plain": [
       "'X'"
      ]
     },
     "metadata": {},
     "output_type": "display_data"
    },
    {
     "data": {
      "text/html": [
       "<div>\n",
       "<style scoped>\n",
       "    .dataframe tbody tr th:only-of-type {\n",
       "        vertical-align: middle;\n",
       "    }\n",
       "\n",
       "    .dataframe tbody tr th {\n",
       "        vertical-align: top;\n",
       "    }\n",
       "\n",
       "    .dataframe thead th {\n",
       "        text-align: right;\n",
       "    }\n",
       "</style>\n",
       "<table border=\"1\" class=\"dataframe\">\n",
       "  <thead>\n",
       "    <tr style=\"text-align: right;\">\n",
       "      <th></th>\n",
       "      <th>index</th>\n",
       "      <th>Year</th>\n",
       "      <th>Daynum</th>\n",
       "      <th>Region</th>\n",
       "      <th>RegionNum</th>\n",
       "      <th>Team</th>\n",
       "      <th>Seed</th>\n",
       "      <th>Team_Position</th>\n",
       "      <th>Mapped_Round</th>\n",
       "      <th>Round</th>\n",
       "      <th>GameSlot</th>\n",
       "    </tr>\n",
       "  </thead>\n",
       "  <tbody>\n",
       "  </tbody>\n",
       "</table>\n",
       "</div>"
      ],
      "text/plain": [
       "Empty DataFrame\n",
       "Columns: [index, Year, Daynum, Region, RegionNum, Team, Seed, Team_Position, Mapped_Round, Round, GameSlot]\n",
       "Index: []"
      ]
     },
     "metadata": {},
     "output_type": "display_data"
    },
    {
     "data": {
      "text/plain": [
       "'X'"
      ]
     },
     "metadata": {},
     "output_type": "display_data"
    },
    {
     "data": {
      "text/html": [
       "<div>\n",
       "<style scoped>\n",
       "    .dataframe tbody tr th:only-of-type {\n",
       "        vertical-align: middle;\n",
       "    }\n",
       "\n",
       "    .dataframe tbody tr th {\n",
       "        vertical-align: top;\n",
       "    }\n",
       "\n",
       "    .dataframe thead th {\n",
       "        text-align: right;\n",
       "    }\n",
       "</style>\n",
       "<table border=\"1\" class=\"dataframe\">\n",
       "  <thead>\n",
       "    <tr style=\"text-align: right;\">\n",
       "      <th></th>\n",
       "      <th>index</th>\n",
       "      <th>Year</th>\n",
       "      <th>Daynum</th>\n",
       "      <th>Region</th>\n",
       "      <th>RegionNum</th>\n",
       "      <th>Team</th>\n",
       "      <th>Seed</th>\n",
       "      <th>Team_Position</th>\n",
       "      <th>Mapped_Round</th>\n",
       "      <th>Round</th>\n",
       "      <th>GameSlot</th>\n",
       "    </tr>\n",
       "  </thead>\n",
       "  <tbody>\n",
       "  </tbody>\n",
       "</table>\n",
       "</div>"
      ],
      "text/plain": [
       "Empty DataFrame\n",
       "Columns: [index, Year, Daynum, Region, RegionNum, Team, Seed, Team_Position, Mapped_Round, Round, GameSlot]\n",
       "Index: []"
      ]
     },
     "metadata": {},
     "output_type": "display_data"
    },
    {
     "name": "stdout",
     "output_type": "stream",
     "text": [
      "[]\n"
     ]
    },
    {
     "data": {
      "text/plain": [
       "'Y'"
      ]
     },
     "metadata": {},
     "output_type": "display_data"
    },
    {
     "data": {
      "text/html": [
       "<div>\n",
       "<style scoped>\n",
       "    .dataframe tbody tr th:only-of-type {\n",
       "        vertical-align: middle;\n",
       "    }\n",
       "\n",
       "    .dataframe tbody tr th {\n",
       "        vertical-align: top;\n",
       "    }\n",
       "\n",
       "    .dataframe thead th {\n",
       "        text-align: right;\n",
       "    }\n",
       "</style>\n",
       "<table border=\"1\" class=\"dataframe\">\n",
       "  <thead>\n",
       "    <tr style=\"text-align: right;\">\n",
       "      <th></th>\n",
       "      <th>index</th>\n",
       "      <th>Year</th>\n",
       "      <th>Daynum</th>\n",
       "      <th>Region</th>\n",
       "      <th>RegionNum</th>\n",
       "      <th>Team</th>\n",
       "      <th>Seed</th>\n",
       "      <th>Team_Position</th>\n",
       "      <th>Mapped_Round</th>\n",
       "      <th>Round</th>\n",
       "      <th>GameSlot</th>\n",
       "    </tr>\n",
       "  </thead>\n",
       "  <tbody>\n",
       "  </tbody>\n",
       "</table>\n",
       "</div>"
      ],
      "text/plain": [
       "Empty DataFrame\n",
       "Columns: [index, Year, Daynum, Region, RegionNum, Team, Seed, Team_Position, Mapped_Round, Round, GameSlot]\n",
       "Index: []"
      ]
     },
     "metadata": {},
     "output_type": "display_data"
    },
    {
     "data": {
      "text/plain": [
       "'Y'"
      ]
     },
     "metadata": {},
     "output_type": "display_data"
    },
    {
     "data": {
      "text/html": [
       "<div>\n",
       "<style scoped>\n",
       "    .dataframe tbody tr th:only-of-type {\n",
       "        vertical-align: middle;\n",
       "    }\n",
       "\n",
       "    .dataframe tbody tr th {\n",
       "        vertical-align: top;\n",
       "    }\n",
       "\n",
       "    .dataframe thead th {\n",
       "        text-align: right;\n",
       "    }\n",
       "</style>\n",
       "<table border=\"1\" class=\"dataframe\">\n",
       "  <thead>\n",
       "    <tr style=\"text-align: right;\">\n",
       "      <th></th>\n",
       "      <th>index</th>\n",
       "      <th>Year</th>\n",
       "      <th>Daynum</th>\n",
       "      <th>Region</th>\n",
       "      <th>RegionNum</th>\n",
       "      <th>Team</th>\n",
       "      <th>Seed</th>\n",
       "      <th>Team_Position</th>\n",
       "      <th>Mapped_Round</th>\n",
       "      <th>Round</th>\n",
       "      <th>GameSlot</th>\n",
       "    </tr>\n",
       "  </thead>\n",
       "  <tbody>\n",
       "  </tbody>\n",
       "</table>\n",
       "</div>"
      ],
      "text/plain": [
       "Empty DataFrame\n",
       "Columns: [index, Year, Daynum, Region, RegionNum, Team, Seed, Team_Position, Mapped_Round, Round, GameSlot]\n",
       "Index: []"
      ]
     },
     "metadata": {},
     "output_type": "display_data"
    },
    {
     "name": "stdout",
     "output_type": "stream",
     "text": [
      "[]\n"
     ]
    },
    {
     "data": {
      "text/plain": [
       "'Z'"
      ]
     },
     "metadata": {},
     "output_type": "display_data"
    },
    {
     "data": {
      "text/html": [
       "<div>\n",
       "<style scoped>\n",
       "    .dataframe tbody tr th:only-of-type {\n",
       "        vertical-align: middle;\n",
       "    }\n",
       "\n",
       "    .dataframe tbody tr th {\n",
       "        vertical-align: top;\n",
       "    }\n",
       "\n",
       "    .dataframe thead th {\n",
       "        text-align: right;\n",
       "    }\n",
       "</style>\n",
       "<table border=\"1\" class=\"dataframe\">\n",
       "  <thead>\n",
       "    <tr style=\"text-align: right;\">\n",
       "      <th></th>\n",
       "      <th>index</th>\n",
       "      <th>Year</th>\n",
       "      <th>Daynum</th>\n",
       "      <th>Region</th>\n",
       "      <th>RegionNum</th>\n",
       "      <th>Team</th>\n",
       "      <th>Seed</th>\n",
       "      <th>Team_Position</th>\n",
       "      <th>Mapped_Round</th>\n",
       "      <th>Round</th>\n",
       "      <th>GameSlot</th>\n",
       "    </tr>\n",
       "  </thead>\n",
       "  <tbody>\n",
       "  </tbody>\n",
       "</table>\n",
       "</div>"
      ],
      "text/plain": [
       "Empty DataFrame\n",
       "Columns: [index, Year, Daynum, Region, RegionNum, Team, Seed, Team_Position, Mapped_Round, Round, GameSlot]\n",
       "Index: []"
      ]
     },
     "metadata": {},
     "output_type": "display_data"
    },
    {
     "data": {
      "text/plain": [
       "'Z'"
      ]
     },
     "metadata": {},
     "output_type": "display_data"
    },
    {
     "data": {
      "text/html": [
       "<div>\n",
       "<style scoped>\n",
       "    .dataframe tbody tr th:only-of-type {\n",
       "        vertical-align: middle;\n",
       "    }\n",
       "\n",
       "    .dataframe tbody tr th {\n",
       "        vertical-align: top;\n",
       "    }\n",
       "\n",
       "    .dataframe thead th {\n",
       "        text-align: right;\n",
       "    }\n",
       "</style>\n",
       "<table border=\"1\" class=\"dataframe\">\n",
       "  <thead>\n",
       "    <tr style=\"text-align: right;\">\n",
       "      <th></th>\n",
       "      <th>index</th>\n",
       "      <th>Year</th>\n",
       "      <th>Daynum</th>\n",
       "      <th>Region</th>\n",
       "      <th>RegionNum</th>\n",
       "      <th>Team</th>\n",
       "      <th>Seed</th>\n",
       "      <th>Team_Position</th>\n",
       "      <th>Mapped_Round</th>\n",
       "      <th>Round</th>\n",
       "      <th>GameSlot</th>\n",
       "    </tr>\n",
       "  </thead>\n",
       "  <tbody>\n",
       "  </tbody>\n",
       "</table>\n",
       "</div>"
      ],
      "text/plain": [
       "Empty DataFrame\n",
       "Columns: [index, Year, Daynum, Region, RegionNum, Team, Seed, Team_Position, Mapped_Round, Round, GameSlot]\n",
       "Index: []"
      ]
     },
     "metadata": {},
     "output_type": "display_data"
    },
    {
     "name": "stdout",
     "output_type": "stream",
     "text": [
      "[2 4]\n",
      "2009 0\n",
      "[]\n"
     ]
    },
    {
     "data": {
      "text/plain": [
       "'W'"
      ]
     },
     "metadata": {},
     "output_type": "display_data"
    },
    {
     "data": {
      "text/html": [
       "<div>\n",
       "<style scoped>\n",
       "    .dataframe tbody tr th:only-of-type {\n",
       "        vertical-align: middle;\n",
       "    }\n",
       "\n",
       "    .dataframe tbody tr th {\n",
       "        vertical-align: top;\n",
       "    }\n",
       "\n",
       "    .dataframe thead th {\n",
       "        text-align: right;\n",
       "    }\n",
       "</style>\n",
       "<table border=\"1\" class=\"dataframe\">\n",
       "  <thead>\n",
       "    <tr style=\"text-align: right;\">\n",
       "      <th></th>\n",
       "      <th>index</th>\n",
       "      <th>Year</th>\n",
       "      <th>Daynum</th>\n",
       "      <th>Region</th>\n",
       "      <th>RegionNum</th>\n",
       "      <th>Team</th>\n",
       "      <th>Seed</th>\n",
       "      <th>Team_Position</th>\n",
       "      <th>Mapped_Round</th>\n",
       "      <th>Round</th>\n",
       "      <th>GameSlot</th>\n",
       "    </tr>\n",
       "  </thead>\n",
       "  <tbody>\n",
       "  </tbody>\n",
       "</table>\n",
       "</div>"
      ],
      "text/plain": [
       "Empty DataFrame\n",
       "Columns: [index, Year, Daynum, Region, RegionNum, Team, Seed, Team_Position, Mapped_Round, Round, GameSlot]\n",
       "Index: []"
      ]
     },
     "metadata": {},
     "output_type": "display_data"
    },
    {
     "data": {
      "text/plain": [
       "'W'"
      ]
     },
     "metadata": {},
     "output_type": "display_data"
    },
    {
     "data": {
      "text/html": [
       "<div>\n",
       "<style scoped>\n",
       "    .dataframe tbody tr th:only-of-type {\n",
       "        vertical-align: middle;\n",
       "    }\n",
       "\n",
       "    .dataframe tbody tr th {\n",
       "        vertical-align: top;\n",
       "    }\n",
       "\n",
       "    .dataframe thead th {\n",
       "        text-align: right;\n",
       "    }\n",
       "</style>\n",
       "<table border=\"1\" class=\"dataframe\">\n",
       "  <thead>\n",
       "    <tr style=\"text-align: right;\">\n",
       "      <th></th>\n",
       "      <th>index</th>\n",
       "      <th>Year</th>\n",
       "      <th>Daynum</th>\n",
       "      <th>Region</th>\n",
       "      <th>RegionNum</th>\n",
       "      <th>Team</th>\n",
       "      <th>Seed</th>\n",
       "      <th>Team_Position</th>\n",
       "      <th>Mapped_Round</th>\n",
       "      <th>Round</th>\n",
       "      <th>GameSlot</th>\n",
       "    </tr>\n",
       "  </thead>\n",
       "  <tbody>\n",
       "  </tbody>\n",
       "</table>\n",
       "</div>"
      ],
      "text/plain": [
       "Empty DataFrame\n",
       "Columns: [index, Year, Daynum, Region, RegionNum, Team, Seed, Team_Position, Mapped_Round, Round, GameSlot]\n",
       "Index: []"
      ]
     },
     "metadata": {},
     "output_type": "display_data"
    },
    {
     "name": "stdout",
     "output_type": "stream",
     "text": [
      "[]\n"
     ]
    },
    {
     "data": {
      "text/plain": [
       "'X'"
      ]
     },
     "metadata": {},
     "output_type": "display_data"
    },
    {
     "data": {
      "text/html": [
       "<div>\n",
       "<style scoped>\n",
       "    .dataframe tbody tr th:only-of-type {\n",
       "        vertical-align: middle;\n",
       "    }\n",
       "\n",
       "    .dataframe tbody tr th {\n",
       "        vertical-align: top;\n",
       "    }\n",
       "\n",
       "    .dataframe thead th {\n",
       "        text-align: right;\n",
       "    }\n",
       "</style>\n",
       "<table border=\"1\" class=\"dataframe\">\n",
       "  <thead>\n",
       "    <tr style=\"text-align: right;\">\n",
       "      <th></th>\n",
       "      <th>index</th>\n",
       "      <th>Year</th>\n",
       "      <th>Daynum</th>\n",
       "      <th>Region</th>\n",
       "      <th>RegionNum</th>\n",
       "      <th>Team</th>\n",
       "      <th>Seed</th>\n",
       "      <th>Team_Position</th>\n",
       "      <th>Mapped_Round</th>\n",
       "      <th>Round</th>\n",
       "      <th>GameSlot</th>\n",
       "    </tr>\n",
       "  </thead>\n",
       "  <tbody>\n",
       "  </tbody>\n",
       "</table>\n",
       "</div>"
      ],
      "text/plain": [
       "Empty DataFrame\n",
       "Columns: [index, Year, Daynum, Region, RegionNum, Team, Seed, Team_Position, Mapped_Round, Round, GameSlot]\n",
       "Index: []"
      ]
     },
     "metadata": {},
     "output_type": "display_data"
    },
    {
     "data": {
      "text/plain": [
       "'X'"
      ]
     },
     "metadata": {},
     "output_type": "display_data"
    },
    {
     "data": {
      "text/html": [
       "<div>\n",
       "<style scoped>\n",
       "    .dataframe tbody tr th:only-of-type {\n",
       "        vertical-align: middle;\n",
       "    }\n",
       "\n",
       "    .dataframe tbody tr th {\n",
       "        vertical-align: top;\n",
       "    }\n",
       "\n",
       "    .dataframe thead th {\n",
       "        text-align: right;\n",
       "    }\n",
       "</style>\n",
       "<table border=\"1\" class=\"dataframe\">\n",
       "  <thead>\n",
       "    <tr style=\"text-align: right;\">\n",
       "      <th></th>\n",
       "      <th>index</th>\n",
       "      <th>Year</th>\n",
       "      <th>Daynum</th>\n",
       "      <th>Region</th>\n",
       "      <th>RegionNum</th>\n",
       "      <th>Team</th>\n",
       "      <th>Seed</th>\n",
       "      <th>Team_Position</th>\n",
       "      <th>Mapped_Round</th>\n",
       "      <th>Round</th>\n",
       "      <th>GameSlot</th>\n",
       "    </tr>\n",
       "  </thead>\n",
       "  <tbody>\n",
       "  </tbody>\n",
       "</table>\n",
       "</div>"
      ],
      "text/plain": [
       "Empty DataFrame\n",
       "Columns: [index, Year, Daynum, Region, RegionNum, Team, Seed, Team_Position, Mapped_Round, Round, GameSlot]\n",
       "Index: []"
      ]
     },
     "metadata": {},
     "output_type": "display_data"
    },
    {
     "name": "stdout",
     "output_type": "stream",
     "text": [
      "[]\n"
     ]
    },
    {
     "data": {
      "text/plain": [
       "'Y'"
      ]
     },
     "metadata": {},
     "output_type": "display_data"
    },
    {
     "data": {
      "text/html": [
       "<div>\n",
       "<style scoped>\n",
       "    .dataframe tbody tr th:only-of-type {\n",
       "        vertical-align: middle;\n",
       "    }\n",
       "\n",
       "    .dataframe tbody tr th {\n",
       "        vertical-align: top;\n",
       "    }\n",
       "\n",
       "    .dataframe thead th {\n",
       "        text-align: right;\n",
       "    }\n",
       "</style>\n",
       "<table border=\"1\" class=\"dataframe\">\n",
       "  <thead>\n",
       "    <tr style=\"text-align: right;\">\n",
       "      <th></th>\n",
       "      <th>index</th>\n",
       "      <th>Year</th>\n",
       "      <th>Daynum</th>\n",
       "      <th>Region</th>\n",
       "      <th>RegionNum</th>\n",
       "      <th>Team</th>\n",
       "      <th>Seed</th>\n",
       "      <th>Team_Position</th>\n",
       "      <th>Mapped_Round</th>\n",
       "      <th>Round</th>\n",
       "      <th>GameSlot</th>\n",
       "    </tr>\n",
       "  </thead>\n",
       "  <tbody>\n",
       "  </tbody>\n",
       "</table>\n",
       "</div>"
      ],
      "text/plain": [
       "Empty DataFrame\n",
       "Columns: [index, Year, Daynum, Region, RegionNum, Team, Seed, Team_Position, Mapped_Round, Round, GameSlot]\n",
       "Index: []"
      ]
     },
     "metadata": {},
     "output_type": "display_data"
    },
    {
     "data": {
      "text/plain": [
       "'Y'"
      ]
     },
     "metadata": {},
     "output_type": "display_data"
    },
    {
     "data": {
      "text/html": [
       "<div>\n",
       "<style scoped>\n",
       "    .dataframe tbody tr th:only-of-type {\n",
       "        vertical-align: middle;\n",
       "    }\n",
       "\n",
       "    .dataframe tbody tr th {\n",
       "        vertical-align: top;\n",
       "    }\n",
       "\n",
       "    .dataframe thead th {\n",
       "        text-align: right;\n",
       "    }\n",
       "</style>\n",
       "<table border=\"1\" class=\"dataframe\">\n",
       "  <thead>\n",
       "    <tr style=\"text-align: right;\">\n",
       "      <th></th>\n",
       "      <th>index</th>\n",
       "      <th>Year</th>\n",
       "      <th>Daynum</th>\n",
       "      <th>Region</th>\n",
       "      <th>RegionNum</th>\n",
       "      <th>Team</th>\n",
       "      <th>Seed</th>\n",
       "      <th>Team_Position</th>\n",
       "      <th>Mapped_Round</th>\n",
       "      <th>Round</th>\n",
       "      <th>GameSlot</th>\n",
       "    </tr>\n",
       "  </thead>\n",
       "  <tbody>\n",
       "  </tbody>\n",
       "</table>\n",
       "</div>"
      ],
      "text/plain": [
       "Empty DataFrame\n",
       "Columns: [index, Year, Daynum, Region, RegionNum, Team, Seed, Team_Position, Mapped_Round, Round, GameSlot]\n",
       "Index: []"
      ]
     },
     "metadata": {},
     "output_type": "display_data"
    },
    {
     "name": "stdout",
     "output_type": "stream",
     "text": [
      "[]\n"
     ]
    },
    {
     "data": {
      "text/plain": [
       "'Z'"
      ]
     },
     "metadata": {},
     "output_type": "display_data"
    },
    {
     "data": {
      "text/html": [
       "<div>\n",
       "<style scoped>\n",
       "    .dataframe tbody tr th:only-of-type {\n",
       "        vertical-align: middle;\n",
       "    }\n",
       "\n",
       "    .dataframe tbody tr th {\n",
       "        vertical-align: top;\n",
       "    }\n",
       "\n",
       "    .dataframe thead th {\n",
       "        text-align: right;\n",
       "    }\n",
       "</style>\n",
       "<table border=\"1\" class=\"dataframe\">\n",
       "  <thead>\n",
       "    <tr style=\"text-align: right;\">\n",
       "      <th></th>\n",
       "      <th>index</th>\n",
       "      <th>Year</th>\n",
       "      <th>Daynum</th>\n",
       "      <th>Region</th>\n",
       "      <th>RegionNum</th>\n",
       "      <th>Team</th>\n",
       "      <th>Seed</th>\n",
       "      <th>Team_Position</th>\n",
       "      <th>Mapped_Round</th>\n",
       "      <th>Round</th>\n",
       "      <th>GameSlot</th>\n",
       "    </tr>\n",
       "  </thead>\n",
       "  <tbody>\n",
       "  </tbody>\n",
       "</table>\n",
       "</div>"
      ],
      "text/plain": [
       "Empty DataFrame\n",
       "Columns: [index, Year, Daynum, Region, RegionNum, Team, Seed, Team_Position, Mapped_Round, Round, GameSlot]\n",
       "Index: []"
      ]
     },
     "metadata": {},
     "output_type": "display_data"
    },
    {
     "data": {
      "text/plain": [
       "'Z'"
      ]
     },
     "metadata": {},
     "output_type": "display_data"
    },
    {
     "data": {
      "text/html": [
       "<div>\n",
       "<style scoped>\n",
       "    .dataframe tbody tr th:only-of-type {\n",
       "        vertical-align: middle;\n",
       "    }\n",
       "\n",
       "    .dataframe tbody tr th {\n",
       "        vertical-align: top;\n",
       "    }\n",
       "\n",
       "    .dataframe thead th {\n",
       "        text-align: right;\n",
       "    }\n",
       "</style>\n",
       "<table border=\"1\" class=\"dataframe\">\n",
       "  <thead>\n",
       "    <tr style=\"text-align: right;\">\n",
       "      <th></th>\n",
       "      <th>index</th>\n",
       "      <th>Year</th>\n",
       "      <th>Daynum</th>\n",
       "      <th>Region</th>\n",
       "      <th>RegionNum</th>\n",
       "      <th>Team</th>\n",
       "      <th>Seed</th>\n",
       "      <th>Team_Position</th>\n",
       "      <th>Mapped_Round</th>\n",
       "      <th>Round</th>\n",
       "      <th>GameSlot</th>\n",
       "    </tr>\n",
       "  </thead>\n",
       "  <tbody>\n",
       "  </tbody>\n",
       "</table>\n",
       "</div>"
      ],
      "text/plain": [
       "Empty DataFrame\n",
       "Columns: [index, Year, Daynum, Region, RegionNum, Team, Seed, Team_Position, Mapped_Round, Round, GameSlot]\n",
       "Index: []"
      ]
     },
     "metadata": {},
     "output_type": "display_data"
    },
    {
     "name": "stdout",
     "output_type": "stream",
     "text": [
      "[2 4]\n",
      "2010 0\n",
      "[]\n"
     ]
    },
    {
     "data": {
      "text/plain": [
       "'W'"
      ]
     },
     "metadata": {},
     "output_type": "display_data"
    },
    {
     "data": {
      "text/html": [
       "<div>\n",
       "<style scoped>\n",
       "    .dataframe tbody tr th:only-of-type {\n",
       "        vertical-align: middle;\n",
       "    }\n",
       "\n",
       "    .dataframe tbody tr th {\n",
       "        vertical-align: top;\n",
       "    }\n",
       "\n",
       "    .dataframe thead th {\n",
       "        text-align: right;\n",
       "    }\n",
       "</style>\n",
       "<table border=\"1\" class=\"dataframe\">\n",
       "  <thead>\n",
       "    <tr style=\"text-align: right;\">\n",
       "      <th></th>\n",
       "      <th>index</th>\n",
       "      <th>Year</th>\n",
       "      <th>Daynum</th>\n",
       "      <th>Region</th>\n",
       "      <th>RegionNum</th>\n",
       "      <th>Team</th>\n",
       "      <th>Seed</th>\n",
       "      <th>Team_Position</th>\n",
       "      <th>Mapped_Round</th>\n",
       "      <th>Round</th>\n",
       "      <th>GameSlot</th>\n",
       "    </tr>\n",
       "  </thead>\n",
       "  <tbody>\n",
       "  </tbody>\n",
       "</table>\n",
       "</div>"
      ],
      "text/plain": [
       "Empty DataFrame\n",
       "Columns: [index, Year, Daynum, Region, RegionNum, Team, Seed, Team_Position, Mapped_Round, Round, GameSlot]\n",
       "Index: []"
      ]
     },
     "metadata": {},
     "output_type": "display_data"
    },
    {
     "data": {
      "text/plain": [
       "'W'"
      ]
     },
     "metadata": {},
     "output_type": "display_data"
    },
    {
     "data": {
      "text/html": [
       "<div>\n",
       "<style scoped>\n",
       "    .dataframe tbody tr th:only-of-type {\n",
       "        vertical-align: middle;\n",
       "    }\n",
       "\n",
       "    .dataframe tbody tr th {\n",
       "        vertical-align: top;\n",
       "    }\n",
       "\n",
       "    .dataframe thead th {\n",
       "        text-align: right;\n",
       "    }\n",
       "</style>\n",
       "<table border=\"1\" class=\"dataframe\">\n",
       "  <thead>\n",
       "    <tr style=\"text-align: right;\">\n",
       "      <th></th>\n",
       "      <th>index</th>\n",
       "      <th>Year</th>\n",
       "      <th>Daynum</th>\n",
       "      <th>Region</th>\n",
       "      <th>RegionNum</th>\n",
       "      <th>Team</th>\n",
       "      <th>Seed</th>\n",
       "      <th>Team_Position</th>\n",
       "      <th>Mapped_Round</th>\n",
       "      <th>Round</th>\n",
       "      <th>GameSlot</th>\n",
       "    </tr>\n",
       "  </thead>\n",
       "  <tbody>\n",
       "  </tbody>\n",
       "</table>\n",
       "</div>"
      ],
      "text/plain": [
       "Empty DataFrame\n",
       "Columns: [index, Year, Daynum, Region, RegionNum, Team, Seed, Team_Position, Mapped_Round, Round, GameSlot]\n",
       "Index: []"
      ]
     },
     "metadata": {},
     "output_type": "display_data"
    },
    {
     "name": "stdout",
     "output_type": "stream",
     "text": [
      "[]\n"
     ]
    },
    {
     "data": {
      "text/plain": [
       "'X'"
      ]
     },
     "metadata": {},
     "output_type": "display_data"
    },
    {
     "data": {
      "text/html": [
       "<div>\n",
       "<style scoped>\n",
       "    .dataframe tbody tr th:only-of-type {\n",
       "        vertical-align: middle;\n",
       "    }\n",
       "\n",
       "    .dataframe tbody tr th {\n",
       "        vertical-align: top;\n",
       "    }\n",
       "\n",
       "    .dataframe thead th {\n",
       "        text-align: right;\n",
       "    }\n",
       "</style>\n",
       "<table border=\"1\" class=\"dataframe\">\n",
       "  <thead>\n",
       "    <tr style=\"text-align: right;\">\n",
       "      <th></th>\n",
       "      <th>index</th>\n",
       "      <th>Year</th>\n",
       "      <th>Daynum</th>\n",
       "      <th>Region</th>\n",
       "      <th>RegionNum</th>\n",
       "      <th>Team</th>\n",
       "      <th>Seed</th>\n",
       "      <th>Team_Position</th>\n",
       "      <th>Mapped_Round</th>\n",
       "      <th>Round</th>\n",
       "      <th>GameSlot</th>\n",
       "    </tr>\n",
       "  </thead>\n",
       "  <tbody>\n",
       "  </tbody>\n",
       "</table>\n",
       "</div>"
      ],
      "text/plain": [
       "Empty DataFrame\n",
       "Columns: [index, Year, Daynum, Region, RegionNum, Team, Seed, Team_Position, Mapped_Round, Round, GameSlot]\n",
       "Index: []"
      ]
     },
     "metadata": {},
     "output_type": "display_data"
    },
    {
     "data": {
      "text/plain": [
       "'X'"
      ]
     },
     "metadata": {},
     "output_type": "display_data"
    },
    {
     "data": {
      "text/html": [
       "<div>\n",
       "<style scoped>\n",
       "    .dataframe tbody tr th:only-of-type {\n",
       "        vertical-align: middle;\n",
       "    }\n",
       "\n",
       "    .dataframe tbody tr th {\n",
       "        vertical-align: top;\n",
       "    }\n",
       "\n",
       "    .dataframe thead th {\n",
       "        text-align: right;\n",
       "    }\n",
       "</style>\n",
       "<table border=\"1\" class=\"dataframe\">\n",
       "  <thead>\n",
       "    <tr style=\"text-align: right;\">\n",
       "      <th></th>\n",
       "      <th>index</th>\n",
       "      <th>Year</th>\n",
       "      <th>Daynum</th>\n",
       "      <th>Region</th>\n",
       "      <th>RegionNum</th>\n",
       "      <th>Team</th>\n",
       "      <th>Seed</th>\n",
       "      <th>Team_Position</th>\n",
       "      <th>Mapped_Round</th>\n",
       "      <th>Round</th>\n",
       "      <th>GameSlot</th>\n",
       "    </tr>\n",
       "  </thead>\n",
       "  <tbody>\n",
       "  </tbody>\n",
       "</table>\n",
       "</div>"
      ],
      "text/plain": [
       "Empty DataFrame\n",
       "Columns: [index, Year, Daynum, Region, RegionNum, Team, Seed, Team_Position, Mapped_Round, Round, GameSlot]\n",
       "Index: []"
      ]
     },
     "metadata": {},
     "output_type": "display_data"
    },
    {
     "name": "stdout",
     "output_type": "stream",
     "text": [
      "[]\n"
     ]
    },
    {
     "data": {
      "text/plain": [
       "'Y'"
      ]
     },
     "metadata": {},
     "output_type": "display_data"
    },
    {
     "data": {
      "text/html": [
       "<div>\n",
       "<style scoped>\n",
       "    .dataframe tbody tr th:only-of-type {\n",
       "        vertical-align: middle;\n",
       "    }\n",
       "\n",
       "    .dataframe tbody tr th {\n",
       "        vertical-align: top;\n",
       "    }\n",
       "\n",
       "    .dataframe thead th {\n",
       "        text-align: right;\n",
       "    }\n",
       "</style>\n",
       "<table border=\"1\" class=\"dataframe\">\n",
       "  <thead>\n",
       "    <tr style=\"text-align: right;\">\n",
       "      <th></th>\n",
       "      <th>index</th>\n",
       "      <th>Year</th>\n",
       "      <th>Daynum</th>\n",
       "      <th>Region</th>\n",
       "      <th>RegionNum</th>\n",
       "      <th>Team</th>\n",
       "      <th>Seed</th>\n",
       "      <th>Team_Position</th>\n",
       "      <th>Mapped_Round</th>\n",
       "      <th>Round</th>\n",
       "      <th>GameSlot</th>\n",
       "    </tr>\n",
       "  </thead>\n",
       "  <tbody>\n",
       "  </tbody>\n",
       "</table>\n",
       "</div>"
      ],
      "text/plain": [
       "Empty DataFrame\n",
       "Columns: [index, Year, Daynum, Region, RegionNum, Team, Seed, Team_Position, Mapped_Round, Round, GameSlot]\n",
       "Index: []"
      ]
     },
     "metadata": {},
     "output_type": "display_data"
    },
    {
     "data": {
      "text/plain": [
       "'Y'"
      ]
     },
     "metadata": {},
     "output_type": "display_data"
    },
    {
     "data": {
      "text/html": [
       "<div>\n",
       "<style scoped>\n",
       "    .dataframe tbody tr th:only-of-type {\n",
       "        vertical-align: middle;\n",
       "    }\n",
       "\n",
       "    .dataframe tbody tr th {\n",
       "        vertical-align: top;\n",
       "    }\n",
       "\n",
       "    .dataframe thead th {\n",
       "        text-align: right;\n",
       "    }\n",
       "</style>\n",
       "<table border=\"1\" class=\"dataframe\">\n",
       "  <thead>\n",
       "    <tr style=\"text-align: right;\">\n",
       "      <th></th>\n",
       "      <th>index</th>\n",
       "      <th>Year</th>\n",
       "      <th>Daynum</th>\n",
       "      <th>Region</th>\n",
       "      <th>RegionNum</th>\n",
       "      <th>Team</th>\n",
       "      <th>Seed</th>\n",
       "      <th>Team_Position</th>\n",
       "      <th>Mapped_Round</th>\n",
       "      <th>Round</th>\n",
       "      <th>GameSlot</th>\n",
       "    </tr>\n",
       "  </thead>\n",
       "  <tbody>\n",
       "  </tbody>\n",
       "</table>\n",
       "</div>"
      ],
      "text/plain": [
       "Empty DataFrame\n",
       "Columns: [index, Year, Daynum, Region, RegionNum, Team, Seed, Team_Position, Mapped_Round, Round, GameSlot]\n",
       "Index: []"
      ]
     },
     "metadata": {},
     "output_type": "display_data"
    },
    {
     "name": "stdout",
     "output_type": "stream",
     "text": [
      "[]\n"
     ]
    },
    {
     "data": {
      "text/plain": [
       "'Z'"
      ]
     },
     "metadata": {},
     "output_type": "display_data"
    },
    {
     "data": {
      "text/html": [
       "<div>\n",
       "<style scoped>\n",
       "    .dataframe tbody tr th:only-of-type {\n",
       "        vertical-align: middle;\n",
       "    }\n",
       "\n",
       "    .dataframe tbody tr th {\n",
       "        vertical-align: top;\n",
       "    }\n",
       "\n",
       "    .dataframe thead th {\n",
       "        text-align: right;\n",
       "    }\n",
       "</style>\n",
       "<table border=\"1\" class=\"dataframe\">\n",
       "  <thead>\n",
       "    <tr style=\"text-align: right;\">\n",
       "      <th></th>\n",
       "      <th>index</th>\n",
       "      <th>Year</th>\n",
       "      <th>Daynum</th>\n",
       "      <th>Region</th>\n",
       "      <th>RegionNum</th>\n",
       "      <th>Team</th>\n",
       "      <th>Seed</th>\n",
       "      <th>Team_Position</th>\n",
       "      <th>Mapped_Round</th>\n",
       "      <th>Round</th>\n",
       "      <th>GameSlot</th>\n",
       "    </tr>\n",
       "  </thead>\n",
       "  <tbody>\n",
       "  </tbody>\n",
       "</table>\n",
       "</div>"
      ],
      "text/plain": [
       "Empty DataFrame\n",
       "Columns: [index, Year, Daynum, Region, RegionNum, Team, Seed, Team_Position, Mapped_Round, Round, GameSlot]\n",
       "Index: []"
      ]
     },
     "metadata": {},
     "output_type": "display_data"
    },
    {
     "data": {
      "text/plain": [
       "'Z'"
      ]
     },
     "metadata": {},
     "output_type": "display_data"
    },
    {
     "data": {
      "text/html": [
       "<div>\n",
       "<style scoped>\n",
       "    .dataframe tbody tr th:only-of-type {\n",
       "        vertical-align: middle;\n",
       "    }\n",
       "\n",
       "    .dataframe tbody tr th {\n",
       "        vertical-align: top;\n",
       "    }\n",
       "\n",
       "    .dataframe thead th {\n",
       "        text-align: right;\n",
       "    }\n",
       "</style>\n",
       "<table border=\"1\" class=\"dataframe\">\n",
       "  <thead>\n",
       "    <tr style=\"text-align: right;\">\n",
       "      <th></th>\n",
       "      <th>index</th>\n",
       "      <th>Year</th>\n",
       "      <th>Daynum</th>\n",
       "      <th>Region</th>\n",
       "      <th>RegionNum</th>\n",
       "      <th>Team</th>\n",
       "      <th>Seed</th>\n",
       "      <th>Team_Position</th>\n",
       "      <th>Mapped_Round</th>\n",
       "      <th>Round</th>\n",
       "      <th>GameSlot</th>\n",
       "    </tr>\n",
       "  </thead>\n",
       "  <tbody>\n",
       "  </tbody>\n",
       "</table>\n",
       "</div>"
      ],
      "text/plain": [
       "Empty DataFrame\n",
       "Columns: [index, Year, Daynum, Region, RegionNum, Team, Seed, Team_Position, Mapped_Round, Round, GameSlot]\n",
       "Index: []"
      ]
     },
     "metadata": {},
     "output_type": "display_data"
    },
    {
     "name": "stdout",
     "output_type": "stream",
     "text": [
      "[2 4]\n",
      "2011 0\n",
      "[]\n"
     ]
    },
    {
     "data": {
      "text/plain": [
       "'W'"
      ]
     },
     "metadata": {},
     "output_type": "display_data"
    },
    {
     "data": {
      "text/html": [
       "<div>\n",
       "<style scoped>\n",
       "    .dataframe tbody tr th:only-of-type {\n",
       "        vertical-align: middle;\n",
       "    }\n",
       "\n",
       "    .dataframe tbody tr th {\n",
       "        vertical-align: top;\n",
       "    }\n",
       "\n",
       "    .dataframe thead th {\n",
       "        text-align: right;\n",
       "    }\n",
       "</style>\n",
       "<table border=\"1\" class=\"dataframe\">\n",
       "  <thead>\n",
       "    <tr style=\"text-align: right;\">\n",
       "      <th></th>\n",
       "      <th>index</th>\n",
       "      <th>Year</th>\n",
       "      <th>Daynum</th>\n",
       "      <th>Region</th>\n",
       "      <th>RegionNum</th>\n",
       "      <th>Team</th>\n",
       "      <th>Seed</th>\n",
       "      <th>Team_Position</th>\n",
       "      <th>Mapped_Round</th>\n",
       "      <th>Round</th>\n",
       "      <th>GameSlot</th>\n",
       "    </tr>\n",
       "  </thead>\n",
       "  <tbody>\n",
       "  </tbody>\n",
       "</table>\n",
       "</div>"
      ],
      "text/plain": [
       "Empty DataFrame\n",
       "Columns: [index, Year, Daynum, Region, RegionNum, Team, Seed, Team_Position, Mapped_Round, Round, GameSlot]\n",
       "Index: []"
      ]
     },
     "metadata": {},
     "output_type": "display_data"
    },
    {
     "data": {
      "text/plain": [
       "'W'"
      ]
     },
     "metadata": {},
     "output_type": "display_data"
    },
    {
     "data": {
      "text/html": [
       "<div>\n",
       "<style scoped>\n",
       "    .dataframe tbody tr th:only-of-type {\n",
       "        vertical-align: middle;\n",
       "    }\n",
       "\n",
       "    .dataframe tbody tr th {\n",
       "        vertical-align: top;\n",
       "    }\n",
       "\n",
       "    .dataframe thead th {\n",
       "        text-align: right;\n",
       "    }\n",
       "</style>\n",
       "<table border=\"1\" class=\"dataframe\">\n",
       "  <thead>\n",
       "    <tr style=\"text-align: right;\">\n",
       "      <th></th>\n",
       "      <th>index</th>\n",
       "      <th>Year</th>\n",
       "      <th>Daynum</th>\n",
       "      <th>Region</th>\n",
       "      <th>RegionNum</th>\n",
       "      <th>Team</th>\n",
       "      <th>Seed</th>\n",
       "      <th>Team_Position</th>\n",
       "      <th>Mapped_Round</th>\n",
       "      <th>Round</th>\n",
       "      <th>GameSlot</th>\n",
       "    </tr>\n",
       "  </thead>\n",
       "  <tbody>\n",
       "  </tbody>\n",
       "</table>\n",
       "</div>"
      ],
      "text/plain": [
       "Empty DataFrame\n",
       "Columns: [index, Year, Daynum, Region, RegionNum, Team, Seed, Team_Position, Mapped_Round, Round, GameSlot]\n",
       "Index: []"
      ]
     },
     "metadata": {},
     "output_type": "display_data"
    },
    {
     "name": "stdout",
     "output_type": "stream",
     "text": [
      "[]\n"
     ]
    },
    {
     "data": {
      "text/plain": [
       "'X'"
      ]
     },
     "metadata": {},
     "output_type": "display_data"
    },
    {
     "data": {
      "text/html": [
       "<div>\n",
       "<style scoped>\n",
       "    .dataframe tbody tr th:only-of-type {\n",
       "        vertical-align: middle;\n",
       "    }\n",
       "\n",
       "    .dataframe tbody tr th {\n",
       "        vertical-align: top;\n",
       "    }\n",
       "\n",
       "    .dataframe thead th {\n",
       "        text-align: right;\n",
       "    }\n",
       "</style>\n",
       "<table border=\"1\" class=\"dataframe\">\n",
       "  <thead>\n",
       "    <tr style=\"text-align: right;\">\n",
       "      <th></th>\n",
       "      <th>index</th>\n",
       "      <th>Year</th>\n",
       "      <th>Daynum</th>\n",
       "      <th>Region</th>\n",
       "      <th>RegionNum</th>\n",
       "      <th>Team</th>\n",
       "      <th>Seed</th>\n",
       "      <th>Team_Position</th>\n",
       "      <th>Mapped_Round</th>\n",
       "      <th>Round</th>\n",
       "      <th>GameSlot</th>\n",
       "    </tr>\n",
       "  </thead>\n",
       "  <tbody>\n",
       "  </tbody>\n",
       "</table>\n",
       "</div>"
      ],
      "text/plain": [
       "Empty DataFrame\n",
       "Columns: [index, Year, Daynum, Region, RegionNum, Team, Seed, Team_Position, Mapped_Round, Round, GameSlot]\n",
       "Index: []"
      ]
     },
     "metadata": {},
     "output_type": "display_data"
    },
    {
     "data": {
      "text/plain": [
       "'X'"
      ]
     },
     "metadata": {},
     "output_type": "display_data"
    },
    {
     "data": {
      "text/html": [
       "<div>\n",
       "<style scoped>\n",
       "    .dataframe tbody tr th:only-of-type {\n",
       "        vertical-align: middle;\n",
       "    }\n",
       "\n",
       "    .dataframe tbody tr th {\n",
       "        vertical-align: top;\n",
       "    }\n",
       "\n",
       "    .dataframe thead th {\n",
       "        text-align: right;\n",
       "    }\n",
       "</style>\n",
       "<table border=\"1\" class=\"dataframe\">\n",
       "  <thead>\n",
       "    <tr style=\"text-align: right;\">\n",
       "      <th></th>\n",
       "      <th>index</th>\n",
       "      <th>Year</th>\n",
       "      <th>Daynum</th>\n",
       "      <th>Region</th>\n",
       "      <th>RegionNum</th>\n",
       "      <th>Team</th>\n",
       "      <th>Seed</th>\n",
       "      <th>Team_Position</th>\n",
       "      <th>Mapped_Round</th>\n",
       "      <th>Round</th>\n",
       "      <th>GameSlot</th>\n",
       "    </tr>\n",
       "  </thead>\n",
       "  <tbody>\n",
       "  </tbody>\n",
       "</table>\n",
       "</div>"
      ],
      "text/plain": [
       "Empty DataFrame\n",
       "Columns: [index, Year, Daynum, Region, RegionNum, Team, Seed, Team_Position, Mapped_Round, Round, GameSlot]\n",
       "Index: []"
      ]
     },
     "metadata": {},
     "output_type": "display_data"
    },
    {
     "name": "stdout",
     "output_type": "stream",
     "text": [
      "[]\n"
     ]
    },
    {
     "data": {
      "text/plain": [
       "'Y'"
      ]
     },
     "metadata": {},
     "output_type": "display_data"
    },
    {
     "data": {
      "text/html": [
       "<div>\n",
       "<style scoped>\n",
       "    .dataframe tbody tr th:only-of-type {\n",
       "        vertical-align: middle;\n",
       "    }\n",
       "\n",
       "    .dataframe tbody tr th {\n",
       "        vertical-align: top;\n",
       "    }\n",
       "\n",
       "    .dataframe thead th {\n",
       "        text-align: right;\n",
       "    }\n",
       "</style>\n",
       "<table border=\"1\" class=\"dataframe\">\n",
       "  <thead>\n",
       "    <tr style=\"text-align: right;\">\n",
       "      <th></th>\n",
       "      <th>index</th>\n",
       "      <th>Year</th>\n",
       "      <th>Daynum</th>\n",
       "      <th>Region</th>\n",
       "      <th>RegionNum</th>\n",
       "      <th>Team</th>\n",
       "      <th>Seed</th>\n",
       "      <th>Team_Position</th>\n",
       "      <th>Mapped_Round</th>\n",
       "      <th>Round</th>\n",
       "      <th>GameSlot</th>\n",
       "    </tr>\n",
       "  </thead>\n",
       "  <tbody>\n",
       "  </tbody>\n",
       "</table>\n",
       "</div>"
      ],
      "text/plain": [
       "Empty DataFrame\n",
       "Columns: [index, Year, Daynum, Region, RegionNum, Team, Seed, Team_Position, Mapped_Round, Round, GameSlot]\n",
       "Index: []"
      ]
     },
     "metadata": {},
     "output_type": "display_data"
    },
    {
     "data": {
      "text/plain": [
       "'Y'"
      ]
     },
     "metadata": {},
     "output_type": "display_data"
    },
    {
     "data": {
      "text/html": [
       "<div>\n",
       "<style scoped>\n",
       "    .dataframe tbody tr th:only-of-type {\n",
       "        vertical-align: middle;\n",
       "    }\n",
       "\n",
       "    .dataframe tbody tr th {\n",
       "        vertical-align: top;\n",
       "    }\n",
       "\n",
       "    .dataframe thead th {\n",
       "        text-align: right;\n",
       "    }\n",
       "</style>\n",
       "<table border=\"1\" class=\"dataframe\">\n",
       "  <thead>\n",
       "    <tr style=\"text-align: right;\">\n",
       "      <th></th>\n",
       "      <th>index</th>\n",
       "      <th>Year</th>\n",
       "      <th>Daynum</th>\n",
       "      <th>Region</th>\n",
       "      <th>RegionNum</th>\n",
       "      <th>Team</th>\n",
       "      <th>Seed</th>\n",
       "      <th>Team_Position</th>\n",
       "      <th>Mapped_Round</th>\n",
       "      <th>Round</th>\n",
       "      <th>GameSlot</th>\n",
       "    </tr>\n",
       "  </thead>\n",
       "  <tbody>\n",
       "  </tbody>\n",
       "</table>\n",
       "</div>"
      ],
      "text/plain": [
       "Empty DataFrame\n",
       "Columns: [index, Year, Daynum, Region, RegionNum, Team, Seed, Team_Position, Mapped_Round, Round, GameSlot]\n",
       "Index: []"
      ]
     },
     "metadata": {},
     "output_type": "display_data"
    },
    {
     "name": "stdout",
     "output_type": "stream",
     "text": [
      "[]\n"
     ]
    },
    {
     "data": {
      "text/plain": [
       "'Z'"
      ]
     },
     "metadata": {},
     "output_type": "display_data"
    },
    {
     "data": {
      "text/html": [
       "<div>\n",
       "<style scoped>\n",
       "    .dataframe tbody tr th:only-of-type {\n",
       "        vertical-align: middle;\n",
       "    }\n",
       "\n",
       "    .dataframe tbody tr th {\n",
       "        vertical-align: top;\n",
       "    }\n",
       "\n",
       "    .dataframe thead th {\n",
       "        text-align: right;\n",
       "    }\n",
       "</style>\n",
       "<table border=\"1\" class=\"dataframe\">\n",
       "  <thead>\n",
       "    <tr style=\"text-align: right;\">\n",
       "      <th></th>\n",
       "      <th>index</th>\n",
       "      <th>Year</th>\n",
       "      <th>Daynum</th>\n",
       "      <th>Region</th>\n",
       "      <th>RegionNum</th>\n",
       "      <th>Team</th>\n",
       "      <th>Seed</th>\n",
       "      <th>Team_Position</th>\n",
       "      <th>Mapped_Round</th>\n",
       "      <th>Round</th>\n",
       "      <th>GameSlot</th>\n",
       "    </tr>\n",
       "  </thead>\n",
       "  <tbody>\n",
       "  </tbody>\n",
       "</table>\n",
       "</div>"
      ],
      "text/plain": [
       "Empty DataFrame\n",
       "Columns: [index, Year, Daynum, Region, RegionNum, Team, Seed, Team_Position, Mapped_Round, Round, GameSlot]\n",
       "Index: []"
      ]
     },
     "metadata": {},
     "output_type": "display_data"
    },
    {
     "data": {
      "text/plain": [
       "'Z'"
      ]
     },
     "metadata": {},
     "output_type": "display_data"
    },
    {
     "data": {
      "text/html": [
       "<div>\n",
       "<style scoped>\n",
       "    .dataframe tbody tr th:only-of-type {\n",
       "        vertical-align: middle;\n",
       "    }\n",
       "\n",
       "    .dataframe tbody tr th {\n",
       "        vertical-align: top;\n",
       "    }\n",
       "\n",
       "    .dataframe thead th {\n",
       "        text-align: right;\n",
       "    }\n",
       "</style>\n",
       "<table border=\"1\" class=\"dataframe\">\n",
       "  <thead>\n",
       "    <tr style=\"text-align: right;\">\n",
       "      <th></th>\n",
       "      <th>index</th>\n",
       "      <th>Year</th>\n",
       "      <th>Daynum</th>\n",
       "      <th>Region</th>\n",
       "      <th>RegionNum</th>\n",
       "      <th>Team</th>\n",
       "      <th>Seed</th>\n",
       "      <th>Team_Position</th>\n",
       "      <th>Mapped_Round</th>\n",
       "      <th>Round</th>\n",
       "      <th>GameSlot</th>\n",
       "    </tr>\n",
       "  </thead>\n",
       "  <tbody>\n",
       "  </tbody>\n",
       "</table>\n",
       "</div>"
      ],
      "text/plain": [
       "Empty DataFrame\n",
       "Columns: [index, Year, Daynum, Region, RegionNum, Team, Seed, Team_Position, Mapped_Round, Round, GameSlot]\n",
       "Index: []"
      ]
     },
     "metadata": {},
     "output_type": "display_data"
    },
    {
     "name": "stdout",
     "output_type": "stream",
     "text": [
      "[2 4]\n",
      "2012 0\n",
      "[]\n"
     ]
    },
    {
     "data": {
      "text/plain": [
       "'W'"
      ]
     },
     "metadata": {},
     "output_type": "display_data"
    },
    {
     "data": {
      "text/html": [
       "<div>\n",
       "<style scoped>\n",
       "    .dataframe tbody tr th:only-of-type {\n",
       "        vertical-align: middle;\n",
       "    }\n",
       "\n",
       "    .dataframe tbody tr th {\n",
       "        vertical-align: top;\n",
       "    }\n",
       "\n",
       "    .dataframe thead th {\n",
       "        text-align: right;\n",
       "    }\n",
       "</style>\n",
       "<table border=\"1\" class=\"dataframe\">\n",
       "  <thead>\n",
       "    <tr style=\"text-align: right;\">\n",
       "      <th></th>\n",
       "      <th>index</th>\n",
       "      <th>Year</th>\n",
       "      <th>Daynum</th>\n",
       "      <th>Region</th>\n",
       "      <th>RegionNum</th>\n",
       "      <th>Team</th>\n",
       "      <th>Seed</th>\n",
       "      <th>Team_Position</th>\n",
       "      <th>Mapped_Round</th>\n",
       "      <th>Round</th>\n",
       "      <th>GameSlot</th>\n",
       "    </tr>\n",
       "  </thead>\n",
       "  <tbody>\n",
       "  </tbody>\n",
       "</table>\n",
       "</div>"
      ],
      "text/plain": [
       "Empty DataFrame\n",
       "Columns: [index, Year, Daynum, Region, RegionNum, Team, Seed, Team_Position, Mapped_Round, Round, GameSlot]\n",
       "Index: []"
      ]
     },
     "metadata": {},
     "output_type": "display_data"
    },
    {
     "data": {
      "text/plain": [
       "'W'"
      ]
     },
     "metadata": {},
     "output_type": "display_data"
    },
    {
     "data": {
      "text/html": [
       "<div>\n",
       "<style scoped>\n",
       "    .dataframe tbody tr th:only-of-type {\n",
       "        vertical-align: middle;\n",
       "    }\n",
       "\n",
       "    .dataframe tbody tr th {\n",
       "        vertical-align: top;\n",
       "    }\n",
       "\n",
       "    .dataframe thead th {\n",
       "        text-align: right;\n",
       "    }\n",
       "</style>\n",
       "<table border=\"1\" class=\"dataframe\">\n",
       "  <thead>\n",
       "    <tr style=\"text-align: right;\">\n",
       "      <th></th>\n",
       "      <th>index</th>\n",
       "      <th>Year</th>\n",
       "      <th>Daynum</th>\n",
       "      <th>Region</th>\n",
       "      <th>RegionNum</th>\n",
       "      <th>Team</th>\n",
       "      <th>Seed</th>\n",
       "      <th>Team_Position</th>\n",
       "      <th>Mapped_Round</th>\n",
       "      <th>Round</th>\n",
       "      <th>GameSlot</th>\n",
       "    </tr>\n",
       "  </thead>\n",
       "  <tbody>\n",
       "  </tbody>\n",
       "</table>\n",
       "</div>"
      ],
      "text/plain": [
       "Empty DataFrame\n",
       "Columns: [index, Year, Daynum, Region, RegionNum, Team, Seed, Team_Position, Mapped_Round, Round, GameSlot]\n",
       "Index: []"
      ]
     },
     "metadata": {},
     "output_type": "display_data"
    },
    {
     "name": "stdout",
     "output_type": "stream",
     "text": [
      "[]\n"
     ]
    },
    {
     "data": {
      "text/plain": [
       "'X'"
      ]
     },
     "metadata": {},
     "output_type": "display_data"
    },
    {
     "data": {
      "text/html": [
       "<div>\n",
       "<style scoped>\n",
       "    .dataframe tbody tr th:only-of-type {\n",
       "        vertical-align: middle;\n",
       "    }\n",
       "\n",
       "    .dataframe tbody tr th {\n",
       "        vertical-align: top;\n",
       "    }\n",
       "\n",
       "    .dataframe thead th {\n",
       "        text-align: right;\n",
       "    }\n",
       "</style>\n",
       "<table border=\"1\" class=\"dataframe\">\n",
       "  <thead>\n",
       "    <tr style=\"text-align: right;\">\n",
       "      <th></th>\n",
       "      <th>index</th>\n",
       "      <th>Year</th>\n",
       "      <th>Daynum</th>\n",
       "      <th>Region</th>\n",
       "      <th>RegionNum</th>\n",
       "      <th>Team</th>\n",
       "      <th>Seed</th>\n",
       "      <th>Team_Position</th>\n",
       "      <th>Mapped_Round</th>\n",
       "      <th>Round</th>\n",
       "      <th>GameSlot</th>\n",
       "    </tr>\n",
       "  </thead>\n",
       "  <tbody>\n",
       "  </tbody>\n",
       "</table>\n",
       "</div>"
      ],
      "text/plain": [
       "Empty DataFrame\n",
       "Columns: [index, Year, Daynum, Region, RegionNum, Team, Seed, Team_Position, Mapped_Round, Round, GameSlot]\n",
       "Index: []"
      ]
     },
     "metadata": {},
     "output_type": "display_data"
    },
    {
     "data": {
      "text/plain": [
       "'X'"
      ]
     },
     "metadata": {},
     "output_type": "display_data"
    },
    {
     "data": {
      "text/html": [
       "<div>\n",
       "<style scoped>\n",
       "    .dataframe tbody tr th:only-of-type {\n",
       "        vertical-align: middle;\n",
       "    }\n",
       "\n",
       "    .dataframe tbody tr th {\n",
       "        vertical-align: top;\n",
       "    }\n",
       "\n",
       "    .dataframe thead th {\n",
       "        text-align: right;\n",
       "    }\n",
       "</style>\n",
       "<table border=\"1\" class=\"dataframe\">\n",
       "  <thead>\n",
       "    <tr style=\"text-align: right;\">\n",
       "      <th></th>\n",
       "      <th>index</th>\n",
       "      <th>Year</th>\n",
       "      <th>Daynum</th>\n",
       "      <th>Region</th>\n",
       "      <th>RegionNum</th>\n",
       "      <th>Team</th>\n",
       "      <th>Seed</th>\n",
       "      <th>Team_Position</th>\n",
       "      <th>Mapped_Round</th>\n",
       "      <th>Round</th>\n",
       "      <th>GameSlot</th>\n",
       "    </tr>\n",
       "  </thead>\n",
       "  <tbody>\n",
       "  </tbody>\n",
       "</table>\n",
       "</div>"
      ],
      "text/plain": [
       "Empty DataFrame\n",
       "Columns: [index, Year, Daynum, Region, RegionNum, Team, Seed, Team_Position, Mapped_Round, Round, GameSlot]\n",
       "Index: []"
      ]
     },
     "metadata": {},
     "output_type": "display_data"
    },
    {
     "name": "stdout",
     "output_type": "stream",
     "text": [
      "[]\n"
     ]
    },
    {
     "data": {
      "text/plain": [
       "'Y'"
      ]
     },
     "metadata": {},
     "output_type": "display_data"
    },
    {
     "data": {
      "text/html": [
       "<div>\n",
       "<style scoped>\n",
       "    .dataframe tbody tr th:only-of-type {\n",
       "        vertical-align: middle;\n",
       "    }\n",
       "\n",
       "    .dataframe tbody tr th {\n",
       "        vertical-align: top;\n",
       "    }\n",
       "\n",
       "    .dataframe thead th {\n",
       "        text-align: right;\n",
       "    }\n",
       "</style>\n",
       "<table border=\"1\" class=\"dataframe\">\n",
       "  <thead>\n",
       "    <tr style=\"text-align: right;\">\n",
       "      <th></th>\n",
       "      <th>index</th>\n",
       "      <th>Year</th>\n",
       "      <th>Daynum</th>\n",
       "      <th>Region</th>\n",
       "      <th>RegionNum</th>\n",
       "      <th>Team</th>\n",
       "      <th>Seed</th>\n",
       "      <th>Team_Position</th>\n",
       "      <th>Mapped_Round</th>\n",
       "      <th>Round</th>\n",
       "      <th>GameSlot</th>\n",
       "    </tr>\n",
       "  </thead>\n",
       "  <tbody>\n",
       "  </tbody>\n",
       "</table>\n",
       "</div>"
      ],
      "text/plain": [
       "Empty DataFrame\n",
       "Columns: [index, Year, Daynum, Region, RegionNum, Team, Seed, Team_Position, Mapped_Round, Round, GameSlot]\n",
       "Index: []"
      ]
     },
     "metadata": {},
     "output_type": "display_data"
    },
    {
     "data": {
      "text/plain": [
       "'Y'"
      ]
     },
     "metadata": {},
     "output_type": "display_data"
    },
    {
     "data": {
      "text/html": [
       "<div>\n",
       "<style scoped>\n",
       "    .dataframe tbody tr th:only-of-type {\n",
       "        vertical-align: middle;\n",
       "    }\n",
       "\n",
       "    .dataframe tbody tr th {\n",
       "        vertical-align: top;\n",
       "    }\n",
       "\n",
       "    .dataframe thead th {\n",
       "        text-align: right;\n",
       "    }\n",
       "</style>\n",
       "<table border=\"1\" class=\"dataframe\">\n",
       "  <thead>\n",
       "    <tr style=\"text-align: right;\">\n",
       "      <th></th>\n",
       "      <th>index</th>\n",
       "      <th>Year</th>\n",
       "      <th>Daynum</th>\n",
       "      <th>Region</th>\n",
       "      <th>RegionNum</th>\n",
       "      <th>Team</th>\n",
       "      <th>Seed</th>\n",
       "      <th>Team_Position</th>\n",
       "      <th>Mapped_Round</th>\n",
       "      <th>Round</th>\n",
       "      <th>GameSlot</th>\n",
       "    </tr>\n",
       "  </thead>\n",
       "  <tbody>\n",
       "  </tbody>\n",
       "</table>\n",
       "</div>"
      ],
      "text/plain": [
       "Empty DataFrame\n",
       "Columns: [index, Year, Daynum, Region, RegionNum, Team, Seed, Team_Position, Mapped_Round, Round, GameSlot]\n",
       "Index: []"
      ]
     },
     "metadata": {},
     "output_type": "display_data"
    },
    {
     "name": "stdout",
     "output_type": "stream",
     "text": [
      "[]\n"
     ]
    },
    {
     "data": {
      "text/plain": [
       "'Z'"
      ]
     },
     "metadata": {},
     "output_type": "display_data"
    },
    {
     "data": {
      "text/html": [
       "<div>\n",
       "<style scoped>\n",
       "    .dataframe tbody tr th:only-of-type {\n",
       "        vertical-align: middle;\n",
       "    }\n",
       "\n",
       "    .dataframe tbody tr th {\n",
       "        vertical-align: top;\n",
       "    }\n",
       "\n",
       "    .dataframe thead th {\n",
       "        text-align: right;\n",
       "    }\n",
       "</style>\n",
       "<table border=\"1\" class=\"dataframe\">\n",
       "  <thead>\n",
       "    <tr style=\"text-align: right;\">\n",
       "      <th></th>\n",
       "      <th>index</th>\n",
       "      <th>Year</th>\n",
       "      <th>Daynum</th>\n",
       "      <th>Region</th>\n",
       "      <th>RegionNum</th>\n",
       "      <th>Team</th>\n",
       "      <th>Seed</th>\n",
       "      <th>Team_Position</th>\n",
       "      <th>Mapped_Round</th>\n",
       "      <th>Round</th>\n",
       "      <th>GameSlot</th>\n",
       "    </tr>\n",
       "  </thead>\n",
       "  <tbody>\n",
       "  </tbody>\n",
       "</table>\n",
       "</div>"
      ],
      "text/plain": [
       "Empty DataFrame\n",
       "Columns: [index, Year, Daynum, Region, RegionNum, Team, Seed, Team_Position, Mapped_Round, Round, GameSlot]\n",
       "Index: []"
      ]
     },
     "metadata": {},
     "output_type": "display_data"
    },
    {
     "data": {
      "text/plain": [
       "'Z'"
      ]
     },
     "metadata": {},
     "output_type": "display_data"
    },
    {
     "data": {
      "text/html": [
       "<div>\n",
       "<style scoped>\n",
       "    .dataframe tbody tr th:only-of-type {\n",
       "        vertical-align: middle;\n",
       "    }\n",
       "\n",
       "    .dataframe tbody tr th {\n",
       "        vertical-align: top;\n",
       "    }\n",
       "\n",
       "    .dataframe thead th {\n",
       "        text-align: right;\n",
       "    }\n",
       "</style>\n",
       "<table border=\"1\" class=\"dataframe\">\n",
       "  <thead>\n",
       "    <tr style=\"text-align: right;\">\n",
       "      <th></th>\n",
       "      <th>index</th>\n",
       "      <th>Year</th>\n",
       "      <th>Daynum</th>\n",
       "      <th>Region</th>\n",
       "      <th>RegionNum</th>\n",
       "      <th>Team</th>\n",
       "      <th>Seed</th>\n",
       "      <th>Team_Position</th>\n",
       "      <th>Mapped_Round</th>\n",
       "      <th>Round</th>\n",
       "      <th>GameSlot</th>\n",
       "    </tr>\n",
       "  </thead>\n",
       "  <tbody>\n",
       "  </tbody>\n",
       "</table>\n",
       "</div>"
      ],
      "text/plain": [
       "Empty DataFrame\n",
       "Columns: [index, Year, Daynum, Region, RegionNum, Team, Seed, Team_Position, Mapped_Round, Round, GameSlot]\n",
       "Index: []"
      ]
     },
     "metadata": {},
     "output_type": "display_data"
    },
    {
     "name": "stdout",
     "output_type": "stream",
     "text": [
      "[2 4]\n",
      "2013 0\n",
      "[]\n"
     ]
    },
    {
     "data": {
      "text/plain": [
       "'W'"
      ]
     },
     "metadata": {},
     "output_type": "display_data"
    },
    {
     "data": {
      "text/html": [
       "<div>\n",
       "<style scoped>\n",
       "    .dataframe tbody tr th:only-of-type {\n",
       "        vertical-align: middle;\n",
       "    }\n",
       "\n",
       "    .dataframe tbody tr th {\n",
       "        vertical-align: top;\n",
       "    }\n",
       "\n",
       "    .dataframe thead th {\n",
       "        text-align: right;\n",
       "    }\n",
       "</style>\n",
       "<table border=\"1\" class=\"dataframe\">\n",
       "  <thead>\n",
       "    <tr style=\"text-align: right;\">\n",
       "      <th></th>\n",
       "      <th>index</th>\n",
       "      <th>Year</th>\n",
       "      <th>Daynum</th>\n",
       "      <th>Region</th>\n",
       "      <th>RegionNum</th>\n",
       "      <th>Team</th>\n",
       "      <th>Seed</th>\n",
       "      <th>Team_Position</th>\n",
       "      <th>Mapped_Round</th>\n",
       "      <th>Round</th>\n",
       "      <th>GameSlot</th>\n",
       "    </tr>\n",
       "  </thead>\n",
       "  <tbody>\n",
       "  </tbody>\n",
       "</table>\n",
       "</div>"
      ],
      "text/plain": [
       "Empty DataFrame\n",
       "Columns: [index, Year, Daynum, Region, RegionNum, Team, Seed, Team_Position, Mapped_Round, Round, GameSlot]\n",
       "Index: []"
      ]
     },
     "metadata": {},
     "output_type": "display_data"
    },
    {
     "data": {
      "text/plain": [
       "'W'"
      ]
     },
     "metadata": {},
     "output_type": "display_data"
    },
    {
     "data": {
      "text/html": [
       "<div>\n",
       "<style scoped>\n",
       "    .dataframe tbody tr th:only-of-type {\n",
       "        vertical-align: middle;\n",
       "    }\n",
       "\n",
       "    .dataframe tbody tr th {\n",
       "        vertical-align: top;\n",
       "    }\n",
       "\n",
       "    .dataframe thead th {\n",
       "        text-align: right;\n",
       "    }\n",
       "</style>\n",
       "<table border=\"1\" class=\"dataframe\">\n",
       "  <thead>\n",
       "    <tr style=\"text-align: right;\">\n",
       "      <th></th>\n",
       "      <th>index</th>\n",
       "      <th>Year</th>\n",
       "      <th>Daynum</th>\n",
       "      <th>Region</th>\n",
       "      <th>RegionNum</th>\n",
       "      <th>Team</th>\n",
       "      <th>Seed</th>\n",
       "      <th>Team_Position</th>\n",
       "      <th>Mapped_Round</th>\n",
       "      <th>Round</th>\n",
       "      <th>GameSlot</th>\n",
       "    </tr>\n",
       "  </thead>\n",
       "  <tbody>\n",
       "  </tbody>\n",
       "</table>\n",
       "</div>"
      ],
      "text/plain": [
       "Empty DataFrame\n",
       "Columns: [index, Year, Daynum, Region, RegionNum, Team, Seed, Team_Position, Mapped_Round, Round, GameSlot]\n",
       "Index: []"
      ]
     },
     "metadata": {},
     "output_type": "display_data"
    },
    {
     "name": "stdout",
     "output_type": "stream",
     "text": [
      "[]\n"
     ]
    },
    {
     "data": {
      "text/plain": [
       "'X'"
      ]
     },
     "metadata": {},
     "output_type": "display_data"
    },
    {
     "data": {
      "text/html": [
       "<div>\n",
       "<style scoped>\n",
       "    .dataframe tbody tr th:only-of-type {\n",
       "        vertical-align: middle;\n",
       "    }\n",
       "\n",
       "    .dataframe tbody tr th {\n",
       "        vertical-align: top;\n",
       "    }\n",
       "\n",
       "    .dataframe thead th {\n",
       "        text-align: right;\n",
       "    }\n",
       "</style>\n",
       "<table border=\"1\" class=\"dataframe\">\n",
       "  <thead>\n",
       "    <tr style=\"text-align: right;\">\n",
       "      <th></th>\n",
       "      <th>index</th>\n",
       "      <th>Year</th>\n",
       "      <th>Daynum</th>\n",
       "      <th>Region</th>\n",
       "      <th>RegionNum</th>\n",
       "      <th>Team</th>\n",
       "      <th>Seed</th>\n",
       "      <th>Team_Position</th>\n",
       "      <th>Mapped_Round</th>\n",
       "      <th>Round</th>\n",
       "      <th>GameSlot</th>\n",
       "    </tr>\n",
       "  </thead>\n",
       "  <tbody>\n",
       "  </tbody>\n",
       "</table>\n",
       "</div>"
      ],
      "text/plain": [
       "Empty DataFrame\n",
       "Columns: [index, Year, Daynum, Region, RegionNum, Team, Seed, Team_Position, Mapped_Round, Round, GameSlot]\n",
       "Index: []"
      ]
     },
     "metadata": {},
     "output_type": "display_data"
    },
    {
     "data": {
      "text/plain": [
       "'X'"
      ]
     },
     "metadata": {},
     "output_type": "display_data"
    },
    {
     "data": {
      "text/html": [
       "<div>\n",
       "<style scoped>\n",
       "    .dataframe tbody tr th:only-of-type {\n",
       "        vertical-align: middle;\n",
       "    }\n",
       "\n",
       "    .dataframe tbody tr th {\n",
       "        vertical-align: top;\n",
       "    }\n",
       "\n",
       "    .dataframe thead th {\n",
       "        text-align: right;\n",
       "    }\n",
       "</style>\n",
       "<table border=\"1\" class=\"dataframe\">\n",
       "  <thead>\n",
       "    <tr style=\"text-align: right;\">\n",
       "      <th></th>\n",
       "      <th>index</th>\n",
       "      <th>Year</th>\n",
       "      <th>Daynum</th>\n",
       "      <th>Region</th>\n",
       "      <th>RegionNum</th>\n",
       "      <th>Team</th>\n",
       "      <th>Seed</th>\n",
       "      <th>Team_Position</th>\n",
       "      <th>Mapped_Round</th>\n",
       "      <th>Round</th>\n",
       "      <th>GameSlot</th>\n",
       "    </tr>\n",
       "  </thead>\n",
       "  <tbody>\n",
       "  </tbody>\n",
       "</table>\n",
       "</div>"
      ],
      "text/plain": [
       "Empty DataFrame\n",
       "Columns: [index, Year, Daynum, Region, RegionNum, Team, Seed, Team_Position, Mapped_Round, Round, GameSlot]\n",
       "Index: []"
      ]
     },
     "metadata": {},
     "output_type": "display_data"
    },
    {
     "name": "stdout",
     "output_type": "stream",
     "text": [
      "[]\n"
     ]
    },
    {
     "data": {
      "text/plain": [
       "'Y'"
      ]
     },
     "metadata": {},
     "output_type": "display_data"
    },
    {
     "data": {
      "text/html": [
       "<div>\n",
       "<style scoped>\n",
       "    .dataframe tbody tr th:only-of-type {\n",
       "        vertical-align: middle;\n",
       "    }\n",
       "\n",
       "    .dataframe tbody tr th {\n",
       "        vertical-align: top;\n",
       "    }\n",
       "\n",
       "    .dataframe thead th {\n",
       "        text-align: right;\n",
       "    }\n",
       "</style>\n",
       "<table border=\"1\" class=\"dataframe\">\n",
       "  <thead>\n",
       "    <tr style=\"text-align: right;\">\n",
       "      <th></th>\n",
       "      <th>index</th>\n",
       "      <th>Year</th>\n",
       "      <th>Daynum</th>\n",
       "      <th>Region</th>\n",
       "      <th>RegionNum</th>\n",
       "      <th>Team</th>\n",
       "      <th>Seed</th>\n",
       "      <th>Team_Position</th>\n",
       "      <th>Mapped_Round</th>\n",
       "      <th>Round</th>\n",
       "      <th>GameSlot</th>\n",
       "    </tr>\n",
       "  </thead>\n",
       "  <tbody>\n",
       "  </tbody>\n",
       "</table>\n",
       "</div>"
      ],
      "text/plain": [
       "Empty DataFrame\n",
       "Columns: [index, Year, Daynum, Region, RegionNum, Team, Seed, Team_Position, Mapped_Round, Round, GameSlot]\n",
       "Index: []"
      ]
     },
     "metadata": {},
     "output_type": "display_data"
    },
    {
     "data": {
      "text/plain": [
       "'Y'"
      ]
     },
     "metadata": {},
     "output_type": "display_data"
    },
    {
     "data": {
      "text/html": [
       "<div>\n",
       "<style scoped>\n",
       "    .dataframe tbody tr th:only-of-type {\n",
       "        vertical-align: middle;\n",
       "    }\n",
       "\n",
       "    .dataframe tbody tr th {\n",
       "        vertical-align: top;\n",
       "    }\n",
       "\n",
       "    .dataframe thead th {\n",
       "        text-align: right;\n",
       "    }\n",
       "</style>\n",
       "<table border=\"1\" class=\"dataframe\">\n",
       "  <thead>\n",
       "    <tr style=\"text-align: right;\">\n",
       "      <th></th>\n",
       "      <th>index</th>\n",
       "      <th>Year</th>\n",
       "      <th>Daynum</th>\n",
       "      <th>Region</th>\n",
       "      <th>RegionNum</th>\n",
       "      <th>Team</th>\n",
       "      <th>Seed</th>\n",
       "      <th>Team_Position</th>\n",
       "      <th>Mapped_Round</th>\n",
       "      <th>Round</th>\n",
       "      <th>GameSlot</th>\n",
       "    </tr>\n",
       "  </thead>\n",
       "  <tbody>\n",
       "  </tbody>\n",
       "</table>\n",
       "</div>"
      ],
      "text/plain": [
       "Empty DataFrame\n",
       "Columns: [index, Year, Daynum, Region, RegionNum, Team, Seed, Team_Position, Mapped_Round, Round, GameSlot]\n",
       "Index: []"
      ]
     },
     "metadata": {},
     "output_type": "display_data"
    },
    {
     "name": "stdout",
     "output_type": "stream",
     "text": [
      "[]\n"
     ]
    },
    {
     "data": {
      "text/plain": [
       "'Z'"
      ]
     },
     "metadata": {},
     "output_type": "display_data"
    },
    {
     "data": {
      "text/html": [
       "<div>\n",
       "<style scoped>\n",
       "    .dataframe tbody tr th:only-of-type {\n",
       "        vertical-align: middle;\n",
       "    }\n",
       "\n",
       "    .dataframe tbody tr th {\n",
       "        vertical-align: top;\n",
       "    }\n",
       "\n",
       "    .dataframe thead th {\n",
       "        text-align: right;\n",
       "    }\n",
       "</style>\n",
       "<table border=\"1\" class=\"dataframe\">\n",
       "  <thead>\n",
       "    <tr style=\"text-align: right;\">\n",
       "      <th></th>\n",
       "      <th>index</th>\n",
       "      <th>Year</th>\n",
       "      <th>Daynum</th>\n",
       "      <th>Region</th>\n",
       "      <th>RegionNum</th>\n",
       "      <th>Team</th>\n",
       "      <th>Seed</th>\n",
       "      <th>Team_Position</th>\n",
       "      <th>Mapped_Round</th>\n",
       "      <th>Round</th>\n",
       "      <th>GameSlot</th>\n",
       "    </tr>\n",
       "  </thead>\n",
       "  <tbody>\n",
       "  </tbody>\n",
       "</table>\n",
       "</div>"
      ],
      "text/plain": [
       "Empty DataFrame\n",
       "Columns: [index, Year, Daynum, Region, RegionNum, Team, Seed, Team_Position, Mapped_Round, Round, GameSlot]\n",
       "Index: []"
      ]
     },
     "metadata": {},
     "output_type": "display_data"
    },
    {
     "data": {
      "text/plain": [
       "'Z'"
      ]
     },
     "metadata": {},
     "output_type": "display_data"
    },
    {
     "data": {
      "text/html": [
       "<div>\n",
       "<style scoped>\n",
       "    .dataframe tbody tr th:only-of-type {\n",
       "        vertical-align: middle;\n",
       "    }\n",
       "\n",
       "    .dataframe tbody tr th {\n",
       "        vertical-align: top;\n",
       "    }\n",
       "\n",
       "    .dataframe thead th {\n",
       "        text-align: right;\n",
       "    }\n",
       "</style>\n",
       "<table border=\"1\" class=\"dataframe\">\n",
       "  <thead>\n",
       "    <tr style=\"text-align: right;\">\n",
       "      <th></th>\n",
       "      <th>index</th>\n",
       "      <th>Year</th>\n",
       "      <th>Daynum</th>\n",
       "      <th>Region</th>\n",
       "      <th>RegionNum</th>\n",
       "      <th>Team</th>\n",
       "      <th>Seed</th>\n",
       "      <th>Team_Position</th>\n",
       "      <th>Mapped_Round</th>\n",
       "      <th>Round</th>\n",
       "      <th>GameSlot</th>\n",
       "    </tr>\n",
       "  </thead>\n",
       "  <tbody>\n",
       "  </tbody>\n",
       "</table>\n",
       "</div>"
      ],
      "text/plain": [
       "Empty DataFrame\n",
       "Columns: [index, Year, Daynum, Region, RegionNum, Team, Seed, Team_Position, Mapped_Round, Round, GameSlot]\n",
       "Index: []"
      ]
     },
     "metadata": {},
     "output_type": "display_data"
    },
    {
     "name": "stdout",
     "output_type": "stream",
     "text": [
      "[2 4]\n",
      "2014 0\n",
      "[]\n"
     ]
    },
    {
     "data": {
      "text/plain": [
       "'W'"
      ]
     },
     "metadata": {},
     "output_type": "display_data"
    },
    {
     "data": {
      "text/html": [
       "<div>\n",
       "<style scoped>\n",
       "    .dataframe tbody tr th:only-of-type {\n",
       "        vertical-align: middle;\n",
       "    }\n",
       "\n",
       "    .dataframe tbody tr th {\n",
       "        vertical-align: top;\n",
       "    }\n",
       "\n",
       "    .dataframe thead th {\n",
       "        text-align: right;\n",
       "    }\n",
       "</style>\n",
       "<table border=\"1\" class=\"dataframe\">\n",
       "  <thead>\n",
       "    <tr style=\"text-align: right;\">\n",
       "      <th></th>\n",
       "      <th>index</th>\n",
       "      <th>Year</th>\n",
       "      <th>Daynum</th>\n",
       "      <th>Region</th>\n",
       "      <th>RegionNum</th>\n",
       "      <th>Team</th>\n",
       "      <th>Seed</th>\n",
       "      <th>Team_Position</th>\n",
       "      <th>Mapped_Round</th>\n",
       "      <th>Round</th>\n",
       "      <th>GameSlot</th>\n",
       "    </tr>\n",
       "  </thead>\n",
       "  <tbody>\n",
       "  </tbody>\n",
       "</table>\n",
       "</div>"
      ],
      "text/plain": [
       "Empty DataFrame\n",
       "Columns: [index, Year, Daynum, Region, RegionNum, Team, Seed, Team_Position, Mapped_Round, Round, GameSlot]\n",
       "Index: []"
      ]
     },
     "metadata": {},
     "output_type": "display_data"
    },
    {
     "data": {
      "text/plain": [
       "'W'"
      ]
     },
     "metadata": {},
     "output_type": "display_data"
    },
    {
     "data": {
      "text/html": [
       "<div>\n",
       "<style scoped>\n",
       "    .dataframe tbody tr th:only-of-type {\n",
       "        vertical-align: middle;\n",
       "    }\n",
       "\n",
       "    .dataframe tbody tr th {\n",
       "        vertical-align: top;\n",
       "    }\n",
       "\n",
       "    .dataframe thead th {\n",
       "        text-align: right;\n",
       "    }\n",
       "</style>\n",
       "<table border=\"1\" class=\"dataframe\">\n",
       "  <thead>\n",
       "    <tr style=\"text-align: right;\">\n",
       "      <th></th>\n",
       "      <th>index</th>\n",
       "      <th>Year</th>\n",
       "      <th>Daynum</th>\n",
       "      <th>Region</th>\n",
       "      <th>RegionNum</th>\n",
       "      <th>Team</th>\n",
       "      <th>Seed</th>\n",
       "      <th>Team_Position</th>\n",
       "      <th>Mapped_Round</th>\n",
       "      <th>Round</th>\n",
       "      <th>GameSlot</th>\n",
       "    </tr>\n",
       "  </thead>\n",
       "  <tbody>\n",
       "  </tbody>\n",
       "</table>\n",
       "</div>"
      ],
      "text/plain": [
       "Empty DataFrame\n",
       "Columns: [index, Year, Daynum, Region, RegionNum, Team, Seed, Team_Position, Mapped_Round, Round, GameSlot]\n",
       "Index: []"
      ]
     },
     "metadata": {},
     "output_type": "display_data"
    },
    {
     "name": "stdout",
     "output_type": "stream",
     "text": [
      "[]\n"
     ]
    },
    {
     "data": {
      "text/plain": [
       "'X'"
      ]
     },
     "metadata": {},
     "output_type": "display_data"
    },
    {
     "data": {
      "text/html": [
       "<div>\n",
       "<style scoped>\n",
       "    .dataframe tbody tr th:only-of-type {\n",
       "        vertical-align: middle;\n",
       "    }\n",
       "\n",
       "    .dataframe tbody tr th {\n",
       "        vertical-align: top;\n",
       "    }\n",
       "\n",
       "    .dataframe thead th {\n",
       "        text-align: right;\n",
       "    }\n",
       "</style>\n",
       "<table border=\"1\" class=\"dataframe\">\n",
       "  <thead>\n",
       "    <tr style=\"text-align: right;\">\n",
       "      <th></th>\n",
       "      <th>index</th>\n",
       "      <th>Year</th>\n",
       "      <th>Daynum</th>\n",
       "      <th>Region</th>\n",
       "      <th>RegionNum</th>\n",
       "      <th>Team</th>\n",
       "      <th>Seed</th>\n",
       "      <th>Team_Position</th>\n",
       "      <th>Mapped_Round</th>\n",
       "      <th>Round</th>\n",
       "      <th>GameSlot</th>\n",
       "    </tr>\n",
       "  </thead>\n",
       "  <tbody>\n",
       "  </tbody>\n",
       "</table>\n",
       "</div>"
      ],
      "text/plain": [
       "Empty DataFrame\n",
       "Columns: [index, Year, Daynum, Region, RegionNum, Team, Seed, Team_Position, Mapped_Round, Round, GameSlot]\n",
       "Index: []"
      ]
     },
     "metadata": {},
     "output_type": "display_data"
    },
    {
     "data": {
      "text/plain": [
       "'X'"
      ]
     },
     "metadata": {},
     "output_type": "display_data"
    },
    {
     "data": {
      "text/html": [
       "<div>\n",
       "<style scoped>\n",
       "    .dataframe tbody tr th:only-of-type {\n",
       "        vertical-align: middle;\n",
       "    }\n",
       "\n",
       "    .dataframe tbody tr th {\n",
       "        vertical-align: top;\n",
       "    }\n",
       "\n",
       "    .dataframe thead th {\n",
       "        text-align: right;\n",
       "    }\n",
       "</style>\n",
       "<table border=\"1\" class=\"dataframe\">\n",
       "  <thead>\n",
       "    <tr style=\"text-align: right;\">\n",
       "      <th></th>\n",
       "      <th>index</th>\n",
       "      <th>Year</th>\n",
       "      <th>Daynum</th>\n",
       "      <th>Region</th>\n",
       "      <th>RegionNum</th>\n",
       "      <th>Team</th>\n",
       "      <th>Seed</th>\n",
       "      <th>Team_Position</th>\n",
       "      <th>Mapped_Round</th>\n",
       "      <th>Round</th>\n",
       "      <th>GameSlot</th>\n",
       "    </tr>\n",
       "  </thead>\n",
       "  <tbody>\n",
       "  </tbody>\n",
       "</table>\n",
       "</div>"
      ],
      "text/plain": [
       "Empty DataFrame\n",
       "Columns: [index, Year, Daynum, Region, RegionNum, Team, Seed, Team_Position, Mapped_Round, Round, GameSlot]\n",
       "Index: []"
      ]
     },
     "metadata": {},
     "output_type": "display_data"
    },
    {
     "name": "stdout",
     "output_type": "stream",
     "text": [
      "[]\n"
     ]
    },
    {
     "data": {
      "text/plain": [
       "'Y'"
      ]
     },
     "metadata": {},
     "output_type": "display_data"
    },
    {
     "data": {
      "text/html": [
       "<div>\n",
       "<style scoped>\n",
       "    .dataframe tbody tr th:only-of-type {\n",
       "        vertical-align: middle;\n",
       "    }\n",
       "\n",
       "    .dataframe tbody tr th {\n",
       "        vertical-align: top;\n",
       "    }\n",
       "\n",
       "    .dataframe thead th {\n",
       "        text-align: right;\n",
       "    }\n",
       "</style>\n",
       "<table border=\"1\" class=\"dataframe\">\n",
       "  <thead>\n",
       "    <tr style=\"text-align: right;\">\n",
       "      <th></th>\n",
       "      <th>index</th>\n",
       "      <th>Year</th>\n",
       "      <th>Daynum</th>\n",
       "      <th>Region</th>\n",
       "      <th>RegionNum</th>\n",
       "      <th>Team</th>\n",
       "      <th>Seed</th>\n",
       "      <th>Team_Position</th>\n",
       "      <th>Mapped_Round</th>\n",
       "      <th>Round</th>\n",
       "      <th>GameSlot</th>\n",
       "    </tr>\n",
       "  </thead>\n",
       "  <tbody>\n",
       "  </tbody>\n",
       "</table>\n",
       "</div>"
      ],
      "text/plain": [
       "Empty DataFrame\n",
       "Columns: [index, Year, Daynum, Region, RegionNum, Team, Seed, Team_Position, Mapped_Round, Round, GameSlot]\n",
       "Index: []"
      ]
     },
     "metadata": {},
     "output_type": "display_data"
    },
    {
     "data": {
      "text/plain": [
       "'Y'"
      ]
     },
     "metadata": {},
     "output_type": "display_data"
    },
    {
     "data": {
      "text/html": [
       "<div>\n",
       "<style scoped>\n",
       "    .dataframe tbody tr th:only-of-type {\n",
       "        vertical-align: middle;\n",
       "    }\n",
       "\n",
       "    .dataframe tbody tr th {\n",
       "        vertical-align: top;\n",
       "    }\n",
       "\n",
       "    .dataframe thead th {\n",
       "        text-align: right;\n",
       "    }\n",
       "</style>\n",
       "<table border=\"1\" class=\"dataframe\">\n",
       "  <thead>\n",
       "    <tr style=\"text-align: right;\">\n",
       "      <th></th>\n",
       "      <th>index</th>\n",
       "      <th>Year</th>\n",
       "      <th>Daynum</th>\n",
       "      <th>Region</th>\n",
       "      <th>RegionNum</th>\n",
       "      <th>Team</th>\n",
       "      <th>Seed</th>\n",
       "      <th>Team_Position</th>\n",
       "      <th>Mapped_Round</th>\n",
       "      <th>Round</th>\n",
       "      <th>GameSlot</th>\n",
       "    </tr>\n",
       "  </thead>\n",
       "  <tbody>\n",
       "  </tbody>\n",
       "</table>\n",
       "</div>"
      ],
      "text/plain": [
       "Empty DataFrame\n",
       "Columns: [index, Year, Daynum, Region, RegionNum, Team, Seed, Team_Position, Mapped_Round, Round, GameSlot]\n",
       "Index: []"
      ]
     },
     "metadata": {},
     "output_type": "display_data"
    },
    {
     "name": "stdout",
     "output_type": "stream",
     "text": [
      "[]\n"
     ]
    },
    {
     "data": {
      "text/plain": [
       "'Z'"
      ]
     },
     "metadata": {},
     "output_type": "display_data"
    },
    {
     "data": {
      "text/html": [
       "<div>\n",
       "<style scoped>\n",
       "    .dataframe tbody tr th:only-of-type {\n",
       "        vertical-align: middle;\n",
       "    }\n",
       "\n",
       "    .dataframe tbody tr th {\n",
       "        vertical-align: top;\n",
       "    }\n",
       "\n",
       "    .dataframe thead th {\n",
       "        text-align: right;\n",
       "    }\n",
       "</style>\n",
       "<table border=\"1\" class=\"dataframe\">\n",
       "  <thead>\n",
       "    <tr style=\"text-align: right;\">\n",
       "      <th></th>\n",
       "      <th>index</th>\n",
       "      <th>Year</th>\n",
       "      <th>Daynum</th>\n",
       "      <th>Region</th>\n",
       "      <th>RegionNum</th>\n",
       "      <th>Team</th>\n",
       "      <th>Seed</th>\n",
       "      <th>Team_Position</th>\n",
       "      <th>Mapped_Round</th>\n",
       "      <th>Round</th>\n",
       "      <th>GameSlot</th>\n",
       "    </tr>\n",
       "  </thead>\n",
       "  <tbody>\n",
       "  </tbody>\n",
       "</table>\n",
       "</div>"
      ],
      "text/plain": [
       "Empty DataFrame\n",
       "Columns: [index, Year, Daynum, Region, RegionNum, Team, Seed, Team_Position, Mapped_Round, Round, GameSlot]\n",
       "Index: []"
      ]
     },
     "metadata": {},
     "output_type": "display_data"
    },
    {
     "data": {
      "text/plain": [
       "'Z'"
      ]
     },
     "metadata": {},
     "output_type": "display_data"
    },
    {
     "data": {
      "text/html": [
       "<div>\n",
       "<style scoped>\n",
       "    .dataframe tbody tr th:only-of-type {\n",
       "        vertical-align: middle;\n",
       "    }\n",
       "\n",
       "    .dataframe tbody tr th {\n",
       "        vertical-align: top;\n",
       "    }\n",
       "\n",
       "    .dataframe thead th {\n",
       "        text-align: right;\n",
       "    }\n",
       "</style>\n",
       "<table border=\"1\" class=\"dataframe\">\n",
       "  <thead>\n",
       "    <tr style=\"text-align: right;\">\n",
       "      <th></th>\n",
       "      <th>index</th>\n",
       "      <th>Year</th>\n",
       "      <th>Daynum</th>\n",
       "      <th>Region</th>\n",
       "      <th>RegionNum</th>\n",
       "      <th>Team</th>\n",
       "      <th>Seed</th>\n",
       "      <th>Team_Position</th>\n",
       "      <th>Mapped_Round</th>\n",
       "      <th>Round</th>\n",
       "      <th>GameSlot</th>\n",
       "    </tr>\n",
       "  </thead>\n",
       "  <tbody>\n",
       "  </tbody>\n",
       "</table>\n",
       "</div>"
      ],
      "text/plain": [
       "Empty DataFrame\n",
       "Columns: [index, Year, Daynum, Region, RegionNum, Team, Seed, Team_Position, Mapped_Round, Round, GameSlot]\n",
       "Index: []"
      ]
     },
     "metadata": {},
     "output_type": "display_data"
    },
    {
     "name": "stdout",
     "output_type": "stream",
     "text": [
      "[1 2 3 4]\n",
      "2015 32\n",
      "['West' 'South' 'East' 'Midwest']\n"
     ]
    },
    {
     "data": {
      "text/plain": [
       "'W'"
      ]
     },
     "metadata": {},
     "output_type": "display_data"
    },
    {
     "data": {
      "text/html": [
       "<div>\n",
       "<style scoped>\n",
       "    .dataframe tbody tr th:only-of-type {\n",
       "        vertical-align: middle;\n",
       "    }\n",
       "\n",
       "    .dataframe tbody tr th {\n",
       "        vertical-align: top;\n",
       "    }\n",
       "\n",
       "    .dataframe thead th {\n",
       "        text-align: right;\n",
       "    }\n",
       "</style>\n",
       "<table border=\"1\" class=\"dataframe\">\n",
       "  <thead>\n",
       "    <tr style=\"text-align: right;\">\n",
       "      <th></th>\n",
       "      <th>index</th>\n",
       "      <th>Year</th>\n",
       "      <th>Daynum</th>\n",
       "      <th>Region</th>\n",
       "      <th>RegionNum</th>\n",
       "      <th>Team</th>\n",
       "      <th>Seed</th>\n",
       "      <th>Team_Position</th>\n",
       "      <th>Mapped_Round</th>\n",
       "      <th>Round</th>\n",
       "      <th>GameSlot</th>\n",
       "    </tr>\n",
       "  </thead>\n",
       "  <tbody>\n",
       "  </tbody>\n",
       "</table>\n",
       "</div>"
      ],
      "text/plain": [
       "Empty DataFrame\n",
       "Columns: [index, Year, Daynum, Region, RegionNum, Team, Seed, Team_Position, Mapped_Round, Round, GameSlot]\n",
       "Index: []"
      ]
     },
     "metadata": {},
     "output_type": "display_data"
    },
    {
     "data": {
      "text/plain": [
       "'W'"
      ]
     },
     "metadata": {},
     "output_type": "display_data"
    },
    {
     "data": {
      "text/html": [
       "<div>\n",
       "<style scoped>\n",
       "    .dataframe tbody tr th:only-of-type {\n",
       "        vertical-align: middle;\n",
       "    }\n",
       "\n",
       "    .dataframe tbody tr th {\n",
       "        vertical-align: top;\n",
       "    }\n",
       "\n",
       "    .dataframe thead th {\n",
       "        text-align: right;\n",
       "    }\n",
       "</style>\n",
       "<table border=\"1\" class=\"dataframe\">\n",
       "  <thead>\n",
       "    <tr style=\"text-align: right;\">\n",
       "      <th></th>\n",
       "      <th>index</th>\n",
       "      <th>Year</th>\n",
       "      <th>Daynum</th>\n",
       "      <th>Region</th>\n",
       "      <th>RegionNum</th>\n",
       "      <th>Team</th>\n",
       "      <th>Seed</th>\n",
       "      <th>Team_Position</th>\n",
       "      <th>Mapped_Round</th>\n",
       "      <th>Round</th>\n",
       "      <th>GameSlot</th>\n",
       "    </tr>\n",
       "  </thead>\n",
       "  <tbody>\n",
       "  </tbody>\n",
       "</table>\n",
       "</div>"
      ],
      "text/plain": [
       "Empty DataFrame\n",
       "Columns: [index, Year, Daynum, Region, RegionNum, Team, Seed, Team_Position, Mapped_Round, Round, GameSlot]\n",
       "Index: []"
      ]
     },
     "metadata": {},
     "output_type": "display_data"
    },
    {
     "name": "stdout",
     "output_type": "stream",
     "text": [
      "['West' 'South' 'East' 'Midwest']\n"
     ]
    },
    {
     "data": {
      "text/plain": [
       "'X'"
      ]
     },
     "metadata": {},
     "output_type": "display_data"
    },
    {
     "data": {
      "text/html": [
       "<div>\n",
       "<style scoped>\n",
       "    .dataframe tbody tr th:only-of-type {\n",
       "        vertical-align: middle;\n",
       "    }\n",
       "\n",
       "    .dataframe tbody tr th {\n",
       "        vertical-align: top;\n",
       "    }\n",
       "\n",
       "    .dataframe thead th {\n",
       "        text-align: right;\n",
       "    }\n",
       "</style>\n",
       "<table border=\"1\" class=\"dataframe\">\n",
       "  <thead>\n",
       "    <tr style=\"text-align: right;\">\n",
       "      <th></th>\n",
       "      <th>index</th>\n",
       "      <th>Year</th>\n",
       "      <th>Daynum</th>\n",
       "      <th>Region</th>\n",
       "      <th>RegionNum</th>\n",
       "      <th>Team</th>\n",
       "      <th>Seed</th>\n",
       "      <th>Team_Position</th>\n",
       "      <th>Mapped_Round</th>\n",
       "      <th>Round</th>\n",
       "      <th>GameSlot</th>\n",
       "    </tr>\n",
       "  </thead>\n",
       "  <tbody>\n",
       "  </tbody>\n",
       "</table>\n",
       "</div>"
      ],
      "text/plain": [
       "Empty DataFrame\n",
       "Columns: [index, Year, Daynum, Region, RegionNum, Team, Seed, Team_Position, Mapped_Round, Round, GameSlot]\n",
       "Index: []"
      ]
     },
     "metadata": {},
     "output_type": "display_data"
    },
    {
     "data": {
      "text/plain": [
       "'X'"
      ]
     },
     "metadata": {},
     "output_type": "display_data"
    },
    {
     "data": {
      "text/html": [
       "<div>\n",
       "<style scoped>\n",
       "    .dataframe tbody tr th:only-of-type {\n",
       "        vertical-align: middle;\n",
       "    }\n",
       "\n",
       "    .dataframe tbody tr th {\n",
       "        vertical-align: top;\n",
       "    }\n",
       "\n",
       "    .dataframe thead th {\n",
       "        text-align: right;\n",
       "    }\n",
       "</style>\n",
       "<table border=\"1\" class=\"dataframe\">\n",
       "  <thead>\n",
       "    <tr style=\"text-align: right;\">\n",
       "      <th></th>\n",
       "      <th>index</th>\n",
       "      <th>Year</th>\n",
       "      <th>Daynum</th>\n",
       "      <th>Region</th>\n",
       "      <th>RegionNum</th>\n",
       "      <th>Team</th>\n",
       "      <th>Seed</th>\n",
       "      <th>Team_Position</th>\n",
       "      <th>Mapped_Round</th>\n",
       "      <th>Round</th>\n",
       "      <th>GameSlot</th>\n",
       "    </tr>\n",
       "  </thead>\n",
       "  <tbody>\n",
       "  </tbody>\n",
       "</table>\n",
       "</div>"
      ],
      "text/plain": [
       "Empty DataFrame\n",
       "Columns: [index, Year, Daynum, Region, RegionNum, Team, Seed, Team_Position, Mapped_Round, Round, GameSlot]\n",
       "Index: []"
      ]
     },
     "metadata": {},
     "output_type": "display_data"
    },
    {
     "name": "stdout",
     "output_type": "stream",
     "text": [
      "['West' 'South' 'East' 'Midwest']\n"
     ]
    },
    {
     "data": {
      "text/plain": [
       "'Y'"
      ]
     },
     "metadata": {},
     "output_type": "display_data"
    },
    {
     "data": {
      "text/html": [
       "<div>\n",
       "<style scoped>\n",
       "    .dataframe tbody tr th:only-of-type {\n",
       "        vertical-align: middle;\n",
       "    }\n",
       "\n",
       "    .dataframe tbody tr th {\n",
       "        vertical-align: top;\n",
       "    }\n",
       "\n",
       "    .dataframe thead th {\n",
       "        text-align: right;\n",
       "    }\n",
       "</style>\n",
       "<table border=\"1\" class=\"dataframe\">\n",
       "  <thead>\n",
       "    <tr style=\"text-align: right;\">\n",
       "      <th></th>\n",
       "      <th>index</th>\n",
       "      <th>Year</th>\n",
       "      <th>Daynum</th>\n",
       "      <th>Region</th>\n",
       "      <th>RegionNum</th>\n",
       "      <th>Team</th>\n",
       "      <th>Seed</th>\n",
       "      <th>Team_Position</th>\n",
       "      <th>Mapped_Round</th>\n",
       "      <th>Round</th>\n",
       "      <th>GameSlot</th>\n",
       "    </tr>\n",
       "  </thead>\n",
       "  <tbody>\n",
       "  </tbody>\n",
       "</table>\n",
       "</div>"
      ],
      "text/plain": [
       "Empty DataFrame\n",
       "Columns: [index, Year, Daynum, Region, RegionNum, Team, Seed, Team_Position, Mapped_Round, Round, GameSlot]\n",
       "Index: []"
      ]
     },
     "metadata": {},
     "output_type": "display_data"
    },
    {
     "data": {
      "text/plain": [
       "'Y'"
      ]
     },
     "metadata": {},
     "output_type": "display_data"
    },
    {
     "data": {
      "text/html": [
       "<div>\n",
       "<style scoped>\n",
       "    .dataframe tbody tr th:only-of-type {\n",
       "        vertical-align: middle;\n",
       "    }\n",
       "\n",
       "    .dataframe tbody tr th {\n",
       "        vertical-align: top;\n",
       "    }\n",
       "\n",
       "    .dataframe thead th {\n",
       "        text-align: right;\n",
       "    }\n",
       "</style>\n",
       "<table border=\"1\" class=\"dataframe\">\n",
       "  <thead>\n",
       "    <tr style=\"text-align: right;\">\n",
       "      <th></th>\n",
       "      <th>index</th>\n",
       "      <th>Year</th>\n",
       "      <th>Daynum</th>\n",
       "      <th>Region</th>\n",
       "      <th>RegionNum</th>\n",
       "      <th>Team</th>\n",
       "      <th>Seed</th>\n",
       "      <th>Team_Position</th>\n",
       "      <th>Mapped_Round</th>\n",
       "      <th>Round</th>\n",
       "      <th>GameSlot</th>\n",
       "    </tr>\n",
       "  </thead>\n",
       "  <tbody>\n",
       "  </tbody>\n",
       "</table>\n",
       "</div>"
      ],
      "text/plain": [
       "Empty DataFrame\n",
       "Columns: [index, Year, Daynum, Region, RegionNum, Team, Seed, Team_Position, Mapped_Round, Round, GameSlot]\n",
       "Index: []"
      ]
     },
     "metadata": {},
     "output_type": "display_data"
    },
    {
     "name": "stdout",
     "output_type": "stream",
     "text": [
      "['West' 'South' 'East' 'Midwest']\n"
     ]
    },
    {
     "data": {
      "text/plain": [
       "'Z'"
      ]
     },
     "metadata": {},
     "output_type": "display_data"
    },
    {
     "data": {
      "text/html": [
       "<div>\n",
       "<style scoped>\n",
       "    .dataframe tbody tr th:only-of-type {\n",
       "        vertical-align: middle;\n",
       "    }\n",
       "\n",
       "    .dataframe tbody tr th {\n",
       "        vertical-align: top;\n",
       "    }\n",
       "\n",
       "    .dataframe thead th {\n",
       "        text-align: right;\n",
       "    }\n",
       "</style>\n",
       "<table border=\"1\" class=\"dataframe\">\n",
       "  <thead>\n",
       "    <tr style=\"text-align: right;\">\n",
       "      <th></th>\n",
       "      <th>index</th>\n",
       "      <th>Year</th>\n",
       "      <th>Daynum</th>\n",
       "      <th>Region</th>\n",
       "      <th>RegionNum</th>\n",
       "      <th>Team</th>\n",
       "      <th>Seed</th>\n",
       "      <th>Team_Position</th>\n",
       "      <th>Mapped_Round</th>\n",
       "      <th>Round</th>\n",
       "      <th>GameSlot</th>\n",
       "    </tr>\n",
       "  </thead>\n",
       "  <tbody>\n",
       "  </tbody>\n",
       "</table>\n",
       "</div>"
      ],
      "text/plain": [
       "Empty DataFrame\n",
       "Columns: [index, Year, Daynum, Region, RegionNum, Team, Seed, Team_Position, Mapped_Round, Round, GameSlot]\n",
       "Index: []"
      ]
     },
     "metadata": {},
     "output_type": "display_data"
    },
    {
     "data": {
      "text/plain": [
       "'Z'"
      ]
     },
     "metadata": {},
     "output_type": "display_data"
    },
    {
     "data": {
      "text/html": [
       "<div>\n",
       "<style scoped>\n",
       "    .dataframe tbody tr th:only-of-type {\n",
       "        vertical-align: middle;\n",
       "    }\n",
       "\n",
       "    .dataframe tbody tr th {\n",
       "        vertical-align: top;\n",
       "    }\n",
       "\n",
       "    .dataframe thead th {\n",
       "        text-align: right;\n",
       "    }\n",
       "</style>\n",
       "<table border=\"1\" class=\"dataframe\">\n",
       "  <thead>\n",
       "    <tr style=\"text-align: right;\">\n",
       "      <th></th>\n",
       "      <th>index</th>\n",
       "      <th>Year</th>\n",
       "      <th>Daynum</th>\n",
       "      <th>Region</th>\n",
       "      <th>RegionNum</th>\n",
       "      <th>Team</th>\n",
       "      <th>Seed</th>\n",
       "      <th>Team_Position</th>\n",
       "      <th>Mapped_Round</th>\n",
       "      <th>Round</th>\n",
       "      <th>GameSlot</th>\n",
       "    </tr>\n",
       "  </thead>\n",
       "  <tbody>\n",
       "  </tbody>\n",
       "</table>\n",
       "</div>"
      ],
      "text/plain": [
       "Empty DataFrame\n",
       "Columns: [index, Year, Daynum, Region, RegionNum, Team, Seed, Team_Position, Mapped_Round, Round, GameSlot]\n",
       "Index: []"
      ]
     },
     "metadata": {},
     "output_type": "display_data"
    },
    {
     "name": "stdout",
     "output_type": "stream",
     "text": [
      "[1 2 3 4]\n",
      "2016 32\n",
      "['Midwest' 'West' 'East']\n"
     ]
    },
    {
     "data": {
      "text/plain": [
       "'W'"
      ]
     },
     "metadata": {},
     "output_type": "display_data"
    },
    {
     "data": {
      "text/html": [
       "<div>\n",
       "<style scoped>\n",
       "    .dataframe tbody tr th:only-of-type {\n",
       "        vertical-align: middle;\n",
       "    }\n",
       "\n",
       "    .dataframe tbody tr th {\n",
       "        vertical-align: top;\n",
       "    }\n",
       "\n",
       "    .dataframe thead th {\n",
       "        text-align: right;\n",
       "    }\n",
       "</style>\n",
       "<table border=\"1\" class=\"dataframe\">\n",
       "  <thead>\n",
       "    <tr style=\"text-align: right;\">\n",
       "      <th></th>\n",
       "      <th>index</th>\n",
       "      <th>Year</th>\n",
       "      <th>Daynum</th>\n",
       "      <th>Region</th>\n",
       "      <th>RegionNum</th>\n",
       "      <th>Team</th>\n",
       "      <th>Seed</th>\n",
       "      <th>Team_Position</th>\n",
       "      <th>Mapped_Round</th>\n",
       "      <th>Round</th>\n",
       "      <th>GameSlot</th>\n",
       "    </tr>\n",
       "  </thead>\n",
       "  <tbody>\n",
       "  </tbody>\n",
       "</table>\n",
       "</div>"
      ],
      "text/plain": [
       "Empty DataFrame\n",
       "Columns: [index, Year, Daynum, Region, RegionNum, Team, Seed, Team_Position, Mapped_Round, Round, GameSlot]\n",
       "Index: []"
      ]
     },
     "metadata": {},
     "output_type": "display_data"
    },
    {
     "data": {
      "text/plain": [
       "'W'"
      ]
     },
     "metadata": {},
     "output_type": "display_data"
    },
    {
     "data": {
      "text/html": [
       "<div>\n",
       "<style scoped>\n",
       "    .dataframe tbody tr th:only-of-type {\n",
       "        vertical-align: middle;\n",
       "    }\n",
       "\n",
       "    .dataframe tbody tr th {\n",
       "        vertical-align: top;\n",
       "    }\n",
       "\n",
       "    .dataframe thead th {\n",
       "        text-align: right;\n",
       "    }\n",
       "</style>\n",
       "<table border=\"1\" class=\"dataframe\">\n",
       "  <thead>\n",
       "    <tr style=\"text-align: right;\">\n",
       "      <th></th>\n",
       "      <th>index</th>\n",
       "      <th>Year</th>\n",
       "      <th>Daynum</th>\n",
       "      <th>Region</th>\n",
       "      <th>RegionNum</th>\n",
       "      <th>Team</th>\n",
       "      <th>Seed</th>\n",
       "      <th>Team_Position</th>\n",
       "      <th>Mapped_Round</th>\n",
       "      <th>Round</th>\n",
       "      <th>GameSlot</th>\n",
       "    </tr>\n",
       "  </thead>\n",
       "  <tbody>\n",
       "  </tbody>\n",
       "</table>\n",
       "</div>"
      ],
      "text/plain": [
       "Empty DataFrame\n",
       "Columns: [index, Year, Daynum, Region, RegionNum, Team, Seed, Team_Position, Mapped_Round, Round, GameSlot]\n",
       "Index: []"
      ]
     },
     "metadata": {},
     "output_type": "display_data"
    },
    {
     "name": "stdout",
     "output_type": "stream",
     "text": [
      "['Midwest' 'West' 'East']\n"
     ]
    },
    {
     "data": {
      "text/plain": [
       "'X'"
      ]
     },
     "metadata": {},
     "output_type": "display_data"
    },
    {
     "data": {
      "text/html": [
       "<div>\n",
       "<style scoped>\n",
       "    .dataframe tbody tr th:only-of-type {\n",
       "        vertical-align: middle;\n",
       "    }\n",
       "\n",
       "    .dataframe tbody tr th {\n",
       "        vertical-align: top;\n",
       "    }\n",
       "\n",
       "    .dataframe thead th {\n",
       "        text-align: right;\n",
       "    }\n",
       "</style>\n",
       "<table border=\"1\" class=\"dataframe\">\n",
       "  <thead>\n",
       "    <tr style=\"text-align: right;\">\n",
       "      <th></th>\n",
       "      <th>index</th>\n",
       "      <th>Year</th>\n",
       "      <th>Daynum</th>\n",
       "      <th>Region</th>\n",
       "      <th>RegionNum</th>\n",
       "      <th>Team</th>\n",
       "      <th>Seed</th>\n",
       "      <th>Team_Position</th>\n",
       "      <th>Mapped_Round</th>\n",
       "      <th>Round</th>\n",
       "      <th>GameSlot</th>\n",
       "    </tr>\n",
       "  </thead>\n",
       "  <tbody>\n",
       "  </tbody>\n",
       "</table>\n",
       "</div>"
      ],
      "text/plain": [
       "Empty DataFrame\n",
       "Columns: [index, Year, Daynum, Region, RegionNum, Team, Seed, Team_Position, Mapped_Round, Round, GameSlot]\n",
       "Index: []"
      ]
     },
     "metadata": {},
     "output_type": "display_data"
    },
    {
     "data": {
      "text/plain": [
       "'X'"
      ]
     },
     "metadata": {},
     "output_type": "display_data"
    },
    {
     "data": {
      "text/html": [
       "<div>\n",
       "<style scoped>\n",
       "    .dataframe tbody tr th:only-of-type {\n",
       "        vertical-align: middle;\n",
       "    }\n",
       "\n",
       "    .dataframe tbody tr th {\n",
       "        vertical-align: top;\n",
       "    }\n",
       "\n",
       "    .dataframe thead th {\n",
       "        text-align: right;\n",
       "    }\n",
       "</style>\n",
       "<table border=\"1\" class=\"dataframe\">\n",
       "  <thead>\n",
       "    <tr style=\"text-align: right;\">\n",
       "      <th></th>\n",
       "      <th>index</th>\n",
       "      <th>Year</th>\n",
       "      <th>Daynum</th>\n",
       "      <th>Region</th>\n",
       "      <th>RegionNum</th>\n",
       "      <th>Team</th>\n",
       "      <th>Seed</th>\n",
       "      <th>Team_Position</th>\n",
       "      <th>Mapped_Round</th>\n",
       "      <th>Round</th>\n",
       "      <th>GameSlot</th>\n",
       "    </tr>\n",
       "  </thead>\n",
       "  <tbody>\n",
       "  </tbody>\n",
       "</table>\n",
       "</div>"
      ],
      "text/plain": [
       "Empty DataFrame\n",
       "Columns: [index, Year, Daynum, Region, RegionNum, Team, Seed, Team_Position, Mapped_Round, Round, GameSlot]\n",
       "Index: []"
      ]
     },
     "metadata": {},
     "output_type": "display_data"
    },
    {
     "name": "stdout",
     "output_type": "stream",
     "text": [
      "['Midwest' 'West' 'East']\n"
     ]
    },
    {
     "data": {
      "text/plain": [
       "'Y'"
      ]
     },
     "metadata": {},
     "output_type": "display_data"
    },
    {
     "data": {
      "text/html": [
       "<div>\n",
       "<style scoped>\n",
       "    .dataframe tbody tr th:only-of-type {\n",
       "        vertical-align: middle;\n",
       "    }\n",
       "\n",
       "    .dataframe tbody tr th {\n",
       "        vertical-align: top;\n",
       "    }\n",
       "\n",
       "    .dataframe thead th {\n",
       "        text-align: right;\n",
       "    }\n",
       "</style>\n",
       "<table border=\"1\" class=\"dataframe\">\n",
       "  <thead>\n",
       "    <tr style=\"text-align: right;\">\n",
       "      <th></th>\n",
       "      <th>index</th>\n",
       "      <th>Year</th>\n",
       "      <th>Daynum</th>\n",
       "      <th>Region</th>\n",
       "      <th>RegionNum</th>\n",
       "      <th>Team</th>\n",
       "      <th>Seed</th>\n",
       "      <th>Team_Position</th>\n",
       "      <th>Mapped_Round</th>\n",
       "      <th>Round</th>\n",
       "      <th>GameSlot</th>\n",
       "    </tr>\n",
       "  </thead>\n",
       "  <tbody>\n",
       "  </tbody>\n",
       "</table>\n",
       "</div>"
      ],
      "text/plain": [
       "Empty DataFrame\n",
       "Columns: [index, Year, Daynum, Region, RegionNum, Team, Seed, Team_Position, Mapped_Round, Round, GameSlot]\n",
       "Index: []"
      ]
     },
     "metadata": {},
     "output_type": "display_data"
    },
    {
     "data": {
      "text/plain": [
       "'Y'"
      ]
     },
     "metadata": {},
     "output_type": "display_data"
    },
    {
     "data": {
      "text/html": [
       "<div>\n",
       "<style scoped>\n",
       "    .dataframe tbody tr th:only-of-type {\n",
       "        vertical-align: middle;\n",
       "    }\n",
       "\n",
       "    .dataframe tbody tr th {\n",
       "        vertical-align: top;\n",
       "    }\n",
       "\n",
       "    .dataframe thead th {\n",
       "        text-align: right;\n",
       "    }\n",
       "</style>\n",
       "<table border=\"1\" class=\"dataframe\">\n",
       "  <thead>\n",
       "    <tr style=\"text-align: right;\">\n",
       "      <th></th>\n",
       "      <th>index</th>\n",
       "      <th>Year</th>\n",
       "      <th>Daynum</th>\n",
       "      <th>Region</th>\n",
       "      <th>RegionNum</th>\n",
       "      <th>Team</th>\n",
       "      <th>Seed</th>\n",
       "      <th>Team_Position</th>\n",
       "      <th>Mapped_Round</th>\n",
       "      <th>Round</th>\n",
       "      <th>GameSlot</th>\n",
       "    </tr>\n",
       "  </thead>\n",
       "  <tbody>\n",
       "  </tbody>\n",
       "</table>\n",
       "</div>"
      ],
      "text/plain": [
       "Empty DataFrame\n",
       "Columns: [index, Year, Daynum, Region, RegionNum, Team, Seed, Team_Position, Mapped_Round, Round, GameSlot]\n",
       "Index: []"
      ]
     },
     "metadata": {},
     "output_type": "display_data"
    },
    {
     "name": "stdout",
     "output_type": "stream",
     "text": [
      "['Midwest' 'West' 'East']\n"
     ]
    },
    {
     "data": {
      "text/plain": [
       "'Z'"
      ]
     },
     "metadata": {},
     "output_type": "display_data"
    },
    {
     "data": {
      "text/html": [
       "<div>\n",
       "<style scoped>\n",
       "    .dataframe tbody tr th:only-of-type {\n",
       "        vertical-align: middle;\n",
       "    }\n",
       "\n",
       "    .dataframe tbody tr th {\n",
       "        vertical-align: top;\n",
       "    }\n",
       "\n",
       "    .dataframe thead th {\n",
       "        text-align: right;\n",
       "    }\n",
       "</style>\n",
       "<table border=\"1\" class=\"dataframe\">\n",
       "  <thead>\n",
       "    <tr style=\"text-align: right;\">\n",
       "      <th></th>\n",
       "      <th>index</th>\n",
       "      <th>Year</th>\n",
       "      <th>Daynum</th>\n",
       "      <th>Region</th>\n",
       "      <th>RegionNum</th>\n",
       "      <th>Team</th>\n",
       "      <th>Seed</th>\n",
       "      <th>Team_Position</th>\n",
       "      <th>Mapped_Round</th>\n",
       "      <th>Round</th>\n",
       "      <th>GameSlot</th>\n",
       "    </tr>\n",
       "  </thead>\n",
       "  <tbody>\n",
       "  </tbody>\n",
       "</table>\n",
       "</div>"
      ],
      "text/plain": [
       "Empty DataFrame\n",
       "Columns: [index, Year, Daynum, Region, RegionNum, Team, Seed, Team_Position, Mapped_Round, Round, GameSlot]\n",
       "Index: []"
      ]
     },
     "metadata": {},
     "output_type": "display_data"
    },
    {
     "data": {
      "text/plain": [
       "'Z'"
      ]
     },
     "metadata": {},
     "output_type": "display_data"
    },
    {
     "data": {
      "text/html": [
       "<div>\n",
       "<style scoped>\n",
       "    .dataframe tbody tr th:only-of-type {\n",
       "        vertical-align: middle;\n",
       "    }\n",
       "\n",
       "    .dataframe tbody tr th {\n",
       "        vertical-align: top;\n",
       "    }\n",
       "\n",
       "    .dataframe thead th {\n",
       "        text-align: right;\n",
       "    }\n",
       "</style>\n",
       "<table border=\"1\" class=\"dataframe\">\n",
       "  <thead>\n",
       "    <tr style=\"text-align: right;\">\n",
       "      <th></th>\n",
       "      <th>index</th>\n",
       "      <th>Year</th>\n",
       "      <th>Daynum</th>\n",
       "      <th>Region</th>\n",
       "      <th>RegionNum</th>\n",
       "      <th>Team</th>\n",
       "      <th>Seed</th>\n",
       "      <th>Team_Position</th>\n",
       "      <th>Mapped_Round</th>\n",
       "      <th>Round</th>\n",
       "      <th>GameSlot</th>\n",
       "    </tr>\n",
       "  </thead>\n",
       "  <tbody>\n",
       "  </tbody>\n",
       "</table>\n",
       "</div>"
      ],
      "text/plain": [
       "Empty DataFrame\n",
       "Columns: [index, Year, Daynum, Region, RegionNum, Team, Seed, Team_Position, Mapped_Round, Round, GameSlot]\n",
       "Index: []"
      ]
     },
     "metadata": {},
     "output_type": "display_data"
    },
    {
     "name": "stdout",
     "output_type": "stream",
     "text": [
      "[1 2 3 4]\n",
      "2017 32\n",
      "['West' 'South' 'Midwest' 'East']\n"
     ]
    },
    {
     "data": {
      "text/plain": [
       "'W'"
      ]
     },
     "metadata": {},
     "output_type": "display_data"
    },
    {
     "data": {
      "text/html": [
       "<div>\n",
       "<style scoped>\n",
       "    .dataframe tbody tr th:only-of-type {\n",
       "        vertical-align: middle;\n",
       "    }\n",
       "\n",
       "    .dataframe tbody tr th {\n",
       "        vertical-align: top;\n",
       "    }\n",
       "\n",
       "    .dataframe thead th {\n",
       "        text-align: right;\n",
       "    }\n",
       "</style>\n",
       "<table border=\"1\" class=\"dataframe\">\n",
       "  <thead>\n",
       "    <tr style=\"text-align: right;\">\n",
       "      <th></th>\n",
       "      <th>index</th>\n",
       "      <th>Year</th>\n",
       "      <th>Daynum</th>\n",
       "      <th>Region</th>\n",
       "      <th>RegionNum</th>\n",
       "      <th>Team</th>\n",
       "      <th>Seed</th>\n",
       "      <th>Team_Position</th>\n",
       "      <th>Mapped_Round</th>\n",
       "      <th>Round</th>\n",
       "      <th>GameSlot</th>\n",
       "    </tr>\n",
       "  </thead>\n",
       "  <tbody>\n",
       "  </tbody>\n",
       "</table>\n",
       "</div>"
      ],
      "text/plain": [
       "Empty DataFrame\n",
       "Columns: [index, Year, Daynum, Region, RegionNum, Team, Seed, Team_Position, Mapped_Round, Round, GameSlot]\n",
       "Index: []"
      ]
     },
     "metadata": {},
     "output_type": "display_data"
    },
    {
     "data": {
      "text/plain": [
       "'W'"
      ]
     },
     "metadata": {},
     "output_type": "display_data"
    },
    {
     "data": {
      "text/html": [
       "<div>\n",
       "<style scoped>\n",
       "    .dataframe tbody tr th:only-of-type {\n",
       "        vertical-align: middle;\n",
       "    }\n",
       "\n",
       "    .dataframe tbody tr th {\n",
       "        vertical-align: top;\n",
       "    }\n",
       "\n",
       "    .dataframe thead th {\n",
       "        text-align: right;\n",
       "    }\n",
       "</style>\n",
       "<table border=\"1\" class=\"dataframe\">\n",
       "  <thead>\n",
       "    <tr style=\"text-align: right;\">\n",
       "      <th></th>\n",
       "      <th>index</th>\n",
       "      <th>Year</th>\n",
       "      <th>Daynum</th>\n",
       "      <th>Region</th>\n",
       "      <th>RegionNum</th>\n",
       "      <th>Team</th>\n",
       "      <th>Seed</th>\n",
       "      <th>Team_Position</th>\n",
       "      <th>Mapped_Round</th>\n",
       "      <th>Round</th>\n",
       "      <th>GameSlot</th>\n",
       "    </tr>\n",
       "  </thead>\n",
       "  <tbody>\n",
       "  </tbody>\n",
       "</table>\n",
       "</div>"
      ],
      "text/plain": [
       "Empty DataFrame\n",
       "Columns: [index, Year, Daynum, Region, RegionNum, Team, Seed, Team_Position, Mapped_Round, Round, GameSlot]\n",
       "Index: []"
      ]
     },
     "metadata": {},
     "output_type": "display_data"
    },
    {
     "name": "stdout",
     "output_type": "stream",
     "text": [
      "['West' 'South' 'Midwest' 'East']\n"
     ]
    },
    {
     "data": {
      "text/plain": [
       "'X'"
      ]
     },
     "metadata": {},
     "output_type": "display_data"
    },
    {
     "data": {
      "text/html": [
       "<div>\n",
       "<style scoped>\n",
       "    .dataframe tbody tr th:only-of-type {\n",
       "        vertical-align: middle;\n",
       "    }\n",
       "\n",
       "    .dataframe tbody tr th {\n",
       "        vertical-align: top;\n",
       "    }\n",
       "\n",
       "    .dataframe thead th {\n",
       "        text-align: right;\n",
       "    }\n",
       "</style>\n",
       "<table border=\"1\" class=\"dataframe\">\n",
       "  <thead>\n",
       "    <tr style=\"text-align: right;\">\n",
       "      <th></th>\n",
       "      <th>index</th>\n",
       "      <th>Year</th>\n",
       "      <th>Daynum</th>\n",
       "      <th>Region</th>\n",
       "      <th>RegionNum</th>\n",
       "      <th>Team</th>\n",
       "      <th>Seed</th>\n",
       "      <th>Team_Position</th>\n",
       "      <th>Mapped_Round</th>\n",
       "      <th>Round</th>\n",
       "      <th>GameSlot</th>\n",
       "    </tr>\n",
       "  </thead>\n",
       "  <tbody>\n",
       "  </tbody>\n",
       "</table>\n",
       "</div>"
      ],
      "text/plain": [
       "Empty DataFrame\n",
       "Columns: [index, Year, Daynum, Region, RegionNum, Team, Seed, Team_Position, Mapped_Round, Round, GameSlot]\n",
       "Index: []"
      ]
     },
     "metadata": {},
     "output_type": "display_data"
    },
    {
     "data": {
      "text/plain": [
       "'X'"
      ]
     },
     "metadata": {},
     "output_type": "display_data"
    },
    {
     "data": {
      "text/html": [
       "<div>\n",
       "<style scoped>\n",
       "    .dataframe tbody tr th:only-of-type {\n",
       "        vertical-align: middle;\n",
       "    }\n",
       "\n",
       "    .dataframe tbody tr th {\n",
       "        vertical-align: top;\n",
       "    }\n",
       "\n",
       "    .dataframe thead th {\n",
       "        text-align: right;\n",
       "    }\n",
       "</style>\n",
       "<table border=\"1\" class=\"dataframe\">\n",
       "  <thead>\n",
       "    <tr style=\"text-align: right;\">\n",
       "      <th></th>\n",
       "      <th>index</th>\n",
       "      <th>Year</th>\n",
       "      <th>Daynum</th>\n",
       "      <th>Region</th>\n",
       "      <th>RegionNum</th>\n",
       "      <th>Team</th>\n",
       "      <th>Seed</th>\n",
       "      <th>Team_Position</th>\n",
       "      <th>Mapped_Round</th>\n",
       "      <th>Round</th>\n",
       "      <th>GameSlot</th>\n",
       "    </tr>\n",
       "  </thead>\n",
       "  <tbody>\n",
       "  </tbody>\n",
       "</table>\n",
       "</div>"
      ],
      "text/plain": [
       "Empty DataFrame\n",
       "Columns: [index, Year, Daynum, Region, RegionNum, Team, Seed, Team_Position, Mapped_Round, Round, GameSlot]\n",
       "Index: []"
      ]
     },
     "metadata": {},
     "output_type": "display_data"
    },
    {
     "name": "stdout",
     "output_type": "stream",
     "text": [
      "['West' 'South' 'Midwest' 'East']\n"
     ]
    },
    {
     "data": {
      "text/plain": [
       "'Y'"
      ]
     },
     "metadata": {},
     "output_type": "display_data"
    },
    {
     "data": {
      "text/html": [
       "<div>\n",
       "<style scoped>\n",
       "    .dataframe tbody tr th:only-of-type {\n",
       "        vertical-align: middle;\n",
       "    }\n",
       "\n",
       "    .dataframe tbody tr th {\n",
       "        vertical-align: top;\n",
       "    }\n",
       "\n",
       "    .dataframe thead th {\n",
       "        text-align: right;\n",
       "    }\n",
       "</style>\n",
       "<table border=\"1\" class=\"dataframe\">\n",
       "  <thead>\n",
       "    <tr style=\"text-align: right;\">\n",
       "      <th></th>\n",
       "      <th>index</th>\n",
       "      <th>Year</th>\n",
       "      <th>Daynum</th>\n",
       "      <th>Region</th>\n",
       "      <th>RegionNum</th>\n",
       "      <th>Team</th>\n",
       "      <th>Seed</th>\n",
       "      <th>Team_Position</th>\n",
       "      <th>Mapped_Round</th>\n",
       "      <th>Round</th>\n",
       "      <th>GameSlot</th>\n",
       "    </tr>\n",
       "  </thead>\n",
       "  <tbody>\n",
       "  </tbody>\n",
       "</table>\n",
       "</div>"
      ],
      "text/plain": [
       "Empty DataFrame\n",
       "Columns: [index, Year, Daynum, Region, RegionNum, Team, Seed, Team_Position, Mapped_Round, Round, GameSlot]\n",
       "Index: []"
      ]
     },
     "metadata": {},
     "output_type": "display_data"
    },
    {
     "data": {
      "text/plain": [
       "'Y'"
      ]
     },
     "metadata": {},
     "output_type": "display_data"
    },
    {
     "data": {
      "text/html": [
       "<div>\n",
       "<style scoped>\n",
       "    .dataframe tbody tr th:only-of-type {\n",
       "        vertical-align: middle;\n",
       "    }\n",
       "\n",
       "    .dataframe tbody tr th {\n",
       "        vertical-align: top;\n",
       "    }\n",
       "\n",
       "    .dataframe thead th {\n",
       "        text-align: right;\n",
       "    }\n",
       "</style>\n",
       "<table border=\"1\" class=\"dataframe\">\n",
       "  <thead>\n",
       "    <tr style=\"text-align: right;\">\n",
       "      <th></th>\n",
       "      <th>index</th>\n",
       "      <th>Year</th>\n",
       "      <th>Daynum</th>\n",
       "      <th>Region</th>\n",
       "      <th>RegionNum</th>\n",
       "      <th>Team</th>\n",
       "      <th>Seed</th>\n",
       "      <th>Team_Position</th>\n",
       "      <th>Mapped_Round</th>\n",
       "      <th>Round</th>\n",
       "      <th>GameSlot</th>\n",
       "    </tr>\n",
       "  </thead>\n",
       "  <tbody>\n",
       "  </tbody>\n",
       "</table>\n",
       "</div>"
      ],
      "text/plain": [
       "Empty DataFrame\n",
       "Columns: [index, Year, Daynum, Region, RegionNum, Team, Seed, Team_Position, Mapped_Round, Round, GameSlot]\n",
       "Index: []"
      ]
     },
     "metadata": {},
     "output_type": "display_data"
    },
    {
     "name": "stdout",
     "output_type": "stream",
     "text": [
      "['West' 'South' 'Midwest' 'East']\n"
     ]
    },
    {
     "data": {
      "text/plain": [
       "'Z'"
      ]
     },
     "metadata": {},
     "output_type": "display_data"
    },
    {
     "data": {
      "text/html": [
       "<div>\n",
       "<style scoped>\n",
       "    .dataframe tbody tr th:only-of-type {\n",
       "        vertical-align: middle;\n",
       "    }\n",
       "\n",
       "    .dataframe tbody tr th {\n",
       "        vertical-align: top;\n",
       "    }\n",
       "\n",
       "    .dataframe thead th {\n",
       "        text-align: right;\n",
       "    }\n",
       "</style>\n",
       "<table border=\"1\" class=\"dataframe\">\n",
       "  <thead>\n",
       "    <tr style=\"text-align: right;\">\n",
       "      <th></th>\n",
       "      <th>index</th>\n",
       "      <th>Year</th>\n",
       "      <th>Daynum</th>\n",
       "      <th>Region</th>\n",
       "      <th>RegionNum</th>\n",
       "      <th>Team</th>\n",
       "      <th>Seed</th>\n",
       "      <th>Team_Position</th>\n",
       "      <th>Mapped_Round</th>\n",
       "      <th>Round</th>\n",
       "      <th>GameSlot</th>\n",
       "    </tr>\n",
       "  </thead>\n",
       "  <tbody>\n",
       "  </tbody>\n",
       "</table>\n",
       "</div>"
      ],
      "text/plain": [
       "Empty DataFrame\n",
       "Columns: [index, Year, Daynum, Region, RegionNum, Team, Seed, Team_Position, Mapped_Round, Round, GameSlot]\n",
       "Index: []"
      ]
     },
     "metadata": {},
     "output_type": "display_data"
    },
    {
     "data": {
      "text/plain": [
       "'Z'"
      ]
     },
     "metadata": {},
     "output_type": "display_data"
    },
    {
     "data": {
      "text/html": [
       "<div>\n",
       "<style scoped>\n",
       "    .dataframe tbody tr th:only-of-type {\n",
       "        vertical-align: middle;\n",
       "    }\n",
       "\n",
       "    .dataframe tbody tr th {\n",
       "        vertical-align: top;\n",
       "    }\n",
       "\n",
       "    .dataframe thead th {\n",
       "        text-align: right;\n",
       "    }\n",
       "</style>\n",
       "<table border=\"1\" class=\"dataframe\">\n",
       "  <thead>\n",
       "    <tr style=\"text-align: right;\">\n",
       "      <th></th>\n",
       "      <th>index</th>\n",
       "      <th>Year</th>\n",
       "      <th>Daynum</th>\n",
       "      <th>Region</th>\n",
       "      <th>RegionNum</th>\n",
       "      <th>Team</th>\n",
       "      <th>Seed</th>\n",
       "      <th>Team_Position</th>\n",
       "      <th>Mapped_Round</th>\n",
       "      <th>Round</th>\n",
       "      <th>GameSlot</th>\n",
       "    </tr>\n",
       "  </thead>\n",
       "  <tbody>\n",
       "  </tbody>\n",
       "</table>\n",
       "</div>"
      ],
      "text/plain": [
       "Empty DataFrame\n",
       "Columns: [index, Year, Daynum, Region, RegionNum, Team, Seed, Team_Position, Mapped_Round, Round, GameSlot]\n",
       "Index: []"
      ]
     },
     "metadata": {},
     "output_type": "display_data"
    },
    {
     "name": "stdout",
     "output_type": "stream",
     "text": [
      "[1 2 3 4]\n",
      "2018 32\n",
      "['Midwest' 'West' 'East' 'South']\n"
     ]
    },
    {
     "data": {
      "text/plain": [
       "'W'"
      ]
     },
     "metadata": {},
     "output_type": "display_data"
    },
    {
     "data": {
      "text/html": [
       "<div>\n",
       "<style scoped>\n",
       "    .dataframe tbody tr th:only-of-type {\n",
       "        vertical-align: middle;\n",
       "    }\n",
       "\n",
       "    .dataframe tbody tr th {\n",
       "        vertical-align: top;\n",
       "    }\n",
       "\n",
       "    .dataframe thead th {\n",
       "        text-align: right;\n",
       "    }\n",
       "</style>\n",
       "<table border=\"1\" class=\"dataframe\">\n",
       "  <thead>\n",
       "    <tr style=\"text-align: right;\">\n",
       "      <th></th>\n",
       "      <th>index</th>\n",
       "      <th>Year</th>\n",
       "      <th>Daynum</th>\n",
       "      <th>Region</th>\n",
       "      <th>RegionNum</th>\n",
       "      <th>Team</th>\n",
       "      <th>Seed</th>\n",
       "      <th>Team_Position</th>\n",
       "      <th>Mapped_Round</th>\n",
       "      <th>Round</th>\n",
       "      <th>GameSlot</th>\n",
       "    </tr>\n",
       "  </thead>\n",
       "  <tbody>\n",
       "  </tbody>\n",
       "</table>\n",
       "</div>"
      ],
      "text/plain": [
       "Empty DataFrame\n",
       "Columns: [index, Year, Daynum, Region, RegionNum, Team, Seed, Team_Position, Mapped_Round, Round, GameSlot]\n",
       "Index: []"
      ]
     },
     "metadata": {},
     "output_type": "display_data"
    },
    {
     "data": {
      "text/plain": [
       "'W'"
      ]
     },
     "metadata": {},
     "output_type": "display_data"
    },
    {
     "data": {
      "text/html": [
       "<div>\n",
       "<style scoped>\n",
       "    .dataframe tbody tr th:only-of-type {\n",
       "        vertical-align: middle;\n",
       "    }\n",
       "\n",
       "    .dataframe tbody tr th {\n",
       "        vertical-align: top;\n",
       "    }\n",
       "\n",
       "    .dataframe thead th {\n",
       "        text-align: right;\n",
       "    }\n",
       "</style>\n",
       "<table border=\"1\" class=\"dataframe\">\n",
       "  <thead>\n",
       "    <tr style=\"text-align: right;\">\n",
       "      <th></th>\n",
       "      <th>index</th>\n",
       "      <th>Year</th>\n",
       "      <th>Daynum</th>\n",
       "      <th>Region</th>\n",
       "      <th>RegionNum</th>\n",
       "      <th>Team</th>\n",
       "      <th>Seed</th>\n",
       "      <th>Team_Position</th>\n",
       "      <th>Mapped_Round</th>\n",
       "      <th>Round</th>\n",
       "      <th>GameSlot</th>\n",
       "    </tr>\n",
       "  </thead>\n",
       "  <tbody>\n",
       "  </tbody>\n",
       "</table>\n",
       "</div>"
      ],
      "text/plain": [
       "Empty DataFrame\n",
       "Columns: [index, Year, Daynum, Region, RegionNum, Team, Seed, Team_Position, Mapped_Round, Round, GameSlot]\n",
       "Index: []"
      ]
     },
     "metadata": {},
     "output_type": "display_data"
    },
    {
     "name": "stdout",
     "output_type": "stream",
     "text": [
      "['Midwest' 'West' 'East' 'South']\n"
     ]
    },
    {
     "data": {
      "text/plain": [
       "'X'"
      ]
     },
     "metadata": {},
     "output_type": "display_data"
    },
    {
     "data": {
      "text/html": [
       "<div>\n",
       "<style scoped>\n",
       "    .dataframe tbody tr th:only-of-type {\n",
       "        vertical-align: middle;\n",
       "    }\n",
       "\n",
       "    .dataframe tbody tr th {\n",
       "        vertical-align: top;\n",
       "    }\n",
       "\n",
       "    .dataframe thead th {\n",
       "        text-align: right;\n",
       "    }\n",
       "</style>\n",
       "<table border=\"1\" class=\"dataframe\">\n",
       "  <thead>\n",
       "    <tr style=\"text-align: right;\">\n",
       "      <th></th>\n",
       "      <th>index</th>\n",
       "      <th>Year</th>\n",
       "      <th>Daynum</th>\n",
       "      <th>Region</th>\n",
       "      <th>RegionNum</th>\n",
       "      <th>Team</th>\n",
       "      <th>Seed</th>\n",
       "      <th>Team_Position</th>\n",
       "      <th>Mapped_Round</th>\n",
       "      <th>Round</th>\n",
       "      <th>GameSlot</th>\n",
       "    </tr>\n",
       "  </thead>\n",
       "  <tbody>\n",
       "  </tbody>\n",
       "</table>\n",
       "</div>"
      ],
      "text/plain": [
       "Empty DataFrame\n",
       "Columns: [index, Year, Daynum, Region, RegionNum, Team, Seed, Team_Position, Mapped_Round, Round, GameSlot]\n",
       "Index: []"
      ]
     },
     "metadata": {},
     "output_type": "display_data"
    },
    {
     "data": {
      "text/plain": [
       "'X'"
      ]
     },
     "metadata": {},
     "output_type": "display_data"
    },
    {
     "data": {
      "text/html": [
       "<div>\n",
       "<style scoped>\n",
       "    .dataframe tbody tr th:only-of-type {\n",
       "        vertical-align: middle;\n",
       "    }\n",
       "\n",
       "    .dataframe tbody tr th {\n",
       "        vertical-align: top;\n",
       "    }\n",
       "\n",
       "    .dataframe thead th {\n",
       "        text-align: right;\n",
       "    }\n",
       "</style>\n",
       "<table border=\"1\" class=\"dataframe\">\n",
       "  <thead>\n",
       "    <tr style=\"text-align: right;\">\n",
       "      <th></th>\n",
       "      <th>index</th>\n",
       "      <th>Year</th>\n",
       "      <th>Daynum</th>\n",
       "      <th>Region</th>\n",
       "      <th>RegionNum</th>\n",
       "      <th>Team</th>\n",
       "      <th>Seed</th>\n",
       "      <th>Team_Position</th>\n",
       "      <th>Mapped_Round</th>\n",
       "      <th>Round</th>\n",
       "      <th>GameSlot</th>\n",
       "    </tr>\n",
       "  </thead>\n",
       "  <tbody>\n",
       "  </tbody>\n",
       "</table>\n",
       "</div>"
      ],
      "text/plain": [
       "Empty DataFrame\n",
       "Columns: [index, Year, Daynum, Region, RegionNum, Team, Seed, Team_Position, Mapped_Round, Round, GameSlot]\n",
       "Index: []"
      ]
     },
     "metadata": {},
     "output_type": "display_data"
    },
    {
     "name": "stdout",
     "output_type": "stream",
     "text": [
      "['Midwest' 'West' 'East' 'South']\n"
     ]
    },
    {
     "data": {
      "text/plain": [
       "'Y'"
      ]
     },
     "metadata": {},
     "output_type": "display_data"
    },
    {
     "data": {
      "text/html": [
       "<div>\n",
       "<style scoped>\n",
       "    .dataframe tbody tr th:only-of-type {\n",
       "        vertical-align: middle;\n",
       "    }\n",
       "\n",
       "    .dataframe tbody tr th {\n",
       "        vertical-align: top;\n",
       "    }\n",
       "\n",
       "    .dataframe thead th {\n",
       "        text-align: right;\n",
       "    }\n",
       "</style>\n",
       "<table border=\"1\" class=\"dataframe\">\n",
       "  <thead>\n",
       "    <tr style=\"text-align: right;\">\n",
       "      <th></th>\n",
       "      <th>index</th>\n",
       "      <th>Year</th>\n",
       "      <th>Daynum</th>\n",
       "      <th>Region</th>\n",
       "      <th>RegionNum</th>\n",
       "      <th>Team</th>\n",
       "      <th>Seed</th>\n",
       "      <th>Team_Position</th>\n",
       "      <th>Mapped_Round</th>\n",
       "      <th>Round</th>\n",
       "      <th>GameSlot</th>\n",
       "    </tr>\n",
       "  </thead>\n",
       "  <tbody>\n",
       "  </tbody>\n",
       "</table>\n",
       "</div>"
      ],
      "text/plain": [
       "Empty DataFrame\n",
       "Columns: [index, Year, Daynum, Region, RegionNum, Team, Seed, Team_Position, Mapped_Round, Round, GameSlot]\n",
       "Index: []"
      ]
     },
     "metadata": {},
     "output_type": "display_data"
    },
    {
     "data": {
      "text/plain": [
       "'Y'"
      ]
     },
     "metadata": {},
     "output_type": "display_data"
    },
    {
     "data": {
      "text/html": [
       "<div>\n",
       "<style scoped>\n",
       "    .dataframe tbody tr th:only-of-type {\n",
       "        vertical-align: middle;\n",
       "    }\n",
       "\n",
       "    .dataframe tbody tr th {\n",
       "        vertical-align: top;\n",
       "    }\n",
       "\n",
       "    .dataframe thead th {\n",
       "        text-align: right;\n",
       "    }\n",
       "</style>\n",
       "<table border=\"1\" class=\"dataframe\">\n",
       "  <thead>\n",
       "    <tr style=\"text-align: right;\">\n",
       "      <th></th>\n",
       "      <th>index</th>\n",
       "      <th>Year</th>\n",
       "      <th>Daynum</th>\n",
       "      <th>Region</th>\n",
       "      <th>RegionNum</th>\n",
       "      <th>Team</th>\n",
       "      <th>Seed</th>\n",
       "      <th>Team_Position</th>\n",
       "      <th>Mapped_Round</th>\n",
       "      <th>Round</th>\n",
       "      <th>GameSlot</th>\n",
       "    </tr>\n",
       "  </thead>\n",
       "  <tbody>\n",
       "  </tbody>\n",
       "</table>\n",
       "</div>"
      ],
      "text/plain": [
       "Empty DataFrame\n",
       "Columns: [index, Year, Daynum, Region, RegionNum, Team, Seed, Team_Position, Mapped_Round, Round, GameSlot]\n",
       "Index: []"
      ]
     },
     "metadata": {},
     "output_type": "display_data"
    },
    {
     "name": "stdout",
     "output_type": "stream",
     "text": [
      "['Midwest' 'West' 'East' 'South']\n"
     ]
    },
    {
     "data": {
      "text/plain": [
       "'Z'"
      ]
     },
     "metadata": {},
     "output_type": "display_data"
    },
    {
     "data": {
      "text/html": [
       "<div>\n",
       "<style scoped>\n",
       "    .dataframe tbody tr th:only-of-type {\n",
       "        vertical-align: middle;\n",
       "    }\n",
       "\n",
       "    .dataframe tbody tr th {\n",
       "        vertical-align: top;\n",
       "    }\n",
       "\n",
       "    .dataframe thead th {\n",
       "        text-align: right;\n",
       "    }\n",
       "</style>\n",
       "<table border=\"1\" class=\"dataframe\">\n",
       "  <thead>\n",
       "    <tr style=\"text-align: right;\">\n",
       "      <th></th>\n",
       "      <th>index</th>\n",
       "      <th>Year</th>\n",
       "      <th>Daynum</th>\n",
       "      <th>Region</th>\n",
       "      <th>RegionNum</th>\n",
       "      <th>Team</th>\n",
       "      <th>Seed</th>\n",
       "      <th>Team_Position</th>\n",
       "      <th>Mapped_Round</th>\n",
       "      <th>Round</th>\n",
       "      <th>GameSlot</th>\n",
       "    </tr>\n",
       "  </thead>\n",
       "  <tbody>\n",
       "  </tbody>\n",
       "</table>\n",
       "</div>"
      ],
      "text/plain": [
       "Empty DataFrame\n",
       "Columns: [index, Year, Daynum, Region, RegionNum, Team, Seed, Team_Position, Mapped_Round, Round, GameSlot]\n",
       "Index: []"
      ]
     },
     "metadata": {},
     "output_type": "display_data"
    },
    {
     "data": {
      "text/plain": [
       "'Z'"
      ]
     },
     "metadata": {},
     "output_type": "display_data"
    },
    {
     "data": {
      "text/html": [
       "<div>\n",
       "<style scoped>\n",
       "    .dataframe tbody tr th:only-of-type {\n",
       "        vertical-align: middle;\n",
       "    }\n",
       "\n",
       "    .dataframe tbody tr th {\n",
       "        vertical-align: top;\n",
       "    }\n",
       "\n",
       "    .dataframe thead th {\n",
       "        text-align: right;\n",
       "    }\n",
       "</style>\n",
       "<table border=\"1\" class=\"dataframe\">\n",
       "  <thead>\n",
       "    <tr style=\"text-align: right;\">\n",
       "      <th></th>\n",
       "      <th>index</th>\n",
       "      <th>Year</th>\n",
       "      <th>Daynum</th>\n",
       "      <th>Region</th>\n",
       "      <th>RegionNum</th>\n",
       "      <th>Team</th>\n",
       "      <th>Seed</th>\n",
       "      <th>Team_Position</th>\n",
       "      <th>Mapped_Round</th>\n",
       "      <th>Round</th>\n",
       "      <th>GameSlot</th>\n",
       "    </tr>\n",
       "  </thead>\n",
       "  <tbody>\n",
       "  </tbody>\n",
       "</table>\n",
       "</div>"
      ],
      "text/plain": [
       "Empty DataFrame\n",
       "Columns: [index, Year, Daynum, Region, RegionNum, Team, Seed, Team_Position, Mapped_Round, Round, GameSlot]\n",
       "Index: []"
      ]
     },
     "metadata": {},
     "output_type": "display_data"
    },
    {
     "name": "stdout",
     "output_type": "stream",
     "text": [
      "[1 2 3 4]\n",
      "2019 32\n",
      "['East' 'West' 'South' 'Midwest']\n"
     ]
    },
    {
     "data": {
      "text/plain": [
       "'W'"
      ]
     },
     "metadata": {},
     "output_type": "display_data"
    },
    {
     "data": {
      "text/html": [
       "<div>\n",
       "<style scoped>\n",
       "    .dataframe tbody tr th:only-of-type {\n",
       "        vertical-align: middle;\n",
       "    }\n",
       "\n",
       "    .dataframe tbody tr th {\n",
       "        vertical-align: top;\n",
       "    }\n",
       "\n",
       "    .dataframe thead th {\n",
       "        text-align: right;\n",
       "    }\n",
       "</style>\n",
       "<table border=\"1\" class=\"dataframe\">\n",
       "  <thead>\n",
       "    <tr style=\"text-align: right;\">\n",
       "      <th></th>\n",
       "      <th>index</th>\n",
       "      <th>Year</th>\n",
       "      <th>Daynum</th>\n",
       "      <th>Region</th>\n",
       "      <th>RegionNum</th>\n",
       "      <th>Team</th>\n",
       "      <th>Seed</th>\n",
       "      <th>Team_Position</th>\n",
       "      <th>Mapped_Round</th>\n",
       "      <th>Round</th>\n",
       "      <th>GameSlot</th>\n",
       "    </tr>\n",
       "  </thead>\n",
       "  <tbody>\n",
       "  </tbody>\n",
       "</table>\n",
       "</div>"
      ],
      "text/plain": [
       "Empty DataFrame\n",
       "Columns: [index, Year, Daynum, Region, RegionNum, Team, Seed, Team_Position, Mapped_Round, Round, GameSlot]\n",
       "Index: []"
      ]
     },
     "metadata": {},
     "output_type": "display_data"
    },
    {
     "data": {
      "text/plain": [
       "'W'"
      ]
     },
     "metadata": {},
     "output_type": "display_data"
    },
    {
     "data": {
      "text/html": [
       "<div>\n",
       "<style scoped>\n",
       "    .dataframe tbody tr th:only-of-type {\n",
       "        vertical-align: middle;\n",
       "    }\n",
       "\n",
       "    .dataframe tbody tr th {\n",
       "        vertical-align: top;\n",
       "    }\n",
       "\n",
       "    .dataframe thead th {\n",
       "        text-align: right;\n",
       "    }\n",
       "</style>\n",
       "<table border=\"1\" class=\"dataframe\">\n",
       "  <thead>\n",
       "    <tr style=\"text-align: right;\">\n",
       "      <th></th>\n",
       "      <th>index</th>\n",
       "      <th>Year</th>\n",
       "      <th>Daynum</th>\n",
       "      <th>Region</th>\n",
       "      <th>RegionNum</th>\n",
       "      <th>Team</th>\n",
       "      <th>Seed</th>\n",
       "      <th>Team_Position</th>\n",
       "      <th>Mapped_Round</th>\n",
       "      <th>Round</th>\n",
       "      <th>GameSlot</th>\n",
       "    </tr>\n",
       "  </thead>\n",
       "  <tbody>\n",
       "  </tbody>\n",
       "</table>\n",
       "</div>"
      ],
      "text/plain": [
       "Empty DataFrame\n",
       "Columns: [index, Year, Daynum, Region, RegionNum, Team, Seed, Team_Position, Mapped_Round, Round, GameSlot]\n",
       "Index: []"
      ]
     },
     "metadata": {},
     "output_type": "display_data"
    },
    {
     "name": "stdout",
     "output_type": "stream",
     "text": [
      "['East' 'West' 'South' 'Midwest']\n"
     ]
    },
    {
     "data": {
      "text/plain": [
       "'X'"
      ]
     },
     "metadata": {},
     "output_type": "display_data"
    },
    {
     "data": {
      "text/html": [
       "<div>\n",
       "<style scoped>\n",
       "    .dataframe tbody tr th:only-of-type {\n",
       "        vertical-align: middle;\n",
       "    }\n",
       "\n",
       "    .dataframe tbody tr th {\n",
       "        vertical-align: top;\n",
       "    }\n",
       "\n",
       "    .dataframe thead th {\n",
       "        text-align: right;\n",
       "    }\n",
       "</style>\n",
       "<table border=\"1\" class=\"dataframe\">\n",
       "  <thead>\n",
       "    <tr style=\"text-align: right;\">\n",
       "      <th></th>\n",
       "      <th>index</th>\n",
       "      <th>Year</th>\n",
       "      <th>Daynum</th>\n",
       "      <th>Region</th>\n",
       "      <th>RegionNum</th>\n",
       "      <th>Team</th>\n",
       "      <th>Seed</th>\n",
       "      <th>Team_Position</th>\n",
       "      <th>Mapped_Round</th>\n",
       "      <th>Round</th>\n",
       "      <th>GameSlot</th>\n",
       "    </tr>\n",
       "  </thead>\n",
       "  <tbody>\n",
       "  </tbody>\n",
       "</table>\n",
       "</div>"
      ],
      "text/plain": [
       "Empty DataFrame\n",
       "Columns: [index, Year, Daynum, Region, RegionNum, Team, Seed, Team_Position, Mapped_Round, Round, GameSlot]\n",
       "Index: []"
      ]
     },
     "metadata": {},
     "output_type": "display_data"
    },
    {
     "data": {
      "text/plain": [
       "'X'"
      ]
     },
     "metadata": {},
     "output_type": "display_data"
    },
    {
     "data": {
      "text/html": [
       "<div>\n",
       "<style scoped>\n",
       "    .dataframe tbody tr th:only-of-type {\n",
       "        vertical-align: middle;\n",
       "    }\n",
       "\n",
       "    .dataframe tbody tr th {\n",
       "        vertical-align: top;\n",
       "    }\n",
       "\n",
       "    .dataframe thead th {\n",
       "        text-align: right;\n",
       "    }\n",
       "</style>\n",
       "<table border=\"1\" class=\"dataframe\">\n",
       "  <thead>\n",
       "    <tr style=\"text-align: right;\">\n",
       "      <th></th>\n",
       "      <th>index</th>\n",
       "      <th>Year</th>\n",
       "      <th>Daynum</th>\n",
       "      <th>Region</th>\n",
       "      <th>RegionNum</th>\n",
       "      <th>Team</th>\n",
       "      <th>Seed</th>\n",
       "      <th>Team_Position</th>\n",
       "      <th>Mapped_Round</th>\n",
       "      <th>Round</th>\n",
       "      <th>GameSlot</th>\n",
       "    </tr>\n",
       "  </thead>\n",
       "  <tbody>\n",
       "  </tbody>\n",
       "</table>\n",
       "</div>"
      ],
      "text/plain": [
       "Empty DataFrame\n",
       "Columns: [index, Year, Daynum, Region, RegionNum, Team, Seed, Team_Position, Mapped_Round, Round, GameSlot]\n",
       "Index: []"
      ]
     },
     "metadata": {},
     "output_type": "display_data"
    },
    {
     "name": "stdout",
     "output_type": "stream",
     "text": [
      "['East' 'West' 'South' 'Midwest']\n"
     ]
    },
    {
     "data": {
      "text/plain": [
       "'Y'"
      ]
     },
     "metadata": {},
     "output_type": "display_data"
    },
    {
     "data": {
      "text/html": [
       "<div>\n",
       "<style scoped>\n",
       "    .dataframe tbody tr th:only-of-type {\n",
       "        vertical-align: middle;\n",
       "    }\n",
       "\n",
       "    .dataframe tbody tr th {\n",
       "        vertical-align: top;\n",
       "    }\n",
       "\n",
       "    .dataframe thead th {\n",
       "        text-align: right;\n",
       "    }\n",
       "</style>\n",
       "<table border=\"1\" class=\"dataframe\">\n",
       "  <thead>\n",
       "    <tr style=\"text-align: right;\">\n",
       "      <th></th>\n",
       "      <th>index</th>\n",
       "      <th>Year</th>\n",
       "      <th>Daynum</th>\n",
       "      <th>Region</th>\n",
       "      <th>RegionNum</th>\n",
       "      <th>Team</th>\n",
       "      <th>Seed</th>\n",
       "      <th>Team_Position</th>\n",
       "      <th>Mapped_Round</th>\n",
       "      <th>Round</th>\n",
       "      <th>GameSlot</th>\n",
       "    </tr>\n",
       "  </thead>\n",
       "  <tbody>\n",
       "  </tbody>\n",
       "</table>\n",
       "</div>"
      ],
      "text/plain": [
       "Empty DataFrame\n",
       "Columns: [index, Year, Daynum, Region, RegionNum, Team, Seed, Team_Position, Mapped_Round, Round, GameSlot]\n",
       "Index: []"
      ]
     },
     "metadata": {},
     "output_type": "display_data"
    },
    {
     "data": {
      "text/plain": [
       "'Y'"
      ]
     },
     "metadata": {},
     "output_type": "display_data"
    },
    {
     "data": {
      "text/html": [
       "<div>\n",
       "<style scoped>\n",
       "    .dataframe tbody tr th:only-of-type {\n",
       "        vertical-align: middle;\n",
       "    }\n",
       "\n",
       "    .dataframe tbody tr th {\n",
       "        vertical-align: top;\n",
       "    }\n",
       "\n",
       "    .dataframe thead th {\n",
       "        text-align: right;\n",
       "    }\n",
       "</style>\n",
       "<table border=\"1\" class=\"dataframe\">\n",
       "  <thead>\n",
       "    <tr style=\"text-align: right;\">\n",
       "      <th></th>\n",
       "      <th>index</th>\n",
       "      <th>Year</th>\n",
       "      <th>Daynum</th>\n",
       "      <th>Region</th>\n",
       "      <th>RegionNum</th>\n",
       "      <th>Team</th>\n",
       "      <th>Seed</th>\n",
       "      <th>Team_Position</th>\n",
       "      <th>Mapped_Round</th>\n",
       "      <th>Round</th>\n",
       "      <th>GameSlot</th>\n",
       "    </tr>\n",
       "  </thead>\n",
       "  <tbody>\n",
       "  </tbody>\n",
       "</table>\n",
       "</div>"
      ],
      "text/plain": [
       "Empty DataFrame\n",
       "Columns: [index, Year, Daynum, Region, RegionNum, Team, Seed, Team_Position, Mapped_Round, Round, GameSlot]\n",
       "Index: []"
      ]
     },
     "metadata": {},
     "output_type": "display_data"
    },
    {
     "name": "stdout",
     "output_type": "stream",
     "text": [
      "['East' 'West' 'South' 'Midwest']\n"
     ]
    },
    {
     "data": {
      "text/plain": [
       "'Z'"
      ]
     },
     "metadata": {},
     "output_type": "display_data"
    },
    {
     "data": {
      "text/html": [
       "<div>\n",
       "<style scoped>\n",
       "    .dataframe tbody tr th:only-of-type {\n",
       "        vertical-align: middle;\n",
       "    }\n",
       "\n",
       "    .dataframe tbody tr th {\n",
       "        vertical-align: top;\n",
       "    }\n",
       "\n",
       "    .dataframe thead th {\n",
       "        text-align: right;\n",
       "    }\n",
       "</style>\n",
       "<table border=\"1\" class=\"dataframe\">\n",
       "  <thead>\n",
       "    <tr style=\"text-align: right;\">\n",
       "      <th></th>\n",
       "      <th>index</th>\n",
       "      <th>Year</th>\n",
       "      <th>Daynum</th>\n",
       "      <th>Region</th>\n",
       "      <th>RegionNum</th>\n",
       "      <th>Team</th>\n",
       "      <th>Seed</th>\n",
       "      <th>Team_Position</th>\n",
       "      <th>Mapped_Round</th>\n",
       "      <th>Round</th>\n",
       "      <th>GameSlot</th>\n",
       "    </tr>\n",
       "  </thead>\n",
       "  <tbody>\n",
       "  </tbody>\n",
       "</table>\n",
       "</div>"
      ],
      "text/plain": [
       "Empty DataFrame\n",
       "Columns: [index, Year, Daynum, Region, RegionNum, Team, Seed, Team_Position, Mapped_Round, Round, GameSlot]\n",
       "Index: []"
      ]
     },
     "metadata": {},
     "output_type": "display_data"
    },
    {
     "data": {
      "text/plain": [
       "'Z'"
      ]
     },
     "metadata": {},
     "output_type": "display_data"
    },
    {
     "data": {
      "text/html": [
       "<div>\n",
       "<style scoped>\n",
       "    .dataframe tbody tr th:only-of-type {\n",
       "        vertical-align: middle;\n",
       "    }\n",
       "\n",
       "    .dataframe tbody tr th {\n",
       "        vertical-align: top;\n",
       "    }\n",
       "\n",
       "    .dataframe thead th {\n",
       "        text-align: right;\n",
       "    }\n",
       "</style>\n",
       "<table border=\"1\" class=\"dataframe\">\n",
       "  <thead>\n",
       "    <tr style=\"text-align: right;\">\n",
       "      <th></th>\n",
       "      <th>index</th>\n",
       "      <th>Year</th>\n",
       "      <th>Daynum</th>\n",
       "      <th>Region</th>\n",
       "      <th>RegionNum</th>\n",
       "      <th>Team</th>\n",
       "      <th>Seed</th>\n",
       "      <th>Team_Position</th>\n",
       "      <th>Mapped_Round</th>\n",
       "      <th>Round</th>\n",
       "      <th>GameSlot</th>\n",
       "    </tr>\n",
       "  </thead>\n",
       "  <tbody>\n",
       "  </tbody>\n",
       "</table>\n",
       "</div>"
      ],
      "text/plain": [
       "Empty DataFrame\n",
       "Columns: [index, Year, Daynum, Region, RegionNum, Team, Seed, Team_Position, Mapped_Round, Round, GameSlot]\n",
       "Index: []"
      ]
     },
     "metadata": {},
     "output_type": "display_data"
    },
    {
     "name": "stdout",
     "output_type": "stream",
     "text": [
      "[2 4]\n",
      "2021 0\n",
      "[]\n"
     ]
    },
    {
     "data": {
      "text/plain": [
       "'W'"
      ]
     },
     "metadata": {},
     "output_type": "display_data"
    },
    {
     "data": {
      "text/html": [
       "<div>\n",
       "<style scoped>\n",
       "    .dataframe tbody tr th:only-of-type {\n",
       "        vertical-align: middle;\n",
       "    }\n",
       "\n",
       "    .dataframe tbody tr th {\n",
       "        vertical-align: top;\n",
       "    }\n",
       "\n",
       "    .dataframe thead th {\n",
       "        text-align: right;\n",
       "    }\n",
       "</style>\n",
       "<table border=\"1\" class=\"dataframe\">\n",
       "  <thead>\n",
       "    <tr style=\"text-align: right;\">\n",
       "      <th></th>\n",
       "      <th>index</th>\n",
       "      <th>Year</th>\n",
       "      <th>Daynum</th>\n",
       "      <th>Region</th>\n",
       "      <th>RegionNum</th>\n",
       "      <th>Team</th>\n",
       "      <th>Seed</th>\n",
       "      <th>Team_Position</th>\n",
       "      <th>Mapped_Round</th>\n",
       "      <th>Round</th>\n",
       "      <th>GameSlot</th>\n",
       "    </tr>\n",
       "  </thead>\n",
       "  <tbody>\n",
       "  </tbody>\n",
       "</table>\n",
       "</div>"
      ],
      "text/plain": [
       "Empty DataFrame\n",
       "Columns: [index, Year, Daynum, Region, RegionNum, Team, Seed, Team_Position, Mapped_Round, Round, GameSlot]\n",
       "Index: []"
      ]
     },
     "metadata": {},
     "output_type": "display_data"
    },
    {
     "data": {
      "text/plain": [
       "'W'"
      ]
     },
     "metadata": {},
     "output_type": "display_data"
    },
    {
     "data": {
      "text/html": [
       "<div>\n",
       "<style scoped>\n",
       "    .dataframe tbody tr th:only-of-type {\n",
       "        vertical-align: middle;\n",
       "    }\n",
       "\n",
       "    .dataframe tbody tr th {\n",
       "        vertical-align: top;\n",
       "    }\n",
       "\n",
       "    .dataframe thead th {\n",
       "        text-align: right;\n",
       "    }\n",
       "</style>\n",
       "<table border=\"1\" class=\"dataframe\">\n",
       "  <thead>\n",
       "    <tr style=\"text-align: right;\">\n",
       "      <th></th>\n",
       "      <th>index</th>\n",
       "      <th>Year</th>\n",
       "      <th>Daynum</th>\n",
       "      <th>Region</th>\n",
       "      <th>RegionNum</th>\n",
       "      <th>Team</th>\n",
       "      <th>Seed</th>\n",
       "      <th>Team_Position</th>\n",
       "      <th>Mapped_Round</th>\n",
       "      <th>Round</th>\n",
       "      <th>GameSlot</th>\n",
       "    </tr>\n",
       "  </thead>\n",
       "  <tbody>\n",
       "  </tbody>\n",
       "</table>\n",
       "</div>"
      ],
      "text/plain": [
       "Empty DataFrame\n",
       "Columns: [index, Year, Daynum, Region, RegionNum, Team, Seed, Team_Position, Mapped_Round, Round, GameSlot]\n",
       "Index: []"
      ]
     },
     "metadata": {},
     "output_type": "display_data"
    },
    {
     "name": "stdout",
     "output_type": "stream",
     "text": [
      "[]\n"
     ]
    },
    {
     "data": {
      "text/plain": [
       "'X'"
      ]
     },
     "metadata": {},
     "output_type": "display_data"
    },
    {
     "data": {
      "text/html": [
       "<div>\n",
       "<style scoped>\n",
       "    .dataframe tbody tr th:only-of-type {\n",
       "        vertical-align: middle;\n",
       "    }\n",
       "\n",
       "    .dataframe tbody tr th {\n",
       "        vertical-align: top;\n",
       "    }\n",
       "\n",
       "    .dataframe thead th {\n",
       "        text-align: right;\n",
       "    }\n",
       "</style>\n",
       "<table border=\"1\" class=\"dataframe\">\n",
       "  <thead>\n",
       "    <tr style=\"text-align: right;\">\n",
       "      <th></th>\n",
       "      <th>index</th>\n",
       "      <th>Year</th>\n",
       "      <th>Daynum</th>\n",
       "      <th>Region</th>\n",
       "      <th>RegionNum</th>\n",
       "      <th>Team</th>\n",
       "      <th>Seed</th>\n",
       "      <th>Team_Position</th>\n",
       "      <th>Mapped_Round</th>\n",
       "      <th>Round</th>\n",
       "      <th>GameSlot</th>\n",
       "    </tr>\n",
       "  </thead>\n",
       "  <tbody>\n",
       "  </tbody>\n",
       "</table>\n",
       "</div>"
      ],
      "text/plain": [
       "Empty DataFrame\n",
       "Columns: [index, Year, Daynum, Region, RegionNum, Team, Seed, Team_Position, Mapped_Round, Round, GameSlot]\n",
       "Index: []"
      ]
     },
     "metadata": {},
     "output_type": "display_data"
    },
    {
     "data": {
      "text/plain": [
       "'X'"
      ]
     },
     "metadata": {},
     "output_type": "display_data"
    },
    {
     "data": {
      "text/html": [
       "<div>\n",
       "<style scoped>\n",
       "    .dataframe tbody tr th:only-of-type {\n",
       "        vertical-align: middle;\n",
       "    }\n",
       "\n",
       "    .dataframe tbody tr th {\n",
       "        vertical-align: top;\n",
       "    }\n",
       "\n",
       "    .dataframe thead th {\n",
       "        text-align: right;\n",
       "    }\n",
       "</style>\n",
       "<table border=\"1\" class=\"dataframe\">\n",
       "  <thead>\n",
       "    <tr style=\"text-align: right;\">\n",
       "      <th></th>\n",
       "      <th>index</th>\n",
       "      <th>Year</th>\n",
       "      <th>Daynum</th>\n",
       "      <th>Region</th>\n",
       "      <th>RegionNum</th>\n",
       "      <th>Team</th>\n",
       "      <th>Seed</th>\n",
       "      <th>Team_Position</th>\n",
       "      <th>Mapped_Round</th>\n",
       "      <th>Round</th>\n",
       "      <th>GameSlot</th>\n",
       "    </tr>\n",
       "  </thead>\n",
       "  <tbody>\n",
       "  </tbody>\n",
       "</table>\n",
       "</div>"
      ],
      "text/plain": [
       "Empty DataFrame\n",
       "Columns: [index, Year, Daynum, Region, RegionNum, Team, Seed, Team_Position, Mapped_Round, Round, GameSlot]\n",
       "Index: []"
      ]
     },
     "metadata": {},
     "output_type": "display_data"
    },
    {
     "name": "stdout",
     "output_type": "stream",
     "text": [
      "[]\n"
     ]
    },
    {
     "data": {
      "text/plain": [
       "'Y'"
      ]
     },
     "metadata": {},
     "output_type": "display_data"
    },
    {
     "data": {
      "text/html": [
       "<div>\n",
       "<style scoped>\n",
       "    .dataframe tbody tr th:only-of-type {\n",
       "        vertical-align: middle;\n",
       "    }\n",
       "\n",
       "    .dataframe tbody tr th {\n",
       "        vertical-align: top;\n",
       "    }\n",
       "\n",
       "    .dataframe thead th {\n",
       "        text-align: right;\n",
       "    }\n",
       "</style>\n",
       "<table border=\"1\" class=\"dataframe\">\n",
       "  <thead>\n",
       "    <tr style=\"text-align: right;\">\n",
       "      <th></th>\n",
       "      <th>index</th>\n",
       "      <th>Year</th>\n",
       "      <th>Daynum</th>\n",
       "      <th>Region</th>\n",
       "      <th>RegionNum</th>\n",
       "      <th>Team</th>\n",
       "      <th>Seed</th>\n",
       "      <th>Team_Position</th>\n",
       "      <th>Mapped_Round</th>\n",
       "      <th>Round</th>\n",
       "      <th>GameSlot</th>\n",
       "    </tr>\n",
       "  </thead>\n",
       "  <tbody>\n",
       "  </tbody>\n",
       "</table>\n",
       "</div>"
      ],
      "text/plain": [
       "Empty DataFrame\n",
       "Columns: [index, Year, Daynum, Region, RegionNum, Team, Seed, Team_Position, Mapped_Round, Round, GameSlot]\n",
       "Index: []"
      ]
     },
     "metadata": {},
     "output_type": "display_data"
    },
    {
     "data": {
      "text/plain": [
       "'Y'"
      ]
     },
     "metadata": {},
     "output_type": "display_data"
    },
    {
     "data": {
      "text/html": [
       "<div>\n",
       "<style scoped>\n",
       "    .dataframe tbody tr th:only-of-type {\n",
       "        vertical-align: middle;\n",
       "    }\n",
       "\n",
       "    .dataframe tbody tr th {\n",
       "        vertical-align: top;\n",
       "    }\n",
       "\n",
       "    .dataframe thead th {\n",
       "        text-align: right;\n",
       "    }\n",
       "</style>\n",
       "<table border=\"1\" class=\"dataframe\">\n",
       "  <thead>\n",
       "    <tr style=\"text-align: right;\">\n",
       "      <th></th>\n",
       "      <th>index</th>\n",
       "      <th>Year</th>\n",
       "      <th>Daynum</th>\n",
       "      <th>Region</th>\n",
       "      <th>RegionNum</th>\n",
       "      <th>Team</th>\n",
       "      <th>Seed</th>\n",
       "      <th>Team_Position</th>\n",
       "      <th>Mapped_Round</th>\n",
       "      <th>Round</th>\n",
       "      <th>GameSlot</th>\n",
       "    </tr>\n",
       "  </thead>\n",
       "  <tbody>\n",
       "  </tbody>\n",
       "</table>\n",
       "</div>"
      ],
      "text/plain": [
       "Empty DataFrame\n",
       "Columns: [index, Year, Daynum, Region, RegionNum, Team, Seed, Team_Position, Mapped_Round, Round, GameSlot]\n",
       "Index: []"
      ]
     },
     "metadata": {},
     "output_type": "display_data"
    },
    {
     "name": "stdout",
     "output_type": "stream",
     "text": [
      "[]\n"
     ]
    },
    {
     "data": {
      "text/plain": [
       "'Z'"
      ]
     },
     "metadata": {},
     "output_type": "display_data"
    },
    {
     "data": {
      "text/html": [
       "<div>\n",
       "<style scoped>\n",
       "    .dataframe tbody tr th:only-of-type {\n",
       "        vertical-align: middle;\n",
       "    }\n",
       "\n",
       "    .dataframe tbody tr th {\n",
       "        vertical-align: top;\n",
       "    }\n",
       "\n",
       "    .dataframe thead th {\n",
       "        text-align: right;\n",
       "    }\n",
       "</style>\n",
       "<table border=\"1\" class=\"dataframe\">\n",
       "  <thead>\n",
       "    <tr style=\"text-align: right;\">\n",
       "      <th></th>\n",
       "      <th>index</th>\n",
       "      <th>Year</th>\n",
       "      <th>Daynum</th>\n",
       "      <th>Region</th>\n",
       "      <th>RegionNum</th>\n",
       "      <th>Team</th>\n",
       "      <th>Seed</th>\n",
       "      <th>Team_Position</th>\n",
       "      <th>Mapped_Round</th>\n",
       "      <th>Round</th>\n",
       "      <th>GameSlot</th>\n",
       "    </tr>\n",
       "  </thead>\n",
       "  <tbody>\n",
       "  </tbody>\n",
       "</table>\n",
       "</div>"
      ],
      "text/plain": [
       "Empty DataFrame\n",
       "Columns: [index, Year, Daynum, Region, RegionNum, Team, Seed, Team_Position, Mapped_Round, Round, GameSlot]\n",
       "Index: []"
      ]
     },
     "metadata": {},
     "output_type": "display_data"
    },
    {
     "data": {
      "text/plain": [
       "'Z'"
      ]
     },
     "metadata": {},
     "output_type": "display_data"
    },
    {
     "data": {
      "text/html": [
       "<div>\n",
       "<style scoped>\n",
       "    .dataframe tbody tr th:only-of-type {\n",
       "        vertical-align: middle;\n",
       "    }\n",
       "\n",
       "    .dataframe tbody tr th {\n",
       "        vertical-align: top;\n",
       "    }\n",
       "\n",
       "    .dataframe thead th {\n",
       "        text-align: right;\n",
       "    }\n",
       "</style>\n",
       "<table border=\"1\" class=\"dataframe\">\n",
       "  <thead>\n",
       "    <tr style=\"text-align: right;\">\n",
       "      <th></th>\n",
       "      <th>index</th>\n",
       "      <th>Year</th>\n",
       "      <th>Daynum</th>\n",
       "      <th>Region</th>\n",
       "      <th>RegionNum</th>\n",
       "      <th>Team</th>\n",
       "      <th>Seed</th>\n",
       "      <th>Team_Position</th>\n",
       "      <th>Mapped_Round</th>\n",
       "      <th>Round</th>\n",
       "      <th>GameSlot</th>\n",
       "    </tr>\n",
       "  </thead>\n",
       "  <tbody>\n",
       "  </tbody>\n",
       "</table>\n",
       "</div>"
      ],
      "text/plain": [
       "Empty DataFrame\n",
       "Columns: [index, Year, Daynum, Region, RegionNum, Team, Seed, Team_Position, Mapped_Round, Round, GameSlot]\n",
       "Index: []"
      ]
     },
     "metadata": {},
     "output_type": "display_data"
    },
    {
     "name": "stdout",
     "output_type": "stream",
     "text": [
      "[0 1 2 3 4]\n",
      "2022 36\n",
      "['Midwest' 'West' 'South' 'East']\n"
     ]
    },
    {
     "data": {
      "text/plain": [
       "'W'"
      ]
     },
     "metadata": {},
     "output_type": "display_data"
    },
    {
     "data": {
      "text/html": [
       "<div>\n",
       "<style scoped>\n",
       "    .dataframe tbody tr th:only-of-type {\n",
       "        vertical-align: middle;\n",
       "    }\n",
       "\n",
       "    .dataframe tbody tr th {\n",
       "        vertical-align: top;\n",
       "    }\n",
       "\n",
       "    .dataframe thead th {\n",
       "        text-align: right;\n",
       "    }\n",
       "</style>\n",
       "<table border=\"1\" class=\"dataframe\">\n",
       "  <thead>\n",
       "    <tr style=\"text-align: right;\">\n",
       "      <th></th>\n",
       "      <th>index</th>\n",
       "      <th>Year</th>\n",
       "      <th>Daynum</th>\n",
       "      <th>Region</th>\n",
       "      <th>RegionNum</th>\n",
       "      <th>Team</th>\n",
       "      <th>Seed</th>\n",
       "      <th>Team_Position</th>\n",
       "      <th>Mapped_Round</th>\n",
       "      <th>Round</th>\n",
       "      <th>GameSlot</th>\n",
       "    </tr>\n",
       "  </thead>\n",
       "  <tbody>\n",
       "  </tbody>\n",
       "</table>\n",
       "</div>"
      ],
      "text/plain": [
       "Empty DataFrame\n",
       "Columns: [index, Year, Daynum, Region, RegionNum, Team, Seed, Team_Position, Mapped_Round, Round, GameSlot]\n",
       "Index: []"
      ]
     },
     "metadata": {},
     "output_type": "display_data"
    },
    {
     "data": {
      "text/plain": [
       "'W'"
      ]
     },
     "metadata": {},
     "output_type": "display_data"
    },
    {
     "data": {
      "text/html": [
       "<div>\n",
       "<style scoped>\n",
       "    .dataframe tbody tr th:only-of-type {\n",
       "        vertical-align: middle;\n",
       "    }\n",
       "\n",
       "    .dataframe tbody tr th {\n",
       "        vertical-align: top;\n",
       "    }\n",
       "\n",
       "    .dataframe thead th {\n",
       "        text-align: right;\n",
       "    }\n",
       "</style>\n",
       "<table border=\"1\" class=\"dataframe\">\n",
       "  <thead>\n",
       "    <tr style=\"text-align: right;\">\n",
       "      <th></th>\n",
       "      <th>index</th>\n",
       "      <th>Year</th>\n",
       "      <th>Daynum</th>\n",
       "      <th>Region</th>\n",
       "      <th>RegionNum</th>\n",
       "      <th>Team</th>\n",
       "      <th>Seed</th>\n",
       "      <th>Team_Position</th>\n",
       "      <th>Mapped_Round</th>\n",
       "      <th>Round</th>\n",
       "      <th>GameSlot</th>\n",
       "    </tr>\n",
       "  </thead>\n",
       "  <tbody>\n",
       "  </tbody>\n",
       "</table>\n",
       "</div>"
      ],
      "text/plain": [
       "Empty DataFrame\n",
       "Columns: [index, Year, Daynum, Region, RegionNum, Team, Seed, Team_Position, Mapped_Round, Round, GameSlot]\n",
       "Index: []"
      ]
     },
     "metadata": {},
     "output_type": "display_data"
    },
    {
     "name": "stdout",
     "output_type": "stream",
     "text": [
      "['Midwest' 'West' 'South' 'East']\n"
     ]
    },
    {
     "data": {
      "text/plain": [
       "'X'"
      ]
     },
     "metadata": {},
     "output_type": "display_data"
    },
    {
     "data": {
      "text/html": [
       "<div>\n",
       "<style scoped>\n",
       "    .dataframe tbody tr th:only-of-type {\n",
       "        vertical-align: middle;\n",
       "    }\n",
       "\n",
       "    .dataframe tbody tr th {\n",
       "        vertical-align: top;\n",
       "    }\n",
       "\n",
       "    .dataframe thead th {\n",
       "        text-align: right;\n",
       "    }\n",
       "</style>\n",
       "<table border=\"1\" class=\"dataframe\">\n",
       "  <thead>\n",
       "    <tr style=\"text-align: right;\">\n",
       "      <th></th>\n",
       "      <th>index</th>\n",
       "      <th>Year</th>\n",
       "      <th>Daynum</th>\n",
       "      <th>Region</th>\n",
       "      <th>RegionNum</th>\n",
       "      <th>Team</th>\n",
       "      <th>Seed</th>\n",
       "      <th>Team_Position</th>\n",
       "      <th>Mapped_Round</th>\n",
       "      <th>Round</th>\n",
       "      <th>GameSlot</th>\n",
       "    </tr>\n",
       "  </thead>\n",
       "  <tbody>\n",
       "  </tbody>\n",
       "</table>\n",
       "</div>"
      ],
      "text/plain": [
       "Empty DataFrame\n",
       "Columns: [index, Year, Daynum, Region, RegionNum, Team, Seed, Team_Position, Mapped_Round, Round, GameSlot]\n",
       "Index: []"
      ]
     },
     "metadata": {},
     "output_type": "display_data"
    },
    {
     "data": {
      "text/plain": [
       "'X'"
      ]
     },
     "metadata": {},
     "output_type": "display_data"
    },
    {
     "data": {
      "text/html": [
       "<div>\n",
       "<style scoped>\n",
       "    .dataframe tbody tr th:only-of-type {\n",
       "        vertical-align: middle;\n",
       "    }\n",
       "\n",
       "    .dataframe tbody tr th {\n",
       "        vertical-align: top;\n",
       "    }\n",
       "\n",
       "    .dataframe thead th {\n",
       "        text-align: right;\n",
       "    }\n",
       "</style>\n",
       "<table border=\"1\" class=\"dataframe\">\n",
       "  <thead>\n",
       "    <tr style=\"text-align: right;\">\n",
       "      <th></th>\n",
       "      <th>index</th>\n",
       "      <th>Year</th>\n",
       "      <th>Daynum</th>\n",
       "      <th>Region</th>\n",
       "      <th>RegionNum</th>\n",
       "      <th>Team</th>\n",
       "      <th>Seed</th>\n",
       "      <th>Team_Position</th>\n",
       "      <th>Mapped_Round</th>\n",
       "      <th>Round</th>\n",
       "      <th>GameSlot</th>\n",
       "    </tr>\n",
       "  </thead>\n",
       "  <tbody>\n",
       "  </tbody>\n",
       "</table>\n",
       "</div>"
      ],
      "text/plain": [
       "Empty DataFrame\n",
       "Columns: [index, Year, Daynum, Region, RegionNum, Team, Seed, Team_Position, Mapped_Round, Round, GameSlot]\n",
       "Index: []"
      ]
     },
     "metadata": {},
     "output_type": "display_data"
    },
    {
     "name": "stdout",
     "output_type": "stream",
     "text": [
      "['Midwest' 'West' 'South' 'East']\n"
     ]
    },
    {
     "data": {
      "text/plain": [
       "'Y'"
      ]
     },
     "metadata": {},
     "output_type": "display_data"
    },
    {
     "data": {
      "text/html": [
       "<div>\n",
       "<style scoped>\n",
       "    .dataframe tbody tr th:only-of-type {\n",
       "        vertical-align: middle;\n",
       "    }\n",
       "\n",
       "    .dataframe tbody tr th {\n",
       "        vertical-align: top;\n",
       "    }\n",
       "\n",
       "    .dataframe thead th {\n",
       "        text-align: right;\n",
       "    }\n",
       "</style>\n",
       "<table border=\"1\" class=\"dataframe\">\n",
       "  <thead>\n",
       "    <tr style=\"text-align: right;\">\n",
       "      <th></th>\n",
       "      <th>index</th>\n",
       "      <th>Year</th>\n",
       "      <th>Daynum</th>\n",
       "      <th>Region</th>\n",
       "      <th>RegionNum</th>\n",
       "      <th>Team</th>\n",
       "      <th>Seed</th>\n",
       "      <th>Team_Position</th>\n",
       "      <th>Mapped_Round</th>\n",
       "      <th>Round</th>\n",
       "      <th>GameSlot</th>\n",
       "    </tr>\n",
       "  </thead>\n",
       "  <tbody>\n",
       "  </tbody>\n",
       "</table>\n",
       "</div>"
      ],
      "text/plain": [
       "Empty DataFrame\n",
       "Columns: [index, Year, Daynum, Region, RegionNum, Team, Seed, Team_Position, Mapped_Round, Round, GameSlot]\n",
       "Index: []"
      ]
     },
     "metadata": {},
     "output_type": "display_data"
    },
    {
     "data": {
      "text/plain": [
       "'Y'"
      ]
     },
     "metadata": {},
     "output_type": "display_data"
    },
    {
     "data": {
      "text/html": [
       "<div>\n",
       "<style scoped>\n",
       "    .dataframe tbody tr th:only-of-type {\n",
       "        vertical-align: middle;\n",
       "    }\n",
       "\n",
       "    .dataframe tbody tr th {\n",
       "        vertical-align: top;\n",
       "    }\n",
       "\n",
       "    .dataframe thead th {\n",
       "        text-align: right;\n",
       "    }\n",
       "</style>\n",
       "<table border=\"1\" class=\"dataframe\">\n",
       "  <thead>\n",
       "    <tr style=\"text-align: right;\">\n",
       "      <th></th>\n",
       "      <th>index</th>\n",
       "      <th>Year</th>\n",
       "      <th>Daynum</th>\n",
       "      <th>Region</th>\n",
       "      <th>RegionNum</th>\n",
       "      <th>Team</th>\n",
       "      <th>Seed</th>\n",
       "      <th>Team_Position</th>\n",
       "      <th>Mapped_Round</th>\n",
       "      <th>Round</th>\n",
       "      <th>GameSlot</th>\n",
       "    </tr>\n",
       "  </thead>\n",
       "  <tbody>\n",
       "  </tbody>\n",
       "</table>\n",
       "</div>"
      ],
      "text/plain": [
       "Empty DataFrame\n",
       "Columns: [index, Year, Daynum, Region, RegionNum, Team, Seed, Team_Position, Mapped_Round, Round, GameSlot]\n",
       "Index: []"
      ]
     },
     "metadata": {},
     "output_type": "display_data"
    },
    {
     "name": "stdout",
     "output_type": "stream",
     "text": [
      "['Midwest' 'West' 'South' 'East']\n"
     ]
    },
    {
     "data": {
      "text/plain": [
       "'Z'"
      ]
     },
     "metadata": {},
     "output_type": "display_data"
    },
    {
     "data": {
      "text/html": [
       "<div>\n",
       "<style scoped>\n",
       "    .dataframe tbody tr th:only-of-type {\n",
       "        vertical-align: middle;\n",
       "    }\n",
       "\n",
       "    .dataframe tbody tr th {\n",
       "        vertical-align: top;\n",
       "    }\n",
       "\n",
       "    .dataframe thead th {\n",
       "        text-align: right;\n",
       "    }\n",
       "</style>\n",
       "<table border=\"1\" class=\"dataframe\">\n",
       "  <thead>\n",
       "    <tr style=\"text-align: right;\">\n",
       "      <th></th>\n",
       "      <th>index</th>\n",
       "      <th>Year</th>\n",
       "      <th>Daynum</th>\n",
       "      <th>Region</th>\n",
       "      <th>RegionNum</th>\n",
       "      <th>Team</th>\n",
       "      <th>Seed</th>\n",
       "      <th>Team_Position</th>\n",
       "      <th>Mapped_Round</th>\n",
       "      <th>Round</th>\n",
       "      <th>GameSlot</th>\n",
       "    </tr>\n",
       "  </thead>\n",
       "  <tbody>\n",
       "  </tbody>\n",
       "</table>\n",
       "</div>"
      ],
      "text/plain": [
       "Empty DataFrame\n",
       "Columns: [index, Year, Daynum, Region, RegionNum, Team, Seed, Team_Position, Mapped_Round, Round, GameSlot]\n",
       "Index: []"
      ]
     },
     "metadata": {},
     "output_type": "display_data"
    },
    {
     "data": {
      "text/plain": [
       "'Z'"
      ]
     },
     "metadata": {},
     "output_type": "display_data"
    },
    {
     "data": {
      "text/html": [
       "<div>\n",
       "<style scoped>\n",
       "    .dataframe tbody tr th:only-of-type {\n",
       "        vertical-align: middle;\n",
       "    }\n",
       "\n",
       "    .dataframe tbody tr th {\n",
       "        vertical-align: top;\n",
       "    }\n",
       "\n",
       "    .dataframe thead th {\n",
       "        text-align: right;\n",
       "    }\n",
       "</style>\n",
       "<table border=\"1\" class=\"dataframe\">\n",
       "  <thead>\n",
       "    <tr style=\"text-align: right;\">\n",
       "      <th></th>\n",
       "      <th>index</th>\n",
       "      <th>Year</th>\n",
       "      <th>Daynum</th>\n",
       "      <th>Region</th>\n",
       "      <th>RegionNum</th>\n",
       "      <th>Team</th>\n",
       "      <th>Seed</th>\n",
       "      <th>Team_Position</th>\n",
       "      <th>Mapped_Round</th>\n",
       "      <th>Round</th>\n",
       "      <th>GameSlot</th>\n",
       "    </tr>\n",
       "  </thead>\n",
       "  <tbody>\n",
       "  </tbody>\n",
       "</table>\n",
       "</div>"
      ],
      "text/plain": [
       "Empty DataFrame\n",
       "Columns: [index, Year, Daynum, Region, RegionNum, Team, Seed, Team_Position, Mapped_Round, Round, GameSlot]\n",
       "Index: []"
      ]
     },
     "metadata": {},
     "output_type": "display_data"
    },
    {
     "name": "stdout",
     "output_type": "stream",
     "text": [
      "[0 1 2 3 4]\n",
      "2023 104\n",
      "['East' 'Midwest' 'West' 'W' 'X' 'Y' 'Z' 'South']\n"
     ]
    },
    {
     "data": {
      "text/plain": [
       "'W'"
      ]
     },
     "metadata": {},
     "output_type": "display_data"
    },
    {
     "data": {
      "text/html": [
       "<div>\n",
       "<style scoped>\n",
       "    .dataframe tbody tr th:only-of-type {\n",
       "        vertical-align: middle;\n",
       "    }\n",
       "\n",
       "    .dataframe tbody tr th {\n",
       "        vertical-align: top;\n",
       "    }\n",
       "\n",
       "    .dataframe thead th {\n",
       "        text-align: right;\n",
       "    }\n",
       "</style>\n",
       "<table border=\"1\" class=\"dataframe\">\n",
       "  <thead>\n",
       "    <tr style=\"text-align: right;\">\n",
       "      <th></th>\n",
       "      <th>index</th>\n",
       "      <th>Year</th>\n",
       "      <th>Daynum</th>\n",
       "      <th>Region</th>\n",
       "      <th>RegionNum</th>\n",
       "      <th>Team</th>\n",
       "      <th>Seed</th>\n",
       "      <th>Team_Position</th>\n",
       "      <th>Mapped_Round</th>\n",
       "      <th>Round</th>\n",
       "      <th>GameSlot</th>\n",
       "    </tr>\n",
       "  </thead>\n",
       "  <tbody>\n",
       "    <tr>\n",
       "      <th>2206</th>\n",
       "      <td>NaN</td>\n",
       "      <td>2023</td>\n",
       "      <td>NaN</td>\n",
       "      <td>W</td>\n",
       "      <td>1</td>\n",
       "      <td>South Carolina</td>\n",
       "      <td>1</td>\n",
       "      <td>NaN</td>\n",
       "      <td>NaN</td>\n",
       "      <td>1</td>\n",
       "      <td>NaN</td>\n",
       "    </tr>\n",
       "    <tr>\n",
       "      <th>2207</th>\n",
       "      <td>NaN</td>\n",
       "      <td>2023</td>\n",
       "      <td>NaN</td>\n",
       "      <td>W</td>\n",
       "      <td>1</td>\n",
       "      <td>Maryland</td>\n",
       "      <td>2</td>\n",
       "      <td>NaN</td>\n",
       "      <td>NaN</td>\n",
       "      <td>1</td>\n",
       "      <td>NaN</td>\n",
       "    </tr>\n",
       "    <tr>\n",
       "      <th>2208</th>\n",
       "      <td>NaN</td>\n",
       "      <td>2023</td>\n",
       "      <td>NaN</td>\n",
       "      <td>W</td>\n",
       "      <td>1</td>\n",
       "      <td>Notre Dame</td>\n",
       "      <td>3</td>\n",
       "      <td>NaN</td>\n",
       "      <td>NaN</td>\n",
       "      <td>1</td>\n",
       "      <td>NaN</td>\n",
       "    </tr>\n",
       "    <tr>\n",
       "      <th>2209</th>\n",
       "      <td>NaN</td>\n",
       "      <td>2023</td>\n",
       "      <td>NaN</td>\n",
       "      <td>W</td>\n",
       "      <td>1</td>\n",
       "      <td>UCLA</td>\n",
       "      <td>4</td>\n",
       "      <td>NaN</td>\n",
       "      <td>NaN</td>\n",
       "      <td>1</td>\n",
       "      <td>NaN</td>\n",
       "    </tr>\n",
       "    <tr>\n",
       "      <th>2210</th>\n",
       "      <td>NaN</td>\n",
       "      <td>2023</td>\n",
       "      <td>NaN</td>\n",
       "      <td>W</td>\n",
       "      <td>1</td>\n",
       "      <td>Oklahoma</td>\n",
       "      <td>5</td>\n",
       "      <td>NaN</td>\n",
       "      <td>NaN</td>\n",
       "      <td>1</td>\n",
       "      <td>NaN</td>\n",
       "    </tr>\n",
       "    <tr>\n",
       "      <th>2211</th>\n",
       "      <td>NaN</td>\n",
       "      <td>2023</td>\n",
       "      <td>NaN</td>\n",
       "      <td>W</td>\n",
       "      <td>1</td>\n",
       "      <td>Creighton</td>\n",
       "      <td>6</td>\n",
       "      <td>NaN</td>\n",
       "      <td>NaN</td>\n",
       "      <td>1</td>\n",
       "      <td>NaN</td>\n",
       "    </tr>\n",
       "    <tr>\n",
       "      <th>2212</th>\n",
       "      <td>NaN</td>\n",
       "      <td>2023</td>\n",
       "      <td>NaN</td>\n",
       "      <td>W</td>\n",
       "      <td>1</td>\n",
       "      <td>Arizona</td>\n",
       "      <td>7</td>\n",
       "      <td>NaN</td>\n",
       "      <td>NaN</td>\n",
       "      <td>1</td>\n",
       "      <td>NaN</td>\n",
       "    </tr>\n",
       "    <tr>\n",
       "      <th>2213</th>\n",
       "      <td>NaN</td>\n",
       "      <td>2023</td>\n",
       "      <td>NaN</td>\n",
       "      <td>W</td>\n",
       "      <td>1</td>\n",
       "      <td>South Florida</td>\n",
       "      <td>8</td>\n",
       "      <td>NaN</td>\n",
       "      <td>NaN</td>\n",
       "      <td>1</td>\n",
       "      <td>NaN</td>\n",
       "    </tr>\n",
       "    <tr>\n",
       "      <th>2214</th>\n",
       "      <td>NaN</td>\n",
       "      <td>2023</td>\n",
       "      <td>NaN</td>\n",
       "      <td>W</td>\n",
       "      <td>1</td>\n",
       "      <td>Marquette</td>\n",
       "      <td>9</td>\n",
       "      <td>NaN</td>\n",
       "      <td>NaN</td>\n",
       "      <td>1</td>\n",
       "      <td>NaN</td>\n",
       "    </tr>\n",
       "    <tr>\n",
       "      <th>2215</th>\n",
       "      <td>NaN</td>\n",
       "      <td>2023</td>\n",
       "      <td>NaN</td>\n",
       "      <td>W</td>\n",
       "      <td>1</td>\n",
       "      <td>West Virginia</td>\n",
       "      <td>10</td>\n",
       "      <td>NaN</td>\n",
       "      <td>NaN</td>\n",
       "      <td>1</td>\n",
       "      <td>NaN</td>\n",
       "    </tr>\n",
       "    <tr>\n",
       "      <th>2217</th>\n",
       "      <td>NaN</td>\n",
       "      <td>2023</td>\n",
       "      <td>NaN</td>\n",
       "      <td>W</td>\n",
       "      <td>1</td>\n",
       "      <td>Mississippi St</td>\n",
       "      <td>11</td>\n",
       "      <td>NaN</td>\n",
       "      <td>NaN</td>\n",
       "      <td>1</td>\n",
       "      <td>NaN</td>\n",
       "    </tr>\n",
       "    <tr>\n",
       "      <th>2216</th>\n",
       "      <td>NaN</td>\n",
       "      <td>2023</td>\n",
       "      <td>NaN</td>\n",
       "      <td>W</td>\n",
       "      <td>1</td>\n",
       "      <td>Illinois</td>\n",
       "      <td>11</td>\n",
       "      <td>NaN</td>\n",
       "      <td>NaN</td>\n",
       "      <td>1</td>\n",
       "      <td>NaN</td>\n",
       "    </tr>\n",
       "    <tr>\n",
       "      <th>2218</th>\n",
       "      <td>NaN</td>\n",
       "      <td>2023</td>\n",
       "      <td>NaN</td>\n",
       "      <td>W</td>\n",
       "      <td>1</td>\n",
       "      <td>Portland</td>\n",
       "      <td>12</td>\n",
       "      <td>NaN</td>\n",
       "      <td>NaN</td>\n",
       "      <td>1</td>\n",
       "      <td>NaN</td>\n",
       "    </tr>\n",
       "    <tr>\n",
       "      <th>2219</th>\n",
       "      <td>NaN</td>\n",
       "      <td>2023</td>\n",
       "      <td>NaN</td>\n",
       "      <td>W</td>\n",
       "      <td>1</td>\n",
       "      <td>CS Sacramento</td>\n",
       "      <td>13</td>\n",
       "      <td>NaN</td>\n",
       "      <td>NaN</td>\n",
       "      <td>1</td>\n",
       "      <td>NaN</td>\n",
       "    </tr>\n",
       "    <tr>\n",
       "      <th>2220</th>\n",
       "      <td>NaN</td>\n",
       "      <td>2023</td>\n",
       "      <td>NaN</td>\n",
       "      <td>W</td>\n",
       "      <td>1</td>\n",
       "      <td>Southern Utah</td>\n",
       "      <td>14</td>\n",
       "      <td>NaN</td>\n",
       "      <td>NaN</td>\n",
       "      <td>1</td>\n",
       "      <td>NaN</td>\n",
       "    </tr>\n",
       "    <tr>\n",
       "      <th>2221</th>\n",
       "      <td>NaN</td>\n",
       "      <td>2023</td>\n",
       "      <td>NaN</td>\n",
       "      <td>W</td>\n",
       "      <td>1</td>\n",
       "      <td>Holy Cross</td>\n",
       "      <td>15</td>\n",
       "      <td>NaN</td>\n",
       "      <td>NaN</td>\n",
       "      <td>1</td>\n",
       "      <td>NaN</td>\n",
       "    </tr>\n",
       "    <tr>\n",
       "      <th>2222</th>\n",
       "      <td>NaN</td>\n",
       "      <td>2023</td>\n",
       "      <td>NaN</td>\n",
       "      <td>W</td>\n",
       "      <td>1</td>\n",
       "      <td>Norfolk St</td>\n",
       "      <td>16</td>\n",
       "      <td>NaN</td>\n",
       "      <td>NaN</td>\n",
       "      <td>1</td>\n",
       "      <td>NaN</td>\n",
       "    </tr>\n",
       "  </tbody>\n",
       "</table>\n",
       "</div>"
      ],
      "text/plain": [
       "      index  Year  Daynum Region  RegionNum            Team  Seed  \\\n",
       "2206    NaN  2023     NaN      W          1  South Carolina     1   \n",
       "2207    NaN  2023     NaN      W          1        Maryland     2   \n",
       "2208    NaN  2023     NaN      W          1      Notre Dame     3   \n",
       "2209    NaN  2023     NaN      W          1            UCLA     4   \n",
       "2210    NaN  2023     NaN      W          1        Oklahoma     5   \n",
       "2211    NaN  2023     NaN      W          1       Creighton     6   \n",
       "2212    NaN  2023     NaN      W          1         Arizona     7   \n",
       "2213    NaN  2023     NaN      W          1   South Florida     8   \n",
       "2214    NaN  2023     NaN      W          1       Marquette     9   \n",
       "2215    NaN  2023     NaN      W          1   West Virginia    10   \n",
       "2217    NaN  2023     NaN      W          1  Mississippi St    11   \n",
       "2216    NaN  2023     NaN      W          1        Illinois    11   \n",
       "2218    NaN  2023     NaN      W          1        Portland    12   \n",
       "2219    NaN  2023     NaN      W          1   CS Sacramento    13   \n",
       "2220    NaN  2023     NaN      W          1   Southern Utah    14   \n",
       "2221    NaN  2023     NaN      W          1      Holy Cross    15   \n",
       "2222    NaN  2023     NaN      W          1      Norfolk St    16   \n",
       "\n",
       "     Team_Position  Mapped_Round  Round GameSlot  \n",
       "2206           NaN           NaN      1      NaN  \n",
       "2207           NaN           NaN      1      NaN  \n",
       "2208           NaN           NaN      1      NaN  \n",
       "2209           NaN           NaN      1      NaN  \n",
       "2210           NaN           NaN      1      NaN  \n",
       "2211           NaN           NaN      1      NaN  \n",
       "2212           NaN           NaN      1      NaN  \n",
       "2213           NaN           NaN      1      NaN  \n",
       "2214           NaN           NaN      1      NaN  \n",
       "2215           NaN           NaN      1      NaN  \n",
       "2217           NaN           NaN      1      NaN  \n",
       "2216           NaN           NaN      1      NaN  \n",
       "2218           NaN           NaN      1      NaN  \n",
       "2219           NaN           NaN      1      NaN  \n",
       "2220           NaN           NaN      1      NaN  \n",
       "2221           NaN           NaN      1      NaN  \n",
       "2222           NaN           NaN      1      NaN  "
      ]
     },
     "metadata": {},
     "output_type": "display_data"
    },
    {
     "data": {
      "text/plain": [
       "'W'"
      ]
     },
     "metadata": {},
     "output_type": "display_data"
    },
    {
     "data": {
      "text/html": [
       "<div>\n",
       "<style scoped>\n",
       "    .dataframe tbody tr th:only-of-type {\n",
       "        vertical-align: middle;\n",
       "    }\n",
       "\n",
       "    .dataframe tbody tr th {\n",
       "        vertical-align: top;\n",
       "    }\n",
       "\n",
       "    .dataframe thead th {\n",
       "        text-align: right;\n",
       "    }\n",
       "</style>\n",
       "<table border=\"1\" class=\"dataframe\">\n",
       "  <thead>\n",
       "    <tr style=\"text-align: right;\">\n",
       "      <th></th>\n",
       "      <th>index</th>\n",
       "      <th>Year</th>\n",
       "      <th>Daynum</th>\n",
       "      <th>Region</th>\n",
       "      <th>RegionNum</th>\n",
       "      <th>Team</th>\n",
       "      <th>Seed</th>\n",
       "      <th>Team_Position</th>\n",
       "      <th>Mapped_Round</th>\n",
       "      <th>Round</th>\n",
       "      <th>GameSlot</th>\n",
       "    </tr>\n",
       "  </thead>\n",
       "  <tbody>\n",
       "    <tr>\n",
       "      <th>0</th>\n",
       "      <td>NaN</td>\n",
       "      <td>2023</td>\n",
       "      <td>NaN</td>\n",
       "      <td>W</td>\n",
       "      <td>1</td>\n",
       "      <td>South Carolina</td>\n",
       "      <td>1</td>\n",
       "      <td>NaN</td>\n",
       "      <td>NaN</td>\n",
       "      <td>1</td>\n",
       "      <td>NaN</td>\n",
       "    </tr>\n",
       "    <tr>\n",
       "      <th>1</th>\n",
       "      <td>NaN</td>\n",
       "      <td>2023</td>\n",
       "      <td>NaN</td>\n",
       "      <td>W</td>\n",
       "      <td>1</td>\n",
       "      <td>Maryland</td>\n",
       "      <td>2</td>\n",
       "      <td>NaN</td>\n",
       "      <td>NaN</td>\n",
       "      <td>1</td>\n",
       "      <td>NaN</td>\n",
       "    </tr>\n",
       "    <tr>\n",
       "      <th>2</th>\n",
       "      <td>NaN</td>\n",
       "      <td>2023</td>\n",
       "      <td>NaN</td>\n",
       "      <td>W</td>\n",
       "      <td>1</td>\n",
       "      <td>Notre Dame</td>\n",
       "      <td>3</td>\n",
       "      <td>NaN</td>\n",
       "      <td>NaN</td>\n",
       "      <td>1</td>\n",
       "      <td>NaN</td>\n",
       "    </tr>\n",
       "    <tr>\n",
       "      <th>3</th>\n",
       "      <td>NaN</td>\n",
       "      <td>2023</td>\n",
       "      <td>NaN</td>\n",
       "      <td>W</td>\n",
       "      <td>1</td>\n",
       "      <td>UCLA</td>\n",
       "      <td>4</td>\n",
       "      <td>NaN</td>\n",
       "      <td>NaN</td>\n",
       "      <td>1</td>\n",
       "      <td>NaN</td>\n",
       "    </tr>\n",
       "    <tr>\n",
       "      <th>4</th>\n",
       "      <td>NaN</td>\n",
       "      <td>2023</td>\n",
       "      <td>NaN</td>\n",
       "      <td>W</td>\n",
       "      <td>1</td>\n",
       "      <td>Oklahoma</td>\n",
       "      <td>5</td>\n",
       "      <td>NaN</td>\n",
       "      <td>NaN</td>\n",
       "      <td>1</td>\n",
       "      <td>NaN</td>\n",
       "    </tr>\n",
       "    <tr>\n",
       "      <th>5</th>\n",
       "      <td>NaN</td>\n",
       "      <td>2023</td>\n",
       "      <td>NaN</td>\n",
       "      <td>W</td>\n",
       "      <td>1</td>\n",
       "      <td>Creighton</td>\n",
       "      <td>6</td>\n",
       "      <td>NaN</td>\n",
       "      <td>NaN</td>\n",
       "      <td>1</td>\n",
       "      <td>NaN</td>\n",
       "    </tr>\n",
       "    <tr>\n",
       "      <th>6</th>\n",
       "      <td>NaN</td>\n",
       "      <td>2023</td>\n",
       "      <td>NaN</td>\n",
       "      <td>W</td>\n",
       "      <td>1</td>\n",
       "      <td>Arizona</td>\n",
       "      <td>7</td>\n",
       "      <td>NaN</td>\n",
       "      <td>NaN</td>\n",
       "      <td>1</td>\n",
       "      <td>NaN</td>\n",
       "    </tr>\n",
       "    <tr>\n",
       "      <th>7</th>\n",
       "      <td>NaN</td>\n",
       "      <td>2023</td>\n",
       "      <td>NaN</td>\n",
       "      <td>W</td>\n",
       "      <td>1</td>\n",
       "      <td>South Florida</td>\n",
       "      <td>8</td>\n",
       "      <td>NaN</td>\n",
       "      <td>NaN</td>\n",
       "      <td>1</td>\n",
       "      <td>NaN</td>\n",
       "    </tr>\n",
       "    <tr>\n",
       "      <th>8</th>\n",
       "      <td>NaN</td>\n",
       "      <td>2023</td>\n",
       "      <td>NaN</td>\n",
       "      <td>W</td>\n",
       "      <td>1</td>\n",
       "      <td>Marquette</td>\n",
       "      <td>9</td>\n",
       "      <td>NaN</td>\n",
       "      <td>NaN</td>\n",
       "      <td>1</td>\n",
       "      <td>NaN</td>\n",
       "    </tr>\n",
       "    <tr>\n",
       "      <th>9</th>\n",
       "      <td>NaN</td>\n",
       "      <td>2023</td>\n",
       "      <td>NaN</td>\n",
       "      <td>W</td>\n",
       "      <td>1</td>\n",
       "      <td>West Virginia</td>\n",
       "      <td>10</td>\n",
       "      <td>NaN</td>\n",
       "      <td>NaN</td>\n",
       "      <td>1</td>\n",
       "      <td>NaN</td>\n",
       "    </tr>\n",
       "    <tr>\n",
       "      <th>10</th>\n",
       "      <td>NaN</td>\n",
       "      <td>2023</td>\n",
       "      <td>NaN</td>\n",
       "      <td>W</td>\n",
       "      <td>1</td>\n",
       "      <td>Mississippi St</td>\n",
       "      <td>11</td>\n",
       "      <td>NaN</td>\n",
       "      <td>NaN</td>\n",
       "      <td>1</td>\n",
       "      <td>NaN</td>\n",
       "    </tr>\n",
       "    <tr>\n",
       "      <th>11</th>\n",
       "      <td>NaN</td>\n",
       "      <td>2023</td>\n",
       "      <td>NaN</td>\n",
       "      <td>W</td>\n",
       "      <td>1</td>\n",
       "      <td>Portland</td>\n",
       "      <td>12</td>\n",
       "      <td>NaN</td>\n",
       "      <td>NaN</td>\n",
       "      <td>1</td>\n",
       "      <td>NaN</td>\n",
       "    </tr>\n",
       "    <tr>\n",
       "      <th>12</th>\n",
       "      <td>NaN</td>\n",
       "      <td>2023</td>\n",
       "      <td>NaN</td>\n",
       "      <td>W</td>\n",
       "      <td>1</td>\n",
       "      <td>CS Sacramento</td>\n",
       "      <td>13</td>\n",
       "      <td>NaN</td>\n",
       "      <td>NaN</td>\n",
       "      <td>1</td>\n",
       "      <td>NaN</td>\n",
       "    </tr>\n",
       "    <tr>\n",
       "      <th>13</th>\n",
       "      <td>NaN</td>\n",
       "      <td>2023</td>\n",
       "      <td>NaN</td>\n",
       "      <td>W</td>\n",
       "      <td>1</td>\n",
       "      <td>Southern Utah</td>\n",
       "      <td>14</td>\n",
       "      <td>NaN</td>\n",
       "      <td>NaN</td>\n",
       "      <td>1</td>\n",
       "      <td>NaN</td>\n",
       "    </tr>\n",
       "    <tr>\n",
       "      <th>14</th>\n",
       "      <td>NaN</td>\n",
       "      <td>2023</td>\n",
       "      <td>NaN</td>\n",
       "      <td>W</td>\n",
       "      <td>1</td>\n",
       "      <td>Holy Cross</td>\n",
       "      <td>15</td>\n",
       "      <td>NaN</td>\n",
       "      <td>NaN</td>\n",
       "      <td>1</td>\n",
       "      <td>NaN</td>\n",
       "    </tr>\n",
       "    <tr>\n",
       "      <th>15</th>\n",
       "      <td>NaN</td>\n",
       "      <td>2023</td>\n",
       "      <td>NaN</td>\n",
       "      <td>W</td>\n",
       "      <td>1</td>\n",
       "      <td>Norfolk St</td>\n",
       "      <td>16</td>\n",
       "      <td>NaN</td>\n",
       "      <td>NaN</td>\n",
       "      <td>1</td>\n",
       "      <td>NaN</td>\n",
       "    </tr>\n",
       "  </tbody>\n",
       "</table>\n",
       "</div>"
      ],
      "text/plain": [
       "    index  Year  Daynum Region  RegionNum            Team  Seed Team_Position  \\\n",
       "0     NaN  2023     NaN      W          1  South Carolina     1           NaN   \n",
       "1     NaN  2023     NaN      W          1        Maryland     2           NaN   \n",
       "2     NaN  2023     NaN      W          1      Notre Dame     3           NaN   \n",
       "3     NaN  2023     NaN      W          1            UCLA     4           NaN   \n",
       "4     NaN  2023     NaN      W          1        Oklahoma     5           NaN   \n",
       "5     NaN  2023     NaN      W          1       Creighton     6           NaN   \n",
       "6     NaN  2023     NaN      W          1         Arizona     7           NaN   \n",
       "7     NaN  2023     NaN      W          1   South Florida     8           NaN   \n",
       "8     NaN  2023     NaN      W          1       Marquette     9           NaN   \n",
       "9     NaN  2023     NaN      W          1   West Virginia    10           NaN   \n",
       "10    NaN  2023     NaN      W          1  Mississippi St    11           NaN   \n",
       "11    NaN  2023     NaN      W          1        Portland    12           NaN   \n",
       "12    NaN  2023     NaN      W          1   CS Sacramento    13           NaN   \n",
       "13    NaN  2023     NaN      W          1   Southern Utah    14           NaN   \n",
       "14    NaN  2023     NaN      W          1      Holy Cross    15           NaN   \n",
       "15    NaN  2023     NaN      W          1      Norfolk St    16           NaN   \n",
       "\n",
       "    Mapped_Round  Round GameSlot  \n",
       "0            NaN      1      NaN  \n",
       "1            NaN      1      NaN  \n",
       "2            NaN      1      NaN  \n",
       "3            NaN      1      NaN  \n",
       "4            NaN      1      NaN  \n",
       "5            NaN      1      NaN  \n",
       "6            NaN      1      NaN  \n",
       "7            NaN      1      NaN  \n",
       "8            NaN      1      NaN  \n",
       "9            NaN      1      NaN  \n",
       "10           NaN      1      NaN  \n",
       "11           NaN      1      NaN  \n",
       "12           NaN      1      NaN  \n",
       "13           NaN      1      NaN  \n",
       "14           NaN      1      NaN  \n",
       "15           NaN      1      NaN  "
      ]
     },
     "metadata": {},
     "output_type": "display_data"
    },
    {
     "name": "stdout",
     "output_type": "stream",
     "text": [
      "['East' 'Midwest' 'West' 'W' 'X' 'Y' 'Z' 'South']\n"
     ]
    },
    {
     "data": {
      "text/plain": [
       "'X'"
      ]
     },
     "metadata": {},
     "output_type": "display_data"
    },
    {
     "data": {
      "text/html": [
       "<div>\n",
       "<style scoped>\n",
       "    .dataframe tbody tr th:only-of-type {\n",
       "        vertical-align: middle;\n",
       "    }\n",
       "\n",
       "    .dataframe tbody tr th {\n",
       "        vertical-align: top;\n",
       "    }\n",
       "\n",
       "    .dataframe thead th {\n",
       "        text-align: right;\n",
       "    }\n",
       "</style>\n",
       "<table border=\"1\" class=\"dataframe\">\n",
       "  <thead>\n",
       "    <tr style=\"text-align: right;\">\n",
       "      <th></th>\n",
       "      <th>index</th>\n",
       "      <th>Year</th>\n",
       "      <th>Daynum</th>\n",
       "      <th>Region</th>\n",
       "      <th>RegionNum</th>\n",
       "      <th>Team</th>\n",
       "      <th>Seed</th>\n",
       "      <th>Team_Position</th>\n",
       "      <th>Mapped_Round</th>\n",
       "      <th>Round</th>\n",
       "      <th>GameSlot</th>\n",
       "    </tr>\n",
       "  </thead>\n",
       "  <tbody>\n",
       "    <tr>\n",
       "      <th>2223</th>\n",
       "      <td>NaN</td>\n",
       "      <td>2023</td>\n",
       "      <td>NaN</td>\n",
       "      <td>X</td>\n",
       "      <td>2</td>\n",
       "      <td>Stanford</td>\n",
       "      <td>1</td>\n",
       "      <td>NaN</td>\n",
       "      <td>NaN</td>\n",
       "      <td>1</td>\n",
       "      <td>NaN</td>\n",
       "    </tr>\n",
       "    <tr>\n",
       "      <th>2224</th>\n",
       "      <td>NaN</td>\n",
       "      <td>2023</td>\n",
       "      <td>NaN</td>\n",
       "      <td>X</td>\n",
       "      <td>2</td>\n",
       "      <td>Iowa</td>\n",
       "      <td>2</td>\n",
       "      <td>NaN</td>\n",
       "      <td>NaN</td>\n",
       "      <td>1</td>\n",
       "      <td>NaN</td>\n",
       "    </tr>\n",
       "    <tr>\n",
       "      <th>2225</th>\n",
       "      <td>NaN</td>\n",
       "      <td>2023</td>\n",
       "      <td>NaN</td>\n",
       "      <td>X</td>\n",
       "      <td>2</td>\n",
       "      <td>Duke</td>\n",
       "      <td>3</td>\n",
       "      <td>NaN</td>\n",
       "      <td>NaN</td>\n",
       "      <td>1</td>\n",
       "      <td>NaN</td>\n",
       "    </tr>\n",
       "    <tr>\n",
       "      <th>2226</th>\n",
       "      <td>NaN</td>\n",
       "      <td>2023</td>\n",
       "      <td>NaN</td>\n",
       "      <td>X</td>\n",
       "      <td>2</td>\n",
       "      <td>Texas</td>\n",
       "      <td>4</td>\n",
       "      <td>NaN</td>\n",
       "      <td>NaN</td>\n",
       "      <td>1</td>\n",
       "      <td>NaN</td>\n",
       "    </tr>\n",
       "    <tr>\n",
       "      <th>2227</th>\n",
       "      <td>NaN</td>\n",
       "      <td>2023</td>\n",
       "      <td>NaN</td>\n",
       "      <td>X</td>\n",
       "      <td>2</td>\n",
       "      <td>Louisville</td>\n",
       "      <td>5</td>\n",
       "      <td>NaN</td>\n",
       "      <td>NaN</td>\n",
       "      <td>1</td>\n",
       "      <td>NaN</td>\n",
       "    </tr>\n",
       "    <tr>\n",
       "      <th>2228</th>\n",
       "      <td>NaN</td>\n",
       "      <td>2023</td>\n",
       "      <td>NaN</td>\n",
       "      <td>X</td>\n",
       "      <td>2</td>\n",
       "      <td>Colorado</td>\n",
       "      <td>6</td>\n",
       "      <td>NaN</td>\n",
       "      <td>NaN</td>\n",
       "      <td>1</td>\n",
       "      <td>NaN</td>\n",
       "    </tr>\n",
       "    <tr>\n",
       "      <th>2229</th>\n",
       "      <td>NaN</td>\n",
       "      <td>2023</td>\n",
       "      <td>NaN</td>\n",
       "      <td>X</td>\n",
       "      <td>2</td>\n",
       "      <td>Florida St</td>\n",
       "      <td>7</td>\n",
       "      <td>NaN</td>\n",
       "      <td>NaN</td>\n",
       "      <td>1</td>\n",
       "      <td>NaN</td>\n",
       "    </tr>\n",
       "    <tr>\n",
       "      <th>2230</th>\n",
       "      <td>NaN</td>\n",
       "      <td>2023</td>\n",
       "      <td>NaN</td>\n",
       "      <td>X</td>\n",
       "      <td>2</td>\n",
       "      <td>Mississippi</td>\n",
       "      <td>8</td>\n",
       "      <td>NaN</td>\n",
       "      <td>NaN</td>\n",
       "      <td>1</td>\n",
       "      <td>NaN</td>\n",
       "    </tr>\n",
       "    <tr>\n",
       "      <th>2231</th>\n",
       "      <td>NaN</td>\n",
       "      <td>2023</td>\n",
       "      <td>NaN</td>\n",
       "      <td>X</td>\n",
       "      <td>2</td>\n",
       "      <td>Gonzaga</td>\n",
       "      <td>9</td>\n",
       "      <td>NaN</td>\n",
       "      <td>NaN</td>\n",
       "      <td>1</td>\n",
       "      <td>NaN</td>\n",
       "    </tr>\n",
       "    <tr>\n",
       "      <th>2232</th>\n",
       "      <td>NaN</td>\n",
       "      <td>2023</td>\n",
       "      <td>NaN</td>\n",
       "      <td>X</td>\n",
       "      <td>2</td>\n",
       "      <td>Georgia</td>\n",
       "      <td>10</td>\n",
       "      <td>NaN</td>\n",
       "      <td>NaN</td>\n",
       "      <td>1</td>\n",
       "      <td>NaN</td>\n",
       "    </tr>\n",
       "    <tr>\n",
       "      <th>2233</th>\n",
       "      <td>NaN</td>\n",
       "      <td>2023</td>\n",
       "      <td>NaN</td>\n",
       "      <td>X</td>\n",
       "      <td>2</td>\n",
       "      <td>MTSU</td>\n",
       "      <td>11</td>\n",
       "      <td>NaN</td>\n",
       "      <td>NaN</td>\n",
       "      <td>1</td>\n",
       "      <td>NaN</td>\n",
       "    </tr>\n",
       "    <tr>\n",
       "      <th>2234</th>\n",
       "      <td>NaN</td>\n",
       "      <td>2023</td>\n",
       "      <td>NaN</td>\n",
       "      <td>X</td>\n",
       "      <td>2</td>\n",
       "      <td>Drake</td>\n",
       "      <td>12</td>\n",
       "      <td>NaN</td>\n",
       "      <td>NaN</td>\n",
       "      <td>1</td>\n",
       "      <td>NaN</td>\n",
       "    </tr>\n",
       "    <tr>\n",
       "      <th>2235</th>\n",
       "      <td>NaN</td>\n",
       "      <td>2023</td>\n",
       "      <td>NaN</td>\n",
       "      <td>X</td>\n",
       "      <td>2</td>\n",
       "      <td>East Carolina</td>\n",
       "      <td>13</td>\n",
       "      <td>NaN</td>\n",
       "      <td>NaN</td>\n",
       "      <td>1</td>\n",
       "      <td>NaN</td>\n",
       "    </tr>\n",
       "    <tr>\n",
       "      <th>2236</th>\n",
       "      <td>NaN</td>\n",
       "      <td>2023</td>\n",
       "      <td>NaN</td>\n",
       "      <td>X</td>\n",
       "      <td>2</td>\n",
       "      <td>Iona</td>\n",
       "      <td>14</td>\n",
       "      <td>NaN</td>\n",
       "      <td>NaN</td>\n",
       "      <td>1</td>\n",
       "      <td>NaN</td>\n",
       "    </tr>\n",
       "    <tr>\n",
       "      <th>2237</th>\n",
       "      <td>NaN</td>\n",
       "      <td>2023</td>\n",
       "      <td>NaN</td>\n",
       "      <td>X</td>\n",
       "      <td>2</td>\n",
       "      <td>SE Louisiana</td>\n",
       "      <td>15</td>\n",
       "      <td>NaN</td>\n",
       "      <td>NaN</td>\n",
       "      <td>1</td>\n",
       "      <td>NaN</td>\n",
       "    </tr>\n",
       "    <tr>\n",
       "      <th>2238</th>\n",
       "      <td>NaN</td>\n",
       "      <td>2023</td>\n",
       "      <td>NaN</td>\n",
       "      <td>X</td>\n",
       "      <td>2</td>\n",
       "      <td>Sacred Heart</td>\n",
       "      <td>16</td>\n",
       "      <td>NaN</td>\n",
       "      <td>NaN</td>\n",
       "      <td>1</td>\n",
       "      <td>NaN</td>\n",
       "    </tr>\n",
       "    <tr>\n",
       "      <th>2239</th>\n",
       "      <td>NaN</td>\n",
       "      <td>2023</td>\n",
       "      <td>NaN</td>\n",
       "      <td>X</td>\n",
       "      <td>2</td>\n",
       "      <td>Southern Univ</td>\n",
       "      <td>16</td>\n",
       "      <td>NaN</td>\n",
       "      <td>NaN</td>\n",
       "      <td>1</td>\n",
       "      <td>NaN</td>\n",
       "    </tr>\n",
       "  </tbody>\n",
       "</table>\n",
       "</div>"
      ],
      "text/plain": [
       "      index  Year  Daynum Region  RegionNum           Team  Seed  \\\n",
       "2223    NaN  2023     NaN      X          2       Stanford     1   \n",
       "2224    NaN  2023     NaN      X          2           Iowa     2   \n",
       "2225    NaN  2023     NaN      X          2           Duke     3   \n",
       "2226    NaN  2023     NaN      X          2          Texas     4   \n",
       "2227    NaN  2023     NaN      X          2     Louisville     5   \n",
       "2228    NaN  2023     NaN      X          2       Colorado     6   \n",
       "2229    NaN  2023     NaN      X          2     Florida St     7   \n",
       "2230    NaN  2023     NaN      X          2    Mississippi     8   \n",
       "2231    NaN  2023     NaN      X          2        Gonzaga     9   \n",
       "2232    NaN  2023     NaN      X          2        Georgia    10   \n",
       "2233    NaN  2023     NaN      X          2           MTSU    11   \n",
       "2234    NaN  2023     NaN      X          2          Drake    12   \n",
       "2235    NaN  2023     NaN      X          2  East Carolina    13   \n",
       "2236    NaN  2023     NaN      X          2           Iona    14   \n",
       "2237    NaN  2023     NaN      X          2   SE Louisiana    15   \n",
       "2238    NaN  2023     NaN      X          2   Sacred Heart    16   \n",
       "2239    NaN  2023     NaN      X          2  Southern Univ    16   \n",
       "\n",
       "     Team_Position  Mapped_Round  Round GameSlot  \n",
       "2223           NaN           NaN      1      NaN  \n",
       "2224           NaN           NaN      1      NaN  \n",
       "2225           NaN           NaN      1      NaN  \n",
       "2226           NaN           NaN      1      NaN  \n",
       "2227           NaN           NaN      1      NaN  \n",
       "2228           NaN           NaN      1      NaN  \n",
       "2229           NaN           NaN      1      NaN  \n",
       "2230           NaN           NaN      1      NaN  \n",
       "2231           NaN           NaN      1      NaN  \n",
       "2232           NaN           NaN      1      NaN  \n",
       "2233           NaN           NaN      1      NaN  \n",
       "2234           NaN           NaN      1      NaN  \n",
       "2235           NaN           NaN      1      NaN  \n",
       "2236           NaN           NaN      1      NaN  \n",
       "2237           NaN           NaN      1      NaN  \n",
       "2238           NaN           NaN      1      NaN  \n",
       "2239           NaN           NaN      1      NaN  "
      ]
     },
     "metadata": {},
     "output_type": "display_data"
    },
    {
     "data": {
      "text/plain": [
       "'X'"
      ]
     },
     "metadata": {},
     "output_type": "display_data"
    },
    {
     "data": {
      "text/html": [
       "<div>\n",
       "<style scoped>\n",
       "    .dataframe tbody tr th:only-of-type {\n",
       "        vertical-align: middle;\n",
       "    }\n",
       "\n",
       "    .dataframe tbody tr th {\n",
       "        vertical-align: top;\n",
       "    }\n",
       "\n",
       "    .dataframe thead th {\n",
       "        text-align: right;\n",
       "    }\n",
       "</style>\n",
       "<table border=\"1\" class=\"dataframe\">\n",
       "  <thead>\n",
       "    <tr style=\"text-align: right;\">\n",
       "      <th></th>\n",
       "      <th>index</th>\n",
       "      <th>Year</th>\n",
       "      <th>Daynum</th>\n",
       "      <th>Region</th>\n",
       "      <th>RegionNum</th>\n",
       "      <th>Team</th>\n",
       "      <th>Seed</th>\n",
       "      <th>Team_Position</th>\n",
       "      <th>Mapped_Round</th>\n",
       "      <th>Round</th>\n",
       "      <th>GameSlot</th>\n",
       "    </tr>\n",
       "  </thead>\n",
       "  <tbody>\n",
       "    <tr>\n",
       "      <th>0</th>\n",
       "      <td>NaN</td>\n",
       "      <td>2023</td>\n",
       "      <td>NaN</td>\n",
       "      <td>X</td>\n",
       "      <td>2</td>\n",
       "      <td>Stanford</td>\n",
       "      <td>1</td>\n",
       "      <td>NaN</td>\n",
       "      <td>NaN</td>\n",
       "      <td>1</td>\n",
       "      <td>NaN</td>\n",
       "    </tr>\n",
       "    <tr>\n",
       "      <th>1</th>\n",
       "      <td>NaN</td>\n",
       "      <td>2023</td>\n",
       "      <td>NaN</td>\n",
       "      <td>X</td>\n",
       "      <td>2</td>\n",
       "      <td>Iowa</td>\n",
       "      <td>2</td>\n",
       "      <td>NaN</td>\n",
       "      <td>NaN</td>\n",
       "      <td>1</td>\n",
       "      <td>NaN</td>\n",
       "    </tr>\n",
       "    <tr>\n",
       "      <th>2</th>\n",
       "      <td>NaN</td>\n",
       "      <td>2023</td>\n",
       "      <td>NaN</td>\n",
       "      <td>X</td>\n",
       "      <td>2</td>\n",
       "      <td>Duke</td>\n",
       "      <td>3</td>\n",
       "      <td>NaN</td>\n",
       "      <td>NaN</td>\n",
       "      <td>1</td>\n",
       "      <td>NaN</td>\n",
       "    </tr>\n",
       "    <tr>\n",
       "      <th>3</th>\n",
       "      <td>NaN</td>\n",
       "      <td>2023</td>\n",
       "      <td>NaN</td>\n",
       "      <td>X</td>\n",
       "      <td>2</td>\n",
       "      <td>Texas</td>\n",
       "      <td>4</td>\n",
       "      <td>NaN</td>\n",
       "      <td>NaN</td>\n",
       "      <td>1</td>\n",
       "      <td>NaN</td>\n",
       "    </tr>\n",
       "    <tr>\n",
       "      <th>4</th>\n",
       "      <td>NaN</td>\n",
       "      <td>2023</td>\n",
       "      <td>NaN</td>\n",
       "      <td>X</td>\n",
       "      <td>2</td>\n",
       "      <td>Louisville</td>\n",
       "      <td>5</td>\n",
       "      <td>NaN</td>\n",
       "      <td>NaN</td>\n",
       "      <td>1</td>\n",
       "      <td>NaN</td>\n",
       "    </tr>\n",
       "    <tr>\n",
       "      <th>5</th>\n",
       "      <td>NaN</td>\n",
       "      <td>2023</td>\n",
       "      <td>NaN</td>\n",
       "      <td>X</td>\n",
       "      <td>2</td>\n",
       "      <td>Colorado</td>\n",
       "      <td>6</td>\n",
       "      <td>NaN</td>\n",
       "      <td>NaN</td>\n",
       "      <td>1</td>\n",
       "      <td>NaN</td>\n",
       "    </tr>\n",
       "    <tr>\n",
       "      <th>6</th>\n",
       "      <td>NaN</td>\n",
       "      <td>2023</td>\n",
       "      <td>NaN</td>\n",
       "      <td>X</td>\n",
       "      <td>2</td>\n",
       "      <td>Florida St</td>\n",
       "      <td>7</td>\n",
       "      <td>NaN</td>\n",
       "      <td>NaN</td>\n",
       "      <td>1</td>\n",
       "      <td>NaN</td>\n",
       "    </tr>\n",
       "    <tr>\n",
       "      <th>7</th>\n",
       "      <td>NaN</td>\n",
       "      <td>2023</td>\n",
       "      <td>NaN</td>\n",
       "      <td>X</td>\n",
       "      <td>2</td>\n",
       "      <td>Mississippi</td>\n",
       "      <td>8</td>\n",
       "      <td>NaN</td>\n",
       "      <td>NaN</td>\n",
       "      <td>1</td>\n",
       "      <td>NaN</td>\n",
       "    </tr>\n",
       "    <tr>\n",
       "      <th>8</th>\n",
       "      <td>NaN</td>\n",
       "      <td>2023</td>\n",
       "      <td>NaN</td>\n",
       "      <td>X</td>\n",
       "      <td>2</td>\n",
       "      <td>Gonzaga</td>\n",
       "      <td>9</td>\n",
       "      <td>NaN</td>\n",
       "      <td>NaN</td>\n",
       "      <td>1</td>\n",
       "      <td>NaN</td>\n",
       "    </tr>\n",
       "    <tr>\n",
       "      <th>9</th>\n",
       "      <td>NaN</td>\n",
       "      <td>2023</td>\n",
       "      <td>NaN</td>\n",
       "      <td>X</td>\n",
       "      <td>2</td>\n",
       "      <td>Georgia</td>\n",
       "      <td>10</td>\n",
       "      <td>NaN</td>\n",
       "      <td>NaN</td>\n",
       "      <td>1</td>\n",
       "      <td>NaN</td>\n",
       "    </tr>\n",
       "    <tr>\n",
       "      <th>10</th>\n",
       "      <td>NaN</td>\n",
       "      <td>2023</td>\n",
       "      <td>NaN</td>\n",
       "      <td>X</td>\n",
       "      <td>2</td>\n",
       "      <td>MTSU</td>\n",
       "      <td>11</td>\n",
       "      <td>NaN</td>\n",
       "      <td>NaN</td>\n",
       "      <td>1</td>\n",
       "      <td>NaN</td>\n",
       "    </tr>\n",
       "    <tr>\n",
       "      <th>11</th>\n",
       "      <td>NaN</td>\n",
       "      <td>2023</td>\n",
       "      <td>NaN</td>\n",
       "      <td>X</td>\n",
       "      <td>2</td>\n",
       "      <td>Drake</td>\n",
       "      <td>12</td>\n",
       "      <td>NaN</td>\n",
       "      <td>NaN</td>\n",
       "      <td>1</td>\n",
       "      <td>NaN</td>\n",
       "    </tr>\n",
       "    <tr>\n",
       "      <th>12</th>\n",
       "      <td>NaN</td>\n",
       "      <td>2023</td>\n",
       "      <td>NaN</td>\n",
       "      <td>X</td>\n",
       "      <td>2</td>\n",
       "      <td>East Carolina</td>\n",
       "      <td>13</td>\n",
       "      <td>NaN</td>\n",
       "      <td>NaN</td>\n",
       "      <td>1</td>\n",
       "      <td>NaN</td>\n",
       "    </tr>\n",
       "    <tr>\n",
       "      <th>13</th>\n",
       "      <td>NaN</td>\n",
       "      <td>2023</td>\n",
       "      <td>NaN</td>\n",
       "      <td>X</td>\n",
       "      <td>2</td>\n",
       "      <td>Iona</td>\n",
       "      <td>14</td>\n",
       "      <td>NaN</td>\n",
       "      <td>NaN</td>\n",
       "      <td>1</td>\n",
       "      <td>NaN</td>\n",
       "    </tr>\n",
       "    <tr>\n",
       "      <th>14</th>\n",
       "      <td>NaN</td>\n",
       "      <td>2023</td>\n",
       "      <td>NaN</td>\n",
       "      <td>X</td>\n",
       "      <td>2</td>\n",
       "      <td>SE Louisiana</td>\n",
       "      <td>15</td>\n",
       "      <td>NaN</td>\n",
       "      <td>NaN</td>\n",
       "      <td>1</td>\n",
       "      <td>NaN</td>\n",
       "    </tr>\n",
       "    <tr>\n",
       "      <th>15</th>\n",
       "      <td>NaN</td>\n",
       "      <td>2023</td>\n",
       "      <td>NaN</td>\n",
       "      <td>X</td>\n",
       "      <td>2</td>\n",
       "      <td>Sacred Heart</td>\n",
       "      <td>16</td>\n",
       "      <td>NaN</td>\n",
       "      <td>NaN</td>\n",
       "      <td>1</td>\n",
       "      <td>NaN</td>\n",
       "    </tr>\n",
       "  </tbody>\n",
       "</table>\n",
       "</div>"
      ],
      "text/plain": [
       "    index  Year  Daynum Region  RegionNum           Team  Seed Team_Position  \\\n",
       "0     NaN  2023     NaN      X          2       Stanford     1           NaN   \n",
       "1     NaN  2023     NaN      X          2           Iowa     2           NaN   \n",
       "2     NaN  2023     NaN      X          2           Duke     3           NaN   \n",
       "3     NaN  2023     NaN      X          2          Texas     4           NaN   \n",
       "4     NaN  2023     NaN      X          2     Louisville     5           NaN   \n",
       "5     NaN  2023     NaN      X          2       Colorado     6           NaN   \n",
       "6     NaN  2023     NaN      X          2     Florida St     7           NaN   \n",
       "7     NaN  2023     NaN      X          2    Mississippi     8           NaN   \n",
       "8     NaN  2023     NaN      X          2        Gonzaga     9           NaN   \n",
       "9     NaN  2023     NaN      X          2        Georgia    10           NaN   \n",
       "10    NaN  2023     NaN      X          2           MTSU    11           NaN   \n",
       "11    NaN  2023     NaN      X          2          Drake    12           NaN   \n",
       "12    NaN  2023     NaN      X          2  East Carolina    13           NaN   \n",
       "13    NaN  2023     NaN      X          2           Iona    14           NaN   \n",
       "14    NaN  2023     NaN      X          2   SE Louisiana    15           NaN   \n",
       "15    NaN  2023     NaN      X          2   Sacred Heart    16           NaN   \n",
       "\n",
       "    Mapped_Round  Round GameSlot  \n",
       "0            NaN      1      NaN  \n",
       "1            NaN      1      NaN  \n",
       "2            NaN      1      NaN  \n",
       "3            NaN      1      NaN  \n",
       "4            NaN      1      NaN  \n",
       "5            NaN      1      NaN  \n",
       "6            NaN      1      NaN  \n",
       "7            NaN      1      NaN  \n",
       "8            NaN      1      NaN  \n",
       "9            NaN      1      NaN  \n",
       "10           NaN      1      NaN  \n",
       "11           NaN      1      NaN  \n",
       "12           NaN      1      NaN  \n",
       "13           NaN      1      NaN  \n",
       "14           NaN      1      NaN  \n",
       "15           NaN      1      NaN  "
      ]
     },
     "metadata": {},
     "output_type": "display_data"
    },
    {
     "name": "stdout",
     "output_type": "stream",
     "text": [
      "['East' 'Midwest' 'West' 'W' 'X' 'Y' 'Z' 'South']\n"
     ]
    },
    {
     "data": {
      "text/plain": [
       "'Y'"
      ]
     },
     "metadata": {},
     "output_type": "display_data"
    },
    {
     "data": {
      "text/html": [
       "<div>\n",
       "<style scoped>\n",
       "    .dataframe tbody tr th:only-of-type {\n",
       "        vertical-align: middle;\n",
       "    }\n",
       "\n",
       "    .dataframe tbody tr th {\n",
       "        vertical-align: top;\n",
       "    }\n",
       "\n",
       "    .dataframe thead th {\n",
       "        text-align: right;\n",
       "    }\n",
       "</style>\n",
       "<table border=\"1\" class=\"dataframe\">\n",
       "  <thead>\n",
       "    <tr style=\"text-align: right;\">\n",
       "      <th></th>\n",
       "      <th>index</th>\n",
       "      <th>Year</th>\n",
       "      <th>Daynum</th>\n",
       "      <th>Region</th>\n",
       "      <th>RegionNum</th>\n",
       "      <th>Team</th>\n",
       "      <th>Seed</th>\n",
       "      <th>Team_Position</th>\n",
       "      <th>Mapped_Round</th>\n",
       "      <th>Round</th>\n",
       "      <th>GameSlot</th>\n",
       "    </tr>\n",
       "  </thead>\n",
       "  <tbody>\n",
       "    <tr>\n",
       "      <th>2240</th>\n",
       "      <td>NaN</td>\n",
       "      <td>2023</td>\n",
       "      <td>NaN</td>\n",
       "      <td>Y</td>\n",
       "      <td>3</td>\n",
       "      <td>Indiana</td>\n",
       "      <td>1</td>\n",
       "      <td>NaN</td>\n",
       "      <td>NaN</td>\n",
       "      <td>1</td>\n",
       "      <td>NaN</td>\n",
       "    </tr>\n",
       "    <tr>\n",
       "      <th>2241</th>\n",
       "      <td>NaN</td>\n",
       "      <td>2023</td>\n",
       "      <td>NaN</td>\n",
       "      <td>Y</td>\n",
       "      <td>3</td>\n",
       "      <td>Utah</td>\n",
       "      <td>2</td>\n",
       "      <td>NaN</td>\n",
       "      <td>NaN</td>\n",
       "      <td>1</td>\n",
       "      <td>NaN</td>\n",
       "    </tr>\n",
       "    <tr>\n",
       "      <th>2242</th>\n",
       "      <td>NaN</td>\n",
       "      <td>2023</td>\n",
       "      <td>NaN</td>\n",
       "      <td>Y</td>\n",
       "      <td>3</td>\n",
       "      <td>LSU</td>\n",
       "      <td>3</td>\n",
       "      <td>NaN</td>\n",
       "      <td>NaN</td>\n",
       "      <td>1</td>\n",
       "      <td>NaN</td>\n",
       "    </tr>\n",
       "    <tr>\n",
       "      <th>2243</th>\n",
       "      <td>NaN</td>\n",
       "      <td>2023</td>\n",
       "      <td>NaN</td>\n",
       "      <td>Y</td>\n",
       "      <td>3</td>\n",
       "      <td>Villanova</td>\n",
       "      <td>4</td>\n",
       "      <td>NaN</td>\n",
       "      <td>NaN</td>\n",
       "      <td>1</td>\n",
       "      <td>NaN</td>\n",
       "    </tr>\n",
       "    <tr>\n",
       "      <th>2244</th>\n",
       "      <td>NaN</td>\n",
       "      <td>2023</td>\n",
       "      <td>NaN</td>\n",
       "      <td>Y</td>\n",
       "      <td>3</td>\n",
       "      <td>Washington St</td>\n",
       "      <td>5</td>\n",
       "      <td>NaN</td>\n",
       "      <td>NaN</td>\n",
       "      <td>1</td>\n",
       "      <td>NaN</td>\n",
       "    </tr>\n",
       "    <tr>\n",
       "      <th>2245</th>\n",
       "      <td>NaN</td>\n",
       "      <td>2023</td>\n",
       "      <td>NaN</td>\n",
       "      <td>Y</td>\n",
       "      <td>3</td>\n",
       "      <td>Michigan</td>\n",
       "      <td>6</td>\n",
       "      <td>NaN</td>\n",
       "      <td>NaN</td>\n",
       "      <td>1</td>\n",
       "      <td>NaN</td>\n",
       "    </tr>\n",
       "    <tr>\n",
       "      <th>2246</th>\n",
       "      <td>NaN</td>\n",
       "      <td>2023</td>\n",
       "      <td>NaN</td>\n",
       "      <td>Y</td>\n",
       "      <td>3</td>\n",
       "      <td>NC State</td>\n",
       "      <td>7</td>\n",
       "      <td>NaN</td>\n",
       "      <td>NaN</td>\n",
       "      <td>1</td>\n",
       "      <td>NaN</td>\n",
       "    </tr>\n",
       "    <tr>\n",
       "      <th>2247</th>\n",
       "      <td>NaN</td>\n",
       "      <td>2023</td>\n",
       "      <td>NaN</td>\n",
       "      <td>Y</td>\n",
       "      <td>3</td>\n",
       "      <td>Oklahoma St</td>\n",
       "      <td>8</td>\n",
       "      <td>NaN</td>\n",
       "      <td>NaN</td>\n",
       "      <td>1</td>\n",
       "      <td>NaN</td>\n",
       "    </tr>\n",
       "    <tr>\n",
       "      <th>2248</th>\n",
       "      <td>NaN</td>\n",
       "      <td>2023</td>\n",
       "      <td>NaN</td>\n",
       "      <td>Y</td>\n",
       "      <td>3</td>\n",
       "      <td>Miami FL</td>\n",
       "      <td>9</td>\n",
       "      <td>NaN</td>\n",
       "      <td>NaN</td>\n",
       "      <td>1</td>\n",
       "      <td>NaN</td>\n",
       "    </tr>\n",
       "    <tr>\n",
       "      <th>2249</th>\n",
       "      <td>NaN</td>\n",
       "      <td>2023</td>\n",
       "      <td>NaN</td>\n",
       "      <td>Y</td>\n",
       "      <td>3</td>\n",
       "      <td>Princeton</td>\n",
       "      <td>10</td>\n",
       "      <td>NaN</td>\n",
       "      <td>NaN</td>\n",
       "      <td>1</td>\n",
       "      <td>NaN</td>\n",
       "    </tr>\n",
       "    <tr>\n",
       "      <th>2250</th>\n",
       "      <td>NaN</td>\n",
       "      <td>2023</td>\n",
       "      <td>NaN</td>\n",
       "      <td>Y</td>\n",
       "      <td>3</td>\n",
       "      <td>UNLV</td>\n",
       "      <td>11</td>\n",
       "      <td>NaN</td>\n",
       "      <td>NaN</td>\n",
       "      <td>1</td>\n",
       "      <td>NaN</td>\n",
       "    </tr>\n",
       "    <tr>\n",
       "      <th>2251</th>\n",
       "      <td>NaN</td>\n",
       "      <td>2023</td>\n",
       "      <td>NaN</td>\n",
       "      <td>Y</td>\n",
       "      <td>3</td>\n",
       "      <td>FL Gulf Coast</td>\n",
       "      <td>12</td>\n",
       "      <td>NaN</td>\n",
       "      <td>NaN</td>\n",
       "      <td>1</td>\n",
       "      <td>NaN</td>\n",
       "    </tr>\n",
       "    <tr>\n",
       "      <th>2252</th>\n",
       "      <td>NaN</td>\n",
       "      <td>2023</td>\n",
       "      <td>NaN</td>\n",
       "      <td>Y</td>\n",
       "      <td>3</td>\n",
       "      <td>Cleveland St</td>\n",
       "      <td>13</td>\n",
       "      <td>NaN</td>\n",
       "      <td>NaN</td>\n",
       "      <td>1</td>\n",
       "      <td>NaN</td>\n",
       "    </tr>\n",
       "    <tr>\n",
       "      <th>2253</th>\n",
       "      <td>NaN</td>\n",
       "      <td>2023</td>\n",
       "      <td>NaN</td>\n",
       "      <td>Y</td>\n",
       "      <td>3</td>\n",
       "      <td>Hawaii</td>\n",
       "      <td>14</td>\n",
       "      <td>NaN</td>\n",
       "      <td>NaN</td>\n",
       "      <td>1</td>\n",
       "      <td>NaN</td>\n",
       "    </tr>\n",
       "    <tr>\n",
       "      <th>2254</th>\n",
       "      <td>NaN</td>\n",
       "      <td>2023</td>\n",
       "      <td>NaN</td>\n",
       "      <td>Y</td>\n",
       "      <td>3</td>\n",
       "      <td>Gardner Webb</td>\n",
       "      <td>15</td>\n",
       "      <td>NaN</td>\n",
       "      <td>NaN</td>\n",
       "      <td>1</td>\n",
       "      <td>NaN</td>\n",
       "    </tr>\n",
       "    <tr>\n",
       "      <th>2256</th>\n",
       "      <td>NaN</td>\n",
       "      <td>2023</td>\n",
       "      <td>NaN</td>\n",
       "      <td>Y</td>\n",
       "      <td>3</td>\n",
       "      <td>Tennessee Tech</td>\n",
       "      <td>16</td>\n",
       "      <td>NaN</td>\n",
       "      <td>NaN</td>\n",
       "      <td>1</td>\n",
       "      <td>NaN</td>\n",
       "    </tr>\n",
       "    <tr>\n",
       "      <th>2255</th>\n",
       "      <td>NaN</td>\n",
       "      <td>2023</td>\n",
       "      <td>NaN</td>\n",
       "      <td>Y</td>\n",
       "      <td>3</td>\n",
       "      <td>Monmouth NJ</td>\n",
       "      <td>16</td>\n",
       "      <td>NaN</td>\n",
       "      <td>NaN</td>\n",
       "      <td>1</td>\n",
       "      <td>NaN</td>\n",
       "    </tr>\n",
       "  </tbody>\n",
       "</table>\n",
       "</div>"
      ],
      "text/plain": [
       "      index  Year  Daynum Region  RegionNum            Team  Seed  \\\n",
       "2240    NaN  2023     NaN      Y          3         Indiana     1   \n",
       "2241    NaN  2023     NaN      Y          3            Utah     2   \n",
       "2242    NaN  2023     NaN      Y          3             LSU     3   \n",
       "2243    NaN  2023     NaN      Y          3       Villanova     4   \n",
       "2244    NaN  2023     NaN      Y          3   Washington St     5   \n",
       "2245    NaN  2023     NaN      Y          3        Michigan     6   \n",
       "2246    NaN  2023     NaN      Y          3        NC State     7   \n",
       "2247    NaN  2023     NaN      Y          3     Oklahoma St     8   \n",
       "2248    NaN  2023     NaN      Y          3        Miami FL     9   \n",
       "2249    NaN  2023     NaN      Y          3       Princeton    10   \n",
       "2250    NaN  2023     NaN      Y          3            UNLV    11   \n",
       "2251    NaN  2023     NaN      Y          3   FL Gulf Coast    12   \n",
       "2252    NaN  2023     NaN      Y          3    Cleveland St    13   \n",
       "2253    NaN  2023     NaN      Y          3          Hawaii    14   \n",
       "2254    NaN  2023     NaN      Y          3    Gardner Webb    15   \n",
       "2256    NaN  2023     NaN      Y          3  Tennessee Tech    16   \n",
       "2255    NaN  2023     NaN      Y          3     Monmouth NJ    16   \n",
       "\n",
       "     Team_Position  Mapped_Round  Round GameSlot  \n",
       "2240           NaN           NaN      1      NaN  \n",
       "2241           NaN           NaN      1      NaN  \n",
       "2242           NaN           NaN      1      NaN  \n",
       "2243           NaN           NaN      1      NaN  \n",
       "2244           NaN           NaN      1      NaN  \n",
       "2245           NaN           NaN      1      NaN  \n",
       "2246           NaN           NaN      1      NaN  \n",
       "2247           NaN           NaN      1      NaN  \n",
       "2248           NaN           NaN      1      NaN  \n",
       "2249           NaN           NaN      1      NaN  \n",
       "2250           NaN           NaN      1      NaN  \n",
       "2251           NaN           NaN      1      NaN  \n",
       "2252           NaN           NaN      1      NaN  \n",
       "2253           NaN           NaN      1      NaN  \n",
       "2254           NaN           NaN      1      NaN  \n",
       "2256           NaN           NaN      1      NaN  \n",
       "2255           NaN           NaN      1      NaN  "
      ]
     },
     "metadata": {},
     "output_type": "display_data"
    },
    {
     "data": {
      "text/plain": [
       "'Y'"
      ]
     },
     "metadata": {},
     "output_type": "display_data"
    },
    {
     "data": {
      "text/html": [
       "<div>\n",
       "<style scoped>\n",
       "    .dataframe tbody tr th:only-of-type {\n",
       "        vertical-align: middle;\n",
       "    }\n",
       "\n",
       "    .dataframe tbody tr th {\n",
       "        vertical-align: top;\n",
       "    }\n",
       "\n",
       "    .dataframe thead th {\n",
       "        text-align: right;\n",
       "    }\n",
       "</style>\n",
       "<table border=\"1\" class=\"dataframe\">\n",
       "  <thead>\n",
       "    <tr style=\"text-align: right;\">\n",
       "      <th></th>\n",
       "      <th>index</th>\n",
       "      <th>Year</th>\n",
       "      <th>Daynum</th>\n",
       "      <th>Region</th>\n",
       "      <th>RegionNum</th>\n",
       "      <th>Team</th>\n",
       "      <th>Seed</th>\n",
       "      <th>Team_Position</th>\n",
       "      <th>Mapped_Round</th>\n",
       "      <th>Round</th>\n",
       "      <th>GameSlot</th>\n",
       "    </tr>\n",
       "  </thead>\n",
       "  <tbody>\n",
       "    <tr>\n",
       "      <th>0</th>\n",
       "      <td>NaN</td>\n",
       "      <td>2023</td>\n",
       "      <td>NaN</td>\n",
       "      <td>Y</td>\n",
       "      <td>3</td>\n",
       "      <td>Indiana</td>\n",
       "      <td>1</td>\n",
       "      <td>NaN</td>\n",
       "      <td>NaN</td>\n",
       "      <td>1</td>\n",
       "      <td>NaN</td>\n",
       "    </tr>\n",
       "    <tr>\n",
       "      <th>1</th>\n",
       "      <td>NaN</td>\n",
       "      <td>2023</td>\n",
       "      <td>NaN</td>\n",
       "      <td>Y</td>\n",
       "      <td>3</td>\n",
       "      <td>Utah</td>\n",
       "      <td>2</td>\n",
       "      <td>NaN</td>\n",
       "      <td>NaN</td>\n",
       "      <td>1</td>\n",
       "      <td>NaN</td>\n",
       "    </tr>\n",
       "    <tr>\n",
       "      <th>2</th>\n",
       "      <td>NaN</td>\n",
       "      <td>2023</td>\n",
       "      <td>NaN</td>\n",
       "      <td>Y</td>\n",
       "      <td>3</td>\n",
       "      <td>LSU</td>\n",
       "      <td>3</td>\n",
       "      <td>NaN</td>\n",
       "      <td>NaN</td>\n",
       "      <td>1</td>\n",
       "      <td>NaN</td>\n",
       "    </tr>\n",
       "    <tr>\n",
       "      <th>3</th>\n",
       "      <td>NaN</td>\n",
       "      <td>2023</td>\n",
       "      <td>NaN</td>\n",
       "      <td>Y</td>\n",
       "      <td>3</td>\n",
       "      <td>Villanova</td>\n",
       "      <td>4</td>\n",
       "      <td>NaN</td>\n",
       "      <td>NaN</td>\n",
       "      <td>1</td>\n",
       "      <td>NaN</td>\n",
       "    </tr>\n",
       "    <tr>\n",
       "      <th>4</th>\n",
       "      <td>NaN</td>\n",
       "      <td>2023</td>\n",
       "      <td>NaN</td>\n",
       "      <td>Y</td>\n",
       "      <td>3</td>\n",
       "      <td>Washington St</td>\n",
       "      <td>5</td>\n",
       "      <td>NaN</td>\n",
       "      <td>NaN</td>\n",
       "      <td>1</td>\n",
       "      <td>NaN</td>\n",
       "    </tr>\n",
       "    <tr>\n",
       "      <th>5</th>\n",
       "      <td>NaN</td>\n",
       "      <td>2023</td>\n",
       "      <td>NaN</td>\n",
       "      <td>Y</td>\n",
       "      <td>3</td>\n",
       "      <td>Michigan</td>\n",
       "      <td>6</td>\n",
       "      <td>NaN</td>\n",
       "      <td>NaN</td>\n",
       "      <td>1</td>\n",
       "      <td>NaN</td>\n",
       "    </tr>\n",
       "    <tr>\n",
       "      <th>6</th>\n",
       "      <td>NaN</td>\n",
       "      <td>2023</td>\n",
       "      <td>NaN</td>\n",
       "      <td>Y</td>\n",
       "      <td>3</td>\n",
       "      <td>NC State</td>\n",
       "      <td>7</td>\n",
       "      <td>NaN</td>\n",
       "      <td>NaN</td>\n",
       "      <td>1</td>\n",
       "      <td>NaN</td>\n",
       "    </tr>\n",
       "    <tr>\n",
       "      <th>7</th>\n",
       "      <td>NaN</td>\n",
       "      <td>2023</td>\n",
       "      <td>NaN</td>\n",
       "      <td>Y</td>\n",
       "      <td>3</td>\n",
       "      <td>Oklahoma St</td>\n",
       "      <td>8</td>\n",
       "      <td>NaN</td>\n",
       "      <td>NaN</td>\n",
       "      <td>1</td>\n",
       "      <td>NaN</td>\n",
       "    </tr>\n",
       "    <tr>\n",
       "      <th>8</th>\n",
       "      <td>NaN</td>\n",
       "      <td>2023</td>\n",
       "      <td>NaN</td>\n",
       "      <td>Y</td>\n",
       "      <td>3</td>\n",
       "      <td>Miami FL</td>\n",
       "      <td>9</td>\n",
       "      <td>NaN</td>\n",
       "      <td>NaN</td>\n",
       "      <td>1</td>\n",
       "      <td>NaN</td>\n",
       "    </tr>\n",
       "    <tr>\n",
       "      <th>9</th>\n",
       "      <td>NaN</td>\n",
       "      <td>2023</td>\n",
       "      <td>NaN</td>\n",
       "      <td>Y</td>\n",
       "      <td>3</td>\n",
       "      <td>Princeton</td>\n",
       "      <td>10</td>\n",
       "      <td>NaN</td>\n",
       "      <td>NaN</td>\n",
       "      <td>1</td>\n",
       "      <td>NaN</td>\n",
       "    </tr>\n",
       "    <tr>\n",
       "      <th>10</th>\n",
       "      <td>NaN</td>\n",
       "      <td>2023</td>\n",
       "      <td>NaN</td>\n",
       "      <td>Y</td>\n",
       "      <td>3</td>\n",
       "      <td>UNLV</td>\n",
       "      <td>11</td>\n",
       "      <td>NaN</td>\n",
       "      <td>NaN</td>\n",
       "      <td>1</td>\n",
       "      <td>NaN</td>\n",
       "    </tr>\n",
       "    <tr>\n",
       "      <th>11</th>\n",
       "      <td>NaN</td>\n",
       "      <td>2023</td>\n",
       "      <td>NaN</td>\n",
       "      <td>Y</td>\n",
       "      <td>3</td>\n",
       "      <td>FL Gulf Coast</td>\n",
       "      <td>12</td>\n",
       "      <td>NaN</td>\n",
       "      <td>NaN</td>\n",
       "      <td>1</td>\n",
       "      <td>NaN</td>\n",
       "    </tr>\n",
       "    <tr>\n",
       "      <th>12</th>\n",
       "      <td>NaN</td>\n",
       "      <td>2023</td>\n",
       "      <td>NaN</td>\n",
       "      <td>Y</td>\n",
       "      <td>3</td>\n",
       "      <td>Cleveland St</td>\n",
       "      <td>13</td>\n",
       "      <td>NaN</td>\n",
       "      <td>NaN</td>\n",
       "      <td>1</td>\n",
       "      <td>NaN</td>\n",
       "    </tr>\n",
       "    <tr>\n",
       "      <th>13</th>\n",
       "      <td>NaN</td>\n",
       "      <td>2023</td>\n",
       "      <td>NaN</td>\n",
       "      <td>Y</td>\n",
       "      <td>3</td>\n",
       "      <td>Hawaii</td>\n",
       "      <td>14</td>\n",
       "      <td>NaN</td>\n",
       "      <td>NaN</td>\n",
       "      <td>1</td>\n",
       "      <td>NaN</td>\n",
       "    </tr>\n",
       "    <tr>\n",
       "      <th>14</th>\n",
       "      <td>NaN</td>\n",
       "      <td>2023</td>\n",
       "      <td>NaN</td>\n",
       "      <td>Y</td>\n",
       "      <td>3</td>\n",
       "      <td>Gardner Webb</td>\n",
       "      <td>15</td>\n",
       "      <td>NaN</td>\n",
       "      <td>NaN</td>\n",
       "      <td>1</td>\n",
       "      <td>NaN</td>\n",
       "    </tr>\n",
       "    <tr>\n",
       "      <th>15</th>\n",
       "      <td>NaN</td>\n",
       "      <td>2023</td>\n",
       "      <td>NaN</td>\n",
       "      <td>Y</td>\n",
       "      <td>3</td>\n",
       "      <td>Tennessee Tech</td>\n",
       "      <td>16</td>\n",
       "      <td>NaN</td>\n",
       "      <td>NaN</td>\n",
       "      <td>1</td>\n",
       "      <td>NaN</td>\n",
       "    </tr>\n",
       "  </tbody>\n",
       "</table>\n",
       "</div>"
      ],
      "text/plain": [
       "    index  Year  Daynum Region  RegionNum            Team  Seed Team_Position  \\\n",
       "0     NaN  2023     NaN      Y          3         Indiana     1           NaN   \n",
       "1     NaN  2023     NaN      Y          3            Utah     2           NaN   \n",
       "2     NaN  2023     NaN      Y          3             LSU     3           NaN   \n",
       "3     NaN  2023     NaN      Y          3       Villanova     4           NaN   \n",
       "4     NaN  2023     NaN      Y          3   Washington St     5           NaN   \n",
       "5     NaN  2023     NaN      Y          3        Michigan     6           NaN   \n",
       "6     NaN  2023     NaN      Y          3        NC State     7           NaN   \n",
       "7     NaN  2023     NaN      Y          3     Oklahoma St     8           NaN   \n",
       "8     NaN  2023     NaN      Y          3        Miami FL     9           NaN   \n",
       "9     NaN  2023     NaN      Y          3       Princeton    10           NaN   \n",
       "10    NaN  2023     NaN      Y          3            UNLV    11           NaN   \n",
       "11    NaN  2023     NaN      Y          3   FL Gulf Coast    12           NaN   \n",
       "12    NaN  2023     NaN      Y          3    Cleveland St    13           NaN   \n",
       "13    NaN  2023     NaN      Y          3          Hawaii    14           NaN   \n",
       "14    NaN  2023     NaN      Y          3    Gardner Webb    15           NaN   \n",
       "15    NaN  2023     NaN      Y          3  Tennessee Tech    16           NaN   \n",
       "\n",
       "    Mapped_Round  Round GameSlot  \n",
       "0            NaN      1      NaN  \n",
       "1            NaN      1      NaN  \n",
       "2            NaN      1      NaN  \n",
       "3            NaN      1      NaN  \n",
       "4            NaN      1      NaN  \n",
       "5            NaN      1      NaN  \n",
       "6            NaN      1      NaN  \n",
       "7            NaN      1      NaN  \n",
       "8            NaN      1      NaN  \n",
       "9            NaN      1      NaN  \n",
       "10           NaN      1      NaN  \n",
       "11           NaN      1      NaN  \n",
       "12           NaN      1      NaN  \n",
       "13           NaN      1      NaN  \n",
       "14           NaN      1      NaN  \n",
       "15           NaN      1      NaN  "
      ]
     },
     "metadata": {},
     "output_type": "display_data"
    },
    {
     "name": "stdout",
     "output_type": "stream",
     "text": [
      "['East' 'Midwest' 'West' 'W' 'X' 'Y' 'Z' 'South']\n"
     ]
    },
    {
     "data": {
      "text/plain": [
       "'Z'"
      ]
     },
     "metadata": {},
     "output_type": "display_data"
    },
    {
     "data": {
      "text/html": [
       "<div>\n",
       "<style scoped>\n",
       "    .dataframe tbody tr th:only-of-type {\n",
       "        vertical-align: middle;\n",
       "    }\n",
       "\n",
       "    .dataframe tbody tr th {\n",
       "        vertical-align: top;\n",
       "    }\n",
       "\n",
       "    .dataframe thead th {\n",
       "        text-align: right;\n",
       "    }\n",
       "</style>\n",
       "<table border=\"1\" class=\"dataframe\">\n",
       "  <thead>\n",
       "    <tr style=\"text-align: right;\">\n",
       "      <th></th>\n",
       "      <th>index</th>\n",
       "      <th>Year</th>\n",
       "      <th>Daynum</th>\n",
       "      <th>Region</th>\n",
       "      <th>RegionNum</th>\n",
       "      <th>Team</th>\n",
       "      <th>Seed</th>\n",
       "      <th>Team_Position</th>\n",
       "      <th>Mapped_Round</th>\n",
       "      <th>Round</th>\n",
       "      <th>GameSlot</th>\n",
       "    </tr>\n",
       "  </thead>\n",
       "  <tbody>\n",
       "    <tr>\n",
       "      <th>2257</th>\n",
       "      <td>NaN</td>\n",
       "      <td>2023</td>\n",
       "      <td>NaN</td>\n",
       "      <td>Z</td>\n",
       "      <td>4</td>\n",
       "      <td>Virginia Tech</td>\n",
       "      <td>1</td>\n",
       "      <td>NaN</td>\n",
       "      <td>NaN</td>\n",
       "      <td>1</td>\n",
       "      <td>NaN</td>\n",
       "    </tr>\n",
       "    <tr>\n",
       "      <th>2258</th>\n",
       "      <td>NaN</td>\n",
       "      <td>2023</td>\n",
       "      <td>NaN</td>\n",
       "      <td>Z</td>\n",
       "      <td>4</td>\n",
       "      <td>Connecticut</td>\n",
       "      <td>2</td>\n",
       "      <td>NaN</td>\n",
       "      <td>NaN</td>\n",
       "      <td>1</td>\n",
       "      <td>NaN</td>\n",
       "    </tr>\n",
       "    <tr>\n",
       "      <th>2259</th>\n",
       "      <td>NaN</td>\n",
       "      <td>2023</td>\n",
       "      <td>NaN</td>\n",
       "      <td>Z</td>\n",
       "      <td>4</td>\n",
       "      <td>Ohio St</td>\n",
       "      <td>3</td>\n",
       "      <td>NaN</td>\n",
       "      <td>NaN</td>\n",
       "      <td>1</td>\n",
       "      <td>NaN</td>\n",
       "    </tr>\n",
       "    <tr>\n",
       "      <th>2260</th>\n",
       "      <td>NaN</td>\n",
       "      <td>2023</td>\n",
       "      <td>NaN</td>\n",
       "      <td>Z</td>\n",
       "      <td>4</td>\n",
       "      <td>Tennessee</td>\n",
       "      <td>4</td>\n",
       "      <td>NaN</td>\n",
       "      <td>NaN</td>\n",
       "      <td>1</td>\n",
       "      <td>NaN</td>\n",
       "    </tr>\n",
       "    <tr>\n",
       "      <th>2261</th>\n",
       "      <td>NaN</td>\n",
       "      <td>2023</td>\n",
       "      <td>NaN</td>\n",
       "      <td>Z</td>\n",
       "      <td>4</td>\n",
       "      <td>Iowa St</td>\n",
       "      <td>5</td>\n",
       "      <td>NaN</td>\n",
       "      <td>NaN</td>\n",
       "      <td>1</td>\n",
       "      <td>NaN</td>\n",
       "    </tr>\n",
       "    <tr>\n",
       "      <th>2262</th>\n",
       "      <td>NaN</td>\n",
       "      <td>2023</td>\n",
       "      <td>NaN</td>\n",
       "      <td>Z</td>\n",
       "      <td>4</td>\n",
       "      <td>North Carolina</td>\n",
       "      <td>6</td>\n",
       "      <td>NaN</td>\n",
       "      <td>NaN</td>\n",
       "      <td>1</td>\n",
       "      <td>NaN</td>\n",
       "    </tr>\n",
       "    <tr>\n",
       "      <th>2263</th>\n",
       "      <td>NaN</td>\n",
       "      <td>2023</td>\n",
       "      <td>NaN</td>\n",
       "      <td>Z</td>\n",
       "      <td>4</td>\n",
       "      <td>Baylor</td>\n",
       "      <td>7</td>\n",
       "      <td>NaN</td>\n",
       "      <td>NaN</td>\n",
       "      <td>1</td>\n",
       "      <td>NaN</td>\n",
       "    </tr>\n",
       "    <tr>\n",
       "      <th>2264</th>\n",
       "      <td>NaN</td>\n",
       "      <td>2023</td>\n",
       "      <td>NaN</td>\n",
       "      <td>Z</td>\n",
       "      <td>4</td>\n",
       "      <td>USC</td>\n",
       "      <td>8</td>\n",
       "      <td>NaN</td>\n",
       "      <td>NaN</td>\n",
       "      <td>1</td>\n",
       "      <td>NaN</td>\n",
       "    </tr>\n",
       "    <tr>\n",
       "      <th>2265</th>\n",
       "      <td>NaN</td>\n",
       "      <td>2023</td>\n",
       "      <td>NaN</td>\n",
       "      <td>Z</td>\n",
       "      <td>4</td>\n",
       "      <td>S Dakota St</td>\n",
       "      <td>9</td>\n",
       "      <td>NaN</td>\n",
       "      <td>NaN</td>\n",
       "      <td>1</td>\n",
       "      <td>NaN</td>\n",
       "    </tr>\n",
       "    <tr>\n",
       "      <th>2266</th>\n",
       "      <td>NaN</td>\n",
       "      <td>2023</td>\n",
       "      <td>NaN</td>\n",
       "      <td>Z</td>\n",
       "      <td>4</td>\n",
       "      <td>Alabama</td>\n",
       "      <td>10</td>\n",
       "      <td>NaN</td>\n",
       "      <td>NaN</td>\n",
       "      <td>1</td>\n",
       "      <td>NaN</td>\n",
       "    </tr>\n",
       "    <tr>\n",
       "      <th>2268</th>\n",
       "      <td>NaN</td>\n",
       "      <td>2023</td>\n",
       "      <td>NaN</td>\n",
       "      <td>Z</td>\n",
       "      <td>4</td>\n",
       "      <td>St John's</td>\n",
       "      <td>11</td>\n",
       "      <td>NaN</td>\n",
       "      <td>NaN</td>\n",
       "      <td>1</td>\n",
       "      <td>NaN</td>\n",
       "    </tr>\n",
       "    <tr>\n",
       "      <th>2267</th>\n",
       "      <td>NaN</td>\n",
       "      <td>2023</td>\n",
       "      <td>NaN</td>\n",
       "      <td>Z</td>\n",
       "      <td>4</td>\n",
       "      <td>Purdue</td>\n",
       "      <td>11</td>\n",
       "      <td>NaN</td>\n",
       "      <td>NaN</td>\n",
       "      <td>1</td>\n",
       "      <td>NaN</td>\n",
       "    </tr>\n",
       "    <tr>\n",
       "      <th>2269</th>\n",
       "      <td>NaN</td>\n",
       "      <td>2023</td>\n",
       "      <td>NaN</td>\n",
       "      <td>Z</td>\n",
       "      <td>4</td>\n",
       "      <td>Toledo</td>\n",
       "      <td>12</td>\n",
       "      <td>NaN</td>\n",
       "      <td>NaN</td>\n",
       "      <td>1</td>\n",
       "      <td>NaN</td>\n",
       "    </tr>\n",
       "    <tr>\n",
       "      <th>2270</th>\n",
       "      <td>NaN</td>\n",
       "      <td>2023</td>\n",
       "      <td>NaN</td>\n",
       "      <td>Z</td>\n",
       "      <td>4</td>\n",
       "      <td>St Louis</td>\n",
       "      <td>13</td>\n",
       "      <td>NaN</td>\n",
       "      <td>NaN</td>\n",
       "      <td>1</td>\n",
       "      <td>NaN</td>\n",
       "    </tr>\n",
       "    <tr>\n",
       "      <th>2271</th>\n",
       "      <td>NaN</td>\n",
       "      <td>2023</td>\n",
       "      <td>NaN</td>\n",
       "      <td>Z</td>\n",
       "      <td>4</td>\n",
       "      <td>James Madison</td>\n",
       "      <td>14</td>\n",
       "      <td>NaN</td>\n",
       "      <td>NaN</td>\n",
       "      <td>1</td>\n",
       "      <td>NaN</td>\n",
       "    </tr>\n",
       "    <tr>\n",
       "      <th>2272</th>\n",
       "      <td>NaN</td>\n",
       "      <td>2023</td>\n",
       "      <td>NaN</td>\n",
       "      <td>Z</td>\n",
       "      <td>4</td>\n",
       "      <td>Vermont</td>\n",
       "      <td>15</td>\n",
       "      <td>NaN</td>\n",
       "      <td>NaN</td>\n",
       "      <td>1</td>\n",
       "      <td>NaN</td>\n",
       "    </tr>\n",
       "    <tr>\n",
       "      <th>2273</th>\n",
       "      <td>NaN</td>\n",
       "      <td>2023</td>\n",
       "      <td>NaN</td>\n",
       "      <td>Z</td>\n",
       "      <td>4</td>\n",
       "      <td>Chattanooga</td>\n",
       "      <td>16</td>\n",
       "      <td>NaN</td>\n",
       "      <td>NaN</td>\n",
       "      <td>1</td>\n",
       "      <td>NaN</td>\n",
       "    </tr>\n",
       "  </tbody>\n",
       "</table>\n",
       "</div>"
      ],
      "text/plain": [
       "      index  Year  Daynum Region  RegionNum            Team  Seed  \\\n",
       "2257    NaN  2023     NaN      Z          4   Virginia Tech     1   \n",
       "2258    NaN  2023     NaN      Z          4     Connecticut     2   \n",
       "2259    NaN  2023     NaN      Z          4         Ohio St     3   \n",
       "2260    NaN  2023     NaN      Z          4       Tennessee     4   \n",
       "2261    NaN  2023     NaN      Z          4         Iowa St     5   \n",
       "2262    NaN  2023     NaN      Z          4  North Carolina     6   \n",
       "2263    NaN  2023     NaN      Z          4          Baylor     7   \n",
       "2264    NaN  2023     NaN      Z          4             USC     8   \n",
       "2265    NaN  2023     NaN      Z          4     S Dakota St     9   \n",
       "2266    NaN  2023     NaN      Z          4         Alabama    10   \n",
       "2268    NaN  2023     NaN      Z          4       St John's    11   \n",
       "2267    NaN  2023     NaN      Z          4          Purdue    11   \n",
       "2269    NaN  2023     NaN      Z          4          Toledo    12   \n",
       "2270    NaN  2023     NaN      Z          4        St Louis    13   \n",
       "2271    NaN  2023     NaN      Z          4   James Madison    14   \n",
       "2272    NaN  2023     NaN      Z          4         Vermont    15   \n",
       "2273    NaN  2023     NaN      Z          4     Chattanooga    16   \n",
       "\n",
       "     Team_Position  Mapped_Round  Round GameSlot  \n",
       "2257           NaN           NaN      1      NaN  \n",
       "2258           NaN           NaN      1      NaN  \n",
       "2259           NaN           NaN      1      NaN  \n",
       "2260           NaN           NaN      1      NaN  \n",
       "2261           NaN           NaN      1      NaN  \n",
       "2262           NaN           NaN      1      NaN  \n",
       "2263           NaN           NaN      1      NaN  \n",
       "2264           NaN           NaN      1      NaN  \n",
       "2265           NaN           NaN      1      NaN  \n",
       "2266           NaN           NaN      1      NaN  \n",
       "2268           NaN           NaN      1      NaN  \n",
       "2267           NaN           NaN      1      NaN  \n",
       "2269           NaN           NaN      1      NaN  \n",
       "2270           NaN           NaN      1      NaN  \n",
       "2271           NaN           NaN      1      NaN  \n",
       "2272           NaN           NaN      1      NaN  \n",
       "2273           NaN           NaN      1      NaN  "
      ]
     },
     "metadata": {},
     "output_type": "display_data"
    },
    {
     "data": {
      "text/plain": [
       "'Z'"
      ]
     },
     "metadata": {},
     "output_type": "display_data"
    },
    {
     "data": {
      "text/html": [
       "<div>\n",
       "<style scoped>\n",
       "    .dataframe tbody tr th:only-of-type {\n",
       "        vertical-align: middle;\n",
       "    }\n",
       "\n",
       "    .dataframe tbody tr th {\n",
       "        vertical-align: top;\n",
       "    }\n",
       "\n",
       "    .dataframe thead th {\n",
       "        text-align: right;\n",
       "    }\n",
       "</style>\n",
       "<table border=\"1\" class=\"dataframe\">\n",
       "  <thead>\n",
       "    <tr style=\"text-align: right;\">\n",
       "      <th></th>\n",
       "      <th>index</th>\n",
       "      <th>Year</th>\n",
       "      <th>Daynum</th>\n",
       "      <th>Region</th>\n",
       "      <th>RegionNum</th>\n",
       "      <th>Team</th>\n",
       "      <th>Seed</th>\n",
       "      <th>Team_Position</th>\n",
       "      <th>Mapped_Round</th>\n",
       "      <th>Round</th>\n",
       "      <th>GameSlot</th>\n",
       "    </tr>\n",
       "  </thead>\n",
       "  <tbody>\n",
       "    <tr>\n",
       "      <th>0</th>\n",
       "      <td>NaN</td>\n",
       "      <td>2023</td>\n",
       "      <td>NaN</td>\n",
       "      <td>Z</td>\n",
       "      <td>4</td>\n",
       "      <td>Virginia Tech</td>\n",
       "      <td>1</td>\n",
       "      <td>NaN</td>\n",
       "      <td>NaN</td>\n",
       "      <td>1</td>\n",
       "      <td>NaN</td>\n",
       "    </tr>\n",
       "    <tr>\n",
       "      <th>1</th>\n",
       "      <td>NaN</td>\n",
       "      <td>2023</td>\n",
       "      <td>NaN</td>\n",
       "      <td>Z</td>\n",
       "      <td>4</td>\n",
       "      <td>Connecticut</td>\n",
       "      <td>2</td>\n",
       "      <td>NaN</td>\n",
       "      <td>NaN</td>\n",
       "      <td>1</td>\n",
       "      <td>NaN</td>\n",
       "    </tr>\n",
       "    <tr>\n",
       "      <th>2</th>\n",
       "      <td>NaN</td>\n",
       "      <td>2023</td>\n",
       "      <td>NaN</td>\n",
       "      <td>Z</td>\n",
       "      <td>4</td>\n",
       "      <td>Ohio St</td>\n",
       "      <td>3</td>\n",
       "      <td>NaN</td>\n",
       "      <td>NaN</td>\n",
       "      <td>1</td>\n",
       "      <td>NaN</td>\n",
       "    </tr>\n",
       "    <tr>\n",
       "      <th>3</th>\n",
       "      <td>NaN</td>\n",
       "      <td>2023</td>\n",
       "      <td>NaN</td>\n",
       "      <td>Z</td>\n",
       "      <td>4</td>\n",
       "      <td>Tennessee</td>\n",
       "      <td>4</td>\n",
       "      <td>NaN</td>\n",
       "      <td>NaN</td>\n",
       "      <td>1</td>\n",
       "      <td>NaN</td>\n",
       "    </tr>\n",
       "    <tr>\n",
       "      <th>4</th>\n",
       "      <td>NaN</td>\n",
       "      <td>2023</td>\n",
       "      <td>NaN</td>\n",
       "      <td>Z</td>\n",
       "      <td>4</td>\n",
       "      <td>Iowa St</td>\n",
       "      <td>5</td>\n",
       "      <td>NaN</td>\n",
       "      <td>NaN</td>\n",
       "      <td>1</td>\n",
       "      <td>NaN</td>\n",
       "    </tr>\n",
       "    <tr>\n",
       "      <th>5</th>\n",
       "      <td>NaN</td>\n",
       "      <td>2023</td>\n",
       "      <td>NaN</td>\n",
       "      <td>Z</td>\n",
       "      <td>4</td>\n",
       "      <td>North Carolina</td>\n",
       "      <td>6</td>\n",
       "      <td>NaN</td>\n",
       "      <td>NaN</td>\n",
       "      <td>1</td>\n",
       "      <td>NaN</td>\n",
       "    </tr>\n",
       "    <tr>\n",
       "      <th>6</th>\n",
       "      <td>NaN</td>\n",
       "      <td>2023</td>\n",
       "      <td>NaN</td>\n",
       "      <td>Z</td>\n",
       "      <td>4</td>\n",
       "      <td>Baylor</td>\n",
       "      <td>7</td>\n",
       "      <td>NaN</td>\n",
       "      <td>NaN</td>\n",
       "      <td>1</td>\n",
       "      <td>NaN</td>\n",
       "    </tr>\n",
       "    <tr>\n",
       "      <th>7</th>\n",
       "      <td>NaN</td>\n",
       "      <td>2023</td>\n",
       "      <td>NaN</td>\n",
       "      <td>Z</td>\n",
       "      <td>4</td>\n",
       "      <td>USC</td>\n",
       "      <td>8</td>\n",
       "      <td>NaN</td>\n",
       "      <td>NaN</td>\n",
       "      <td>1</td>\n",
       "      <td>NaN</td>\n",
       "    </tr>\n",
       "    <tr>\n",
       "      <th>8</th>\n",
       "      <td>NaN</td>\n",
       "      <td>2023</td>\n",
       "      <td>NaN</td>\n",
       "      <td>Z</td>\n",
       "      <td>4</td>\n",
       "      <td>S Dakota St</td>\n",
       "      <td>9</td>\n",
       "      <td>NaN</td>\n",
       "      <td>NaN</td>\n",
       "      <td>1</td>\n",
       "      <td>NaN</td>\n",
       "    </tr>\n",
       "    <tr>\n",
       "      <th>9</th>\n",
       "      <td>NaN</td>\n",
       "      <td>2023</td>\n",
       "      <td>NaN</td>\n",
       "      <td>Z</td>\n",
       "      <td>4</td>\n",
       "      <td>Alabama</td>\n",
       "      <td>10</td>\n",
       "      <td>NaN</td>\n",
       "      <td>NaN</td>\n",
       "      <td>1</td>\n",
       "      <td>NaN</td>\n",
       "    </tr>\n",
       "    <tr>\n",
       "      <th>10</th>\n",
       "      <td>NaN</td>\n",
       "      <td>2023</td>\n",
       "      <td>NaN</td>\n",
       "      <td>Z</td>\n",
       "      <td>4</td>\n",
       "      <td>St John's</td>\n",
       "      <td>11</td>\n",
       "      <td>NaN</td>\n",
       "      <td>NaN</td>\n",
       "      <td>1</td>\n",
       "      <td>NaN</td>\n",
       "    </tr>\n",
       "    <tr>\n",
       "      <th>11</th>\n",
       "      <td>NaN</td>\n",
       "      <td>2023</td>\n",
       "      <td>NaN</td>\n",
       "      <td>Z</td>\n",
       "      <td>4</td>\n",
       "      <td>Toledo</td>\n",
       "      <td>12</td>\n",
       "      <td>NaN</td>\n",
       "      <td>NaN</td>\n",
       "      <td>1</td>\n",
       "      <td>NaN</td>\n",
       "    </tr>\n",
       "    <tr>\n",
       "      <th>12</th>\n",
       "      <td>NaN</td>\n",
       "      <td>2023</td>\n",
       "      <td>NaN</td>\n",
       "      <td>Z</td>\n",
       "      <td>4</td>\n",
       "      <td>St Louis</td>\n",
       "      <td>13</td>\n",
       "      <td>NaN</td>\n",
       "      <td>NaN</td>\n",
       "      <td>1</td>\n",
       "      <td>NaN</td>\n",
       "    </tr>\n",
       "    <tr>\n",
       "      <th>13</th>\n",
       "      <td>NaN</td>\n",
       "      <td>2023</td>\n",
       "      <td>NaN</td>\n",
       "      <td>Z</td>\n",
       "      <td>4</td>\n",
       "      <td>James Madison</td>\n",
       "      <td>14</td>\n",
       "      <td>NaN</td>\n",
       "      <td>NaN</td>\n",
       "      <td>1</td>\n",
       "      <td>NaN</td>\n",
       "    </tr>\n",
       "    <tr>\n",
       "      <th>14</th>\n",
       "      <td>NaN</td>\n",
       "      <td>2023</td>\n",
       "      <td>NaN</td>\n",
       "      <td>Z</td>\n",
       "      <td>4</td>\n",
       "      <td>Vermont</td>\n",
       "      <td>15</td>\n",
       "      <td>NaN</td>\n",
       "      <td>NaN</td>\n",
       "      <td>1</td>\n",
       "      <td>NaN</td>\n",
       "    </tr>\n",
       "    <tr>\n",
       "      <th>15</th>\n",
       "      <td>NaN</td>\n",
       "      <td>2023</td>\n",
       "      <td>NaN</td>\n",
       "      <td>Z</td>\n",
       "      <td>4</td>\n",
       "      <td>Chattanooga</td>\n",
       "      <td>16</td>\n",
       "      <td>NaN</td>\n",
       "      <td>NaN</td>\n",
       "      <td>1</td>\n",
       "      <td>NaN</td>\n",
       "    </tr>\n",
       "  </tbody>\n",
       "</table>\n",
       "</div>"
      ],
      "text/plain": [
       "    index  Year  Daynum Region  RegionNum            Team  Seed Team_Position  \\\n",
       "0     NaN  2023     NaN      Z          4   Virginia Tech     1           NaN   \n",
       "1     NaN  2023     NaN      Z          4     Connecticut     2           NaN   \n",
       "2     NaN  2023     NaN      Z          4         Ohio St     3           NaN   \n",
       "3     NaN  2023     NaN      Z          4       Tennessee     4           NaN   \n",
       "4     NaN  2023     NaN      Z          4         Iowa St     5           NaN   \n",
       "5     NaN  2023     NaN      Z          4  North Carolina     6           NaN   \n",
       "6     NaN  2023     NaN      Z          4          Baylor     7           NaN   \n",
       "7     NaN  2023     NaN      Z          4             USC     8           NaN   \n",
       "8     NaN  2023     NaN      Z          4     S Dakota St     9           NaN   \n",
       "9     NaN  2023     NaN      Z          4         Alabama    10           NaN   \n",
       "10    NaN  2023     NaN      Z          4       St John's    11           NaN   \n",
       "11    NaN  2023     NaN      Z          4          Toledo    12           NaN   \n",
       "12    NaN  2023     NaN      Z          4        St Louis    13           NaN   \n",
       "13    NaN  2023     NaN      Z          4   James Madison    14           NaN   \n",
       "14    NaN  2023     NaN      Z          4         Vermont    15           NaN   \n",
       "15    NaN  2023     NaN      Z          4     Chattanooga    16           NaN   \n",
       "\n",
       "    Mapped_Round  Round GameSlot  \n",
       "0            NaN      1      NaN  \n",
       "1            NaN      1      NaN  \n",
       "2            NaN      1      NaN  \n",
       "3            NaN      1      NaN  \n",
       "4            NaN      1      NaN  \n",
       "5            NaN      1      NaN  \n",
       "6            NaN      1      NaN  \n",
       "7            NaN      1      NaN  \n",
       "8            NaN      1      NaN  \n",
       "9            NaN      1      NaN  \n",
       "10           NaN      1      NaN  \n",
       "11           NaN      1      NaN  \n",
       "12           NaN      1      NaN  \n",
       "13           NaN      1      NaN  \n",
       "14           NaN      1      NaN  \n",
       "15           NaN      1      NaN  "
      ]
     },
     "metadata": {},
     "output_type": "display_data"
    }
   ],
   "source": [
    "years = long_tourn.Year.unique().tolist()\n",
    "\n",
    "brackets_dict = {}\n",
    "for year in years:\n",
    "\n",
    "    that_year_df = long_tourn[long_tourn['Year'] == year].copy()\n",
    "    that_year_win = tourn_region[tourn_region['Year'] == year].copy()\n",
    "    \n",
    "    round0= that_year_df[that_year_df['Round'] == 0].sort_values('Seed')\n",
    "\n",
    "    round1 = that_year_df[that_year_df['Round'] == 1].sort_values('Seed')\n",
    "    round2 = that_year_df[that_year_df['Round'] == 2]\n",
    "    round3 = that_year_df[that_year_df['Round'] == 3]\n",
    "    round4 = that_year_df[that_year_df['Round'] == 4]\n",
    "    round5 = that_year_df[that_year_df['Round'] == 5]\n",
    "    round6 = that_year_df[that_year_df['Round'] == 6]\n",
    "\n",
    "    print(that_year_df['Round'].unique())\n",
    "    round6_win = that_year_win[that_year_win['Round'] == 6]\n",
    "    round6_win=round6_win.rename(columns={'Wteam':'Team','Wseed':'Seed'})\n",
    "\n",
    "    try:\n",
    "        winner = round6_win[['Team','Seed']].reset_index(drop=True).T.to_dict()[0]\n",
    "\n",
    "    except:\n",
    "        \n",
    "        \n",
    "        winner={'Team': 'TBD', 'Seed': 0}\n",
    "    # print(winner)\n",
    "    \n",
    "    east1 = round1[round1['Region'] == 'W']\n",
    "    west1 = round1[round1['Region'] == 'X']\n",
    "    midwest1 = round1[round1['Region'] == 'Y']\n",
    "    south1 = round1[round1['Region'] == 'Z']\n",
    "\n",
    "    regs={\n",
    "            'W':east1,\n",
    "            'X':west1,\n",
    "            'Y':midwest1,\n",
    "            'Z':south1,\n",
    "                }\n",
    "\n",
    "    print(year,len(round1))\n",
    "    if i !=2021:\n",
    "        for r in regs:\n",
    "            if len(regs[r])!=16:\n",
    "                print(round1['Region'].unique())\n",
    "                display(r,regs[r])\n",
    "                regs[r]=regs[r].drop_duplicates('Seed',keep='first').reset_index(drop=True)\n",
    "                display(r,regs[r])\n",
    "\n",
    "\n",
    "\n",
    "    results = {\n",
    "        # 'playin' : round0[['Team','Seed']].to_dict('records'),\n",
    "        'first' : round1[['Team','Seed']].to_dict('records'),\n",
    "        'second' : round2[['Team','Seed']].to_dict('records'),\n",
    "        'sweet16' : round3[['Team','Seed']].to_dict('records'),\n",
    "        'elite8' : round4[['Team','Seed']].to_dict('records'),\n",
    "        'final4' : round5[['Team','Seed']].to_dict('records'),\n",
    "        'championship' : round6[['Team','Seed']].to_dict('records'),\n",
    "        'winner' : {'Team' : winner['Team'], 'Seed' : int(winner['Seed'])}\n",
    "    }\n",
    "    regions = {\n",
    "        'W' : regs['W'][['Team','Seed']].to_dict('records'),\n",
    "        'X' : regs['X'][['Team','Seed']].to_dict('records'),\n",
    "        'Y' : regs['Y'][['Team','Seed']].to_dict('records'),\n",
    "        'Z' : regs['Z'][['Team','Seed']].to_dict('records')\n",
    "    }\n",
    "    brackets_dict[year] = {'Region' : regions, 'Results': results, 'Finals': final_four_games[year]}"
   ]
  },
  {
   "cell_type": "code",
   "execution_count": 72,
   "metadata": {},
   "outputs": [
    {
     "ename": "",
     "evalue": "",
     "output_type": "error",
     "traceback": [
      "\u001b[1;31mThe Kernel crashed while executing code in the the current cell or a previous cell. Please review the code in the cell(s) to identify a possible cause of the failure. Click <a href='https://aka.ms/vscodeJupyterKernelCrash'>here</a> for more info. View Jupyter <a href='command:jupyter.viewOutput'>log</a> for further details."
     ]
    }
   ],
   "source": [
    "import json\n",
    "with open(r'\\Users\\sebas\\IDrive-Sync\\MetaLocalLLC\\RL-Bots\\Tournament-gym\\bracketology_rl\\data\\Wbrackets_2023.json' , 'w') as f:\n",
    "    json.dump(brackets_dict, f)"
   ]
  },
  {
   "cell_type": "code",
   "execution_count": null,
   "metadata": {},
   "outputs": [],
   "source": []
  }
 ],
 "metadata": {
  "kernelspec": {
   "display_name": "Python 3.9.13",
   "language": "python",
   "name": "python3"
  },
  "language_info": {
   "codemirror_mode": {
    "name": "ipython",
    "version": 3
   },
   "file_extension": ".py",
   "mimetype": "text/x-python",
   "name": "python",
   "nbconvert_exporter": "python",
   "pygments_lexer": "ipython3",
   "version": "3.11.5"
  },
  "orig_nbformat": 4,
  "vscode": {
   "interpreter": {
    "hash": "c02ce77fc9854b14bbf737e9ff58b840b53c17f549f3baecfcf54a3b4065de24"
   }
  }
 },
 "nbformat": 4,
 "nbformat_minor": 2
}
