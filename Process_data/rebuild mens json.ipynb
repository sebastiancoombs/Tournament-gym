{
 "cells": [
  {
   "cell_type": "code",
   "execution_count": null,
   "metadata": {},
   "outputs": [],
   "source": [
    "\n",
    "import pandas as pd\n",
    "import json\n",
    "from pkg_resources import resource_filename\n",
    "import numpy as np\n",
    "from pprint import pprint"
   ]
  },
  {
   "cell_type": "code",
   "execution_count": null,
   "metadata": {},
   "outputs": [],
   "source": [
    "data_path=r'C:\\Users\\sebas\\IDrive-Sync\\MetaLocalLLC\\RL-Bots\\Tournament-gym\\Data'\n",
    "MW='W'\n",
    "tournament=pd.read_csv(f'{data_path}/{MW}NCAATourneyCompactResults.csv')\n",
    "seeds=pd.read_csv(f'{data_path}/{MW}NCAATourneySeeds.csv')\n",
    "slots=pd.read_csv(f'{data_path}/{MW}NCAATourneySlots.csv')\n",
    "teams=pd.read_csv(f'{data_path}/{MW}Teams.csv')\n",
    "regions=pd.read_csv(f'{data_path}/{MW}Seasons.csv')\n",
    "teams=teams[['TeamID','TeamName']]"
   ]
  },
  {
   "cell_type": "code",
   "execution_count": null,
   "metadata": {},
   "outputs": [],
   "source": []
  },
  {
   "cell_type": "code",
   "execution_count": null,
   "metadata": {},
   "outputs": [],
   "source": [
    "if MW=='M':\n",
    "    add_game=tournament.loc[[tournament.index[0]]].copy()\n",
    "    # in 2021 this game got forfitted cux covid\n",
    "    # Add 'Oregon'\n",
    "    add_game['Season']=2021\n",
    "    # add_game['WTeamName']='Oregon'\n",
    "    add_game['WTeamID']=1332\n",
    "    # add_game['WSeed']='X07'\n",
    "    add_game['WScore']=1\n",
    "    # Add VCU\n",
    "    add_game['LTeamID']=1433\n",
    "    # add_game['WTeamName']='VCU'\n",
    "    # add_game['Lseed']='X10'\n",
    "    add_game['LScore']=0\n",
    "    add_game['WLoc']='N'\n",
    "    add_game['NumOT']=0\n",
    "\n",
    "    tournament=pd.concat([tournament,add_game],axis=0,ignore_index=True)\n"
   ]
  },
  {
   "cell_type": "code",
   "execution_count": null,
   "metadata": {},
   "outputs": [],
   "source": [
    "\n",
    "seeds=pd.merge(seeds,teams,on='TeamID',how='left')\n",
    "seeds[seeds['TeamName']=='VCU']"
   ]
  },
  {
   "cell_type": "code",
   "execution_count": null,
   "metadata": {},
   "outputs": [],
   "source": [
    "test_season=2021\n",
    "tourn=tournament[tournament['Season']==test_season]\n",
    "tourn.head(1)"
   ]
  },
  {
   "cell_type": "code",
   "execution_count": null,
   "metadata": {},
   "outputs": [],
   "source": [
    "\n",
    "def get_full_results(season):\n",
    "    tourn=tournament[tournament['Season']==season]\n",
    "    seed=seeds[seeds['Season']==season]\n",
    "\n",
    "    left_tourn=pd.merge(tourn,seed,left_on='WTeamID',right_on='TeamID',how='left')\n",
    "    left_tourn=left_tourn.rename(columns={'Seed':'WSeed','Season_x':\"Season\",\"TeamName\":'WTeamName'})\n",
    "    left_tourn=left_tourn.drop(['Season_y','TeamID'],axis=1)\n",
    "    right_tourn=pd.merge(left_tourn,seed,left_on='LTeamID',right_on='TeamID',how='left')\n",
    "    right_tourn=right_tourn.rename(columns={'Seed':'LSeed','Season_x':\"Season\",\"TeamName\":'LTeamName'})\n",
    "    \n",
    "    tourn_results=right_tourn.drop(['Season_y','TeamID','WScore','LScore','WLoc','NumOT'],axis=1)\n",
    "    tourn_results['Matchup']=[[x for x in c] for c in tourn_results[['WTeamName','LTeamName']].values]\n",
    "    return tourn_results\n",
    "\n",
    "def get_playins(tourn_results):\n",
    "    Day1=tourn_results.sort_values('DayNum').groupby('WTeamID').head(1).sort_values('WSeed')\n",
    "    playin_regex=r\"[A-Z][0-9][0-9][a-z]\"\n",
    "    seed_a_mask=Day1['WSeed'].str.match(playin_regex)\n",
    "    seed_b_mask=Day1['LSeed'].str.match(playin_regex)\n",
    "    playin_ids=Day1[(seed_a_mask) & (seed_b_mask)].index\n",
    "    play_ins=Day1.loc[playin_ids].copy()\n",
    "    play_ins['next_slot']=play_ins['WSeed'].str.replace(r'[a-z]','',regex=True)\n",
    "    return play_ins\n",
    "\n",
    "def get_round_results(tourn_results,round):\n",
    "    play_ins=get_playins(tourn_results)\n",
    "    if round ==0:\n",
    "        return play_ins\n",
    "    else:\n",
    "        round=round-1\n",
    "        playin_ids=play_ins.index\n",
    "        tourn_results=tourn_results.drop(playin_ids,axis=0)\n",
    "\n",
    "    # print(round)\n",
    "    round_results=tourn_results.sort_values('DayNum',ascending=True).groupby('WTeamID').nth(round).sort_values('WSeed')\n",
    "    round_results['WSeed']=round_results['WSeed'].str.replace(r'[a-z]','',regex=True)\n",
    "    return round_results\n",
    "\n",
    "def get_slot_mapping(slots,season=2023):\n",
    "    slot=slots[slots['Season']==season].reset_index(drop=True)\n",
    "    playin_regex=r\"[A-Z][0-9][0-9]\"\n",
    "    R0=slot[slot['Slot'].str.match(playin_regex)].copy()\n",
    "    R1=slot[slot['Slot'].str.contains('R1')].copy()\n",
    "    R2=slot[slot['Slot'].str.contains('R2')].copy()\n",
    "    R3=slot[slot['Slot'].str.contains('R3')].copy()\n",
    "    R4=slot[slot['Slot'].str.contains('R4')].copy()\n",
    "    R5=slot[slot['Slot'].str.contains('R5')].copy()\n",
    "    R6=slot[slot['Slot'].str.contains('R6')].copy()\n",
    "\n",
    "    round_slots={'Round0':R0,'Round1':R1,'Round2':R2,'Round3':R3,'Round4':R4,'Round5':R5,'Round6':R6}\n",
    "    round_maps={}\n",
    "    for round,r_slots in round_slots.items():\n",
    "        strong_map=r_slots.set_index('StrongSeed')['Slot'].to_dict()\n",
    "        weak_map=r_slots.set_index('WeakSeed')['Slot'].to_dict()\n",
    "        \n",
    "        strong_map.update(weak_map)\n",
    "        round_map={f'{round}_map':strong_map}\n",
    "        round_maps[round]=round_map\n",
    "    return round_maps"
   ]
  },
  {
   "cell_type": "code",
   "execution_count": null,
   "metadata": {},
   "outputs": [],
   "source": [
    "round_maps=get_slot_mapping(slots,season=2022)\n",
    "round_maps"
   ]
  },
  {
   "cell_type": "code",
   "execution_count": null,
   "metadata": {},
   "outputs": [],
   "source": [
    "test_season=2022\n",
    "round=0\n",
    "season_tournament=get_full_results(season=test_season)\n",
    "round_results=get_round_results(season_tournament,round=round)\n",
    "# type(round_results['Matchup'][0])\n",
    "round_results"
   ]
  },
  {
   "cell_type": "code",
   "execution_count": null,
   "metadata": {},
   "outputs": [],
   "source": [
    "def get_team_mapping(current_round):\n",
    "    current_round['WSeed_n']=current_round['WSeed'].str.replace(r'[A-Za-z]','',regex=True).astype(int)\n",
    "    current_round['WRegion']=current_round['WSeed'].str.replace(r'[0-9a-z]','',regex=True)\n",
    "    current_round['LSeed_n']=current_round['LSeed'].str.replace(r'[A-Za-z]','',regex=True).astype(int)\n",
    "    current_round['LRegion']=current_round['LSeed'].str.replace(r'[0-9a-z]','',regex=True)\n",
    "    winner_map={'WRegion':'Region',\n",
    "    'WSeed':'Seed',\n",
    "    'WTeamName':'Team',\n",
    "    }\n",
    "    winners=current_round[[c for c in winner_map.keys()]].rename(columns=winner_map)\n",
    "\n",
    "    loser_map={'LRegion':'Region',\n",
    "    'LSeed':'Seed',\n",
    "    'LTeamName':'Team',\n",
    "    }\n",
    "    losers=current_round[[c for c in loser_map.keys()]].rename(columns=loser_map)\n",
    "\n",
    "    stacked=pd.concat([winners,losers])\n",
    "    stacked=stacked.sort_values(['Seed','Region']).reset_index(drop=True)\n",
    "    team_map=stacked.set_index('Team')['Seed'].to_dict()\n",
    "    return team_map"
   ]
  },
  {
   "cell_type": "code",
   "execution_count": null,
   "metadata": {},
   "outputs": [],
   "source": [
    "\n",
    "def format_regions(current_round,round_num,final_dict):\n",
    "\n",
    "    result_names={0:'playin',1:'first',2:'second',3:'sweet16', 4:'elite8', 5:'final4', 6:'championship'}\n",
    "    current_round['WSeed_n']=current_round['WSeed'].str.replace(r'[A-Za-z]','',regex=True).astype(int)\n",
    "    current_round['WRegion']=current_round['WSeed'].str.replace(r'[0-9a-z]','',regex=True)\n",
    "    current_round['LSeed_n']=current_round['LSeed'].str.replace(r'[A-Za-z]','',regex=True).astype(int)\n",
    "    current_round['LRegion']=current_round['LSeed'].str.replace(r'[0-9a-z]','',regex=True)\n",
    "\n",
    "    winner_map={'WRegion':'Region',\n",
    "    'WSeed_n':'Seed',\n",
    "    'WTeamName':'Team',\n",
    "    }\n",
    "    winners=current_round[[c for c in winner_map.keys()]].rename(columns=winner_map)\n",
    "\n",
    "    loser_map={'LRegion':'Region',\n",
    "    'LSeed_n':'Seed',\n",
    "    'LTeamName':'Team',\n",
    "    }\n",
    "    losers=current_round[[c for c in loser_map.keys()]].rename(columns=loser_map)\n",
    "\n",
    "    stacked=pd.concat([winners,losers])\n",
    "    stacked=stacked.sort_values(['Seed','Region']).reset_index(drop=True)\n",
    "    region_dict={}\n",
    "    for region,data in stacked.groupby('Region'):\n",
    "        region_dict[region]=data[['Seed','Team']].to_dict('records')\n",
    "\n",
    "    stacked=stacked.sort_values(['Seed','Team'])\n",
    "    results=stacked[['Seed','Team']].to_dict('records')\n",
    "    round_name=result_names[round_num]\n",
    "    final_dict['Results'][round_name]=results\n",
    "    if round_num==1:\n",
    "        final_dict['Region']=region_dict\n",
    "    if round_num==6:\n",
    "        final_dict['Results']['winner']=winners[['Seed','Team']].to_dict('records')\n",
    "\n",
    "    return final_dict"
   ]
  },
  {
   "cell_type": "code",
   "execution_count": null,
   "metadata": {},
   "outputs": [],
   "source": [
    "def format_tournament_results(tourny,season):\n",
    "    rounds=[0,1,2,3,4,5,6]\n",
    "    tournament_results={}\n",
    "    bracket_shape={}\n",
    "    json_formatted={}\n",
    "    json_formatted['Results']={}\n",
    "\n",
    "    round_maps = get_slot_mapping(slots,season=season)\n",
    "    tournament_results['structure']={}\n",
    "    tournament_results['results']={}\n",
    "    tournament_results['matchups']={}\n",
    "    for round in rounds:\n",
    "\n",
    "        current_round = get_round_results(tourny,round=round)\n",
    "        \n",
    "        name=f'Round{round}'\n",
    "        slot_map=round_maps[name]\n",
    "        tournament_results['structure'][round]=slot_map[f'{name}_map']\n",
    "        # print(f'{name}-------------------------------')\n",
    "        \n",
    "        if round==0:\n",
    "            play_in_results=current_round.set_index('next_slot')['WTeamName'].to_dict()\n",
    "            match_up=current_round.set_index('next_slot')['Matchup'].to_dict()\n",
    "\n",
    "\n",
    "            tournament_results['results'][0]=play_in_results\n",
    "            tournament_results['matchups'][0]=match_up\n",
    "\n",
    "            \n",
    "            # display(current_round)\n",
    "            bracket_shape[round]=current_round.shape[0]\n",
    "            continue\n",
    "        \n",
    "\n",
    "        elif round==1:\n",
    "            current_round['current_slot']=current_round['WSeed'].copy()\n",
    "            current_round['next_slot']=np.nan\n",
    "            team_map= get_team_mapping(current_round)\n",
    "            tournament_results['teams']=team_map\n",
    "\n",
    "\n",
    "        else:\n",
    "            current_round['current_slot']=current_round['WTeamName'].map(previous_map)\n",
    "            current_round['next_slot']=np.nan\n",
    "\n",
    "        for mapping in slot_map.values():\n",
    "            # pprint(mapping)\n",
    "            current_round['next_slot']=current_round['next_slot'].fillna(current_round['current_slot'].map(mapping))\n",
    "\n",
    "        bracket_shape[round]=current_round.shape[0]\n",
    "\n",
    "        previous_map=current_round.set_index('WTeamName')['next_slot'].to_dict()\n",
    "        result_map=current_round.set_index('next_slot')['WTeamName'].to_dict()\n",
    "        match_up=current_round.set_index('next_slot')['Matchup'].to_dict()\n",
    "        \n",
    "        tournament_results['results'][round]=result_map\n",
    "        tournament_results[f'matchups'][round]=match_up\n",
    "        # previous_map=result_map\n",
    "\n",
    "        current_round=current_round.reset_index(drop=True)\n",
    "        current_round.index=[i+1 for i in current_round.index]\n",
    "        # display(current_round)\n",
    "        if round==6:\n",
    "            tournament_results['results'][7]=[current_round.loc[1,'WTeamName']]\n",
    "            winning_name=[current_round.loc[1,'WTeamName']]\n",
    "            print('WINNER',winning_name)\n",
    "\n",
    "        json_formatted=format_regions(current_round,round_num=round,final_dict=json_formatted)\n",
    "    print(season,bracket_shape)\n",
    "    return tournament_results,json_formatted\n",
    "\n",
    "\n",
    "\n",
    "# pprint(tournament_results)\n",
    "# round_maps\n"
   ]
  },
  {
   "cell_type": "code",
   "execution_count": null,
   "metadata": {},
   "outputs": [],
   "source": [
    "test_season=2022\n",
    "season_tournament=get_full_results(season=test_season)\n",
    "season_results,json_formatted=format_tournament_results(season_tournament,test_season)\n"
   ]
  },
  {
   "cell_type": "code",
   "execution_count": null,
   "metadata": {},
   "outputs": [],
   "source": [
    "seasons=slots.Season.unique()\n",
    "ALL_RESULTS={}\n",
    "FORMATTED_RESULTS={}\n",
    "for season in seasons:\n",
    "    if season!=2020:\n",
    "        season_tournament=get_full_results(season=season)\n",
    "        season_results,json_formatted=format_tournament_results(season_tournament,season)\n",
    "        ALL_RESULTS[str(season)]=season_results\n",
    "        FORMATTED_RESULTS[str(season)]=json_formatted\n"
   ]
  },
  {
   "cell_type": "code",
   "execution_count": null,
   "metadata": {},
   "outputs": [],
   "source": [
    "test_season=2019\n",
    "season_tournament=get_full_results(season=test_season)\n",
    "season_results=format_tournament_results(season_tournament,test_season)\n",
    "season_results"
   ]
  },
  {
   "cell_type": "code",
   "execution_count": null,
   "metadata": {},
   "outputs": [],
   "source": [
    "import os"
   ]
  },
  {
   "cell_type": "code",
   "execution_count": null,
   "metadata": {},
   "outputs": [],
   "source": [
    "export_path=r'C:\\Users\\sebas\\IDrive-Sync\\MetaLocalLLC\\RL-Bots\\Tournament-gym\\bracketology_rl\\data'\n",
    "export_path=os.path.join(export_path,f'{MW}better_brackets2024.json')"
   ]
  },
  {
   "cell_type": "code",
   "execution_count": null,
   "metadata": {},
   "outputs": [],
   "source": [
    "import json\n",
    "\n",
    "\n",
    "with open(export_path , 'w') as f:\n",
    "    json.dump(ALL_RESULTS, f)"
   ]
  },
  {
   "cell_type": "markdown",
   "metadata": {},
   "source": []
  },
  {
   "cell_type": "code",
   "execution_count": null,
   "metadata": {},
   "outputs": [],
   "source": [
    "\n",
    "import json\n",
    "export_base_path=r'C:\\Users\\sebas\\IDrive-Sync\\MetaLocalLLC\\RL-Bots\\Tournament-gym\\bracketology_rl\\data'\n",
    "old_export_path=os.path.join(export_base_path,f'{MW}old_brackets2024.json')\n",
    "with open(old_export_path, 'w') as f:\n",
    "    json.dump(FORMATTED_RESULTS, f)"
   ]
  },
  {
   "cell_type": "code",
   "execution_count": null,
   "metadata": {},
   "outputs": [],
   "source": []
  },
  {
   "cell_type": "code",
   "execution_count": null,
   "metadata": {},
   "outputs": [],
   "source": []
  },
  {
   "cell_type": "code",
   "execution_count": null,
   "metadata": {},
   "outputs": [],
   "source": []
  },
  {
   "cell_type": "code",
   "execution_count": null,
   "metadata": {},
   "outputs": [],
   "source": []
  }
 ],
 "metadata": {
  "kernelspec": {
   "display_name": "Python 3.9.13",
   "language": "python",
   "name": "python3"
  },
  "language_info": {
   "codemirror_mode": {
    "name": "ipython",
    "version": 3
   },
   "file_extension": ".py",
   "mimetype": "text/x-python",
   "name": "python",
   "nbconvert_exporter": "python",
   "pygments_lexer": "ipython3",
   "version": "3.11.5"
  },
  "orig_nbformat": 4,
  "vscode": {
   "interpreter": {
    "hash": "c02ce77fc9854b14bbf737e9ff58b840b53c17f549f3baecfcf54a3b4065de24"
   }
  }
 },
 "nbformat": 4,
 "nbformat_minor": 2
}
