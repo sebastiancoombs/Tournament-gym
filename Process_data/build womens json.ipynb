{
 "cells": [
  {
   "cell_type": "code",
   "execution_count": 1,
   "metadata": {},
   "outputs": [],
   "source": [
    "\n",
    "import pandas as pd\n",
    "import json\n",
    "from pkg_resources import resource_filename\n",
    "import numpy as np"
   ]
  },
  {
   "cell_type": "code",
   "execution_count": 3,
   "metadata": {},
   "outputs": [],
   "source": [
    "tounament=pd.read_csv('/Users/sebastiancoombs/Downloads/march-machine-learning-mania-2023/WNCAATourneyCompactResults.csv')\n",
    "seed=pd.read_csv('/Users/sebastiancoombs/Downloads/march-machine-learning-mania-2023/WNCAATourneySeeds.csv')\n",
    "rounds=pd.read_csv('/Users/sebastiancoombs/Downloads/march-machine-learning-mania-2023/WNCAATourneySeedRoundSlots.csv')\n",
    "slots=pd.read_csv('/Users/sebastiancoombs/Downloads/march-machine-learning-mania-2023/WNCAATourneySlots.csv')\n",
    "teams=pd.read_csv('/Users/sebastiancoombs/Downloads/march-machine-learning-mania-2023/WTeams.csv')\n",
    "regions=pd.read_csv('/Users/sebastiancoombs/Downloads/march-machine-learning-mania-2023/WSeasons.csv')\n",
    "teams=teams[['TeamID','TeamName']]"
   ]
  },
  {
   "cell_type": "code",
   "execution_count": 4,
   "metadata": {},
   "outputs": [
    {
     "ename": "NameError",
     "evalue": "name 'rounds' is not defined",
     "output_type": "error",
     "traceback": [
      "\u001b[0;31m---------------------------------------------------------------------------\u001b[0m",
      "\u001b[0;31mNameError\u001b[0m                                 Traceback (most recent call last)",
      "Cell \u001b[0;32mIn [4], line 1\u001b[0m\n\u001b[0;32m----> 1\u001b[0m r1\u001b[38;5;241m=\u001b[39m\u001b[43mrounds\u001b[49m\u001b[38;5;241m.\u001b[39mrename(columns\u001b[38;5;241m=\u001b[39m{\u001b[38;5;124m'\u001b[39m\u001b[38;5;124mEarlyDayNum\u001b[39m\u001b[38;5;124m'\u001b[39m:\u001b[38;5;124m'\u001b[39m\u001b[38;5;124mDaynum\u001b[39m\u001b[38;5;124m'\u001b[39m})\n\u001b[1;32m      2\u001b[0m r2\u001b[38;5;241m=\u001b[39mrounds\u001b[38;5;241m.\u001b[39mrename(columns\u001b[38;5;241m=\u001b[39m{\u001b[38;5;124m'\u001b[39m\u001b[38;5;124mLateDayNum\u001b[39m\u001b[38;5;124m'\u001b[39m:\u001b[38;5;124m'\u001b[39m\u001b[38;5;124mDaynum\u001b[39m\u001b[38;5;124m'\u001b[39m})\n\u001b[1;32m      3\u001b[0m double_rounds\u001b[38;5;241m=\u001b[39mpd\u001b[38;5;241m.\u001b[39mconcat([r1,r2],axis\u001b[38;5;241m=\u001b[39m\u001b[38;5;241m0\u001b[39m)\n",
      "\u001b[0;31mNameError\u001b[0m: name 'rounds' is not defined"
     ]
    }
   ],
   "source": [
    "r1=rounds.rename(columns={'EarlyDayNum':'Daynum'})\n",
    "r2=rounds.rename(columns={'LateDayNum':'Daynum'})\n",
    "double_rounds=pd.concat([r1,r2],axis=0)\n",
    "double_rounds"
   ]
  },
  {
   "cell_type": "code",
   "execution_count": null,
   "metadata": {},
   "outputs": [],
   "source": [
    "display(seed),display(rounds),display(tounament),display(teams)"
   ]
  },
  {
   "cell_type": "code",
   "execution_count": null,
   "metadata": {},
   "outputs": [],
   "source": [
    "#change the day num to round\n",
    "round_map={134:0,\n",
    "          135:0,\n",
    "\n",
    "          136:1,\n",
    "          137:1,\n",
    "        #   140:1,\n",
    "\n",
    "          138:2,\n",
    "          139:2,\n",
    "\n",
    "          143:3,\n",
    "          144:3,\n",
    "\n",
    "          145:4,\n",
    "          146:4,          \n",
    "        #   147:4,\n",
    "        #   148:4,            \n",
    "\n",
    "          152:5,\n",
    "          \n",
    "          154:6}"
   ]
  },
  {
   "cell_type": "code",
   "execution_count": null,
   "metadata": {},
   "outputs": [],
   "source": [
    "#Standardize the Regions\n",
    "region_map={'South':'South',\n",
    " 'MidWest':'Midwest',\n",
    " 'East':'East',\n",
    " 'West':'West',\n",
    " \n",
    " 'Southeast':'South',\n",
    " 'Southwest':'Midwest',\n",
    "\n",
    " 'Albuquerque':'West',\n",
    " 'Chicago':'Midwest',\n",
    " 'Austin':'South',\n",
    " 'Syracuse':'East',\n",
    "\n",
    " 'NA1':'East',\n",
    " 'NA2':'Midwest',\n",
    " 'NA4':'West',\n",
    " 'NA3':'South',\n",
    "\n",
    " 'Oakland':'West',\n",
    " 'Atlanta':'South',\n",
    " 'WashingtonDC':'East',\n",
    " 'Minneapolis':'Midwest',\n",
    " 'EastRutherford':'East',\n",
    "\n",
    " 'StLouis':'Midwest',\n",
    " 'Atlanta':'South',\n",
    " 'Phoenix':'West',\n",
    "}"
   ]
  },
  {
   "cell_type": "code",
   "execution_count": null,
   "metadata": {},
   "outputs": [],
   "source": [
    "region_to_num={'W':1,\n",
    "               'X':2,\n",
    "               'Y':3,\n",
    "               'Z':4}\n"
   ]
  },
  {
   "cell_type": "code",
   "execution_count": null,
   "metadata": {},
   "outputs": [],
   "source": [
    "regions.filter(like='Region').columns\n",
    "all_regions=[]\n",
    "\n",
    "regions.columns=[c.replace('Region','') for c in regions.columns]\n",
    "seed_region_map=regions.set_index('Season')[['W','X','Y','Z']].T.to_dict()\n",
    "for season in seed_region_map:\n",
    "    seed_region_map[season]={i:a for a,i in seed_region_map[season].items()}\n"
   ]
  },
  {
   "cell_type": "code",
   "execution_count": null,
   "metadata": {},
   "outputs": [],
   "source": [
    "seeds=pd.merge(seed,teams,left_on='TeamID',right_on='TeamID',how='left')\n",
    "\n",
    "seeds['Region']=seeds['Seed'].str[0]\n"
   ]
  },
  {
   "cell_type": "code",
   "execution_count": null,
   "metadata": {},
   "outputs": [],
   "source": [
    "region_to_region={'W':'East',\n",
    "               'X':'Midwest',\n",
    "               'Y':'South',\n",
    "               'Z':'West'}"
   ]
  },
  {
   "cell_type": "code",
   "execution_count": null,
   "metadata": {},
   "outputs": [],
   "source": [
    "seasons=seeds.Season.unique()\n",
    "for season in seasons:\n",
    "    seeds.loc[seeds.Season==season,'Region_']=seeds.loc[seeds.Season==season,'Region'].replace(seed_region_map[season])\n",
    "seeds['RegionNum']=seeds['Region'].replace(region_to_num)\n",
    "\n",
    "\n",
    "seed_df=seeds\n",
    "seed_df"
   ]
  },
  {
   "cell_type": "code",
   "execution_count": null,
   "metadata": {},
   "outputs": [],
   "source": [
    "kaggle_names=sorted(teams['TeamName'].to_list())\n"
   ]
  },
  {
   "cell_type": "code",
   "execution_count": null,
   "metadata": {},
   "outputs": [],
   "source": [
    "tournament_df=pd.merge(tounament,teams,left_on=['WTeamID'],right_on=['TeamID'],how='left')\n",
    "tournament_df=tournament_df.rename(columns={'TeamName':'WTeam'})\n",
    "tournament_df=tournament_df.drop('TeamID',axis=1)\n",
    "########\n",
    "tournament_df=pd.merge(tournament_df,teams,left_on=['LTeamID'],right_on=['TeamID'],how='left')\n",
    "tournament_df=tournament_df.rename(columns={'TeamName':'LTeam'})\n",
    "tournament_df['Round']=tournament_df['DayNum'].replace(round_map)\n",
    "########\n",
    "tournament_df=tournament_df.drop(['TeamID'],axis=1)\n",
    "tournament_df.columns=[C.title() for C in tournament_df.columns]\n"
   ]
  },
  {
   "cell_type": "code",
   "execution_count": null,
   "metadata": {},
   "outputs": [],
   "source": [
    "#change the day num to round\n",
    "round_map_2021={\n",
    "140:3}\n",
    "tournament_df.loc[tournament_df.Season==2021,'Round']=tournament_df.loc[tournament_df.Season==2021,'Daynum'].replace(round_map_2021)"
   ]
  },
  {
   "cell_type": "code",
   "execution_count": null,
   "metadata": {},
   "outputs": [],
   "source": [
    "## merge Seeds with the teams\n",
    "tourn_region=pd.merge(tournament_df,seeds[['TeamName','Seed','Season','Region','RegionNum']],\n",
    "left_on=['Season','Wteam'],\n",
    "right_on=['Season','TeamName'],\n",
    "how='left'\n",
    ")\n",
    "tourn_region=tourn_region.drop(['TeamName','Wloc','Numot'],axis=1)\n",
    "tourn_region=tourn_region.rename(columns={'Seed':'Wseed'})\n",
    "\n",
    "\n",
    "tourn_region=pd.merge(tourn_region,seeds[['Season','TeamName','Seed']],\n",
    "left_on=['Season','Lteam'],\n",
    "right_on=['Season','TeamName'],\n",
    "how='left'\n",
    ")\n",
    "\n",
    "tourn_region=tourn_region.rename(columns={'Seed':'Lseed'})\n",
    "tourn_region=tourn_region.drop('TeamName',axis=1)\n"
   ]
  },
  {
   "cell_type": "code",
   "execution_count": null,
   "metadata": {},
   "outputs": [],
   "source": [
    "r=1\n",
    "print(tourn_region[(tourn_region.Season==2021)].shape[0])\n",
    "\n",
    "tourn2021=tourn_region[(tourn_region.Season==2021)]\n",
    "add_game=tourn2021.loc[[tourn2021.index[0]]].copy()\n",
    "\n",
    "add_game.Season=2021\n",
    "add_game.Daynum=138\n",
    "add_game.Wteam='Oregon'\n",
    "add_game.Wseed='X07'\n",
    "add_game.Wscore=1\n",
    "\n",
    "add_game.Lteam='VCU'\n",
    "add_game.Lseed='X10'\n",
    "add_game.Lscore=0\n",
    "\n",
    "add_game.Region='X'\n",
    "add_game.RegionNum=2\n",
    "add_game.Round=1\n",
    "\n",
    "tourn_region=pd.concat([tourn_region,add_game],axis=0,ignore_index=True)\n",
    "tourn_region,add_game"
   ]
  },
  {
   "cell_type": "code",
   "execution_count": null,
   "metadata": {},
   "outputs": [],
   "source": [
    "## there was a no contest in 2022 so we have to add vcu and Oregon into the teams\n",
    "tourn2021=tourn_region[(tourn_region.Season==2021)]\n",
    "tourn2021=tourn_region[(tourn_region.Season==2021)]\n",
    "for i in tourn2021.Round.unique():\n",
    "    print(i)\n",
    "    display(tourn2021[tourn2021.Round==i].shape)\n"
   ]
  },
  {
   "cell_type": "code",
   "execution_count": null,
   "metadata": {},
   "outputs": [],
   "source": [
    "\n",
    "tourn_region['RegionNum']=tourn_region['RegionNum'].astype(int)\n",
    "Wseed=(tourn_region['Wseed'].str.replace(\"[a-zA-Z]\",\"\",regex=True)).astype(int)\n",
    "Lseed=(tourn_region['Lseed'].str.replace(\"[a-zA-Z]\",\"\",regex=True)).astype(int)\n",
    "real_seeds=tourn_region[['Wseed','Lseed']].values\n",
    "choose_seeds=np.concatenate([Wseed.values.reshape(-1,1),Lseed.values.reshape(-1,1)],axis=1)\n"
   ]
  },
  {
   "cell_type": "code",
   "execution_count": null,
   "metadata": {},
   "outputs": [],
   "source": [
    "teams=tourn_region[['Wteam','Lteam']].values\n",
    "\n",
    "\n",
    "for i in range(len(choose_seeds)):\n",
    "    g=choose_seeds[i,:]\n",
    "    if g[0]==g[1]:\n",
    "        choose_seeds[i,0]+=1\n",
    "        \n",
    "high_arg=np.argmax(choose_seeds,1).reshape(-1,1)\n",
    "low_arg=np.argmin(choose_seeds,1).reshape(-1,1)\n",
    "tourn_region['high_team']=np.take_along_axis(teams,high_arg,1)\n",
    "tourn_region['high_seed']=np.take_along_axis(real_seeds,high_arg,1)\n",
    "tourn_region['low_team']=np.take_along_axis(teams,low_arg,1)\n",
    "tourn_region['low_seed']=np.take_along_axis(real_seeds,low_arg,1)\n",
    "tourn_region=tourn_region.rename(columns={'Season':'Year'})\n",
    "# tourn_region['Region']=tourn_region['Region'].replace(region_to_region)\n"
   ]
  },
  {
   "cell_type": "code",
   "execution_count": null,
   "metadata": {},
   "outputs": [],
   "source": [
    "tourn_region"
   ]
  },
  {
   "cell_type": "code",
   "execution_count": null,
   "metadata": {},
   "outputs": [],
   "source": [
    "base_columns = ['Year','Round','Daynum','Region','RegionNum']\n",
    "team0_columns = ['high_team','high_seed']\n",
    "team1_columns = ['low_team','low_seed']\n",
    "rename_columns=['Team','Seed']"
   ]
  },
  {
   "cell_type": "code",
   "execution_count": null,
   "metadata": {},
   "outputs": [],
   "source": [
    "high_seed_df = tourn_region[base_columns + team0_columns].rename(columns=dict(zip(team0_columns,rename_columns))).copy()\n",
    "low_seed_df  = tourn_region[base_columns + team1_columns].rename(columns=dict(zip(team1_columns,rename_columns))).copy()\n",
    "\n",
    "high_seed_df['Team_Position'] = 'high'\n",
    "low_seed_df['Team_Position'] = 'low'\n",
    "raw_long_df = pd.concat([high_seed_df, low_seed_df],axis=0)\n",
    "raw_long_df ['Mapped_Round']=raw_long_df ['Round']\n",
    "raw_long_df=raw_long_df.drop('Round',axis=1)\n",
    "display(double_rounds)\n",
    "raw_long_df\n"
   ]
  },
  {
   "cell_type": "code",
   "execution_count": null,
   "metadata": {},
   "outputs": [],
   "source": [
    "tourn_with_rounds=pd.merge(raw_long_df,double_rounds,left_on=['Daynum','Seed'],right_on=['Daynum','Seed'])\n",
    "tourn_with_rounds.Seed.isna().sum()"
   ]
  },
  {
   "cell_type": "code",
   "execution_count": null,
   "metadata": {},
   "outputs": [],
   "source": [
    "new_year=seed_df[seed_df.Season==2023]\n",
    "new_year=new_year.rename(columns={'TeamName':'Team','Season':'Year'})\n",
    "new_year['Seed']=new_year['Seed']#.str.replace(\"[a-zA-Z]\",\"\",regex=True).astype(int)\n",
    "new_year['GameRound']=1\n"
   ]
  },
  {
   "cell_type": "code",
   "execution_count": null,
   "metadata": {},
   "outputs": [],
   "source": [
    "long_tourn =tourn_with_rounds.reset_index().copy()\n",
    "y2021idx=long_tourn[(long_tourn.Year==2019)].index\n",
    "# long_tourn .loc[y2021idx,'GameRound']=long_tourn .loc[y2021idx,'Mapped_Round']\n",
    "\n",
    "y2022=long_tourn .loc[y2021idx,['Daynum','GameRound']]\n",
    "y2022.value_counts().sort_index(),y2022.shape,y2022.value_counts().sum()\n",
    "# long_tourn.loc[y2021idx]"
   ]
  },
  {
   "cell_type": "code",
   "execution_count": null,
   "metadata": {},
   "outputs": [],
   "source": [
    "\n",
    "\n",
    "long_tourn =tourn_with_rounds.reset_index().copy()\n",
    "y2021idx=long_tourn[(long_tourn.Year==2022)].index\n",
    "# long_tourn .loc[y2021idx,'GameRound']=long_tourn .loc[y2021idx,'Mapped_Round']\n",
    "\n",
    "y2022=long_tourn .loc[y2021idx,['Daynum','GameRound']]\n",
    "y2022.value_counts().sort_index(),y2022.shape,y2022.value_counts().sum()\n",
    "# long_tourn.loc[y2021idx]"
   ]
  },
  {
   "cell_type": "code",
   "execution_count": null,
   "metadata": {},
   "outputs": [],
   "source": [
    "\n",
    "long_tourn =tourn_with_rounds.reset_index().copy()\n",
    "y2021idx=long_tourn[(long_tourn.Year==2021)].index\n",
    "# long_tourn .loc[y2021idx,'GameRound']=long_tourn .loc[y2021idx,'Mapped_Round']\n",
    "\n",
    "y2021=long_tourn .loc[y2021idx,['Daynum','GameRound']]\n",
    "y2021.value_counts().sort_index(),y2021.shape,y2021.value_counts().sum()"
   ]
  },
  {
   "cell_type": "code",
   "execution_count": null,
   "metadata": {},
   "outputs": [],
   "source": [
    "#change the day num to round\n",
    "round_map_2021={\n",
    "         ## first 4\n",
    "          136:0,## first 4\n",
    "\n",
    "          ## first round\n",
    "          137:1,\n",
    "          138:1,\n",
    "\n",
    "          # # second round\n",
    "\n",
    "          139:2,\n",
    "          \n",
    "          # # sweet 16\n",
    "          145:3,\n",
    "          146:3,\n",
    "\n",
    "          # # elite 8        \n",
    "          147:4,\n",
    "          148:4,            \n",
    "          # # final 4  \n",
    "          152:5,\n",
    "          # # chamionship \n",
    "          154:6}"
   ]
  },
  {
   "cell_type": "code",
   "execution_count": null,
   "metadata": {},
   "outputs": [],
   "source": [
    "last_year=long_tourn[long_tourn.Year==2022].copy()\n",
    "last_year\n",
    "\n",
    "last_year.loc[last_year.index,'Team']=['TBD' for c in range(len(last_year))]\n",
    "last_year.loc[last_year.index,'Seed']=['64' for c in range(len(last_year))]\n",
    "last_year.loc[last_year.index,'Year']=[2023 for c in range(len(last_year))]\n",
    "\n",
    "\n",
    "last_year=last_year[last_year.GameRound>1]\n",
    "last_year\n",
    "long_tourn=pd.concat([long_tourn,new_year,last_year],axis=0,ignore_index=True)\n",
    "long_tourn=long_tourn.rename(columns={'GameRound':'Round'})\n",
    "\n",
    "long_tourn['Seed']=(long_tourn['Seed'].str.replace(\"[a-zA-Z]\",\"\",regex=True)).astype(int)\n",
    "tourn_region['Seed']=(tourn_region['Wseed'].str.replace(\"[a-zA-Z]\",\"\",regex=True)).astype(int)\n",
    "long_tourn=long_tourn.drop(\n",
    "  ['LateDayNum','EarlyDayNum','TeamID','Region_'],axis=1\n",
    ").sort_values(['Year','Round','Seed'])\n",
    "long_tourn"
   ]
  },
  {
   "cell_type": "code",
   "execution_count": null,
   "metadata": {},
   "outputs": [],
   "source": [
    "final_four_games = \\\n",
    "long_tourn[long_tourn['Round'] == 4] \\\n",
    "    .assign(game_num = lambda x: (x['RegionNum'] <= 2)+1) \\\n",
    "    .groupby(['Year','game_num']) \\\n",
    "    .agg({'Region' : lambda x: dict(zip(['team1','team2'],x))}) \\\n",
    "    .groupby('Year') \\\n",
    "    .agg({'Region' : lambda x: dict(zip(['game1','game2'],x))}) \\\n",
    "    .to_dict().get('Region')"
   ]
  },
  {
   "cell_type": "markdown",
   "metadata": {},
   "source": []
  },
  {
   "cell_type": "code",
   "execution_count": null,
   "metadata": {},
   "outputs": [],
   "source": [
    "years = long_tourn.Year.unique().tolist()\n",
    "\n",
    "brackets_dict = {}\n",
    "for year in years:\n",
    "\n",
    "    that_year_df = long_tourn[long_tourn['Year'] == year].copy()\n",
    "    that_year_win = tourn_region[tourn_region['Year'] == year].copy()\n",
    "    \n",
    "    round0= that_year_df[that_year_df['Round'] == 0].sort_values('Seed')\n",
    "\n",
    "    round1 = that_year_df[that_year_df['Round'] == 1].sort_values('Seed')\n",
    "    round2 = that_year_df[that_year_df['Round'] == 2]\n",
    "    round3 = that_year_df[that_year_df['Round'] == 3]\n",
    "    round4 = that_year_df[that_year_df['Round'] == 4]\n",
    "    round5 = that_year_df[that_year_df['Round'] == 5]\n",
    "    round6 = that_year_df[that_year_df['Round'] == 6]\n",
    "\n",
    "    print(that_year_df['Round'].unique())\n",
    "    round6_win = that_year_win[that_year_win['Round'] == 6]\n",
    "    round6_win=round6_win.rename(columns={'Wteam':'Team','Wseed':'Seed'})\n",
    "\n",
    "    try:\n",
    "        winner = round6_win[['Team','Seed']].reset_index(drop=True).T.to_dict()[0]\n",
    "\n",
    "    except:\n",
    "        \n",
    "        \n",
    "        winner={'Team': 'TBD', 'Seed': 0}\n",
    "    # print(winner)\n",
    "    \n",
    "    east1 = round1[round1['Region'] == 'W']\n",
    "    west1 = round1[round1['Region'] == 'X']\n",
    "    midwest1 = round1[round1['Region'] == 'Y']\n",
    "    south1 = round1[round1['Region'] == 'Z']\n",
    "\n",
    "    regs={\n",
    "            'W':east1,\n",
    "            'X':west1,\n",
    "            'Y':midwest1,\n",
    "            'Z':south1,\n",
    "                }\n",
    "\n",
    "    print(year,len(round1))\n",
    "    if i !=2021:\n",
    "        for r in regs:\n",
    "            if len(regs[r])!=16:\n",
    "                print(round1['Region'].unique())\n",
    "                display(r,regs[r])\n",
    "                regs[r]=regs[r].drop_duplicates('Seed',keep='first').reset_index(drop=True)\n",
    "                display(r,regs[r])\n",
    "\n",
    "\n",
    "\n",
    "    results = {\n",
    "        # 'playin' : round0[['Team','Seed']].to_dict('records'),\n",
    "        'first' : round1[['Team','Seed']].to_dict('records'),\n",
    "        'second' : round2[['Team','Seed']].to_dict('records'),\n",
    "        'sweet16' : round3[['Team','Seed']].to_dict('records'),\n",
    "        'elite8' : round4[['Team','Seed']].to_dict('records'),\n",
    "        'final4' : round5[['Team','Seed']].to_dict('records'),\n",
    "        'championship' : round6[['Team','Seed']].to_dict('records'),\n",
    "        'winner' : {'Team' : winner['Team'], 'Seed' : int(winner['Seed'])}\n",
    "    }\n",
    "    regions = {\n",
    "        'W' : regs['W'][['Team','Seed']].to_dict('records'),\n",
    "        'X' : regs['X'][['Team','Seed']].to_dict('records'),\n",
    "        'Y' : regs['Y'][['Team','Seed']].to_dict('records'),\n",
    "        'Z' : regs['Z'][['Team','Seed']].to_dict('records')\n",
    "    }\n",
    "    brackets_dict[year] = {'Region' : regions, 'Results': results, 'Finals': final_four_games[year]}"
   ]
  },
  {
   "cell_type": "code",
   "execution_count": null,
   "metadata": {},
   "outputs": [],
   "source": [
    "import json\n",
    "with open('/Users/sebastiancoombs/IDrive-Sync/MetaLocalLLC/RL-Bots/Tourney_gym/bracketology_rl/data/Womens_brackets_2022.json' , 'w') as f:\n",
    "    json.dump(brackets_dict, f)"
   ]
  },
  {
   "cell_type": "code",
   "execution_count": null,
   "metadata": {},
   "outputs": [],
   "source": []
  }
 ],
 "metadata": {
  "kernelspec": {
   "display_name": "Python 3.9.13",
   "language": "python",
   "name": "python3"
  },
  "language_info": {
   "codemirror_mode": {
    "name": "ipython",
    "version": 3
   },
   "file_extension": ".py",
   "mimetype": "text/x-python",
   "name": "python",
   "nbconvert_exporter": "python",
   "pygments_lexer": "ipython3",
   "version": "3.9.13"
  },
  "orig_nbformat": 4,
  "vscode": {
   "interpreter": {
    "hash": "c02ce77fc9854b14bbf737e9ff58b840b53c17f549f3baecfcf54a3b4065de24"
   }
  }
 },
 "nbformat": 4,
 "nbformat_minor": 2
}
