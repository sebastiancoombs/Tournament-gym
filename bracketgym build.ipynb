{
 "cells": [
  {
   "cell_type": "code",
   "execution_count": 1,
   "metadata": {},
   "outputs": [
    {
     "name": "stderr",
     "output_type": "stream",
     "text": [
      "/var/folders/jc/lq6pqgbn3dlfs9v5g5x4jc_80000gn/T/ipykernel_30264/2451804577.py:4: TqdmWarning: IProgress not found. Please update jupyter and ipywidgets. See https://ipywidgets.readthedocs.io/en/stable/user_install.html\n",
      "  from tqdm.autonotebook import tqdm\n"
     ]
    }
   ],
   "source": [
    "import pandas as pd\n",
    "import numpy as np\n",
    "import matplotlib.pyplot as plt\n",
    "from tqdm.autonotebook import tqdm\n",
    "from bracketology_rl import Bracket\n",
    "from bracketgym import TournamentEnv\n",
    "import warnings\n",
    "import gym\n",
    "import numpy as np\n",
    "from tourney_tools import * \n",
    "warnings.filterwarnings('ignore')"
   ]
  },
  {
   "cell_type": "code",
   "execution_count": 2,
   "metadata": {},
   "outputs": [],
   "source": [
    "\n",
    "from stable_baselines3 import DQN,DDPG\n",
    "from stable_baselines3.common.noise import NormalActionNoise\n",
    "from stable_baselines3.common.callbacks import ProgressBarCallback\n",
    "from stable_baselines3.common.evaluation import evaluate_policy\n",
    "from stable_baselines3.common.callbacks import StopTrainingOnNoModelImprovement\n",
    "from stable_baselines3.common.monitor import Monitor"
   ]
  },
  {
   "cell_type": "code",
   "execution_count": 3,
   "metadata": {},
   "outputs": [],
   "source": [
    "import tensorboard"
   ]
  },
  {
   "cell_type": "code",
   "execution_count": 4,
   "metadata": {},
   "outputs": [],
   "source": [
    "from pkg_resources import resource_filename\n",
    "filepath = resource_filename('bracketology_rl', 'data/brackets_2022.json')\n",
    "with open(filepath, 'r') as f:\n",
    "    brackets_dict = json.load(f)"
   ]
  },
  {
   "cell_type": "code",
   "execution_count": 5,
   "metadata": {},
   "outputs": [],
   "source": [
    "years = list(range(2003,2019))\n",
    "year=np.random.choice(years)\n",
    "\n",
    "bracket = Bracket(2022)\n",
    "\n",
    "team_data=pd.read_csv('Process_data/pm_w_names.csv')\n"
   ]
  },
  {
   "cell_type": "code",
   "execution_count": 6,
   "metadata": {},
   "outputs": [
    {
     "name": "stderr",
     "output_type": "stream",
     "text": [
      "Reset! Sim 0 Bracket for year 2022:   0%|          | 0/120000 [00:00<?, ?it/s]"
     ]
    }
   ],
   "source": [
    "env=TournamentEnv(team_data=team_data,verbose=False,season=2022)\n"
   ]
  },
  {
   "cell_type": "code",
   "execution_count": 7,
   "metadata": {},
   "outputs": [
    {
     "data": {
      "text/plain": [
       "(array([ 1.        , -0.2519855 , -0.11848334, ...,  0.        ,\n",
       "         0.        ,  0.        ], dtype=float32),\n",
       " 15,\n",
       " False,\n",
       " {'round': 'first round', 'score': 15, 'num_correct': 15})"
      ]
     },
     "execution_count": 7,
     "metadata": {},
     "output_type": "execute_result"
    }
   ],
   "source": [
    "action=np.random.randn(env.action_space.shape[0])\n",
    "env.step(action)\n"
   ]
  },
  {
   "cell_type": "code",
   "execution_count": 8,
   "metadata": {},
   "outputs": [],
   "source": [
    "## tensor board_log\n",
    "tensorboard_log = \"Logs/\"\n",
    "# The noise objects for DDPG\n",
    "n_actions = env.action_space.shape[-1]\n",
    "action_noise = NormalActionNoise(mean=np.zeros(n_actions), sigma=0.1 * np.ones(n_actions))\n",
    "# callback=ProgressBarCallback()\n",
    "model = DDPG(\"MlpPolicy\", env, \n",
    "                        action_noise=action_noise,\n",
    "                        gamma=.99,\n",
    "                        learning_rate=.01,\n",
    "                        gradient_steps=-1, \n",
    "                        verbose=0,\n",
    "                        tensorboard_log=tensorboard_log,\n",
    "                        )\n",
    "# model.predict(observation)"
   ]
  },
  {
   "cell_type": "code",
   "execution_count": 9,
   "metadata": {},
   "outputs": [
    {
     "name": "stderr",
     "output_type": "stream",
     "text": [
      "Reset! Sim 1 Bracket for year 2014:   0%|          | 4/120000 [00:00<2:30:32, 13.28it/s]"
     ]
    },
    {
     "name": "stdout",
     "output_type": "stream",
     "text": [
      "{'round': 'first round', 'score': 44, 'num_correct': 22}\n",
      "{'round': 'second round', 'score': 24, 'num_correct': 26}\n",
      "{'round': 'sweet sixteen', 'score': 0, 'num_correct': 26}\n",
      "{'round': 'elite eight', 'score': 0, 'num_correct': 26}\n",
      "{'round': 'final four', 'score': 0, 'num_correct': 26}\n",
      "{'round': 'championship', 'score': 0, 'num_correct': 26}\n"
     ]
    }
   ],
   "source": [
    "obs=env.reset()\n",
    "done=False\n",
    "while not done:\n",
    "    action=model.predict(obs)[0]\n",
    "\n",
    "    obs,score, done,info=env.step(action)\n",
    "    print(info)"
   ]
  },
  {
   "cell_type": "code",
   "execution_count": 10,
   "metadata": {},
   "outputs": [
    {
     "name": "stderr",
     "output_type": "stream",
     "text": [
      "Reset! Sim 2 Bracket for year 2014:   0%|          | 9/120000 [00:00<1:32:46, 21.55it/s]"
     ]
    }
   ],
   "source": [
    "timesteps=50000000\n",
    "try:\n",
    "    model.learn(total_timesteps=timesteps, log_interval=10,reset_num_timesteps=True,tb_log_name='Tourney_bot',)\n",
    "except KeyboardInterrupt:\n",
    "    pass"
   ]
  },
  {
   "cell_type": "code",
   "execution_count": null,
   "metadata": {},
   "outputs": [],
   "source": [
    "mean_reward, std_reward = evaluate_policy(model, model.get_env(), deterministic=False, n_eval_episodes=100)\n",
    "print(f\"mean_reward:{mean_reward:.2f} +/- {std_reward:.2f}\")"
   ]
  },
  {
   "cell_type": "code",
   "execution_count": null,
   "metadata": {},
   "outputs": [],
   "source": [
    "273/6"
   ]
  },
  {
   "cell_type": "code",
   "execution_count": null,
   "metadata": {},
   "outputs": [],
   "source": []
  }
 ],
 "metadata": {
  "kernelspec": {
   "display_name": "Python 3.9.13",
   "language": "python",
   "name": "python3"
  },
  "language_info": {
   "codemirror_mode": {
    "name": "ipython",
    "version": 3
   },
   "file_extension": ".py",
   "mimetype": "text/x-python",
   "name": "python",
   "nbconvert_exporter": "python",
   "pygments_lexer": "ipython3",
   "version": "3.9.13"
  },
  "orig_nbformat": 4,
  "vscode": {
   "interpreter": {
    "hash": "c02ce77fc9854b14bbf737e9ff58b840b53c17f549f3baecfcf54a3b4065de24"
   }
  }
 },
 "nbformat": 4,
 "nbformat_minor": 2
}
